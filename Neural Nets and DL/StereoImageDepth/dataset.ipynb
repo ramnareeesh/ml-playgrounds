{
 "cells": [
  {
   "cell_type": "code",
   "execution_count": 1,
   "id": "initial_id",
   "metadata": {
    "collapsed": true,
    "ExecuteTime": {
     "end_time": "2023-11-06T11:40:01.439120Z",
     "start_time": "2023-11-06T11:40:00.679024Z"
    }
   },
   "outputs": [],
   "source": [
    "import torchvision.datasets as data"
   ]
  },
  {
   "cell_type": "code",
   "execution_count": 3,
   "outputs": [
    {
     "name": "stdout",
     "output_type": "stream",
     "text": [
      "Downloading https://vision.middlebury.edu/stereo/data/scenes2014/zip/Adirondack-perfect.zip\n",
      "Downloading https://vision.middlebury.edu/stereo/data/scenes2014/zip/Adirondack-perfect.zip to /Users/ramnaresh/Documents/GitHub/ml-playgrounds/Neural Nets and DL/Middlebury2014/train/Adirondack-perfect.zip\n"
     ]
    },
    {
     "name": "stderr",
     "output_type": "stream",
     "text": [
      "100%|██████████| 102406251/102406251 [07:26<00:00, 229220.97it/s]\n"
     ]
    },
    {
     "name": "stdout",
     "output_type": "stream",
     "text": [
      "Extracting /Users/ramnaresh/Documents/GitHub/ml-playgrounds/Neural Nets and DL/Middlebury2014/train/Adirondack-perfect.zip to /Users/ramnaresh/Documents/GitHub/ml-playgrounds/Neural Nets and DL/Middlebury2014/train\n",
      "Downloading https://vision.middlebury.edu/stereo/data/scenes2014/zip/Adirondack-imperfect.zip\n",
      "Downloading https://vision.middlebury.edu/stereo/data/scenes2014/zip/Adirondack-imperfect.zip to /Users/ramnaresh/Documents/GitHub/ml-playgrounds/Neural Nets and DL/Middlebury2014/train/Adirondack-imperfect.zip\n"
     ]
    },
    {
     "name": "stderr",
     "output_type": "stream",
     "text": [
      "100%|██████████| 75664727/75664727 [03:11<00:00, 394739.60it/s]\n"
     ]
    },
    {
     "name": "stdout",
     "output_type": "stream",
     "text": [
      "Extracting /Users/ramnaresh/Documents/GitHub/ml-playgrounds/Neural Nets and DL/Middlebury2014/train/Adirondack-imperfect.zip to /Users/ramnaresh/Documents/GitHub/ml-playgrounds/Neural Nets and DL/Middlebury2014/train\n",
      "Downloading https://vision.middlebury.edu/stereo/data/scenes2014/zip/Jadeplant-perfect.zip\n",
      "Downloading https://vision.middlebury.edu/stereo/data/scenes2014/zip/Jadeplant-perfect.zip to /Users/ramnaresh/Documents/GitHub/ml-playgrounds/Neural Nets and DL/Middlebury2014/train/Jadeplant-perfect.zip\n"
     ]
    },
    {
     "name": "stderr",
     "output_type": "stream",
     "text": [
      "100%|██████████| 94038009/94038009 [04:00<00:00, 391113.51it/s] \n"
     ]
    },
    {
     "name": "stdout",
     "output_type": "stream",
     "text": [
      "Extracting /Users/ramnaresh/Documents/GitHub/ml-playgrounds/Neural Nets and DL/Middlebury2014/train/Jadeplant-perfect.zip to /Users/ramnaresh/Documents/GitHub/ml-playgrounds/Neural Nets and DL/Middlebury2014/train\n",
      "Downloading https://vision.middlebury.edu/stereo/data/scenes2014/zip/Jadeplant-imperfect.zip\n",
      "Downloading https://vision.middlebury.edu/stereo/data/scenes2014/zip/Jadeplant-imperfect.zip to /Users/ramnaresh/Documents/GitHub/ml-playgrounds/Neural Nets and DL/Middlebury2014/train/Jadeplant-imperfect.zip\n"
     ]
    },
    {
     "name": "stderr",
     "output_type": "stream",
     "text": [
      "100%|██████████| 70658383/70658383 [02:03<00:00, 573583.28it/s]\n"
     ]
    },
    {
     "name": "stdout",
     "output_type": "stream",
     "text": [
      "Extracting /Users/ramnaresh/Documents/GitHub/ml-playgrounds/Neural Nets and DL/Middlebury2014/train/Jadeplant-imperfect.zip to /Users/ramnaresh/Documents/GitHub/ml-playgrounds/Neural Nets and DL/Middlebury2014/train\n",
      "Downloading https://vision.middlebury.edu/stereo/data/scenes2014/zip/Motorcycle-perfect.zip\n",
      "Downloading https://vision.middlebury.edu/stereo/data/scenes2014/zip/Motorcycle-perfect.zip to /Users/ramnaresh/Documents/GitHub/ml-playgrounds/Neural Nets and DL/Middlebury2014/train/Motorcycle-perfect.zip\n"
     ]
    },
    {
     "name": "stderr",
     "output_type": "stream",
     "text": [
      "100%|██████████| 105123861/105123861 [02:48<00:00, 625208.77it/s]\n"
     ]
    },
    {
     "name": "stdout",
     "output_type": "stream",
     "text": [
      "Extracting /Users/ramnaresh/Documents/GitHub/ml-playgrounds/Neural Nets and DL/Middlebury2014/train/Motorcycle-perfect.zip to /Users/ramnaresh/Documents/GitHub/ml-playgrounds/Neural Nets and DL/Middlebury2014/train\n",
      "Downloading https://vision.middlebury.edu/stereo/data/scenes2014/zip/Motorcycle-imperfect.zip\n",
      "Downloading https://vision.middlebury.edu/stereo/data/scenes2014/zip/Motorcycle-imperfect.zip to /Users/ramnaresh/Documents/GitHub/ml-playgrounds/Neural Nets and DL/Middlebury2014/train/Motorcycle-imperfect.zip\n"
     ]
    },
    {
     "name": "stderr",
     "output_type": "stream",
     "text": [
      "100%|██████████| 73946103/73946103 [02:05<00:00, 588033.85it/s]\n"
     ]
    },
    {
     "name": "stdout",
     "output_type": "stream",
     "text": [
      "Extracting /Users/ramnaresh/Documents/GitHub/ml-playgrounds/Neural Nets and DL/Middlebury2014/train/Motorcycle-imperfect.zip to /Users/ramnaresh/Documents/GitHub/ml-playgrounds/Neural Nets and DL/Middlebury2014/train\n",
      "Downloading https://vision.middlebury.edu/stereo/data/scenes2014/zip/Piano-perfect.zip\n",
      "Downloading https://vision.middlebury.edu/stereo/data/scenes2014/zip/Piano-perfect.zip to /Users/ramnaresh/Documents/GitHub/ml-playgrounds/Neural Nets and DL/Middlebury2014/train/Piano-perfect.zip\n"
     ]
    },
    {
     "name": "stderr",
     "output_type": "stream",
     "text": [
      "  5%|▌         | 4816896/94563379 [01:08<21:09, 70686.98it/s]  \n"
     ]
    },
    {
     "ename": "KeyboardInterrupt",
     "evalue": "",
     "output_type": "error",
     "traceback": [
      "\u001B[0;31m---------------------------------------------------------------------------\u001B[0m",
      "\u001B[0;31mKeyboardInterrupt\u001B[0m                         Traceback (most recent call last)",
      "Cell \u001B[0;32mIn[3], line 1\u001B[0m\n\u001B[0;32m----> 1\u001B[0m df \u001B[38;5;241m=\u001B[39m data\u001B[38;5;241m.\u001B[39mMiddlebury2014Stereo(root\u001B[38;5;241m=\u001B[39m\u001B[38;5;124m\"\u001B[39m\u001B[38;5;124m/Users/ramnaresh/Documents/GitHub/ml-playgrounds/Neural Nets and DL\u001B[39m\u001B[38;5;124m\"\u001B[39m, download\u001B[38;5;241m=\u001B[39m\u001B[38;5;28;01mTrue\u001B[39;00m)\n",
      "File \u001B[0;32m~/anaconda3/envs/MachineLearning/lib/python3.11/site-packages/torchvision/datasets/_stereo_matching.py:507\u001B[0m, in \u001B[0;36mMiddlebury2014Stereo.__init__\u001B[0;34m(self, root, split, calibration, use_ambient_views, transforms, download)\u001B[0m\n\u001B[1;32m    501\u001B[0m         \u001B[38;5;28;01mraise\u001B[39;00m \u001B[38;5;167;01mValueError\u001B[39;00m(\n\u001B[1;32m    502\u001B[0m             \u001B[38;5;124mf\u001B[39m\u001B[38;5;124m\"\u001B[39m\u001B[38;5;124mSplit \u001B[39m\u001B[38;5;124m'\u001B[39m\u001B[38;5;132;01m{\u001B[39;00msplit\u001B[38;5;132;01m}\u001B[39;00m\u001B[38;5;124m'\u001B[39m\u001B[38;5;124m has calibration settings, however None was provided as an argument.\u001B[39m\u001B[38;5;124m\"\u001B[39m\n\u001B[1;32m    503\u001B[0m             \u001B[38;5;124mf\u001B[39m\u001B[38;5;124m\"\u001B[39m\u001B[38;5;130;01m\\n\u001B[39;00m\u001B[38;5;124mSetting calibration to \u001B[39m\u001B[38;5;124m'\u001B[39m\u001B[38;5;124mperfect\u001B[39m\u001B[38;5;124m'\u001B[39m\u001B[38;5;124m for split \u001B[39m\u001B[38;5;124m'\u001B[39m\u001B[38;5;132;01m{\u001B[39;00msplit\u001B[38;5;132;01m}\u001B[39;00m\u001B[38;5;124m'\u001B[39m\u001B[38;5;124m. Available calibration settings are: \u001B[39m\u001B[38;5;124m'\u001B[39m\u001B[38;5;124mperfect\u001B[39m\u001B[38;5;124m'\u001B[39m\u001B[38;5;124m, \u001B[39m\u001B[38;5;124m'\u001B[39m\u001B[38;5;124mimperfect\u001B[39m\u001B[38;5;124m'\u001B[39m\u001B[38;5;124m, \u001B[39m\u001B[38;5;124m'\u001B[39m\u001B[38;5;124mboth\u001B[39m\u001B[38;5;124m'\u001B[39m\u001B[38;5;124m.\u001B[39m\u001B[38;5;124m\"\u001B[39m,\n\u001B[1;32m    504\u001B[0m         )\n\u001B[1;32m    506\u001B[0m \u001B[38;5;28;01mif\u001B[39;00m download:\n\u001B[0;32m--> 507\u001B[0m     \u001B[38;5;28mself\u001B[39m\u001B[38;5;241m.\u001B[39m_download_dataset(root)\n\u001B[1;32m    509\u001B[0m root \u001B[38;5;241m=\u001B[39m Path(root) \u001B[38;5;241m/\u001B[39m \u001B[38;5;124m\"\u001B[39m\u001B[38;5;124mMiddlebury2014\u001B[39m\u001B[38;5;124m\"\u001B[39m\n\u001B[1;32m    511\u001B[0m \u001B[38;5;28;01mif\u001B[39;00m \u001B[38;5;129;01mnot\u001B[39;00m os\u001B[38;5;241m.\u001B[39mpath\u001B[38;5;241m.\u001B[39mexists(root \u001B[38;5;241m/\u001B[39m split):\n",
      "File \u001B[0;32m~/anaconda3/envs/MachineLearning/lib/python3.11/site-packages/torchvision/datasets/_stereo_matching.py:594\u001B[0m, in \u001B[0;36mMiddlebury2014Stereo._download_dataset\u001B[0;34m(self, root)\u001B[0m\n\u001B[1;32m    592\u001B[0m             \u001B[38;5;66;03m# download the scene only if it doesn't exist\u001B[39;00m\n\u001B[1;32m    593\u001B[0m             \u001B[38;5;28;01mif\u001B[39;00m \u001B[38;5;129;01mnot\u001B[39;00m (split_root \u001B[38;5;241m/\u001B[39m scene_name)\u001B[38;5;241m.\u001B[39mexists():\n\u001B[0;32m--> 594\u001B[0m                 download_and_extract_archive(\n\u001B[1;32m    595\u001B[0m                     url\u001B[38;5;241m=\u001B[39mscene_url,\n\u001B[1;32m    596\u001B[0m                     filename\u001B[38;5;241m=\u001B[39m\u001B[38;5;124mf\u001B[39m\u001B[38;5;124m\"\u001B[39m\u001B[38;5;132;01m{\u001B[39;00mscene_name\u001B[38;5;132;01m}\u001B[39;00m\u001B[38;5;124m.zip\u001B[39m\u001B[38;5;124m\"\u001B[39m,\n\u001B[1;32m    597\u001B[0m                     download_root\u001B[38;5;241m=\u001B[39m\u001B[38;5;28mstr\u001B[39m(split_root),\n\u001B[1;32m    598\u001B[0m                     remove_finished\u001B[38;5;241m=\u001B[39m\u001B[38;5;28;01mTrue\u001B[39;00m,\n\u001B[1;32m    599\u001B[0m                 )\n\u001B[1;32m    600\u001B[0m \u001B[38;5;28;01melse\u001B[39;00m:\n\u001B[1;32m    601\u001B[0m     os\u001B[38;5;241m.\u001B[39mmakedirs(root \u001B[38;5;241m/\u001B[39m \u001B[38;5;124m\"\u001B[39m\u001B[38;5;124mtest\u001B[39m\u001B[38;5;124m\"\u001B[39m)\n",
      "File \u001B[0;32m~/anaconda3/envs/MachineLearning/lib/python3.11/site-packages/torchvision/datasets/utils.py:434\u001B[0m, in \u001B[0;36mdownload_and_extract_archive\u001B[0;34m(url, download_root, extract_root, filename, md5, remove_finished)\u001B[0m\n\u001B[1;32m    431\u001B[0m \u001B[38;5;28;01mif\u001B[39;00m \u001B[38;5;129;01mnot\u001B[39;00m filename:\n\u001B[1;32m    432\u001B[0m     filename \u001B[38;5;241m=\u001B[39m os\u001B[38;5;241m.\u001B[39mpath\u001B[38;5;241m.\u001B[39mbasename(url)\n\u001B[0;32m--> 434\u001B[0m download_url(url, download_root, filename, md5)\n\u001B[1;32m    436\u001B[0m archive \u001B[38;5;241m=\u001B[39m os\u001B[38;5;241m.\u001B[39mpath\u001B[38;5;241m.\u001B[39mjoin(download_root, filename)\n\u001B[1;32m    437\u001B[0m \u001B[38;5;28mprint\u001B[39m(\u001B[38;5;124mf\u001B[39m\u001B[38;5;124m\"\u001B[39m\u001B[38;5;124mExtracting \u001B[39m\u001B[38;5;132;01m{\u001B[39;00marchive\u001B[38;5;132;01m}\u001B[39;00m\u001B[38;5;124m to \u001B[39m\u001B[38;5;132;01m{\u001B[39;00mextract_root\u001B[38;5;132;01m}\u001B[39;00m\u001B[38;5;124m\"\u001B[39m)\n",
      "File \u001B[0;32m~/anaconda3/envs/MachineLearning/lib/python3.11/site-packages/torchvision/datasets/utils.py:144\u001B[0m, in \u001B[0;36mdownload_url\u001B[0;34m(url, root, filename, md5, max_redirect_hops)\u001B[0m\n\u001B[1;32m    142\u001B[0m \u001B[38;5;28;01mtry\u001B[39;00m:\n\u001B[1;32m    143\u001B[0m     \u001B[38;5;28mprint\u001B[39m(\u001B[38;5;124m\"\u001B[39m\u001B[38;5;124mDownloading \u001B[39m\u001B[38;5;124m\"\u001B[39m \u001B[38;5;241m+\u001B[39m url \u001B[38;5;241m+\u001B[39m \u001B[38;5;124m\"\u001B[39m\u001B[38;5;124m to \u001B[39m\u001B[38;5;124m\"\u001B[39m \u001B[38;5;241m+\u001B[39m fpath)\n\u001B[0;32m--> 144\u001B[0m     _urlretrieve(url, fpath)\n\u001B[1;32m    145\u001B[0m \u001B[38;5;28;01mexcept\u001B[39;00m (urllib\u001B[38;5;241m.\u001B[39merror\u001B[38;5;241m.\u001B[39mURLError, \u001B[38;5;167;01mOSError\u001B[39;00m) \u001B[38;5;28;01mas\u001B[39;00m e:  \u001B[38;5;66;03m# type: ignore[attr-defined]\u001B[39;00m\n\u001B[1;32m    146\u001B[0m     \u001B[38;5;28;01mif\u001B[39;00m url[:\u001B[38;5;241m5\u001B[39m] \u001B[38;5;241m==\u001B[39m \u001B[38;5;124m\"\u001B[39m\u001B[38;5;124mhttps\u001B[39m\u001B[38;5;124m\"\u001B[39m:\n",
      "File \u001B[0;32m~/anaconda3/envs/MachineLearning/lib/python3.11/site-packages/torchvision/datasets/utils.py:48\u001B[0m, in \u001B[0;36m_urlretrieve\u001B[0;34m(url, filename, chunk_size)\u001B[0m\n\u001B[1;32m     46\u001B[0m \u001B[38;5;28;01mdef\u001B[39;00m \u001B[38;5;21m_urlretrieve\u001B[39m(url: \u001B[38;5;28mstr\u001B[39m, filename: \u001B[38;5;28mstr\u001B[39m, chunk_size: \u001B[38;5;28mint\u001B[39m \u001B[38;5;241m=\u001B[39m \u001B[38;5;241m1024\u001B[39m \u001B[38;5;241m*\u001B[39m \u001B[38;5;241m32\u001B[39m) \u001B[38;5;241m-\u001B[39m\u001B[38;5;241m>\u001B[39m \u001B[38;5;28;01mNone\u001B[39;00m:\n\u001B[1;32m     47\u001B[0m     \u001B[38;5;28;01mwith\u001B[39;00m urllib\u001B[38;5;241m.\u001B[39mrequest\u001B[38;5;241m.\u001B[39murlopen(urllib\u001B[38;5;241m.\u001B[39mrequest\u001B[38;5;241m.\u001B[39mRequest(url, headers\u001B[38;5;241m=\u001B[39m{\u001B[38;5;124m\"\u001B[39m\u001B[38;5;124mUser-Agent\u001B[39m\u001B[38;5;124m\"\u001B[39m: USER_AGENT})) \u001B[38;5;28;01mas\u001B[39;00m response:\n\u001B[0;32m---> 48\u001B[0m         _save_response_content(\u001B[38;5;28miter\u001B[39m(\u001B[38;5;28;01mlambda\u001B[39;00m: response\u001B[38;5;241m.\u001B[39mread(chunk_size), \u001B[38;5;124mb\u001B[39m\u001B[38;5;124m\"\u001B[39m\u001B[38;5;124m\"\u001B[39m), filename, length\u001B[38;5;241m=\u001B[39mresponse\u001B[38;5;241m.\u001B[39mlength)\n",
      "File \u001B[0;32m~/anaconda3/envs/MachineLearning/lib/python3.11/site-packages/torchvision/datasets/utils.py:37\u001B[0m, in \u001B[0;36m_save_response_content\u001B[0;34m(content, destination, length)\u001B[0m\n\u001B[1;32m     31\u001B[0m \u001B[38;5;28;01mdef\u001B[39;00m \u001B[38;5;21m_save_response_content\u001B[39m(\n\u001B[1;32m     32\u001B[0m     content: Iterator[\u001B[38;5;28mbytes\u001B[39m],\n\u001B[1;32m     33\u001B[0m     destination: \u001B[38;5;28mstr\u001B[39m,\n\u001B[1;32m     34\u001B[0m     length: Optional[\u001B[38;5;28mint\u001B[39m] \u001B[38;5;241m=\u001B[39m \u001B[38;5;28;01mNone\u001B[39;00m,\n\u001B[1;32m     35\u001B[0m ) \u001B[38;5;241m-\u001B[39m\u001B[38;5;241m>\u001B[39m \u001B[38;5;28;01mNone\u001B[39;00m:\n\u001B[1;32m     36\u001B[0m     \u001B[38;5;28;01mwith\u001B[39;00m \u001B[38;5;28mopen\u001B[39m(destination, \u001B[38;5;124m\"\u001B[39m\u001B[38;5;124mwb\u001B[39m\u001B[38;5;124m\"\u001B[39m) \u001B[38;5;28;01mas\u001B[39;00m fh, tqdm(total\u001B[38;5;241m=\u001B[39mlength) \u001B[38;5;28;01mas\u001B[39;00m pbar:\n\u001B[0;32m---> 37\u001B[0m         \u001B[38;5;28;01mfor\u001B[39;00m chunk \u001B[38;5;129;01min\u001B[39;00m content:\n\u001B[1;32m     38\u001B[0m             \u001B[38;5;66;03m# filter out keep-alive new chunks\u001B[39;00m\n\u001B[1;32m     39\u001B[0m             \u001B[38;5;28;01mif\u001B[39;00m \u001B[38;5;129;01mnot\u001B[39;00m chunk:\n\u001B[1;32m     40\u001B[0m                 \u001B[38;5;28;01mcontinue\u001B[39;00m\n",
      "File \u001B[0;32m~/anaconda3/envs/MachineLearning/lib/python3.11/site-packages/torchvision/datasets/utils.py:48\u001B[0m, in \u001B[0;36m_urlretrieve.<locals>.<lambda>\u001B[0;34m()\u001B[0m\n\u001B[1;32m     46\u001B[0m \u001B[38;5;28;01mdef\u001B[39;00m \u001B[38;5;21m_urlretrieve\u001B[39m(url: \u001B[38;5;28mstr\u001B[39m, filename: \u001B[38;5;28mstr\u001B[39m, chunk_size: \u001B[38;5;28mint\u001B[39m \u001B[38;5;241m=\u001B[39m \u001B[38;5;241m1024\u001B[39m \u001B[38;5;241m*\u001B[39m \u001B[38;5;241m32\u001B[39m) \u001B[38;5;241m-\u001B[39m\u001B[38;5;241m>\u001B[39m \u001B[38;5;28;01mNone\u001B[39;00m:\n\u001B[1;32m     47\u001B[0m     \u001B[38;5;28;01mwith\u001B[39;00m urllib\u001B[38;5;241m.\u001B[39mrequest\u001B[38;5;241m.\u001B[39murlopen(urllib\u001B[38;5;241m.\u001B[39mrequest\u001B[38;5;241m.\u001B[39mRequest(url, headers\u001B[38;5;241m=\u001B[39m{\u001B[38;5;124m\"\u001B[39m\u001B[38;5;124mUser-Agent\u001B[39m\u001B[38;5;124m\"\u001B[39m: USER_AGENT})) \u001B[38;5;28;01mas\u001B[39;00m response:\n\u001B[0;32m---> 48\u001B[0m         _save_response_content(\u001B[38;5;28miter\u001B[39m(\u001B[38;5;28;01mlambda\u001B[39;00m: response\u001B[38;5;241m.\u001B[39mread(chunk_size), \u001B[38;5;124mb\u001B[39m\u001B[38;5;124m\"\u001B[39m\u001B[38;5;124m\"\u001B[39m), filename, length\u001B[38;5;241m=\u001B[39mresponse\u001B[38;5;241m.\u001B[39mlength)\n",
      "File \u001B[0;32m~/anaconda3/envs/MachineLearning/lib/python3.11/http/client.py:466\u001B[0m, in \u001B[0;36mHTTPResponse.read\u001B[0;34m(self, amt)\u001B[0m\n\u001B[1;32m    463\u001B[0m \u001B[38;5;28;01mif\u001B[39;00m \u001B[38;5;28mself\u001B[39m\u001B[38;5;241m.\u001B[39mlength \u001B[38;5;129;01mis\u001B[39;00m \u001B[38;5;129;01mnot\u001B[39;00m \u001B[38;5;28;01mNone\u001B[39;00m \u001B[38;5;129;01mand\u001B[39;00m amt \u001B[38;5;241m>\u001B[39m \u001B[38;5;28mself\u001B[39m\u001B[38;5;241m.\u001B[39mlength:\n\u001B[1;32m    464\u001B[0m     \u001B[38;5;66;03m# clip the read to the \"end of response\"\u001B[39;00m\n\u001B[1;32m    465\u001B[0m     amt \u001B[38;5;241m=\u001B[39m \u001B[38;5;28mself\u001B[39m\u001B[38;5;241m.\u001B[39mlength\n\u001B[0;32m--> 466\u001B[0m s \u001B[38;5;241m=\u001B[39m \u001B[38;5;28mself\u001B[39m\u001B[38;5;241m.\u001B[39mfp\u001B[38;5;241m.\u001B[39mread(amt)\n\u001B[1;32m    467\u001B[0m \u001B[38;5;28;01mif\u001B[39;00m \u001B[38;5;129;01mnot\u001B[39;00m s \u001B[38;5;129;01mand\u001B[39;00m amt:\n\u001B[1;32m    468\u001B[0m     \u001B[38;5;66;03m# Ideally, we would raise IncompleteRead if the content-length\u001B[39;00m\n\u001B[1;32m    469\u001B[0m     \u001B[38;5;66;03m# wasn't satisfied, but it might break compatibility.\u001B[39;00m\n\u001B[1;32m    470\u001B[0m     \u001B[38;5;28mself\u001B[39m\u001B[38;5;241m.\u001B[39m_close_conn()\n",
      "File \u001B[0;32m~/anaconda3/envs/MachineLearning/lib/python3.11/socket.py:706\u001B[0m, in \u001B[0;36mSocketIO.readinto\u001B[0;34m(self, b)\u001B[0m\n\u001B[1;32m    704\u001B[0m \u001B[38;5;28;01mwhile\u001B[39;00m \u001B[38;5;28;01mTrue\u001B[39;00m:\n\u001B[1;32m    705\u001B[0m     \u001B[38;5;28;01mtry\u001B[39;00m:\n\u001B[0;32m--> 706\u001B[0m         \u001B[38;5;28;01mreturn\u001B[39;00m \u001B[38;5;28mself\u001B[39m\u001B[38;5;241m.\u001B[39m_sock\u001B[38;5;241m.\u001B[39mrecv_into(b)\n\u001B[1;32m    707\u001B[0m     \u001B[38;5;28;01mexcept\u001B[39;00m timeout:\n\u001B[1;32m    708\u001B[0m         \u001B[38;5;28mself\u001B[39m\u001B[38;5;241m.\u001B[39m_timeout_occurred \u001B[38;5;241m=\u001B[39m \u001B[38;5;28;01mTrue\u001B[39;00m\n",
      "File \u001B[0;32m~/anaconda3/envs/MachineLearning/lib/python3.11/ssl.py:1278\u001B[0m, in \u001B[0;36mSSLSocket.recv_into\u001B[0;34m(self, buffer, nbytes, flags)\u001B[0m\n\u001B[1;32m   1274\u001B[0m     \u001B[38;5;28;01mif\u001B[39;00m flags \u001B[38;5;241m!=\u001B[39m \u001B[38;5;241m0\u001B[39m:\n\u001B[1;32m   1275\u001B[0m         \u001B[38;5;28;01mraise\u001B[39;00m \u001B[38;5;167;01mValueError\u001B[39;00m(\n\u001B[1;32m   1276\u001B[0m           \u001B[38;5;124m\"\u001B[39m\u001B[38;5;124mnon-zero flags not allowed in calls to recv_into() on \u001B[39m\u001B[38;5;132;01m%s\u001B[39;00m\u001B[38;5;124m\"\u001B[39m \u001B[38;5;241m%\u001B[39m\n\u001B[1;32m   1277\u001B[0m           \u001B[38;5;28mself\u001B[39m\u001B[38;5;241m.\u001B[39m\u001B[38;5;18m__class__\u001B[39m)\n\u001B[0;32m-> 1278\u001B[0m     \u001B[38;5;28;01mreturn\u001B[39;00m \u001B[38;5;28mself\u001B[39m\u001B[38;5;241m.\u001B[39mread(nbytes, buffer)\n\u001B[1;32m   1279\u001B[0m \u001B[38;5;28;01melse\u001B[39;00m:\n\u001B[1;32m   1280\u001B[0m     \u001B[38;5;28;01mreturn\u001B[39;00m \u001B[38;5;28msuper\u001B[39m()\u001B[38;5;241m.\u001B[39mrecv_into(buffer, nbytes, flags)\n",
      "File \u001B[0;32m~/anaconda3/envs/MachineLearning/lib/python3.11/ssl.py:1134\u001B[0m, in \u001B[0;36mSSLSocket.read\u001B[0;34m(self, len, buffer)\u001B[0m\n\u001B[1;32m   1132\u001B[0m \u001B[38;5;28;01mtry\u001B[39;00m:\n\u001B[1;32m   1133\u001B[0m     \u001B[38;5;28;01mif\u001B[39;00m buffer \u001B[38;5;129;01mis\u001B[39;00m \u001B[38;5;129;01mnot\u001B[39;00m \u001B[38;5;28;01mNone\u001B[39;00m:\n\u001B[0;32m-> 1134\u001B[0m         \u001B[38;5;28;01mreturn\u001B[39;00m \u001B[38;5;28mself\u001B[39m\u001B[38;5;241m.\u001B[39m_sslobj\u001B[38;5;241m.\u001B[39mread(\u001B[38;5;28mlen\u001B[39m, buffer)\n\u001B[1;32m   1135\u001B[0m     \u001B[38;5;28;01melse\u001B[39;00m:\n\u001B[1;32m   1136\u001B[0m         \u001B[38;5;28;01mreturn\u001B[39;00m \u001B[38;5;28mself\u001B[39m\u001B[38;5;241m.\u001B[39m_sslobj\u001B[38;5;241m.\u001B[39mread(\u001B[38;5;28mlen\u001B[39m)\n",
      "\u001B[0;31mKeyboardInterrupt\u001B[0m: "
     ]
    }
   ],
   "source": [
    "df = data.Middlebury2014Stereo(root=\"/Users/ramnaresh/Documents/GitHub/ml-playgrounds/Neural Nets and DL\", download=True)"
   ],
   "metadata": {
    "collapsed": false,
    "ExecuteTime": {
     "end_time": "2023-11-06T12:06:18.314376Z",
     "start_time": "2023-11-06T11:43:15.056497Z"
    }
   },
   "id": "4d0799fe442348ba"
  },
  {
   "cell_type": "code",
   "execution_count": null,
   "outputs": [],
   "source": [],
   "metadata": {
    "collapsed": false
   },
   "id": "192e855f6b33b657"
  }
 ],
 "metadata": {
  "kernelspec": {
   "display_name": "Python 3",
   "language": "python",
   "name": "python3"
  },
  "language_info": {
   "codemirror_mode": {
    "name": "ipython",
    "version": 2
   },
   "file_extension": ".py",
   "mimetype": "text/x-python",
   "name": "python",
   "nbconvert_exporter": "python",
   "pygments_lexer": "ipython2",
   "version": "2.7.6"
  }
 },
 "nbformat": 4,
 "nbformat_minor": 5
}
