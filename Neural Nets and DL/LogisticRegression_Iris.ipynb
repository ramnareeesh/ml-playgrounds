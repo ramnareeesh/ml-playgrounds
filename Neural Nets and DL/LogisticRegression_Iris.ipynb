{
 "cells": [
  {
   "cell_type": "markdown",
   "metadata": {},
   "source": [
    "# Logistic Regression for classifying Iris"
   ]
  },
  {
   "cell_type": "code",
   "execution_count": 85,
   "metadata": {},
   "outputs": [],
   "source": [
    "# libraries import\n",
    "import pandas as pd\n",
    "import numpy as np\n",
    "import matplotlib.pyplot as plt"
   ]
  },
  {
   "cell_type": "markdown",
   "source": [
    "### Reading CSV dataset"
   ],
   "metadata": {
    "collapsed": false
   }
  },
  {
   "cell_type": "code",
   "execution_count": 86,
   "outputs": [
    {
     "data": {
      "text/plain": "       A    B    C    D           Class\n0    5.1  3.5  1.4  0.2     Iris-setosa\n1    4.9  3.0  1.4  0.2     Iris-setosa\n2    4.7  3.2  1.3  0.2     Iris-setosa\n3    4.6  3.1  1.5  0.2     Iris-setosa\n4    5.0  3.6  1.4  0.2     Iris-setosa\n..   ...  ...  ...  ...             ...\n145  6.7  3.0  5.2  2.3  Iris-virginica\n146  6.3  2.5  5.0  1.9  Iris-virginica\n147  6.5  3.0  5.2  2.0  Iris-virginica\n148  6.2  3.4  5.4  2.3  Iris-virginica\n149  5.9  3.0  5.1  1.8  Iris-virginica\n\n[150 rows x 5 columns]",
      "text/html": "<div>\n<style scoped>\n    .dataframe tbody tr th:only-of-type {\n        vertical-align: middle;\n    }\n\n    .dataframe tbody tr th {\n        vertical-align: top;\n    }\n\n    .dataframe thead th {\n        text-align: right;\n    }\n</style>\n<table border=\"1\" class=\"dataframe\">\n  <thead>\n    <tr style=\"text-align: right;\">\n      <th></th>\n      <th>A</th>\n      <th>B</th>\n      <th>C</th>\n      <th>D</th>\n      <th>Class</th>\n    </tr>\n  </thead>\n  <tbody>\n    <tr>\n      <th>0</th>\n      <td>5.1</td>\n      <td>3.5</td>\n      <td>1.4</td>\n      <td>0.2</td>\n      <td>Iris-setosa</td>\n    </tr>\n    <tr>\n      <th>1</th>\n      <td>4.9</td>\n      <td>3.0</td>\n      <td>1.4</td>\n      <td>0.2</td>\n      <td>Iris-setosa</td>\n    </tr>\n    <tr>\n      <th>2</th>\n      <td>4.7</td>\n      <td>3.2</td>\n      <td>1.3</td>\n      <td>0.2</td>\n      <td>Iris-setosa</td>\n    </tr>\n    <tr>\n      <th>3</th>\n      <td>4.6</td>\n      <td>3.1</td>\n      <td>1.5</td>\n      <td>0.2</td>\n      <td>Iris-setosa</td>\n    </tr>\n    <tr>\n      <th>4</th>\n      <td>5.0</td>\n      <td>3.6</td>\n      <td>1.4</td>\n      <td>0.2</td>\n      <td>Iris-setosa</td>\n    </tr>\n    <tr>\n      <th>...</th>\n      <td>...</td>\n      <td>...</td>\n      <td>...</td>\n      <td>...</td>\n      <td>...</td>\n    </tr>\n    <tr>\n      <th>145</th>\n      <td>6.7</td>\n      <td>3.0</td>\n      <td>5.2</td>\n      <td>2.3</td>\n      <td>Iris-virginica</td>\n    </tr>\n    <tr>\n      <th>146</th>\n      <td>6.3</td>\n      <td>2.5</td>\n      <td>5.0</td>\n      <td>1.9</td>\n      <td>Iris-virginica</td>\n    </tr>\n    <tr>\n      <th>147</th>\n      <td>6.5</td>\n      <td>3.0</td>\n      <td>5.2</td>\n      <td>2.0</td>\n      <td>Iris-virginica</td>\n    </tr>\n    <tr>\n      <th>148</th>\n      <td>6.2</td>\n      <td>3.4</td>\n      <td>5.4</td>\n      <td>2.3</td>\n      <td>Iris-virginica</td>\n    </tr>\n    <tr>\n      <th>149</th>\n      <td>5.9</td>\n      <td>3.0</td>\n      <td>5.1</td>\n      <td>1.8</td>\n      <td>Iris-virginica</td>\n    </tr>\n  </tbody>\n</table>\n<p>150 rows × 5 columns</p>\n</div>"
     },
     "execution_count": 86,
     "metadata": {},
     "output_type": "execute_result"
    }
   ],
   "source": [
    "iris_df = pd.read_csv(\"iris.data\", sep=\",\", names=[\"A\", \"B\", \"C\", \"D\", \"Class\"])\n",
    "iris_df"
   ],
   "metadata": {
    "collapsed": false
   }
  },
  {
   "cell_type": "code",
   "execution_count": 87,
   "outputs": [
    {
     "data": {
      "text/plain": "Class\nIris-setosa        50\nIris-versicolor    50\nName: count, dtype: int64"
     },
     "execution_count": 87,
     "metadata": {},
     "output_type": "execute_result"
    }
   ],
   "source": [
    "iris_df = iris_df[:100]\n",
    "iris_df[\"Class\"].value_counts()"
   ],
   "metadata": {
    "collapsed": false
   }
  },
  {
   "cell_type": "code",
   "execution_count": 88,
   "outputs": [
    {
     "data": {
      "text/plain": "      A    B    C    D  Class_Iris-setosa\n0   5.1  3.5  1.4  0.2               True\n1   4.9  3.0  1.4  0.2               True\n2   4.7  3.2  1.3  0.2               True\n3   4.6  3.1  1.5  0.2               True\n4   5.0  3.6  1.4  0.2               True\n..  ...  ...  ...  ...                ...\n95  5.7  3.0  4.2  1.2              False\n96  5.7  2.9  4.2  1.3              False\n97  6.2  2.9  4.3  1.3              False\n98  5.1  2.5  3.0  1.1              False\n99  5.7  2.8  4.1  1.3              False\n\n[100 rows x 5 columns]",
      "text/html": "<div>\n<style scoped>\n    .dataframe tbody tr th:only-of-type {\n        vertical-align: middle;\n    }\n\n    .dataframe tbody tr th {\n        vertical-align: top;\n    }\n\n    .dataframe thead th {\n        text-align: right;\n    }\n</style>\n<table border=\"1\" class=\"dataframe\">\n  <thead>\n    <tr style=\"text-align: right;\">\n      <th></th>\n      <th>A</th>\n      <th>B</th>\n      <th>C</th>\n      <th>D</th>\n      <th>Class_Iris-setosa</th>\n    </tr>\n  </thead>\n  <tbody>\n    <tr>\n      <th>0</th>\n      <td>5.1</td>\n      <td>3.5</td>\n      <td>1.4</td>\n      <td>0.2</td>\n      <td>True</td>\n    </tr>\n    <tr>\n      <th>1</th>\n      <td>4.9</td>\n      <td>3.0</td>\n      <td>1.4</td>\n      <td>0.2</td>\n      <td>True</td>\n    </tr>\n    <tr>\n      <th>2</th>\n      <td>4.7</td>\n      <td>3.2</td>\n      <td>1.3</td>\n      <td>0.2</td>\n      <td>True</td>\n    </tr>\n    <tr>\n      <th>3</th>\n      <td>4.6</td>\n      <td>3.1</td>\n      <td>1.5</td>\n      <td>0.2</td>\n      <td>True</td>\n    </tr>\n    <tr>\n      <th>4</th>\n      <td>5.0</td>\n      <td>3.6</td>\n      <td>1.4</td>\n      <td>0.2</td>\n      <td>True</td>\n    </tr>\n    <tr>\n      <th>...</th>\n      <td>...</td>\n      <td>...</td>\n      <td>...</td>\n      <td>...</td>\n      <td>...</td>\n    </tr>\n    <tr>\n      <th>95</th>\n      <td>5.7</td>\n      <td>3.0</td>\n      <td>4.2</td>\n      <td>1.2</td>\n      <td>False</td>\n    </tr>\n    <tr>\n      <th>96</th>\n      <td>5.7</td>\n      <td>2.9</td>\n      <td>4.2</td>\n      <td>1.3</td>\n      <td>False</td>\n    </tr>\n    <tr>\n      <th>97</th>\n      <td>6.2</td>\n      <td>2.9</td>\n      <td>4.3</td>\n      <td>1.3</td>\n      <td>False</td>\n    </tr>\n    <tr>\n      <th>98</th>\n      <td>5.1</td>\n      <td>2.5</td>\n      <td>3.0</td>\n      <td>1.1</td>\n      <td>False</td>\n    </tr>\n    <tr>\n      <th>99</th>\n      <td>5.7</td>\n      <td>2.8</td>\n      <td>4.1</td>\n      <td>1.3</td>\n      <td>False</td>\n    </tr>\n  </tbody>\n</table>\n<p>100 rows × 5 columns</p>\n</div>"
     },
     "execution_count": 88,
     "metadata": {},
     "output_type": "execute_result"
    }
   ],
   "source": [
    "iris_df = pd.get_dummies(data=iris_df, columns=[\"Class\"])\n",
    "iris_df = iris_df.iloc[:, :-1]\n",
    "iris_df"
   ],
   "metadata": {
    "collapsed": false
   }
  },
  {
   "cell_type": "code",
   "execution_count": 89,
   "outputs": [],
   "source": [
    "def categorise(x):\n",
    "    if x:\n",
    "        return 1\n",
    "    return 0"
   ],
   "metadata": {
    "collapsed": false
   }
  },
  {
   "cell_type": "code",
   "execution_count": 90,
   "outputs": [],
   "source": [
    "iris_df[\"Class_Iris-setosa\"] = iris_df[\"Class_Iris-setosa\"].apply(categorise)"
   ],
   "metadata": {
    "collapsed": false
   }
  },
  {
   "cell_type": "code",
   "execution_count": 91,
   "outputs": [
    {
     "data": {
      "text/plain": "Class_Iris-setosa\n1    50\n0    50\nName: count, dtype: int64"
     },
     "execution_count": 91,
     "metadata": {},
     "output_type": "execute_result"
    }
   ],
   "source": [
    "iris_df[\"Class_Iris-setosa\"].value_counts()"
   ],
   "metadata": {
    "collapsed": false
   }
  },
  {
   "cell_type": "markdown",
   "source": [
    "### Splitting Dependent and Independent Variables"
   ],
   "metadata": {
    "collapsed": false
   }
  },
  {
   "cell_type": "code",
   "execution_count": 92,
   "outputs": [],
   "source": [
    "X = iris_df.iloc[:, :-1].values\n",
    "y = iris_df.iloc[:, -1].values"
   ],
   "metadata": {
    "collapsed": false
   }
  },
  {
   "cell_type": "markdown",
   "source": [
    "### Splitting of Dataset into Test and Train"
   ],
   "metadata": {
    "collapsed": false
   }
  },
  {
   "cell_type": "code",
   "execution_count": 93,
   "outputs": [],
   "source": [
    "from sklearn.model_selection import train_test_split\n",
    "X_train, X_test, y_train, y_test = train_test_split(X, y, test_size=0.25, random_state=0)"
   ],
   "metadata": {
    "collapsed": false
   }
  },
  {
   "cell_type": "code",
   "execution_count": 94,
   "outputs": [
    {
     "data": {
      "text/plain": "array([[5.3, 3.7, 1.5, 0.2],\n       [4.6, 3.4, 1.4, 0.3],\n       [5.7, 2.8, 4.1, 1.3],\n       [5.8, 2.7, 3.9, 1.2],\n       [6.8, 2.8, 4.8, 1.4],\n       [5. , 2. , 3.5, 1. ],\n       [5.5, 2.4, 3.8, 1.1],\n       [5.5, 2.6, 4.4, 1.2],\n       [6.2, 2.2, 4.5, 1.5],\n       [6.4, 3.2, 4.5, 1.5],\n       [5.2, 3.5, 1.5, 0.2],\n       [5.7, 3.8, 1.7, 0.3],\n       [6.3, 3.3, 4.7, 1.6],\n       [6.1, 2.9, 4.7, 1.4],\n       [6.4, 2.9, 4.3, 1.3],\n       [4.9, 3. , 1.4, 0.2],\n       [5.9, 3. , 4.2, 1.5],\n       [4.4, 3.2, 1.3, 0.2],\n       [4.5, 2.3, 1.3, 0.3],\n       [5. , 3.6, 1.4, 0.2],\n       [5.7, 4.4, 1.5, 0.4],\n       [5.1, 3.5, 1.4, 0.3],\n       [5. , 3.5, 1.3, 0.3],\n       [4.4, 3. , 1.3, 0.2],\n       [5.4, 3.9, 1.7, 0.4],\n       [6.1, 3. , 4.6, 1.4],\n       [5.2, 2.7, 3.9, 1.4],\n       [5.1, 3.5, 1.4, 0.2],\n       [4.9, 3.1, 1.5, 0.1],\n       [5.2, 3.4, 1.4, 0.2],\n       [7. , 3.2, 4.7, 1.4],\n       [4.8, 3.4, 1.6, 0.2],\n       [5. , 3.2, 1.2, 0.2],\n       [5.1, 3.3, 1.7, 0.5],\n       [6.9, 3.1, 4.9, 1.5],\n       [5.4, 3.7, 1.5, 0.2],\n       [5.4, 3.4, 1.5, 0.4],\n       [5.6, 3. , 4.5, 1.5],\n       [4.9, 2.4, 3.3, 1. ],\n       [5.7, 2.6, 3.5, 1. ],\n       [6. , 3.4, 4.5, 1.6],\n       [5.2, 4.1, 1.5, 0.1],\n       [5.4, 3. , 4.5, 1.5],\n       [5.8, 4. , 1.2, 0.2],\n       [5.5, 2.5, 4. , 1.3],\n       [5.1, 3.8, 1.5, 0.3],\n       [4.7, 3.2, 1.6, 0.2],\n       [5. , 3.3, 1.4, 0.2],\n       [6.2, 2.9, 4.3, 1.3],\n       [5.1, 2.5, 3. , 1.1],\n       [5.6, 2.5, 3.9, 1.1],\n       [5.4, 3.4, 1.7, 0.2],\n       [5.6, 2.7, 4.2, 1.3],\n       [6.3, 2.5, 4.9, 1.5],\n       [6.7, 3. , 5. , 1.7],\n       [5. , 3. , 1.6, 0.2],\n       [4.9, 3.1, 1.5, 0.1],\n       [5.5, 2.4, 3.7, 1. ],\n       [5.1, 3.8, 1.6, 0.2],\n       [5.1, 3.4, 1.5, 0.2],\n       [6.7, 3.1, 4.4, 1.4],\n       [6.6, 2.9, 4.6, 1.3],\n       [4.8, 3. , 1.4, 0.1],\n       [5.6, 3. , 4.1, 1.3],\n       [5.9, 3.2, 4.8, 1.8],\n       [6.3, 2.3, 4.4, 1.3],\n       [5.5, 3.5, 1.3, 0.2],\n       [5.1, 3.7, 1.5, 0.4],\n       [6. , 2.7, 5.1, 1.6],\n       [4.9, 3.1, 1.5, 0.1],\n       [5.7, 2.9, 4.2, 1.3],\n       [5.8, 2.7, 4.1, 1. ],\n       [5.6, 2.9, 3.6, 1.3],\n       [4.6, 3.2, 1.4, 0.2],\n       [5.1, 3.8, 1.9, 0.4]])"
     },
     "execution_count": 94,
     "metadata": {},
     "output_type": "execute_result"
    }
   ],
   "source": [
    "X_train"
   ],
   "metadata": {
    "collapsed": false
   }
  },
  {
   "cell_type": "code",
   "execution_count": 95,
   "outputs": [
    {
     "data": {
      "text/plain": "array([1, 1, 0, 0, 0, 0, 0, 0, 0, 0, 1, 1, 0, 0, 0, 1, 0, 1, 1, 1, 1, 1,\n       1, 1, 1, 0, 0, 1, 1, 1, 0, 1, 1, 1, 0, 1, 1, 0, 0, 0, 0, 1, 0, 1,\n       0, 1, 1, 1, 0, 0, 0, 1, 0, 0, 0, 1, 1, 0, 1, 1, 0, 0, 1, 0, 0, 0,\n       1, 1, 0, 1, 0, 0, 0, 1, 1])"
     },
     "execution_count": 95,
     "metadata": {},
     "output_type": "execute_result"
    }
   ],
   "source": [
    "y_train"
   ],
   "metadata": {
    "collapsed": false
   }
  },
  {
   "cell_type": "markdown",
   "source": [
    "### Feature Scaling"
   ],
   "metadata": {
    "collapsed": false
   }
  },
  {
   "cell_type": "code",
   "execution_count": 96,
   "outputs": [],
   "source": [
    "from sklearn.preprocessing import MinMaxScaler\n",
    "MMS = MinMaxScaler()\n",
    "X_train = MMS.fit_transform(X=X_train)\n",
    "X_test = MMS.fit_transform(X_test)"
   ],
   "metadata": {
    "collapsed": false
   }
  },
  {
   "cell_type": "code",
   "execution_count": 97,
   "outputs": [
    {
     "data": {
      "text/plain": "array([[0.34615385, 0.70833333, 0.07692308, 0.05882353],\n       [0.07692308, 0.58333333, 0.05128205, 0.11764706],\n       [0.5       , 0.33333333, 0.74358974, 0.70588235],\n       [0.53846154, 0.29166667, 0.69230769, 0.64705882],\n       [0.92307692, 0.33333333, 0.92307692, 0.76470588],\n       [0.23076923, 0.        , 0.58974359, 0.52941176],\n       [0.42307692, 0.16666667, 0.66666667, 0.58823529],\n       [0.42307692, 0.25      , 0.82051282, 0.64705882],\n       [0.69230769, 0.08333333, 0.84615385, 0.82352941],\n       [0.76923077, 0.5       , 0.84615385, 0.82352941],\n       [0.30769231, 0.625     , 0.07692308, 0.05882353],\n       [0.5       , 0.75      , 0.12820513, 0.11764706],\n       [0.73076923, 0.54166667, 0.8974359 , 0.88235294],\n       [0.65384615, 0.375     , 0.8974359 , 0.76470588],\n       [0.76923077, 0.375     , 0.79487179, 0.70588235],\n       [0.19230769, 0.41666667, 0.05128205, 0.05882353],\n       [0.57692308, 0.41666667, 0.76923077, 0.82352941],\n       [0.        , 0.5       , 0.02564103, 0.05882353],\n       [0.03846154, 0.125     , 0.02564103, 0.11764706],\n       [0.23076923, 0.66666667, 0.05128205, 0.05882353],\n       [0.5       , 1.        , 0.07692308, 0.17647059],\n       [0.26923077, 0.625     , 0.05128205, 0.11764706],\n       [0.23076923, 0.625     , 0.02564103, 0.11764706],\n       [0.        , 0.41666667, 0.02564103, 0.05882353],\n       [0.38461538, 0.79166667, 0.12820513, 0.17647059],\n       [0.65384615, 0.41666667, 0.87179487, 0.76470588],\n       [0.30769231, 0.29166667, 0.69230769, 0.76470588],\n       [0.26923077, 0.625     , 0.05128205, 0.05882353],\n       [0.19230769, 0.45833333, 0.07692308, 0.        ],\n       [0.30769231, 0.58333333, 0.05128205, 0.05882353],\n       [1.        , 0.5       , 0.8974359 , 0.76470588],\n       [0.15384615, 0.58333333, 0.1025641 , 0.05882353],\n       [0.23076923, 0.5       , 0.        , 0.05882353],\n       [0.26923077, 0.54166667, 0.12820513, 0.23529412],\n       [0.96153846, 0.45833333, 0.94871795, 0.82352941],\n       [0.38461538, 0.70833333, 0.07692308, 0.05882353],\n       [0.38461538, 0.58333333, 0.07692308, 0.17647059],\n       [0.46153846, 0.41666667, 0.84615385, 0.82352941],\n       [0.19230769, 0.16666667, 0.53846154, 0.52941176],\n       [0.5       , 0.25      , 0.58974359, 0.52941176],\n       [0.61538462, 0.58333333, 0.84615385, 0.88235294],\n       [0.30769231, 0.875     , 0.07692308, 0.        ],\n       [0.38461538, 0.41666667, 0.84615385, 0.82352941],\n       [0.53846154, 0.83333333, 0.        , 0.05882353],\n       [0.42307692, 0.20833333, 0.71794872, 0.70588235],\n       [0.26923077, 0.75      , 0.07692308, 0.11764706],\n       [0.11538462, 0.5       , 0.1025641 , 0.05882353],\n       [0.23076923, 0.54166667, 0.05128205, 0.05882353],\n       [0.69230769, 0.375     , 0.79487179, 0.70588235],\n       [0.26923077, 0.20833333, 0.46153846, 0.58823529],\n       [0.46153846, 0.20833333, 0.69230769, 0.58823529],\n       [0.38461538, 0.58333333, 0.12820513, 0.05882353],\n       [0.46153846, 0.29166667, 0.76923077, 0.70588235],\n       [0.73076923, 0.20833333, 0.94871795, 0.82352941],\n       [0.88461538, 0.41666667, 0.97435897, 0.94117647],\n       [0.23076923, 0.41666667, 0.1025641 , 0.05882353],\n       [0.19230769, 0.45833333, 0.07692308, 0.        ],\n       [0.42307692, 0.16666667, 0.64102564, 0.52941176],\n       [0.26923077, 0.75      , 0.1025641 , 0.05882353],\n       [0.26923077, 0.58333333, 0.07692308, 0.05882353],\n       [0.88461538, 0.45833333, 0.82051282, 0.76470588],\n       [0.84615385, 0.375     , 0.87179487, 0.70588235],\n       [0.15384615, 0.41666667, 0.05128205, 0.        ],\n       [0.46153846, 0.41666667, 0.74358974, 0.70588235],\n       [0.57692308, 0.5       , 0.92307692, 1.        ],\n       [0.73076923, 0.125     , 0.82051282, 0.70588235],\n       [0.42307692, 0.625     , 0.02564103, 0.05882353],\n       [0.26923077, 0.70833333, 0.07692308, 0.17647059],\n       [0.61538462, 0.29166667, 1.        , 0.88235294],\n       [0.19230769, 0.45833333, 0.07692308, 0.        ],\n       [0.5       , 0.375     , 0.76923077, 0.70588235],\n       [0.53846154, 0.29166667, 0.74358974, 0.52941176],\n       [0.46153846, 0.375     , 0.61538462, 0.70588235],\n       [0.07692308, 0.5       , 0.05128205, 0.05882353],\n       [0.26923077, 0.75      , 0.17948718, 0.17647059]])"
     },
     "execution_count": 97,
     "metadata": {},
     "output_type": "execute_result"
    }
   ],
   "source": [
    "X_train"
   ],
   "metadata": {
    "collapsed": false
   }
  },
  {
   "cell_type": "code",
   "execution_count": 98,
   "outputs": [
    {
     "data": {
      "text/plain": "array([[0.29166667, 0.6       , 0.16216216, 0.21428571],\n       [1.        , 0.45      , 1.        , 1.        ],\n       [0.16666667, 0.5       , 0.08108108, 0.07142857],\n       [0.58333333, 0.3       , 0.94594595, 0.85714286],\n       [0.95833333, 0.4       , 0.91891892, 0.92857143],\n       [0.29166667, 0.05      , 0.62162162, 0.64285714],\n       [0.45833333, 0.85      , 0.08108108, 0.21428571],\n       [0.75      , 0.3       , 1.        , 0.78571429],\n       [0.91666667, 0.3       , 0.97297297, 1.        ],\n       [0.58333333, 0.4       , 0.86486486, 0.78571429],\n       [0.5       , 0.05      , 0.81081081, 0.85714286],\n       [0.625     , 0.2       , 0.81081081, 0.78571429],\n       [0.70833333, 0.35      , 0.94594595, 1.        ],\n       [0.        , 0.4       , 0.02702703, 0.        ],\n       [0.29166667, 0.6       , 0.13513514, 0.07142857],\n       [0.20833333, 0.45      , 0.16216216, 0.07142857],\n       [0.125     , 0.7       , 0.        , 0.07142857],\n       [0.20833333, 0.6       , 0.24324324, 0.07142857],\n       [0.5       , 1.        , 0.10810811, 0.07142857],\n       [0.04166667, 0.35      , 0.10810811, 0.07142857],\n       [0.29166667, 0.65      , 0.16216216, 0.35714286],\n       [0.70833333, 0.        , 0.81081081, 0.64285714],\n       [0.125     , 0.45      , 0.13513514, 0.07142857],\n       [0.75      , 0.3       , 0.81081081, 0.85714286],\n       [0.20833333, 0.4       , 0.10810811, 0.14285714]])"
     },
     "execution_count": 98,
     "metadata": {},
     "output_type": "execute_result"
    }
   ],
   "source": [
    "X_test"
   ],
   "metadata": {
    "collapsed": false
   }
  },
  {
   "cell_type": "code",
   "execution_count": 99,
   "outputs": [
    {
     "name": "stdout",
     "output_type": "stream",
     "text": [
      "0  ->  38\n",
      "1  ->  37\n"
     ]
    }
   ],
   "source": [
    "unique_val, counts = np.unique(y_train, return_counts=True)\n",
    "for i in range(len(unique_val)):\n",
    "    print(unique_val[i], \" -> \", counts[i])"
   ],
   "metadata": {
    "collapsed": false
   }
  },
  {
   "cell_type": "code",
   "execution_count": 100,
   "outputs": [],
   "source": [
    "class Logistic_Regression:\n",
    "    def __init__(self, learning_rate=0.01, iter=1000):\n",
    "        self.learnRate = learning_rate\n",
    "        self.epochs = iter\n",
    "\n",
    "    def sigmoid(self, z):\n",
    "        return 1/(1+np.exp(-z))\n",
    "\n",
    "    def fit(self, X, y):\n",
    "        no_samples = len(X)\n",
    "        no_features = len(X[0])\n",
    "        self.weights = np.zeros(no_features)\n",
    "        self.bias = 0\n",
    "\n",
    "        for i in range(self.epochs):\n",
    "            # forward propagation\n",
    "            predicted = self.predict(X)\n",
    "\n",
    "            # backpropagation\n",
    "            dw = (1/no_samples) * np.dot(X.T, (predicted - y))\n",
    "            db = (1/no_samples) * np.sum(predicted - y)\n",
    "            self.weights -= self.learnRate * dw\n",
    "            self.bias -= self.learnRate * db\n",
    "\n",
    "    def predict(self, X):\n",
    "        # forward propagation\n",
    "        weighted_sum = np.dot(X, self.weights) + self.bias\n",
    "        predicted = self.sigmoid(weighted_sum)\n",
    "        return predicted\n",
    "\n",
    "    def test(self, X, y):  # passing test sets\n",
    "        global y_predicted_category\n",
    "        y_predicted = self.predict(X)\n",
    "        y_predicted_category = []\n",
    "        for _ in y_predicted:\n",
    "            if _ > 0.5:\n",
    "                y_predicted_category.append(1)\n",
    "            else:\n",
    "                y_predicted_category.append(0)\n",
    "        y_predicted_category = np.array(y_predicted_category)\n",
    "        print(y_predicted_category)\n",
    "        print(y)\n",
    "        print(y_predicted)\n",
    "        correct_pred = 0\n",
    "        for i in range(len(y)):\n",
    "            if y[i] == y_predicted_category[i]:\n",
    "                correct_pred += 1\n",
    "        print(\"Accuracy: \", correct_pred/len(y))\n"
   ],
   "metadata": {
    "collapsed": false
   }
  },
  {
   "cell_type": "code",
   "execution_count": 101,
   "outputs": [],
   "source": [
    "Regressor = Logistic_Regression()\n",
    "Regressor.fit(X_train, y_train)"
   ],
   "metadata": {
    "collapsed": false
   }
  },
  {
   "cell_type": "code",
   "execution_count": 102,
   "outputs": [
    {
     "name": "stdout",
     "output_type": "stream",
     "text": [
      "[-0.40408166  0.73567234 -1.13636661 -1.02187534]\n",
      "0.46668817431957194\n"
     ]
    }
   ],
   "source": [
    "print(Regressor.weights)\n",
    "print(Regressor.bias)"
   ],
   "metadata": {
    "collapsed": false
   }
  },
  {
   "cell_type": "code",
   "execution_count": 103,
   "outputs": [
    {
     "name": "stdout",
     "output_type": "stream",
     "text": [
      "[1 0 1 0 0 0 1 0 0 0 0 0 0 1 1 1 1 1 1 1 1 0 1 0 1]\n",
      "[1 0 1 0 0 0 1 0 0 0 0 0 0 1 1 1 1 1 1 1 1 0 1 0 1]\n",
      "[0.5955568  0.14621729 0.64612482 0.18255099 0.16528752 0.27334933\n",
      " 0.64467065 0.17437392 0.14057195 0.22089423 0.18304671 0.20375173\n",
      " 0.15991405 0.67485892 0.63730366 0.61213376 0.70227556 0.61644907\n",
      " 0.69093158 0.62515692 0.56900357 0.19815996 0.62730591 0.19577031\n",
      " 0.60059402]\n",
      "Accuracy:  1.0\n"
     ]
    }
   ],
   "source": [
    "Regressor.test(X_test, y_test)"
   ],
   "metadata": {
    "collapsed": false
   }
  },
  {
   "cell_type": "code",
   "execution_count": 104,
   "outputs": [
    {
     "name": "stdout",
     "output_type": "stream",
     "text": [
      "[[12  0]\n",
      " [ 0 13]]\n",
      "Accuracy:  1.0\n",
      "Precision:  1.0\n",
      "Recall 1.0\n"
     ]
    }
   ],
   "source": [
    "from sklearn.metrics import confusion_matrix,accuracy_score,precision_score,recall_score\n",
    "matrix = confusion_matrix(y_true=y_test, y_pred=y_predicted_category)\n",
    "accuracy = accuracy_score(y_true=y_test, y_pred=y_predicted_category)\n",
    "precision = precision_score(y_true=y_test, y_pred=y_predicted_category)\n",
    "recall = recall_score(y_true=y_test, y_pred=y_predicted_category)\n",
    "print(matrix)\n",
    "print(\"Accuracy: \", accuracy)\n",
    "print(\"Precision: \", precision)\n",
    "print(\"Recall\", recall)"
   ],
   "metadata": {
    "collapsed": false
   }
  }
 ],
 "metadata": {
  "language_info": {
   "name": "python"
  },
  "orig_nbformat": 4
 },
 "nbformat": 4,
 "nbformat_minor": 2
}
