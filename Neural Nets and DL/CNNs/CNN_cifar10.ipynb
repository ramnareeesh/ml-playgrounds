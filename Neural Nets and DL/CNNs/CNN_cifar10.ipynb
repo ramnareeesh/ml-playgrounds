{
  "cells": [
    {
      "cell_type": "code",
      "execution_count": 1,
      "id": "initial_id",
      "metadata": {
        "collapsed": true,
        "ExecuteTime": {
          "end_time": "2023-11-26T19:15:16.453404Z",
          "start_time": "2023-11-26T19:15:13.573673Z"
        },
        "colab": {
          "base_uri": "https://localhost:8080/"
        },
        "id": "initial_id",
        "outputId": "141b4ecc-f892-43aa-8a40-f41012f94547"
      },
      "outputs": [
        {
          "output_type": "stream",
          "name": "stdout",
          "text": [
            "2.14.0\n",
            "[PhysicalDevice(name='/physical_device:CPU:0', device_type='CPU'), PhysicalDevice(name='/physical_device:GPU:0', device_type='GPU')]\n"
          ]
        }
      ],
      "source": [
        "import numpy as np\n",
        "from matplotlib import pyplot as plt\n",
        "\n",
        "import tensorflow as tf\n",
        "print(tf.__version__)\n",
        "print(tf.config.list_physical_devices())"
      ]
    },
    {
      "cell_type": "code",
      "execution_count": 2,
      "outputs": [
        {
          "output_type": "stream",
          "name": "stdout",
          "text": [
            "Downloading data from https://www.cs.toronto.edu/~kriz/cifar-10-python.tar.gz\n",
            "170498071/170498071 [==============================] - 4s 0us/step\n"
          ]
        }
      ],
      "source": [
        "(train_images, train_labels), (test_images, test_labels) = tf.keras.datasets.cifar10.load_data()"
      ],
      "metadata": {
        "ExecuteTime": {
          "end_time": "2023-11-26T19:15:20.352661Z",
          "start_time": "2023-11-26T19:15:20.144665Z"
        },
        "colab": {
          "base_uri": "https://localhost:8080/"
        },
        "id": "32a543666733ef3",
        "outputId": "dcee9bf2-ada9-477e-bf4b-5766e0627eaa"
      },
      "id": "32a543666733ef3"
    },
    {
      "cell_type": "code",
      "execution_count": 3,
      "outputs": [],
      "source": [
        "train_images =  train_images.astype('float32')/255.0\n",
        "test_images = test_images.astype('float32')/ 255.0\n",
        "\n",
        "\n",
        "train_labels = tf.keras.utils.to_categorical(train_labels)\n",
        "test_labels = tf.keras.utils.to_categorical(test_labels)"
      ],
      "metadata": {
        "ExecuteTime": {
          "end_time": "2023-11-26T19:15:22.456934Z",
          "start_time": "2023-11-26T19:15:22.333264Z"
        },
        "id": "520065653da13b15"
      },
      "id": "520065653da13b15"
    },
    {
      "cell_type": "code",
      "execution_count": 4,
      "outputs": [
        {
          "output_type": "execute_result",
          "data": {
            "text/plain": [
              "(10000, 32, 32, 3)"
            ]
          },
          "metadata": {},
          "execution_count": 4
        }
      ],
      "source": [
        "test_images.shape"
      ],
      "metadata": {
        "ExecuteTime": {
          "end_time": "2023-11-26T19:15:24.162719Z",
          "start_time": "2023-11-26T19:15:24.158803Z"
        },
        "colab": {
          "base_uri": "https://localhost:8080/"
        },
        "id": "cb5f7b55cea681b0",
        "outputId": "bf1dd3ef-5d96-4720-f69d-444d486c320c"
      },
      "id": "cb5f7b55cea681b0"
    },
    {
      "cell_type": "code",
      "execution_count": 5,
      "outputs": [
        {
          "output_type": "display_data",
          "data": {
            "text/plain": [
              "<Figure size 200x200 with 1 Axes>"
            ],
            "image/png": "[encoded data removed]"
          },
          "metadata": {}
        }
      ],
      "source": [
        "plt.figure(figsize=(2,2))\n",
        "plt.imshow(train_images[0])\n",
        "\n",
        "plt.show()"
      ],
      "metadata": {
        "ExecuteTime": {
          "end_time": "2023-11-26T19:15:25.546934Z",
          "start_time": "2023-11-26T19:15:25.494302Z"
        },
        "colab": {
          "base_uri": "https://localhost:8080/",
          "height": 217
        },
        "id": "3882e1b5e4f94dfa",
        "outputId": "837adba3-a8bd-4d4b-ae11-c66770b2efaf"
      },
      "id": "3882e1b5e4f94dfa"
    },
    {
      "cell_type": "code",
      "execution_count": 6,
      "outputs": [
        {
          "output_type": "stream",
          "name": "stdout",
          "text": [
            "Model: \"sequential\"\n",
            "_________________________________________________________________\n",
            " Layer (type)                Output Shape              Param #   \n",
            "=================================================================\n",
            " conv2d (Conv2D)             (None, 32, 32, 32)        896       \n",
            "                                                                 \n",
            " conv2d_1 (Conv2D)           (None, 32, 32, 32)        9248      \n",
            "                                                                 \n",
            " max_pooling2d (MaxPooling2  (None, 16, 16, 32)        0         \n",
            " D)                                                              \n",
            "                                                                 \n",
            " dropout (Dropout)           (None, 16, 16, 32)        0         \n",
            "                                                                 \n",
            " conv2d_2 (Conv2D)           (None, 16, 16, 64)        18496     \n",
            "                                                                 \n",
            " conv2d_3 (Conv2D)           (None, 16, 16, 64)        36928     \n",
            "                                                                 \n",
            " max_pooling2d_1 (MaxPoolin  (None, 8, 8, 64)          0         \n",
            " g2D)                                                            \n",
            "                                                                 \n",
            " dropout_1 (Dropout)         (None, 8, 8, 64)          0         \n",
            "                                                                 \n",
            " conv2d_4 (Conv2D)           (None, 8, 8, 128)         73856     \n",
            "                                                                 \n",
            " conv2d_5 (Conv2D)           (None, 8, 8, 128)         147584    \n",
            "                                                                 \n",
            " max_pooling2d_2 (MaxPoolin  (None, 4, 4, 128)         0         \n",
            " g2D)                                                            \n",
            "                                                                 \n",
            " dropout_2 (Dropout)         (None, 4, 4, 128)         0         \n",
            "                                                                 \n",
            " flatten (Flatten)           (None, 2048)              0         \n",
            "                                                                 \n",
            " dense (Dense)               (None, 128)               262272    \n",
            "                                                                 \n",
            " dropout_3 (Dropout)         (None, 128)               0         \n",
            "                                                                 \n",
            " dense_1 (Dense)             (None, 10)                1290      \n",
            "                                                                 \n",
            "=================================================================\n",
            "Total params: 550570 (2.10 MB)\n",
            "Trainable params: 550570 (2.10 MB)\n",
            "Non-trainable params: 0 (0.00 Byte)\n",
            "_________________________________________________________________\n"
          ]
        }
      ],
      "source": [
        "model = tf.keras.models.Sequential()\n",
        "\n",
        "model.add(tf.keras.layers.Input(shape=(32, 32, 3)))\n",
        "\n",
        "model.add(tf.keras.layers.Conv2D(filters=32, kernel_size=(3,3), padding=\"same\", activation='relu', kernel_initializer='he_uniform'))\n",
        "model.add(tf.keras.layers.Conv2D(filters=32, kernel_size=(3,3), padding=\"same\", activation='relu', kernel_initializer='he_uniform'))\n",
        "model.add(tf.keras.layers.MaxPooling2D(pool_size=(2, 2)))\n",
        "\n",
        "model.add(tf.keras.layers.Dropout(0.2))\n",
        "\n",
        "model.add(tf.keras.layers.Conv2D(filters=64, kernel_size=(3,3), padding=\"same\", activation=\"relu\", kernel_initializer='he_uniform'))\n",
        "model.add(tf.keras.layers.Conv2D(filters=64, kernel_size=(3,3), padding=\"same\", activation=\"relu\", kernel_initializer='he_uniform'))\n",
        "model.add(tf.keras.layers.MaxPooling2D(pool_size=(2,2)))\n",
        "\n",
        "model.add(tf.keras.layers.Dropout(0.2))\n",
        "\n",
        "model.add(tf.keras.layers.Conv2D(filters=128, kernel_size=(3,3), padding=\"same\", activation=\"relu\", kernel_initializer='he_uniform'))\n",
        "model.add(tf.keras.layers.Conv2D(filters=128, kernel_size=(3,3), padding=\"same\", activation=\"relu\", kernel_initializer='he_uniform'))\n",
        "model.add(tf.keras.layers.MaxPooling2D(pool_size=(2, 2)))\n",
        "\n",
        "model.add(tf.keras.layers.Dropout(0.2))\n",
        "\n",
        "model.add(tf.keras.layers.Flatten())\n",
        "\n",
        "model.add(tf.keras.layers.Dense(units=128, activation=\"relu\", kernel_initializer='he_uniform'))\n",
        "model.add(tf.keras.layers.Dropout(0.2))\n",
        "model.add(tf.keras.layers.Dense(units=10, activation=\"softmax\"))\n",
        "\n",
        "\n",
        "model.summary()"
      ],
      "metadata": {
        "ExecuteTime": {
          "end_time": "2023-11-26T19:15:29.260679Z",
          "start_time": "2023-11-26T19:15:28.256567Z"
        },
        "colab": {
          "base_uri": "https://localhost:8080/"
        },
        "id": "405e04aa852f0a9d",
        "outputId": "8a96be2f-6258-426c-92be-041bd72d397a"
      },
      "id": "405e04aa852f0a9d"
    },
    {
      "cell_type": "code",
      "execution_count": 7,
      "outputs": [],
      "source": [
        "model.compile(\n",
        "    loss=\"categorical_crossentropy\",\n",
        "    optimizer=\"adam\",\n",
        "    metrics=[\"accuracy\"]\n",
        ")"
      ],
      "metadata": {
        "ExecuteTime": {
          "end_time": "2023-11-26T19:15:34.582630Z",
          "start_time": "2023-11-26T19:15:34.528517Z"
        },
        "id": "4ac344c4279558ab"
      },
      "id": "4ac344c4279558ab"
    },
    {
      "cell_type": "code",
      "execution_count": 8,
      "outputs": [
        {
          "output_type": "stream",
          "name": "stdout",
          "text": [
            "Epoch 1/10\n",
            "1563/1563 [==============================] - 27s 9ms/step - loss: 1.5723 - accuracy: 0.4193 - val_loss: 1.2065 - val_accuracy: 0.5669\n",
            "Epoch 2/10\n",
            "1563/1563 [==============================] - 12s 8ms/step - loss: 1.1165 - accuracy: 0.6062 - val_loss: 0.9034 - val_accuracy: 0.6818\n",
            "Epoch 3/10\n",
            "1563/1563 [==============================] - 12s 8ms/step - loss: 0.9238 - accuracy: 0.6752 - val_loss: 0.8130 - val_accuracy: 0.7159\n",
            "Epoch 4/10\n",
            "1563/1563 [==============================] - 12s 8ms/step - loss: 0.8274 - accuracy: 0.7120 - val_loss: 0.7277 - val_accuracy: 0.7508\n",
            "Epoch 5/10\n",
            "1563/1563 [==============================] - 13s 8ms/step - loss: 0.7547 - accuracy: 0.7377 - val_loss: 0.7225 - val_accuracy: 0.7581\n",
            "Epoch 6/10\n",
            "1563/1563 [==============================] - 12s 8ms/step - loss: 0.7044 - accuracy: 0.7567 - val_loss: 0.6808 - val_accuracy: 0.7693\n",
            "Epoch 7/10\n",
            "1563/1563 [==============================] - 13s 8ms/step - loss: 0.6678 - accuracy: 0.7667 - val_loss: 0.6918 - val_accuracy: 0.7629\n",
            "Epoch 8/10\n",
            "1563/1563 [==============================] - 12s 8ms/step - loss: 0.6398 - accuracy: 0.7778 - val_loss: 0.6654 - val_accuracy: 0.7771\n",
            "Epoch 9/10\n",
            "1563/1563 [==============================] - 12s 8ms/step - loss: 0.6150 - accuracy: 0.7873 - val_loss: 0.6806 - val_accuracy: 0.7680\n",
            "Epoch 10/10\n",
            "1563/1563 [==============================] - 12s 8ms/step - loss: 0.5883 - accuracy: 0.7930 - val_loss: 0.6388 - val_accuracy: 0.7834\n"
          ]
        },
        {
          "output_type": "execute_result",
          "data": {
            "text/plain": [
              "<keras.src.callbacks.History at 0x7e52305c3c40>"
            ]
          },
          "metadata": {},
          "execution_count": 8
        }
      ],
      "source": [
        "history_obj = tf.keras.callbacks.History()\n",
        "\n",
        "model.fit(\n",
        "    train_images, train_labels,\n",
        "    epochs=10,\n",
        "    validation_data=(test_images, test_labels),\n",
        "    callbacks=[history_obj]\n",
        ")"
      ],
      "metadata": {
        "is_executing": true,
        "ExecuteTime": {
          "start_time": "2023-11-26T19:15:39.915948Z"
        },
        "colab": {
          "base_uri": "https://localhost:8080/"
        },
        "id": "b65370f7778fab29",
        "outputId": "b5dd6d07-900a-4402-bd25-e9fd2d791755"
      },
      "id": "b65370f7778fab29"
    },
    {
      "cell_type": "code",
      "execution_count": 9,
      "outputs": [
        {
          "output_type": "execute_result",
          "data": {
            "text/plain": [
              "<matplotlib.legend.Legend at 0x7e51c4d98520>"
            ]
          },
          "metadata": {},
          "execution_count": 9
        },
        {
          "output_type": "display_data",
          "data": {
            "text/plain": [
              "<Figure size 640x480 with 1 Axes>"
            ],
            "image/png": "[encoded data removed]"
          },
          "metadata": {}
        }
      ],
      "source": [
        "plt.plot(history_obj.history['accuracy'], label='accuracy')\n",
        "plt.plot(history_obj.history['val_accuracy'], label = 'val_accuracy')\n",
        "plt.xlabel('Epoch')\n",
        "plt.ylabel('Accuracy')\n",
        "plt.ylim([0.5, 1])\n",
        "plt.legend(loc='lower right')"
      ],
      "metadata": {
        "ExecuteTime": {
          "end_time": "2023-11-26T19:03:27.448880Z",
          "start_time": "2023-11-26T19:03:27.384294Z"
        },
        "colab": {
          "base_uri": "https://localhost:8080/",
          "height": 472
        },
        "id": "a5442839d11f2507",
        "outputId": "cc52008e-2ba9-4a4c-fb0e-e868d5b41783"
      },
      "id": "a5442839d11f2507"
    },
    {
      "cell_type": "code",
      "execution_count": 10,
      "outputs": [
        {
          "output_type": "stream",
          "name": "stdout",
          "text": [
            "313/313 - 1s - loss: 0.6388 - accuracy: 0.7834 - 1s/epoch - 4ms/step\n"
          ]
        }
      ],
      "source": [
        "test_loss, test_acc = model.evaluate(test_images,  test_labels, verbose=2)"
      ],
      "metadata": {
        "ExecuteTime": {
          "end_time": "2023-11-26T19:01:59.122705Z",
          "start_time": "2023-11-26T19:01:57.954291Z"
        },
        "colab": {
          "base_uri": "https://localhost:8080/"
        },
        "id": "ae21126b009228e4",
        "outputId": "5de5e290-5de1-4cdf-f283-285c36939d71"
      },
      "id": "ae21126b009228e4"
    },
    {
      "cell_type": "code",
      "execution_count": 10,
      "outputs": [],
      "source": [],
      "metadata": {
        "ExecuteTime": {
          "end_time": "2023-11-26T19:01:59.123023Z",
          "start_time": "2023-11-26T19:01:59.116522Z"
        },
        "id": "c9f2ef14f99db34a"
      },
      "id": "c9f2ef14f99db34a"
    }
  ],
  "metadata": {
    "kernelspec": {
      "display_name": "Python 3",
      "name": "python3"
    },
    "language_info": {
      "codemirror_mode": {
        "name": "ipython",
        "version": 2
      },
      "file_extension": ".py",
      "mimetype": "text/x-python",
      "name": "python",
      "nbconvert_exporter": "python",
      "pygments_lexer": "ipython2",
      "version": "2.7.6"
    },
    "colab": {
      "provenance": [],
      "gpuType": "T4"
    },
    "accelerator": "GPU"
  },
  "nbformat": 4,
  "nbformat_minor": 5
}