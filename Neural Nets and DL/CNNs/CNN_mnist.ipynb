{
 "cells": [
  {
   "cell_type": "code",
   "execution_count": 2,
   "id": "initial_id",
   "metadata": {
    "collapsed": true,
    "ExecuteTime": {
     "end_time": "2023-11-26T09:44:13.367111Z",
     "start_time": "2023-11-26T09:44:09.899156Z"
    }
   },
   "outputs": [
    {
     "name": "stdout",
     "output_type": "stream",
     "text": [
      "2.15.0\n",
      "[PhysicalDevice(name='/physical_device:CPU:0', device_type='CPU'), PhysicalDevice(name='/physical_device:GPU:0', device_type='GPU')]\n"
     ]
    }
   ],
   "source": [
    "import numpy as np\n",
    "from matplotlib import pyplot as plt\n",
    "\n",
    "import tensorflow as tf\n",
    "\n",
    "print(tf.__version__)\n",
    "print(tf.config.list_physical_devices())"
   ]
  },
  {
   "cell_type": "code",
   "execution_count": 3,
   "outputs": [],
   "source": [
    "(X_train, train_label), (X_test, test_label) = tf.keras.datasets.mnist.load_data() \n",
    "\n",
    "X_train = X_train.reshape(-1, 28, 28, 1).astype('float32')/255\n",
    "X_test = X_test.reshape(-1, 28, 28, 1).astype('float32')/255\n",
    "\n",
    "X_mean = np.mean(X_train, axis=0)\n",
    "X_train -= X_mean\n",
    "X_test -= X_mean\n",
    "\n",
    "Tr_labels = tf.keras.utils.to_categorical(train_label, 10)\n",
    "Te_labels = tf.keras.utils.to_categorical(test_label, 10)"
   ],
   "metadata": {
    "collapsed": false,
    "ExecuteTime": {
     "end_time": "2023-11-26T09:44:15.464407Z",
     "start_time": "2023-11-26T09:44:15.238120Z"
    }
   },
   "id": "c30f580056610863"
  },
  {
   "cell_type": "code",
   "execution_count": 9,
   "outputs": [
    {
     "data": {
      "text/plain": "<Figure size 640x480 with 1 Axes>",
      "image/png": "[encoded data removed]"
     },
     "metadata": {},
     "output_type": "display_data"
    },
    {
     "name": "stdout",
     "output_type": "stream",
     "text": [
      "(28, 28, 1)\n"
     ]
    }
   ],
   "source": [
    "plt.imshow(X_train[7], cmap='gray')\n",
    "plt.show()\n",
    "print(X_train[7].shape)"
   ],
   "metadata": {
    "collapsed": false,
    "ExecuteTime": {
     "end_time": "2023-11-26T09:45:23.907266Z",
     "start_time": "2023-11-26T09:45:23.869701Z"
    }
   },
   "id": "78b9d1eea454f71d"
  },
  {
   "cell_type": "code",
   "execution_count": 11,
   "outputs": [
    {
     "name": "stdout",
     "output_type": "stream",
     "text": [
      "Model: \"sequential_1\"\n",
      "_________________________________________________________________\n",
      " Layer (type)                Output Shape              Param #   \n",
      "=================================================================\n",
      " conv2d_1 (Conv2D)           (None, 26, 26, 16)        160       \n",
      "                                                                 \n",
      " max_pooling2d_1 (MaxPoolin  (None, 13, 13, 16)        0         \n",
      " g2D)                                                            \n",
      "                                                                 \n",
      " flatten_1 (Flatten)         (None, 2704)              0         \n",
      "                                                                 \n",
      " dense_2 (Dense)             (None, 100)               270500    \n",
      "                                                                 \n",
      " dense_3 (Dense)             (None, 10)                1010      \n",
      "                                                                 \n",
      "=================================================================\n",
      "Total params: 271670 (1.04 MB)\n",
      "Trainable params: 271670 (1.04 MB)\n",
      "Non-trainable params: 0 (0.00 Byte)\n",
      "_________________________________________________________________\n",
      "None\n"
     ]
    }
   ],
   "source": [
    "# Modelling the CNN\n",
    "\n",
    "model = tf.keras.models.Sequential()\n",
    "\n",
    "# Input layer for images (28, 28, 1) => 1 representing the channel (grayscale)\n",
    "model.add(tf.keras.layers.Input(shape=(28, 28, 1)))\n",
    "\n",
    "# Adding convolutional layer\n",
    "model.add(tf.keras.layers.Conv2D(filters=16, kernel_size=3, activation='relu'))\n",
    "\n",
    "# Adding a max-pooling layer\n",
    "model.add(tf.keras.layers.MaxPooling2D(pool_size=(2,2)))\n",
    "\n",
    "# Flattening the feature maps to a vector\n",
    "model.add(tf.keras.layers.Flatten())\n",
    "\n",
    "# Fully connected layers\n",
    "model.add(tf.keras.layers.Dense(units=100, activation='relu'))\n",
    "model.add(tf.keras.layers.Dense(units=10, activation='softmax'))\n",
    "\n",
    "model.compile(\n",
    "    loss='categorical_crossentropy',\n",
    "    optimizer='adam',\n",
    "    metrics=['accuracy']\n",
    ")\n",
    "\n",
    "print(model.summary())\n"
   ],
   "metadata": {
    "collapsed": false,
    "ExecuteTime": {
     "end_time": "2023-11-26T09:46:02.082208Z",
     "start_time": "2023-11-26T09:46:01.873087Z"
    }
   },
   "id": "dd040295fde684a8"
  },
  {
   "cell_type": "code",
   "execution_count": 16,
   "outputs": [
    {
     "name": "stdout",
     "output_type": "stream",
     "text": [
      "Epoch 1/10\n",
      "844/844 [==============================] - 37s 43ms/step - loss: 0.3859 - accuracy: 0.9715 - val_loss: 0.4065 - val_accuracy: 0.9793\n",
      "Epoch 2/10\n",
      "844/844 [==============================] - 36s 43ms/step - loss: 0.5475 - accuracy: 0.9684 - val_loss: 0.7603 - val_accuracy: 0.9662\n",
      "Epoch 3/10\n",
      "844/844 [==============================] - 36s 42ms/step - loss: 0.6721 - accuracy: 0.9680 - val_loss: 1.0770 - val_accuracy: 0.9613\n",
      "Epoch 4/10\n",
      "844/844 [==============================] - 34s 41ms/step - loss: 0.8460 - accuracy: 0.9660 - val_loss: 0.8171 - val_accuracy: 0.9705\n",
      "Epoch 5/10\n",
      "844/844 [==============================] - 35s 41ms/step - loss: 0.9585 - accuracy: 0.9651 - val_loss: 1.2865 - val_accuracy: 0.9642\n",
      "Epoch 6/10\n",
      "844/844 [==============================] - 36s 42ms/step - loss: 1.2116 - accuracy: 0.9639 - val_loss: 1.4516 - val_accuracy: 0.9632\n",
      "Epoch 7/10\n",
      "844/844 [==============================] - 35s 41ms/step - loss: 1.2694 - accuracy: 0.9650 - val_loss: 1.5848 - val_accuracy: 0.9680\n",
      "Epoch 8/10\n",
      "844/844 [==============================] - 35s 41ms/step - loss: 1.6006 - accuracy: 0.9635 - val_loss: 1.7533 - val_accuracy: 0.9622\n",
      "Epoch 9/10\n",
      "844/844 [==============================] - 36s 42ms/step - loss: 1.7620 - accuracy: 0.9640 - val_loss: 1.8162 - val_accuracy: 0.9708\n",
      "Epoch 10/10\n",
      "844/844 [==============================] - 36s 42ms/step - loss: 1.9133 - accuracy: 0.9639 - val_loss: 2.5902 - val_accuracy: 0.9617\n"
     ]
    },
    {
     "data": {
      "text/plain": "<keras.src.callbacks.History at 0x15aafb8e0>"
     },
     "execution_count": 16,
     "metadata": {},
     "output_type": "execute_result"
    }
   ],
   "source": [
    "history = tf.keras.callbacks.History()\n",
    "\n",
    "model.fit(\n",
    "    X_train, Tr_labels,\n",
    "    batch_size=64,\n",
    "    epochs=10,\n",
    "    validation_split=0.1,\n",
    "    callbacks=[history]\n",
    ")"
   ],
   "metadata": {
    "collapsed": false,
    "ExecuteTime": {
     "end_time": "2023-11-26T10:38:20.149171Z",
     "start_time": "2023-11-26T10:32:25.227613Z"
    }
   },
   "id": "5c1f19fa3218cc88"
  },
  {
   "cell_type": "code",
   "execution_count": 17,
   "outputs": [
    {
     "name": "stdout",
     "output_type": "stream",
     "text": [
      "313/313 [==============================] - 12s 38ms/step - loss: 2.8963 - accuracy: 0.9534\n",
      "Test loss:  2.8962624073028564\n",
      "Test accuracy:  0.9534000158309937\n"
     ]
    }
   ],
   "source": [
    "score = model.evaluate(X_test, Te_labels)\n",
    "print(\"Test loss: \", score[0])\n",
    "print(\"Test accuracy: \", score[1])"
   ],
   "metadata": {
    "collapsed": false,
    "ExecuteTime": {
     "end_time": "2023-11-26T10:40:12.605510Z",
     "start_time": "2023-11-26T10:40:00.388991Z"
    }
   },
   "id": "d11006aae873e63c"
  },
  {
   "cell_type": "code",
   "execution_count": 20,
   "outputs": [
    {
     "data": {
      "text/plain": "<Figure size 640x480 with 1 Axes>",
      "image/png": "[encoded data removed]"
     },
     "metadata": {},
     "output_type": "display_data"
    },
    {
     "name": "stdout",
     "output_type": "stream",
     "text": [
      "[0. 0. 0. 0. 0. 0. 0. 1. 0. 0.]\n"
     ]
    }
   ],
   "source": [
    "plt.imshow(X_test[0])\n",
    "plt.show()\n",
    "print(Te_labels[0])"
   ],
   "metadata": {
    "collapsed": false,
    "ExecuteTime": {
     "end_time": "2023-11-26T10:45:55.423367Z",
     "start_time": "2023-11-26T10:45:55.373388Z"
    }
   },
   "id": "8afba85b9c289180"
  },
  {
   "cell_type": "code",
   "execution_count": 29,
   "outputs": [
    {
     "name": "stdout",
     "output_type": "stream",
     "text": [
      "1/1 [==============================] - 0s 10ms/step\n",
      "Original:  [0. 0. 0. 0. 0. 0. 0. 1. 0. 0.]\n",
      "Predicted:  [0. 0. 0. 0. 0. 0. 0. 1. 0. 0.]\n"
     ]
    }
   ],
   "source": [
    "prediction = model.predict(X_test[0, :].reshape((1, 28, 28, 1)))\n",
    "print(\"Original: \", Te_labels[0])\n",
    "print(\"Predicted: \", prediction[0])"
   ],
   "metadata": {
    "collapsed": false,
    "ExecuteTime": {
     "end_time": "2023-11-26T10:50:40.864002Z",
     "start_time": "2023-11-26T10:50:40.821165Z"
    }
   },
   "id": "d053e838e40500e8"
  },
  {
   "cell_type": "code",
   "execution_count": 37,
   "outputs": [
    {
     "name": "stdout",
     "output_type": "stream",
     "text": [
      "Help on method summary in module keras.src.engine.training:\n",
      "\n",
      "summary(line_length=None, positions=None, print_fn=None, expand_nested=False, show_trainable=False, layer_range=None) method of keras.src.engine.sequential.Sequential instance\n",
      "    Prints a string summary of the network.\n",
      "    \n",
      "    Args:\n",
      "        line_length: Total length of printed lines\n",
      "            (e.g. set this to adapt the display to different\n",
      "            terminal window sizes).\n",
      "        positions: Relative or absolute positions of log elements\n",
      "            in each line. If not provided, becomes\n",
      "            `[0.3, 0.6, 0.70, 1.]`. Defaults to `None`.\n",
      "        print_fn: Print function to use. By default, prints to `stdout`.\n",
      "            If `stdout` doesn't work in your environment, change to `print`.\n",
      "            It will be called on each line of the summary.\n",
      "            You can set it to a custom function\n",
      "            in order to capture the string summary.\n",
      "        expand_nested: Whether to expand the nested models.\n",
      "            Defaults to `False`.\n",
      "        show_trainable: Whether to show if a layer is trainable.\n",
      "            Defaults to `False`.\n",
      "        layer_range: a list or tuple of 2 strings,\n",
      "            which is the starting layer name and ending layer name\n",
      "            (both inclusive) indicating the range of layers to be printed\n",
      "            in summary. It also accepts regex patterns instead of exact\n",
      "            name. In such case, start predicate will be the first element\n",
      "            it matches to `layer_range[0]` and the end predicate will be\n",
      "            the last element it matches to `layer_range[1]`.\n",
      "            By default `None` which considers all layers of model.\n",
      "    \n",
      "    Raises:\n",
      "        ValueError: if `summary()` is called before the model is built.\n"
     ]
    }
   ],
   "source": [
    "help(model.summary)"
   ],
   "metadata": {
    "collapsed": false,
    "ExecuteTime": {
     "end_time": "2023-11-26T10:56:22.554177Z",
     "start_time": "2023-11-26T10:56:22.548164Z"
    }
   },
   "id": "d4a807fae76d28ed"
  },
  {
   "cell_type": "code",
   "execution_count": null,
   "outputs": [],
   "source": [],
   "metadata": {
    "collapsed": false
   },
   "id": "5d1ba4a749daed01"
  }
 ],
 "metadata": {
  "kernelspec": {
   "display_name": "Python 3",
   "language": "python",
   "name": "python3"
  },
  "language_info": {
   "codemirror_mode": {
    "name": "ipython",
    "version": 2
   },
   "file_extension": ".py",
   "mimetype": "text/x-python",
   "name": "python",
   "nbconvert_exporter": "python",
   "pygments_lexer": "ipython2",
   "version": "2.7.6"
  }
 },
 "nbformat": 4,
 "nbformat_minor": 5
}
