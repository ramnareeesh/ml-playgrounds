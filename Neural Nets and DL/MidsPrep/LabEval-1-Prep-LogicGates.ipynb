{
 "cells": [
  {
   "cell_type": "code",
   "execution_count": 22,
   "id": "initial_id",
   "metadata": {
    "collapsed": true,
    "ExecuteTime": {
     "end_time": "2023-10-25T18:16:52.858160Z",
     "start_time": "2023-10-25T18:16:52.849068Z"
    }
   },
   "outputs": [],
   "source": [
    "import numpy as np\n",
    "import pandas as pd\n",
    "import matplotlib.pyplot as plt"
   ]
  },
  {
   "cell_type": "code",
   "execution_count": 23,
   "outputs": [
    {
     "name": "stdout",
     "output_type": "stream",
     "text": [
      "(4, 2)\n",
      "[[0 0]\n",
      " [0 1]\n",
      " [1 0]\n",
      " [1 1]]\n"
     ]
    }
   ],
   "source": [
    "features = np.array([[0, 0], [0, 1], [1, 0], [1, 1]])\n",
    "print(features.shape)\n",
    "print(features)"
   ],
   "metadata": {
    "collapsed": false,
    "ExecuteTime": {
     "end_time": "2023-10-25T18:16:52.858417Z",
     "start_time": "2023-10-25T18:16:52.853035Z"
    }
   },
   "id": "b28349806944c6de"
  },
  {
   "cell_type": "code",
   "execution_count": 24,
   "outputs": [],
   "source": [
    "target = {\n",
    "    \"and\" : [0, 0, 0, 1],\n",
    "    \"or\" : [0, 1, 1, 1],\n",
    "    \"xor\" : [0, 1, 1, 0]\n",
    "}"
   ],
   "metadata": {
    "collapsed": false,
    "ExecuteTime": {
     "end_time": "2023-10-25T18:16:52.858501Z",
     "start_time": "2023-10-25T18:16:52.856307Z"
    }
   },
   "id": "c7fe4ed145a56062"
  },
  {
   "cell_type": "code",
   "execution_count": 32,
   "outputs": [
    {
     "name": "stdout",
     "output_type": "stream",
     "text": [
      "[0.42032582 0.27013071]\n"
     ]
    }
   ],
   "source": [
    "epochs = 10\n",
    "bias = 1\n",
    "eta = 0.5\n",
    "weights = np.random.random(2)\n",
    "logic_gate = \"and\"\n",
    "print(weights)"
   ],
   "metadata": {
    "collapsed": false,
    "ExecuteTime": {
     "end_time": "2023-10-25T18:22:23.107786Z",
     "start_time": "2023-10-25T18:22:23.100328Z"
    }
   },
   "id": "142dd21f87c20208"
  },
  {
   "cell_type": "code",
   "execution_count": 33,
   "outputs": [],
   "source": [
    "def step(x):\n",
    "    if x > 0:\n",
    "        return 1\n",
    "    else:\n",
    "        return 0"
   ],
   "metadata": {
    "collapsed": false,
    "ExecuteTime": {
     "end_time": "2023-10-25T18:22:24.051342Z",
     "start_time": "2023-10-25T18:22:24.045651Z"
    }
   },
   "id": "ab5dde19be80a3f9"
  },
  {
   "cell_type": "code",
   "execution_count": 34,
   "outputs": [
    {
     "name": "stdout",
     "output_type": "stream",
     "text": [
      "Epoch:  1\n",
      "0   and   0  --->  actual:  0  predicted:  1\n",
      "0   and   1  --->  actual:  0  predicted:  1\n",
      "1   and   0  --->  actual:  0  predicted:  1\n",
      "1   and   1  --->  actual:  1  predicted:  0\n",
      "------------------------\n",
      "Epoch:  2\n",
      "0   and   0  --->  actual:  0  predicted:  0\n",
      "0   and   1  --->  actual:  0  predicted:  1\n",
      "1   and   0  --->  actual:  0  predicted:  0\n",
      "1   and   1  --->  actual:  1  predicted:  0\n",
      "------------------------\n",
      "Epoch:  3\n",
      "0   and   0  --->  actual:  0  predicted:  0\n",
      "0   and   1  --->  actual:  0  predicted:  1\n",
      "1   and   0  --->  actual:  0  predicted:  1\n",
      "1   and   1  --->  actual:  1  predicted:  0\n",
      "------------------------\n",
      "Epoch:  4\n",
      "0   and   0  --->  actual:  0  predicted:  0\n",
      "0   and   1  --->  actual:  0  predicted:  0\n",
      "1   and   0  --->  actual:  0  predicted:  1\n",
      "1   and   1  --->  actual:  1  predicted:  0\n",
      "------------------------\n",
      "Epoch:  5\n",
      "0   and   0  --->  actual:  0  predicted:  0\n",
      "0   and   1  --->  actual:  0  predicted:  1\n",
      "1   and   0  --->  actual:  0  predicted:  0\n",
      "1   and   1  --->  actual:  1  predicted:  1\n",
      "------------------------\n",
      "Epoch:  6\n",
      "0   and   0  --->  actual:  0  predicted:  0\n",
      "0   and   1  --->  actual:  0  predicted:  0\n",
      "1   and   0  --->  actual:  0  predicted:  0\n",
      "1   and   1  --->  actual:  1  predicted:  1\n"
     ]
    }
   ],
   "source": [
    "for i in range(epochs):\n",
    "    print(\"Epoch: \", i+1)\n",
    "    global_delta = 0\n",
    "    for j in range(len(features)):\n",
    "        actual = target[logic_gate][j]\n",
    "        weighted_sum = features[j][0] * weights[0] + features[j][1] * weights[1] + bias\n",
    "        \n",
    "        pred = step(weighted_sum)\n",
    "        \n",
    "        delta = actual - pred\n",
    "        global_delta += abs(delta)\n",
    "        \n",
    "        for k in range(len(weights)):\n",
    "            weights[k] += delta * eta * features[j][k]\n",
    "        \n",
    "        bias += eta * delta\n",
    "        \n",
    "        print(features[j][0], \" \", logic_gate, \" \", features[j][1], \" ---> \", \"actual: \", actual, \" predicted: \", pred)\n",
    "    \n",
    "    if global_delta == 0:\n",
    "        break\n",
    "    \n",
    "    print(\"------------------------\")"
   ],
   "metadata": {
    "collapsed": false,
    "ExecuteTime": {
     "end_time": "2023-10-25T18:22:24.439887Z",
     "start_time": "2023-10-25T18:22:24.437894Z"
    }
   },
   "id": "720a0f176adebc14"
  },
  {
   "cell_type": "code",
   "execution_count": 28,
   "outputs": [
    {
     "data": {
      "text/plain": "0"
     },
     "execution_count": 28,
     "metadata": {},
     "output_type": "execute_result"
    }
   ],
   "source": [
    "# test\n",
    "target[\"and\"][1]"
   ],
   "metadata": {
    "collapsed": false,
    "ExecuteTime": {
     "end_time": "2023-10-25T18:16:52.872429Z",
     "start_time": "2023-10-25T18:16:52.870430Z"
    }
   },
   "id": "10d3440f968d15e9"
  }
 ],
 "metadata": {
  "kernelspec": {
   "display_name": "Python 3",
   "language": "python",
   "name": "python3"
  },
  "language_info": {
   "codemirror_mode": {
    "name": "ipython",
    "version": 2
   },
   "file_extension": ".py",
   "mimetype": "text/x-python",
   "name": "python",
   "nbconvert_exporter": "python",
   "pygments_lexer": "ipython2",
   "version": "2.7.6"
  }
 },
 "nbformat": 4,
 "nbformat_minor": 5
}
