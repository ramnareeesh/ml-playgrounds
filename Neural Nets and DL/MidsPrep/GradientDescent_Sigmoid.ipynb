{
 "cells": [
  {
   "cell_type": "markdown",
   "source": [
    "Data points"
   ],
   "metadata": {
    "collapsed": false
   },
   "id": "ff3565fdea5d5f9b"
  },
  {
   "cell_type": "code",
   "execution_count": 99,
   "outputs": [],
   "source": [
    "import numpy as np\n",
    "\n",
    "X = [0.5, 2.5]\n",
    "Y = [0.2, 0.9]"
   ],
   "metadata": {
    "collapsed": false,
    "ExecuteTime": {
     "end_time": "2023-10-10T07:28:05.458689Z",
     "start_time": "2023-10-10T07:28:05.447847Z"
    }
   },
   "id": "d729141b060cba0f"
  },
  {
   "cell_type": "code",
   "execution_count": 100,
   "outputs": [],
   "source": [
    "def sigmoid(x, w, b):\n",
    "    return 1 / (1 + np.exp(-(w*x + b)))"
   ],
   "metadata": {
    "collapsed": false,
    "ExecuteTime": {
     "end_time": "2023-10-10T07:28:05.458883Z",
     "start_time": "2023-10-10T07:28:05.452147Z"
    }
   },
   "id": "9043e03a7831792e"
  },
  {
   "cell_type": "code",
   "execution_count": 101,
   "outputs": [],
   "source": [
    "def error(w, b):\n",
    "    e = 0\n",
    "    for x, y in zip(X, Y):\n",
    "        predict = sigmoid(x, w, b)\n",
    "        e += (y - predict) ** 2\n",
    "    return e"
   ],
   "metadata": {
    "collapsed": false,
    "ExecuteTime": {
     "end_time": "2023-10-10T07:28:05.458984Z",
     "start_time": "2023-10-10T07:28:05.454937Z"
    }
   },
   "id": "3cea9f52a16b412b"
  },
  {
   "cell_type": "code",
   "execution_count": 102,
   "outputs": [],
   "source": [
    "def gradient_b(x, y, w, b):\n",
    "    fx = sigmoid(x, w, b)\n",
    "    return (fx - y) * fx * (1 - fx)"
   ],
   "metadata": {
    "collapsed": false,
    "ExecuteTime": {
     "end_time": "2023-10-10T07:28:05.460182Z",
     "start_time": "2023-10-10T07:28:05.457969Z"
    }
   },
   "id": "ac35f6151584868c"
  },
  {
   "cell_type": "code",
   "execution_count": 103,
   "outputs": [],
   "source": [
    "def gradient_w(x, y, w, b):\n",
    "    fx = sigmoid(x, w, b)\n",
    "    return (fx - y) * fx * (1 - fx) * x"
   ],
   "metadata": {
    "collapsed": false,
    "ExecuteTime": {
     "end_time": "2023-10-10T07:28:05.469092Z",
     "start_time": "2023-10-10T07:28:05.461244Z"
    }
   },
   "id": "abb8700077f470b6"
  },
  {
   "cell_type": "code",
   "execution_count": 104,
   "outputs": [],
   "source": [
    "def gradient_descent():\n",
    "    w, b, learning, epochs = -2, -2, 1, 10000\n",
    "    for i in range(epochs):\n",
    "        dw, db = 0, 0\n",
    "        for x, y in zip(X, Y):\n",
    "            dw += gradient_w(x, y, w, b)\n",
    "            db += gradient_b(x, y, w, b)\n",
    "        w = w - learning * dw\n",
    "        b = b - learning * db\n",
    "    return w, b"
   ],
   "metadata": {
    "collapsed": false,
    "ExecuteTime": {
     "end_time": "2023-10-10T07:28:05.469339Z",
     "start_time": "2023-10-10T07:28:05.465506Z"
    }
   },
   "id": "64597e2f3a571e97"
  },
  {
   "cell_type": "code",
   "execution_count": 105,
   "outputs": [
    {
     "name": "stdout",
     "output_type": "stream",
     "text": [
      "(1.7917594692280423, -2.2821740957338994)\n",
      "5.007417855406813e-30\n"
     ]
    }
   ],
   "source": [
    "if __name__ == '__main__':\n",
    "    w, b = gradient_descent()\n",
    "    print((w, b))\n",
    "    print(error(w, b))"
   ],
   "metadata": {
    "collapsed": false,
    "ExecuteTime": {
     "end_time": "2023-10-10T07:28:05.508446Z",
     "start_time": "2023-10-10T07:28:05.467005Z"
    }
   },
   "id": "f739110c80577a35"
  },
  {
   "cell_type": "code",
   "execution_count": 105,
   "outputs": [],
   "source": [],
   "metadata": {
    "collapsed": false,
    "ExecuteTime": {
     "end_time": "2023-10-10T07:28:05.508972Z",
     "start_time": "2023-10-10T07:28:05.507117Z"
    }
   },
   "id": "d7b939dfd40871c5"
  }
 ],
 "metadata": {
  "kernelspec": {
   "display_name": "Python 3",
   "language": "python",
   "name": "python3"
  },
  "language_info": {
   "codemirror_mode": {
    "name": "ipython",
    "version": 2
   },
   "file_extension": ".py",
   "mimetype": "text/x-python",
   "name": "python",
   "nbconvert_exporter": "python",
   "pygments_lexer": "ipython2",
   "version": "2.7.6"
  }
 },
 "nbformat": 4,
 "nbformat_minor": 5
}
