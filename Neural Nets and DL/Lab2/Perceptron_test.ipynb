{
 "cells": [
  {
   "cell_type": "code",
   "execution_count": 1,
   "metadata": {},
   "outputs": [],
   "source": [
    "import pandas as pd\n",
    "import numpy as np"
   ]
  },
  {
   "cell_type": "code",
   "execution_count": 2,
   "metadata": {},
   "outputs": [
    {
     "data": {
      "text/html": [
       "<div>\n",
       "<style scoped>\n",
       "    .dataframe tbody tr th:only-of-type {\n",
       "        vertical-align: middle;\n",
       "    }\n",
       "\n",
       "    .dataframe tbody tr th {\n",
       "        vertical-align: top;\n",
       "    }\n",
       "\n",
       "    .dataframe thead th {\n",
       "        text-align: right;\n",
       "    }\n",
       "</style>\n",
       "<table border=\"1\" class=\"dataframe\">\n",
       "  <thead>\n",
       "    <tr style=\"text-align: right;\">\n",
       "      <th></th>\n",
       "      <th>sepal_length</th>\n",
       "      <th>sepal_width</th>\n",
       "      <th>petal_length</th>\n",
       "      <th>petal_width</th>\n",
       "      <th>class</th>\n",
       "    </tr>\n",
       "  </thead>\n",
       "  <tbody>\n",
       "    <tr>\n",
       "      <th>0</th>\n",
       "      <td>5.1</td>\n",
       "      <td>3.5</td>\n",
       "      <td>1.4</td>\n",
       "      <td>0.2</td>\n",
       "      <td>Iris-setosa</td>\n",
       "    </tr>\n",
       "    <tr>\n",
       "      <th>1</th>\n",
       "      <td>4.9</td>\n",
       "      <td>3.0</td>\n",
       "      <td>1.4</td>\n",
       "      <td>0.2</td>\n",
       "      <td>Iris-setosa</td>\n",
       "    </tr>\n",
       "    <tr>\n",
       "      <th>2</th>\n",
       "      <td>4.7</td>\n",
       "      <td>3.2</td>\n",
       "      <td>1.3</td>\n",
       "      <td>0.2</td>\n",
       "      <td>Iris-setosa</td>\n",
       "    </tr>\n",
       "    <tr>\n",
       "      <th>3</th>\n",
       "      <td>4.6</td>\n",
       "      <td>3.1</td>\n",
       "      <td>1.5</td>\n",
       "      <td>0.2</td>\n",
       "      <td>Iris-setosa</td>\n",
       "    </tr>\n",
       "    <tr>\n",
       "      <th>4</th>\n",
       "      <td>5.0</td>\n",
       "      <td>3.6</td>\n",
       "      <td>1.4</td>\n",
       "      <td>0.2</td>\n",
       "      <td>Iris-setosa</td>\n",
       "    </tr>\n",
       "  </tbody>\n",
       "</table>\n",
       "</div>"
      ],
      "text/plain": [
       "   sepal_length  sepal_width  petal_length  petal_width        class\n",
       "0           5.1          3.5           1.4          0.2  Iris-setosa\n",
       "1           4.9          3.0           1.4          0.2  Iris-setosa\n",
       "2           4.7          3.2           1.3          0.2  Iris-setosa\n",
       "3           4.6          3.1           1.5          0.2  Iris-setosa\n",
       "4           5.0          3.6           1.4          0.2  Iris-setosa"
      ]
     },
     "execution_count": 2,
     "metadata": {},
     "output_type": "execute_result"
    }
   ],
   "source": [
    "name = ['sepal_length', 'sepal_width', 'petal_length', 'petal_width', 'class']\n",
    "df = pd.read_csv('iris.data', sep=',', names=name)\n",
    "df.head()"
   ]
  },
  {
   "cell_type": "code",
   "execution_count": 3,
   "metadata": {},
   "outputs": [
    {
     "data": {
      "text/html": [
       "<div>\n",
       "<style scoped>\n",
       "    .dataframe tbody tr th:only-of-type {\n",
       "        vertical-align: middle;\n",
       "    }\n",
       "\n",
       "    .dataframe tbody tr th {\n",
       "        vertical-align: top;\n",
       "    }\n",
       "\n",
       "    .dataframe thead th {\n",
       "        text-align: right;\n",
       "    }\n",
       "</style>\n",
       "<table border=\"1\" class=\"dataframe\">\n",
       "  <thead>\n",
       "    <tr style=\"text-align: right;\">\n",
       "      <th></th>\n",
       "      <th>sepal_length</th>\n",
       "      <th>sepal_width</th>\n",
       "      <th>petal_length</th>\n",
       "      <th>petal_width</th>\n",
       "      <th>class_Iris-setosa</th>\n",
       "      <th>class_Iris-versicolor</th>\n",
       "      <th>class_Iris-virginica</th>\n",
       "    </tr>\n",
       "  </thead>\n",
       "  <tbody>\n",
       "    <tr>\n",
       "      <th>0</th>\n",
       "      <td>5.1</td>\n",
       "      <td>3.5</td>\n",
       "      <td>1.4</td>\n",
       "      <td>0.2</td>\n",
       "      <td>1</td>\n",
       "      <td>0</td>\n",
       "      <td>0</td>\n",
       "    </tr>\n",
       "    <tr>\n",
       "      <th>1</th>\n",
       "      <td>4.9</td>\n",
       "      <td>3.0</td>\n",
       "      <td>1.4</td>\n",
       "      <td>0.2</td>\n",
       "      <td>1</td>\n",
       "      <td>0</td>\n",
       "      <td>0</td>\n",
       "    </tr>\n",
       "    <tr>\n",
       "      <th>2</th>\n",
       "      <td>4.7</td>\n",
       "      <td>3.2</td>\n",
       "      <td>1.3</td>\n",
       "      <td>0.2</td>\n",
       "      <td>1</td>\n",
       "      <td>0</td>\n",
       "      <td>0</td>\n",
       "    </tr>\n",
       "    <tr>\n",
       "      <th>3</th>\n",
       "      <td>4.6</td>\n",
       "      <td>3.1</td>\n",
       "      <td>1.5</td>\n",
       "      <td>0.2</td>\n",
       "      <td>1</td>\n",
       "      <td>0</td>\n",
       "      <td>0</td>\n",
       "    </tr>\n",
       "    <tr>\n",
       "      <th>4</th>\n",
       "      <td>5.0</td>\n",
       "      <td>3.6</td>\n",
       "      <td>1.4</td>\n",
       "      <td>0.2</td>\n",
       "      <td>1</td>\n",
       "      <td>0</td>\n",
       "      <td>0</td>\n",
       "    </tr>\n",
       "  </tbody>\n",
       "</table>\n",
       "</div>"
      ],
      "text/plain": [
       "   sepal_length  sepal_width  petal_length  petal_width  class_Iris-setosa  \\\n",
       "0           5.1          3.5           1.4          0.2                  1   \n",
       "1           4.9          3.0           1.4          0.2                  1   \n",
       "2           4.7          3.2           1.3          0.2                  1   \n",
       "3           4.6          3.1           1.5          0.2                  1   \n",
       "4           5.0          3.6           1.4          0.2                  1   \n",
       "\n",
       "   class_Iris-versicolor  class_Iris-virginica  \n",
       "0                      0                     0  \n",
       "1                      0                     0  \n",
       "2                      0                     0  \n",
       "3                      0                     0  \n",
       "4                      0                     0  "
      ]
     },
     "execution_count": 3,
     "metadata": {},
     "output_type": "execute_result"
    }
   ],
   "source": [
    "iris_data = pd.get_dummies(data=df, columns=['class'])\n",
    "iris_data.head()"
   ]
  },
  {
   "cell_type": "code",
   "execution_count": 4,
   "metadata": {},
   "outputs": [],
   "source": [
    "X = iris_data.iloc[:, :4]\n",
    "y = iris_data.iloc[:, 4:7]"
   ]
  },
  {
   "cell_type": "code",
   "execution_count": 5,
   "metadata": {},
   "outputs": [],
   "source": [
    "from sklearn.model_selection import train_test_split\n",
    "X_train, X_test, y_train, y_test = train_test_split(X, y, random_state=1, test_size=0.2)"
   ]
  },
  {
   "cell_type": "code",
   "execution_count": 6,
   "metadata": {},
   "outputs": [
    {
     "name": "stdout",
     "output_type": "stream",
     "text": [
      "91     0\n",
      "135    0\n",
      "69     0\n",
      "128    0\n",
      "114    0\n",
      "Name: class_Iris-setosa, dtype: uint8\n",
      "91     1\n",
      "135    0\n",
      "69     1\n",
      "128    0\n",
      "114    0\n",
      "Name: class_Iris-versicolor, dtype: uint8\n",
      "91     0\n",
      "135    1\n",
      "69     0\n",
      "128    1\n",
      "114    1\n",
      "Name: class_Iris-virginica, dtype: uint8\n"
     ]
    }
   ],
   "source": [
    "y_train_setosa = y_train.iloc[:, 0]\n",
    "y_train_versicolor = y_train.iloc[:, 1]\n",
    "y_train_virginica = y_train.iloc[:, 2]\n",
    "print(y_train_setosa.head())\n",
    "print(y_train_versicolor.head())\n",
    "print(y_train_virginica.head())"
   ]
  },
  {
   "cell_type": "code",
   "execution_count": 7,
   "metadata": {},
   "outputs": [
    {
     "name": "stdout",
     "output_type": "stream",
     "text": [
      "14     1\n",
      "98     0\n",
      "75     0\n",
      "16     1\n",
      "131    0\n",
      "Name: class_Iris-setosa, dtype: uint8\n",
      "14     0\n",
      "98     1\n",
      "75     1\n",
      "16     0\n",
      "131    0\n",
      "Name: class_Iris-versicolor, dtype: uint8\n",
      "14     0\n",
      "98     0\n",
      "75     0\n",
      "16     0\n",
      "131    1\n",
      "Name: class_Iris-virginica, dtype: uint8\n",
      "     sepal_length  sepal_width  petal_length  petal_width\n",
      "14            5.8          4.0           1.2          0.2\n",
      "98            5.1          2.5           3.0          1.1\n",
      "75            6.6          3.0           4.4          1.4\n",
      "16            5.4          3.9           1.3          0.4\n",
      "131           7.9          3.8           6.4          2.0\n"
     ]
    }
   ],
   "source": [
    "y_test_setosa = y_test.iloc[:, 0]\n",
    "y_test_versicolor = y_test.iloc[:, 1]\n",
    "y_test_virginica = y_test.iloc[:, 2]\n",
    "print(y_test_setosa.head())\n",
    "print(y_test_versicolor.head())\n",
    "print(y_test_virginica.head())\n",
    "print(X_test.head())"
   ]
  },
  {
   "cell_type": "code",
   "execution_count": 8,
   "metadata": {},
   "outputs": [],
   "source": [
    "X_train = X_train.to_numpy()\n",
    "X_test = X_test.to_numpy()\n",
    "y_train_setosa = y_train_setosa.to_numpy()\n",
    "y_train_versicolor = y_train_versicolor.to_numpy()\n",
    "y_train_virginica = y_train_virginica.to_numpy()\n",
    "y_test_setosa = y_test_setosa.to_numpy()\n",
    "y_test_versicolor = y_test_versicolor.to_numpy()\n",
    "y_test_virginica = y_test_virginica.to_numpy()\n",
    "y_test = y_test.to_numpy()"
   ]
  },
  {
   "cell_type": "code",
   "execution_count": 9,
   "metadata": {},
   "outputs": [],
   "source": [
    "def predict(input, weights, bias):\n",
    "    weighted_sum = np.dot(input, weights) + bias\n",
    "    output = 1 if weighted_sum > 0.6 else 0\n",
    "    return output"
   ]
  },
  {
   "cell_type": "code",
   "execution_count": 10,
   "metadata": {},
   "outputs": [],
   "source": [
    "def train_weights(epochs, learning_rate, input, output, weights, bias):\n",
    "    for _ in range(epochs):\n",
    "        for i in range(len(input)):\n",
    "            predicted = predict(input[i], weights, bias)\n",
    "            error = output[i] - predicted\n",
    "            weights += learning_rate * error * input[i]\n",
    "            bias += learning_rate * error"
   ]
  },
  {
   "cell_type": "code",
   "execution_count": 11,
   "metadata": {},
   "outputs": [],
   "source": [
    "weights_setosa = np.ones((4,))\n",
    "weights_versicolor = np.ones((4,))\n",
    "weights_virginica = np.ones((4,))\n",
    "bias_setosa, bias_versicolor, bias_virginica = 0, 0, 0"
   ]
  },
  {
   "cell_type": "code",
   "execution_count": 12,
   "metadata": {},
   "outputs": [],
   "source": [
    "train_weights(200, 0.01, X_train, y_train_setosa, weights_setosa, bias_setosa)\n",
    "train_weights(200, 0.01, X_train, y_train_versicolor, weights_versicolor, bias_versicolor)\n",
    "train_weights(200, 0.01, X_train, y_train_virginica, weights_virginica, bias_virginica)"
   ]
  },
  {
   "cell_type": "code",
   "execution_count": 13,
   "metadata": {},
   "outputs": [
    {
     "name": "stdout",
     "output_type": "stream",
     "text": [
      "[-0.079  0.681 -0.412  0.413]\n",
      "0\n",
      "[ 0.055 -0.493  0.241 -0.59 ]\n",
      "0\n",
      "[-0.662 -0.645  0.943  1.478]\n",
      "0\n"
     ]
    }
   ],
   "source": [
    "print(weights_setosa)\n",
    "print(bias_setosa)\n",
    "print(weights_versicolor)\n",
    "print(bias_versicolor)\n",
    "print(weights_virginica)\n",
    "print(bias_virginica)"
   ]
  },
  {
   "cell_type": "code",
   "execution_count": 14,
   "metadata": {},
   "outputs": [
    {
     "name": "stdout",
     "output_type": "stream",
     "text": [
      "1\n",
      "0\n",
      "0\n"
     ]
    }
   ],
   "source": [
    "print(predict([5.8, 4.0, 1.2, 0.2], weights_setosa, bias_setosa))\n",
    "print(predict([5.8, 4.0, 1.2, 0.2], weights_versicolor, bias_versicolor))\n",
    "print(predict([5.8, 4.0, 1.2, 0.2], weights_virginica, bias_virginica))"
   ]
  },
  {
   "cell_type": "markdown",
   "metadata": {},
   "source": [
    "## Testing"
   ]
  },
  {
   "cell_type": "code",
   "execution_count": 15,
   "metadata": {},
   "outputs": [],
   "source": [
    "def test(input, output):\n",
    "    correct_pred = 0\n",
    "    for i in range(len(output)):\n",
    "        result = []\n",
    "        result.append(predict(input[i], weights_setosa, bias_setosa))\n",
    "        result.append(predict(input[i], weights_versicolor, bias_versicolor))\n",
    "        result.append(predict(input[i], weights_virginica, bias_virginica))\n",
    "        check = output[i].tolist()\n",
    "        print(result, \" \", check)\n",
    "        if result == check:\n",
    "            correct_pred += 1\n",
    "    print(\"Correct Prediction: \", correct_pred)\n",
    "    print(\"Total Tests: \", len(output))\n",
    "    print(\"Accuracy: \", correct_pred/len(output))\n",
    "        "
   ]
  },
  {
   "cell_type": "code",
   "execution_count": 16,
   "metadata": {},
   "outputs": [
    {
     "name": "stdout",
     "output_type": "stream",
     "text": [
      "[1, 0, 0]   [1, 0, 0]\n",
      "[0, 0, 0]   [0, 1, 0]\n",
      "[0, 0, 0]   [0, 1, 0]\n",
      "[1, 0, 0]   [1, 0, 0]\n",
      "[0, 0, 1]   [0, 0, 1]\n",
      "[0, 0, 0]   [0, 1, 0]\n",
      "[0, 0, 1]   [0, 0, 1]\n",
      "[1, 0, 0]   [1, 0, 0]\n",
      "[1, 0, 0]   [1, 0, 0]\n",
      "[0, 0, 1]   [0, 0, 1]\n",
      "[0, 0, 0]   [0, 1, 0]\n",
      "[1, 0, 0]   [1, 0, 0]\n",
      "[0, 0, 1]   [0, 0, 1]\n",
      "[0, 0, 0]   [0, 1, 0]\n",
      "[0, 0, 1]   [0, 1, 0]\n",
      "[1, 0, 0]   [1, 0, 0]\n",
      "[0, 0, 0]   [0, 1, 0]\n",
      "[0, 0, 1]   [0, 1, 0]\n",
      "[1, 0, 0]   [1, 0, 0]\n",
      "[1, 0, 0]   [1, 0, 0]\n",
      "[0, 0, 1]   [0, 1, 0]\n",
      "[0, 0, 1]   [0, 1, 0]\n",
      "[0, 0, 1]   [0, 1, 0]\n",
      "[1, 0, 0]   [1, 0, 0]\n",
      "[0, 0, 1]   [0, 0, 1]\n",
      "[0, 0, 0]   [0, 1, 0]\n",
      "[1, 0, 0]   [1, 0, 0]\n",
      "[1, 0, 0]   [1, 0, 0]\n",
      "[0, 0, 0]   [0, 1, 0]\n",
      "[0, 0, 1]   [0, 0, 1]\n",
      "Correct Prediction:  17\n",
      "Total Tests:  30\n",
      "Accuracy:  0.5666666666666667\n"
     ]
    }
   ],
   "source": [
    "test(X_test, y_test)"
   ]
  },
  {
   "cell_type": "code",
   "execution_count": 17,
   "metadata": {},
   "outputs": [],
   "source": [
    "def testSingle(test_set, test_output):\n",
    "    correct_pred = 0\n",
    "    result = []\n",
    "    for i in range(len(test_set)):\n",
    "        prediction = predict(test_set[i], weights=weights_versicolor, bias=bias_versicolor)\n",
    "        result.append(prediction)\n",
    "        if prediction == test_output[i]:\n",
    "            correct_pred += 1\n",
    "    print(np.array(result))\n",
    "    print(test_output)\n",
    "    print(\"Correct Prediction: \", correct_pred)\n",
    "    print(\"Total tests: \", len(test_set))"
   ]
  },
  {
   "cell_type": "code",
   "execution_count": 18,
   "metadata": {},
   "outputs": [
    {
     "name": "stdout",
     "output_type": "stream",
     "text": [
      "[0 0 0 0 0 0 0 0 0 0 0 0 0 0 0 0 0 0 0 0 0 0 0 0 0 0 0 0 0 0]\n",
      "[0 1 1 0 0 1 0 0 0 0 1 0 0 1 1 0 1 1 0 0 1 1 1 0 0 1 0 0 1 0]\n",
      "Correct Prediction:  17\n",
      "Total tests:  30\n"
     ]
    }
   ],
   "source": [
    "testSingle(X_test, y_test_versicolor)"
   ]
  }
 ],
 "metadata": {
  "kernelspec": {
   "display_name": "MachineLearning",
   "language": "python",
   "name": "python3"
  },
  "language_info": {
   "codemirror_mode": {
    "name": "ipython",
    "version": 3
   },
   "file_extension": ".py",
   "mimetype": "text/x-python",
   "name": "python",
   "nbconvert_exporter": "python",
   "pygments_lexer": "ipython3",
   "version": "3.11.4"
  },
  "orig_nbformat": 4
 },
 "nbformat": 4,
 "nbformat_minor": 2
}
