{
 "cells": [
  {
   "cell_type": "code",
   "execution_count": 1,
   "id": "initial_id",
   "metadata": {
    "collapsed": true,
    "ExecuteTime": {
     "end_time": "2023-11-06T06:04:47.527124Z",
     "start_time": "2023-11-06T06:04:46.676634Z"
    }
   },
   "outputs": [],
   "source": [
    "import pandas as pd\n",
    "import numpy as np\n",
    "import matplotlib.pyplot as plt"
   ]
  },
  {
   "cell_type": "code",
   "execution_count": 2,
   "outputs": [
    {
     "data": {
      "text/plain": "  Organization Group       Department           Job Family  \\\n0  Public Protection  Adult Probation  Information Systems   \n1  Public Protection  Adult Probation  Information Systems   \n2  Public Protection  Adult Probation  Information Systems   \n3  Public Protection  Adult Probation  Information Systems   \n4  Public Protection  Adult Probation  Information Systems   \n\n                             Job    Salary  Overtime  Benefits  \\\n0             IS Trainer-Journey   91332.0       0.0   40059.0   \n1          IS Engineer-Assistant  123241.0       0.0   49279.0   \n2     IS Business Analyst-Senior  115715.0       0.0   46752.0   \n3  IS Business Analyst-Principal  159394.0       0.0   57312.0   \n4          IS Programmer Analyst   70035.0       0.0   28671.0   \n\n   Total Compensation  \n0            131391.0  \n1            172520.0  \n2            162468.0  \n3            216706.0  \n4             98706.0  ",
      "text/html": "<div>\n<style scoped>\n    .dataframe tbody tr th:only-of-type {\n        vertical-align: middle;\n    }\n\n    .dataframe tbody tr th {\n        vertical-align: top;\n    }\n\n    .dataframe thead th {\n        text-align: right;\n    }\n</style>\n<table border=\"1\" class=\"dataframe\">\n  <thead>\n    <tr style=\"text-align: right;\">\n      <th></th>\n      <th>Organization Group</th>\n      <th>Department</th>\n      <th>Job Family</th>\n      <th>Job</th>\n      <th>Salary</th>\n      <th>Overtime</th>\n      <th>Benefits</th>\n      <th>Total Compensation</th>\n    </tr>\n  </thead>\n  <tbody>\n    <tr>\n      <th>0</th>\n      <td>Public Protection</td>\n      <td>Adult Probation</td>\n      <td>Information Systems</td>\n      <td>IS Trainer-Journey</td>\n      <td>91332.0</td>\n      <td>0.0</td>\n      <td>40059.0</td>\n      <td>131391.0</td>\n    </tr>\n    <tr>\n      <th>1</th>\n      <td>Public Protection</td>\n      <td>Adult Probation</td>\n      <td>Information Systems</td>\n      <td>IS Engineer-Assistant</td>\n      <td>123241.0</td>\n      <td>0.0</td>\n      <td>49279.0</td>\n      <td>172520.0</td>\n    </tr>\n    <tr>\n      <th>2</th>\n      <td>Public Protection</td>\n      <td>Adult Probation</td>\n      <td>Information Systems</td>\n      <td>IS Business Analyst-Senior</td>\n      <td>115715.0</td>\n      <td>0.0</td>\n      <td>46752.0</td>\n      <td>162468.0</td>\n    </tr>\n    <tr>\n      <th>3</th>\n      <td>Public Protection</td>\n      <td>Adult Probation</td>\n      <td>Information Systems</td>\n      <td>IS Business Analyst-Principal</td>\n      <td>159394.0</td>\n      <td>0.0</td>\n      <td>57312.0</td>\n      <td>216706.0</td>\n    </tr>\n    <tr>\n      <th>4</th>\n      <td>Public Protection</td>\n      <td>Adult Probation</td>\n      <td>Information Systems</td>\n      <td>IS Programmer Analyst</td>\n      <td>70035.0</td>\n      <td>0.0</td>\n      <td>28671.0</td>\n      <td>98706.0</td>\n    </tr>\n  </tbody>\n</table>\n</div>"
     },
     "execution_count": 2,
     "metadata": {},
     "output_type": "execute_result"
    }
   ],
   "source": [
    "sf = pd.read_csv(\"data/san_francisco_2019.csv\")\n",
    "sf.head()"
   ],
   "metadata": {
    "collapsed": false,
    "ExecuteTime": {
     "end_time": "2023-11-06T06:05:06.029549Z",
     "start_time": "2023-11-06T06:05:05.976023Z"
    }
   },
   "id": "5812f328657cdd1f"
  },
  {
   "cell_type": "code",
   "execution_count": null,
   "outputs": [],
   "source": [],
   "metadata": {
    "collapsed": false
   },
   "id": "3c1ed0110d06a035"
  }
 ],
 "metadata": {
  "kernelspec": {
   "display_name": "Python 3",
   "language": "python",
   "name": "python3"
  },
  "language_info": {
   "codemirror_mode": {
    "name": "ipython",
    "version": 2
   },
   "file_extension": ".py",
   "mimetype": "text/x-python",
   "name": "python",
   "nbconvert_exporter": "python",
   "pygments_lexer": "ipython2",
   "version": "2.7.6"
  }
 },
 "nbformat": 4,
 "nbformat_minor": 5
}
