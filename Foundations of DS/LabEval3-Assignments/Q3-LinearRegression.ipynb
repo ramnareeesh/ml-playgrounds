{
 "cells": [
  {
   "cell_type": "markdown",
   "id": "a21b19406471c66",
   "metadata": {},
   "source": [
    "# Question 3"
   ]
  },
  {
   "cell_type": "markdown",
   "id": "3b2ca8832bd72012",
   "metadata": {},
   "source": [
    "## Imports"
   ]
  },
  {
   "cell_type": "code",
   "execution_count": 63,
   "id": "initial_id",
   "metadata": {
    "ExecuteTime": {
     "end_time": "2023-11-30T20:26:59.940192Z",
     "start_time": "2023-11-30T20:26:59.899986Z"
    },
    "collapsed": true
   },
   "outputs": [],
   "source": [
    "import pandas as pd\n",
    "import seaborn as sns\n",
    "import matplotlib.pyplot as plt\n",
    "import numpy as np"
   ]
  },
  {
   "cell_type": "markdown",
   "id": "39c9a3e8d0da25fd",
   "metadata": {},
   "source": [
    "## Preprocessing"
   ]
  },
  {
   "cell_type": "code",
   "execution_count": 64,
   "id": "9ca16a88026f5314",
   "metadata": {
    "ExecuteTime": {
     "end_time": "2023-11-30T20:26:59.966443Z",
     "start_time": "2023-11-30T20:26:59.901730Z"
    }
   },
   "outputs": [
    {
     "data": {
      "text/html": [
       "<div>\n",
       "<style scoped>\n",
       "    .dataframe tbody tr th:only-of-type {\n",
       "        vertical-align: middle;\n",
       "    }\n",
       "\n",
       "    .dataframe tbody tr th {\n",
       "        vertical-align: top;\n",
       "    }\n",
       "\n",
       "    .dataframe thead th {\n",
       "        text-align: right;\n",
       "    }\n",
       "</style>\n",
       "<table border=\"1\" class=\"dataframe\">\n",
       "  <thead>\n",
       "    <tr style=\"text-align: right;\">\n",
       "      <th></th>\n",
       "      <th>crime_rate</th>\n",
       "      <th>pprime_land</th>\n",
       "      <th>Luxury</th>\n",
       "      <th>Rooms</th>\n",
       "      <th>age</th>\n",
       "      <th>Central_location</th>\n",
       "      <th>Highways</th>\n",
       "      <th>Tax_rate</th>\n",
       "      <th>poor_percentage</th>\n",
       "      <th>home_price</th>\n",
       "    </tr>\n",
       "  </thead>\n",
       "  <tbody>\n",
       "    <tr>\n",
       "      <th>0</th>\n",
       "      <td>0.00632</td>\n",
       "      <td>2.31</td>\n",
       "      <td>0</td>\n",
       "      <td>6.575</td>\n",
       "      <td>65.2</td>\n",
       "      <td>4.0900</td>\n",
       "      <td>1</td>\n",
       "      <td>296</td>\n",
       "      <td>4.98</td>\n",
       "      <td>24.0</td>\n",
       "    </tr>\n",
       "    <tr>\n",
       "      <th>1</th>\n",
       "      <td>0.02731</td>\n",
       "      <td>7.07</td>\n",
       "      <td>0</td>\n",
       "      <td>6.421</td>\n",
       "      <td>78.9</td>\n",
       "      <td>4.9671</td>\n",
       "      <td>2</td>\n",
       "      <td>242</td>\n",
       "      <td>9.14</td>\n",
       "      <td>21.6</td>\n",
       "    </tr>\n",
       "    <tr>\n",
       "      <th>2</th>\n",
       "      <td>0.02729</td>\n",
       "      <td>7.07</td>\n",
       "      <td>0</td>\n",
       "      <td>7.185</td>\n",
       "      <td>61.1</td>\n",
       "      <td>4.9671</td>\n",
       "      <td>2</td>\n",
       "      <td>242</td>\n",
       "      <td>4.03</td>\n",
       "      <td>34.7</td>\n",
       "    </tr>\n",
       "    <tr>\n",
       "      <th>3</th>\n",
       "      <td>0.03237</td>\n",
       "      <td>2.18</td>\n",
       "      <td>0</td>\n",
       "      <td>6.998</td>\n",
       "      <td>45.8</td>\n",
       "      <td>6.0622</td>\n",
       "      <td>3</td>\n",
       "      <td>222</td>\n",
       "      <td>2.94</td>\n",
       "      <td>33.4</td>\n",
       "    </tr>\n",
       "    <tr>\n",
       "      <th>4</th>\n",
       "      <td>0.06905</td>\n",
       "      <td>2.18</td>\n",
       "      <td>0</td>\n",
       "      <td>7.147</td>\n",
       "      <td>54.2</td>\n",
       "      <td>6.0622</td>\n",
       "      <td>3</td>\n",
       "      <td>222</td>\n",
       "      <td>5.33</td>\n",
       "      <td>36.2</td>\n",
       "    </tr>\n",
       "    <tr>\n",
       "      <th>...</th>\n",
       "      <td>...</td>\n",
       "      <td>...</td>\n",
       "      <td>...</td>\n",
       "      <td>...</td>\n",
       "      <td>...</td>\n",
       "      <td>...</td>\n",
       "      <td>...</td>\n",
       "      <td>...</td>\n",
       "      <td>...</td>\n",
       "      <td>...</td>\n",
       "    </tr>\n",
       "    <tr>\n",
       "      <th>501</th>\n",
       "      <td>0.06263</td>\n",
       "      <td>11.93</td>\n",
       "      <td>0</td>\n",
       "      <td>6.593</td>\n",
       "      <td>69.1</td>\n",
       "      <td>2.4786</td>\n",
       "      <td>1</td>\n",
       "      <td>273</td>\n",
       "      <td>9.67</td>\n",
       "      <td>22.4</td>\n",
       "    </tr>\n",
       "    <tr>\n",
       "      <th>502</th>\n",
       "      <td>0.04527</td>\n",
       "      <td>11.93</td>\n",
       "      <td>0</td>\n",
       "      <td>6.120</td>\n",
       "      <td>76.7</td>\n",
       "      <td>2.2875</td>\n",
       "      <td>1</td>\n",
       "      <td>273</td>\n",
       "      <td>9.08</td>\n",
       "      <td>20.6</td>\n",
       "    </tr>\n",
       "    <tr>\n",
       "      <th>503</th>\n",
       "      <td>0.06076</td>\n",
       "      <td>11.93</td>\n",
       "      <td>0</td>\n",
       "      <td>6.976</td>\n",
       "      <td>91.0</td>\n",
       "      <td>2.1675</td>\n",
       "      <td>1</td>\n",
       "      <td>273</td>\n",
       "      <td>5.64</td>\n",
       "      <td>23.9</td>\n",
       "    </tr>\n",
       "    <tr>\n",
       "      <th>504</th>\n",
       "      <td>0.10959</td>\n",
       "      <td>11.93</td>\n",
       "      <td>0</td>\n",
       "      <td>6.794</td>\n",
       "      <td>89.3</td>\n",
       "      <td>2.3889</td>\n",
       "      <td>1</td>\n",
       "      <td>273</td>\n",
       "      <td>6.48</td>\n",
       "      <td>22.0</td>\n",
       "    </tr>\n",
       "    <tr>\n",
       "      <th>505</th>\n",
       "      <td>0.04741</td>\n",
       "      <td>11.93</td>\n",
       "      <td>0</td>\n",
       "      <td>6.030</td>\n",
       "      <td>80.8</td>\n",
       "      <td>2.5050</td>\n",
       "      <td>1</td>\n",
       "      <td>273</td>\n",
       "      <td>7.88</td>\n",
       "      <td>11.9</td>\n",
       "    </tr>\n",
       "  </tbody>\n",
       "</table>\n",
       "<p>506 rows × 10 columns</p>\n",
       "</div>"
      ],
      "text/plain": [
       "     crime_rate  pprime_land  Luxury  Rooms   age  Central_location  Highways  \\\n",
       "0       0.00632         2.31       0  6.575  65.2            4.0900         1   \n",
       "1       0.02731         7.07       0  6.421  78.9            4.9671         2   \n",
       "2       0.02729         7.07       0  7.185  61.1            4.9671         2   \n",
       "3       0.03237         2.18       0  6.998  45.8            6.0622         3   \n",
       "4       0.06905         2.18       0  7.147  54.2            6.0622         3   \n",
       "..          ...          ...     ...    ...   ...               ...       ...   \n",
       "501     0.06263        11.93       0  6.593  69.1            2.4786         1   \n",
       "502     0.04527        11.93       0  6.120  76.7            2.2875         1   \n",
       "503     0.06076        11.93       0  6.976  91.0            2.1675         1   \n",
       "504     0.10959        11.93       0  6.794  89.3            2.3889         1   \n",
       "505     0.04741        11.93       0  6.030  80.8            2.5050         1   \n",
       "\n",
       "     Tax_rate  poor_percentage  home_price  \n",
       "0         296             4.98        24.0  \n",
       "1         242             9.14        21.6  \n",
       "2         242             4.03        34.7  \n",
       "3         222             2.94        33.4  \n",
       "4         222             5.33        36.2  \n",
       "..        ...              ...         ...  \n",
       "501       273             9.67        22.4  \n",
       "502       273             9.08        20.6  \n",
       "503       273             5.64        23.9  \n",
       "504       273             6.48        22.0  \n",
       "505       273             7.88        11.9  \n",
       "\n",
       "[506 rows x 10 columns]"
      ]
     },
     "execution_count": 64,
     "metadata": {},
     "output_type": "execute_result"
    }
   ],
   "source": [
    "house_df = pd.read_csv(\"../data/house.csv\")\n",
    "house_df"
   ]
  },
  {
   "cell_type": "code",
   "execution_count": 65,
   "id": "9e64a9891ea4f1a1",
   "metadata": {
    "ExecuteTime": {
     "end_time": "2023-11-30T20:27:00.023012Z",
     "start_time": "2023-11-30T20:26:59.918001Z"
    }
   },
   "outputs": [
    {
     "data": {
      "image/png": "[encoded data removed]",
      "text/plain": [
       "<Figure size 640x480 with 1 Axes>"
      ]
     },
     "metadata": {},
     "output_type": "display_data"
    }
   ],
   "source": [
    "sns.histplot(house_df[\"home_price\"], color=\"red\", alpha=0.8)\n",
    "plt.title(\"HOUSE PRICE DISTRIBUTION\")\n",
    "plt.show()"
   ]
  },
  {
   "cell_type": "code",
   "execution_count": 66,
   "id": "35deebe7e0cee64c",
   "metadata": {
    "ExecuteTime": {
     "end_time": "2023-11-30T20:27:00.023191Z",
     "start_time": "2023-11-30T20:26:59.990638Z"
    }
   },
   "outputs": [
    {
     "data": {
      "text/plain": [
       "Luxury\n",
       "0    471\n",
       "1     35\n",
       "Name: count, dtype: int64"
      ]
     },
     "execution_count": 66,
     "metadata": {},
     "output_type": "execute_result"
    }
   ],
   "source": [
    "house_df[\"Luxury\"].value_counts()\n",
    "# Shows it is a categorical data"
   ]
  },
  {
   "cell_type": "code",
   "execution_count": 67,
   "id": "5e7e1c383bc7414c",
   "metadata": {
    "ExecuteTime": {
     "end_time": "2023-11-30T20:27:00.023412Z",
     "start_time": "2023-11-30T20:26:59.994562Z"
    }
   },
   "outputs": [
    {
     "data": {
      "text/plain": [
       "Highways\n",
       "24    132\n",
       "5     115\n",
       "4     110\n",
       "3      38\n",
       "6      26\n",
       "2      24\n",
       "8      24\n",
       "1      20\n",
       "7      17\n",
       "Name: count, dtype: int64"
      ]
     },
     "execution_count": 67,
     "metadata": {},
     "output_type": "execute_result"
    }
   ],
   "source": [
    "house_df[\"Highways\"].value_counts()"
   ]
  },
  {
   "cell_type": "markdown",
   "id": "bd252b846e5e5471",
   "metadata": {},
   "source": [
    "## Standardizing data"
   ]
  },
  {
   "cell_type": "code",
   "execution_count": 68,
   "id": "7a6a7fa91942e178",
   "metadata": {
    "ExecuteTime": {
     "end_time": "2023-11-30T20:27:00.023819Z",
     "start_time": "2023-11-30T20:26:59.998769Z"
    }
   },
   "outputs": [],
   "source": [
    "from sklearn.preprocessing import StandardScaler\n",
    "ss = StandardScaler()"
   ]
  },
  {
   "cell_type": "code",
   "execution_count": 69,
   "id": "cbc98ac6196a27ff",
   "metadata": {
    "ExecuteTime": {
     "end_time": "2023-11-30T20:27:00.041348Z",
     "start_time": "2023-11-30T20:27:00.003291Z"
    }
   },
   "outputs": [
    {
     "data": {
      "text/html": [
       "<div>\n",
       "<style scoped>\n",
       "    .dataframe tbody tr th:only-of-type {\n",
       "        vertical-align: middle;\n",
       "    }\n",
       "\n",
       "    .dataframe tbody tr th {\n",
       "        vertical-align: top;\n",
       "    }\n",
       "\n",
       "    .dataframe thead th {\n",
       "        text-align: right;\n",
       "    }\n",
       "</style>\n",
       "<table border=\"1\" class=\"dataframe\">\n",
       "  <thead>\n",
       "    <tr style=\"text-align: right;\">\n",
       "      <th></th>\n",
       "      <th>crime_rate</th>\n",
       "      <th>pprime_land</th>\n",
       "      <th>Luxury</th>\n",
       "      <th>Rooms</th>\n",
       "      <th>age</th>\n",
       "      <th>Central_location</th>\n",
       "      <th>Highways</th>\n",
       "      <th>Tax_rate</th>\n",
       "      <th>poor_percentage</th>\n",
       "      <th>home_price</th>\n",
       "    </tr>\n",
       "  </thead>\n",
       "  <tbody>\n",
       "    <tr>\n",
       "      <th>0</th>\n",
       "      <td>-0.417713</td>\n",
       "      <td>-1.287909</td>\n",
       "      <td>0</td>\n",
       "      <td>0.413672</td>\n",
       "      <td>-0.120013</td>\n",
       "      <td>0.140214</td>\n",
       "      <td>1</td>\n",
       "      <td>-0.666608</td>\n",
       "      <td>-1.075562</td>\n",
       "      <td>24.0</td>\n",
       "    </tr>\n",
       "    <tr>\n",
       "      <th>1</th>\n",
       "      <td>-0.415269</td>\n",
       "      <td>-0.593381</td>\n",
       "      <td>0</td>\n",
       "      <td>0.194274</td>\n",
       "      <td>0.367166</td>\n",
       "      <td>0.557160</td>\n",
       "      <td>2</td>\n",
       "      <td>-0.987329</td>\n",
       "      <td>-0.492439</td>\n",
       "      <td>21.6</td>\n",
       "    </tr>\n",
       "    <tr>\n",
       "      <th>2</th>\n",
       "      <td>-0.415272</td>\n",
       "      <td>-0.593381</td>\n",
       "      <td>0</td>\n",
       "      <td>1.282714</td>\n",
       "      <td>-0.265812</td>\n",
       "      <td>0.557160</td>\n",
       "      <td>2</td>\n",
       "      <td>-0.987329</td>\n",
       "      <td>-1.208727</td>\n",
       "      <td>34.7</td>\n",
       "    </tr>\n",
       "    <tr>\n",
       "      <th>3</th>\n",
       "      <td>-0.414680</td>\n",
       "      <td>-1.306878</td>\n",
       "      <td>0</td>\n",
       "      <td>1.016303</td>\n",
       "      <td>-0.809889</td>\n",
       "      <td>1.077737</td>\n",
       "      <td>3</td>\n",
       "      <td>-1.106115</td>\n",
       "      <td>-1.361517</td>\n",
       "      <td>33.4</td>\n",
       "    </tr>\n",
       "    <tr>\n",
       "      <th>4</th>\n",
       "      <td>-0.410409</td>\n",
       "      <td>-1.306878</td>\n",
       "      <td>0</td>\n",
       "      <td>1.228577</td>\n",
       "      <td>-0.511180</td>\n",
       "      <td>1.077737</td>\n",
       "      <td>3</td>\n",
       "      <td>-1.106115</td>\n",
       "      <td>-1.026501</td>\n",
       "      <td>36.2</td>\n",
       "    </tr>\n",
       "    <tr>\n",
       "      <th>...</th>\n",
       "      <td>...</td>\n",
       "      <td>...</td>\n",
       "      <td>...</td>\n",
       "      <td>...</td>\n",
       "      <td>...</td>\n",
       "      <td>...</td>\n",
       "      <td>...</td>\n",
       "      <td>...</td>\n",
       "      <td>...</td>\n",
       "      <td>...</td>\n",
       "    </tr>\n",
       "    <tr>\n",
       "      <th>501</th>\n",
       "      <td>-0.411157</td>\n",
       "      <td>0.115738</td>\n",
       "      <td>0</td>\n",
       "      <td>0.439316</td>\n",
       "      <td>0.018673</td>\n",
       "      <td>-0.625796</td>\n",
       "      <td>1</td>\n",
       "      <td>-0.803212</td>\n",
       "      <td>-0.418147</td>\n",
       "      <td>22.4</td>\n",
       "    </tr>\n",
       "    <tr>\n",
       "      <th>502</th>\n",
       "      <td>-0.413178</td>\n",
       "      <td>0.115738</td>\n",
       "      <td>0</td>\n",
       "      <td>-0.234548</td>\n",
       "      <td>0.288933</td>\n",
       "      <td>-0.716639</td>\n",
       "      <td>1</td>\n",
       "      <td>-0.803212</td>\n",
       "      <td>-0.500850</td>\n",
       "      <td>20.6</td>\n",
       "    </tr>\n",
       "    <tr>\n",
       "      <th>503</th>\n",
       "      <td>-0.411374</td>\n",
       "      <td>0.115738</td>\n",
       "      <td>0</td>\n",
       "      <td>0.984960</td>\n",
       "      <td>0.797449</td>\n",
       "      <td>-0.773684</td>\n",
       "      <td>1</td>\n",
       "      <td>-0.803212</td>\n",
       "      <td>-0.983048</td>\n",
       "      <td>23.9</td>\n",
       "    </tr>\n",
       "    <tr>\n",
       "      <th>504</th>\n",
       "      <td>-0.405689</td>\n",
       "      <td>0.115738</td>\n",
       "      <td>0</td>\n",
       "      <td>0.725672</td>\n",
       "      <td>0.736996</td>\n",
       "      <td>-0.668437</td>\n",
       "      <td>1</td>\n",
       "      <td>-0.803212</td>\n",
       "      <td>-0.865302</td>\n",
       "      <td>22.0</td>\n",
       "    </tr>\n",
       "    <tr>\n",
       "      <th>505</th>\n",
       "      <td>-0.412929</td>\n",
       "      <td>0.115738</td>\n",
       "      <td>0</td>\n",
       "      <td>-0.362767</td>\n",
       "      <td>0.434732</td>\n",
       "      <td>-0.613246</td>\n",
       "      <td>1</td>\n",
       "      <td>-0.803212</td>\n",
       "      <td>-0.669058</td>\n",
       "      <td>11.9</td>\n",
       "    </tr>\n",
       "  </tbody>\n",
       "</table>\n",
       "<p>506 rows × 10 columns</p>\n",
       "</div>"
      ],
      "text/plain": [
       "     crime_rate  pprime_land  Luxury     Rooms       age  Central_location  \\\n",
       "0     -0.417713    -1.287909       0  0.413672 -0.120013          0.140214   \n",
       "1     -0.415269    -0.593381       0  0.194274  0.367166          0.557160   \n",
       "2     -0.415272    -0.593381       0  1.282714 -0.265812          0.557160   \n",
       "3     -0.414680    -1.306878       0  1.016303 -0.809889          1.077737   \n",
       "4     -0.410409    -1.306878       0  1.228577 -0.511180          1.077737   \n",
       "..          ...          ...     ...       ...       ...               ...   \n",
       "501   -0.411157     0.115738       0  0.439316  0.018673         -0.625796   \n",
       "502   -0.413178     0.115738       0 -0.234548  0.288933         -0.716639   \n",
       "503   -0.411374     0.115738       0  0.984960  0.797449         -0.773684   \n",
       "504   -0.405689     0.115738       0  0.725672  0.736996         -0.668437   \n",
       "505   -0.412929     0.115738       0 -0.362767  0.434732         -0.613246   \n",
       "\n",
       "     Highways  Tax_rate  poor_percentage  home_price  \n",
       "0           1 -0.666608        -1.075562        24.0  \n",
       "1           2 -0.987329        -0.492439        21.6  \n",
       "2           2 -0.987329        -1.208727        34.7  \n",
       "3           3 -1.106115        -1.361517        33.4  \n",
       "4           3 -1.106115        -1.026501        36.2  \n",
       "..        ...       ...              ...         ...  \n",
       "501         1 -0.803212        -0.418147        22.4  \n",
       "502         1 -0.803212        -0.500850        20.6  \n",
       "503         1 -0.803212        -0.983048        23.9  \n",
       "504         1 -0.803212        -0.865302        22.0  \n",
       "505         1 -0.803212        -0.669058        11.9  \n",
       "\n",
       "[506 rows x 10 columns]"
      ]
     },
     "execution_count": 69,
     "metadata": {},
     "output_type": "execute_result"
    }
   ],
   "source": [
    "columns_ = [\"crime_rate\", \"pprime_land\", \"Rooms\", \"age\", \"Central_location\", \"Tax_rate\", \"poor_percentage\"]\n",
    "for i in columns_:\n",
    "    house_df[i] = ss.fit_transform(np.array(house_df[i]).reshape(-1, 1))\n",
    "house_df"
   ]
  },
  {
   "cell_type": "markdown",
   "id": "f7e1ba59c22531d5",
   "metadata": {},
   "source": [
    "## Dataset Split"
   ]
  },
  {
   "cell_type": "code",
   "execution_count": 70,
   "id": "7ce5d00172e7ccb9",
   "metadata": {
    "ExecuteTime": {
     "end_time": "2023-11-30T20:27:00.041659Z",
     "start_time": "2023-11-30T20:27:00.011065Z"
    }
   },
   "outputs": [
    {
     "data": {
      "text/html": [
       "<div>\n",
       "<style scoped>\n",
       "    .dataframe tbody tr th:only-of-type {\n",
       "        vertical-align: middle;\n",
       "    }\n",
       "\n",
       "    .dataframe tbody tr th {\n",
       "        vertical-align: top;\n",
       "    }\n",
       "\n",
       "    .dataframe thead th {\n",
       "        text-align: right;\n",
       "    }\n",
       "</style>\n",
       "<table border=\"1\" class=\"dataframe\">\n",
       "  <thead>\n",
       "    <tr style=\"text-align: right;\">\n",
       "      <th></th>\n",
       "      <th>crime_rate</th>\n",
       "      <th>pprime_land</th>\n",
       "      <th>Luxury</th>\n",
       "      <th>Rooms</th>\n",
       "      <th>age</th>\n",
       "      <th>Central_location</th>\n",
       "      <th>Highways</th>\n",
       "      <th>Tax_rate</th>\n",
       "      <th>poor_percentage</th>\n",
       "    </tr>\n",
       "  </thead>\n",
       "  <tbody>\n",
       "    <tr>\n",
       "      <th>0</th>\n",
       "      <td>-0.417713</td>\n",
       "      <td>-1.287909</td>\n",
       "      <td>0</td>\n",
       "      <td>0.413672</td>\n",
       "      <td>-0.120013</td>\n",
       "      <td>0.140214</td>\n",
       "      <td>1</td>\n",
       "      <td>-0.666608</td>\n",
       "      <td>-1.075562</td>\n",
       "    </tr>\n",
       "    <tr>\n",
       "      <th>1</th>\n",
       "      <td>-0.415269</td>\n",
       "      <td>-0.593381</td>\n",
       "      <td>0</td>\n",
       "      <td>0.194274</td>\n",
       "      <td>0.367166</td>\n",
       "      <td>0.557160</td>\n",
       "      <td>2</td>\n",
       "      <td>-0.987329</td>\n",
       "      <td>-0.492439</td>\n",
       "    </tr>\n",
       "    <tr>\n",
       "      <th>2</th>\n",
       "      <td>-0.415272</td>\n",
       "      <td>-0.593381</td>\n",
       "      <td>0</td>\n",
       "      <td>1.282714</td>\n",
       "      <td>-0.265812</td>\n",
       "      <td>0.557160</td>\n",
       "      <td>2</td>\n",
       "      <td>-0.987329</td>\n",
       "      <td>-1.208727</td>\n",
       "    </tr>\n",
       "    <tr>\n",
       "      <th>3</th>\n",
       "      <td>-0.414680</td>\n",
       "      <td>-1.306878</td>\n",
       "      <td>0</td>\n",
       "      <td>1.016303</td>\n",
       "      <td>-0.809889</td>\n",
       "      <td>1.077737</td>\n",
       "      <td>3</td>\n",
       "      <td>-1.106115</td>\n",
       "      <td>-1.361517</td>\n",
       "    </tr>\n",
       "    <tr>\n",
       "      <th>4</th>\n",
       "      <td>-0.410409</td>\n",
       "      <td>-1.306878</td>\n",
       "      <td>0</td>\n",
       "      <td>1.228577</td>\n",
       "      <td>-0.511180</td>\n",
       "      <td>1.077737</td>\n",
       "      <td>3</td>\n",
       "      <td>-1.106115</td>\n",
       "      <td>-1.026501</td>\n",
       "    </tr>\n",
       "    <tr>\n",
       "      <th>...</th>\n",
       "      <td>...</td>\n",
       "      <td>...</td>\n",
       "      <td>...</td>\n",
       "      <td>...</td>\n",
       "      <td>...</td>\n",
       "      <td>...</td>\n",
       "      <td>...</td>\n",
       "      <td>...</td>\n",
       "      <td>...</td>\n",
       "    </tr>\n",
       "    <tr>\n",
       "      <th>501</th>\n",
       "      <td>-0.411157</td>\n",
       "      <td>0.115738</td>\n",
       "      <td>0</td>\n",
       "      <td>0.439316</td>\n",
       "      <td>0.018673</td>\n",
       "      <td>-0.625796</td>\n",
       "      <td>1</td>\n",
       "      <td>-0.803212</td>\n",
       "      <td>-0.418147</td>\n",
       "    </tr>\n",
       "    <tr>\n",
       "      <th>502</th>\n",
       "      <td>-0.413178</td>\n",
       "      <td>0.115738</td>\n",
       "      <td>0</td>\n",
       "      <td>-0.234548</td>\n",
       "      <td>0.288933</td>\n",
       "      <td>-0.716639</td>\n",
       "      <td>1</td>\n",
       "      <td>-0.803212</td>\n",
       "      <td>-0.500850</td>\n",
       "    </tr>\n",
       "    <tr>\n",
       "      <th>503</th>\n",
       "      <td>-0.411374</td>\n",
       "      <td>0.115738</td>\n",
       "      <td>0</td>\n",
       "      <td>0.984960</td>\n",
       "      <td>0.797449</td>\n",
       "      <td>-0.773684</td>\n",
       "      <td>1</td>\n",
       "      <td>-0.803212</td>\n",
       "      <td>-0.983048</td>\n",
       "    </tr>\n",
       "    <tr>\n",
       "      <th>504</th>\n",
       "      <td>-0.405689</td>\n",
       "      <td>0.115738</td>\n",
       "      <td>0</td>\n",
       "      <td>0.725672</td>\n",
       "      <td>0.736996</td>\n",
       "      <td>-0.668437</td>\n",
       "      <td>1</td>\n",
       "      <td>-0.803212</td>\n",
       "      <td>-0.865302</td>\n",
       "    </tr>\n",
       "    <tr>\n",
       "      <th>505</th>\n",
       "      <td>-0.412929</td>\n",
       "      <td>0.115738</td>\n",
       "      <td>0</td>\n",
       "      <td>-0.362767</td>\n",
       "      <td>0.434732</td>\n",
       "      <td>-0.613246</td>\n",
       "      <td>1</td>\n",
       "      <td>-0.803212</td>\n",
       "      <td>-0.669058</td>\n",
       "    </tr>\n",
       "  </tbody>\n",
       "</table>\n",
       "<p>506 rows × 9 columns</p>\n",
       "</div>"
      ],
      "text/plain": [
       "     crime_rate  pprime_land  Luxury     Rooms       age  Central_location  \\\n",
       "0     -0.417713    -1.287909       0  0.413672 -0.120013          0.140214   \n",
       "1     -0.415269    -0.593381       0  0.194274  0.367166          0.557160   \n",
       "2     -0.415272    -0.593381       0  1.282714 -0.265812          0.557160   \n",
       "3     -0.414680    -1.306878       0  1.016303 -0.809889          1.077737   \n",
       "4     -0.410409    -1.306878       0  1.228577 -0.511180          1.077737   \n",
       "..          ...          ...     ...       ...       ...               ...   \n",
       "501   -0.411157     0.115738       0  0.439316  0.018673         -0.625796   \n",
       "502   -0.413178     0.115738       0 -0.234548  0.288933         -0.716639   \n",
       "503   -0.411374     0.115738       0  0.984960  0.797449         -0.773684   \n",
       "504   -0.405689     0.115738       0  0.725672  0.736996         -0.668437   \n",
       "505   -0.412929     0.115738       0 -0.362767  0.434732         -0.613246   \n",
       "\n",
       "     Highways  Tax_rate  poor_percentage  \n",
       "0           1 -0.666608        -1.075562  \n",
       "1           2 -0.987329        -0.492439  \n",
       "2           2 -0.987329        -1.208727  \n",
       "3           3 -1.106115        -1.361517  \n",
       "4           3 -1.106115        -1.026501  \n",
       "..        ...       ...              ...  \n",
       "501         1 -0.803212        -0.418147  \n",
       "502         1 -0.803212        -0.500850  \n",
       "503         1 -0.803212        -0.983048  \n",
       "504         1 -0.803212        -0.865302  \n",
       "505         1 -0.803212        -0.669058  \n",
       "\n",
       "[506 rows x 9 columns]"
      ]
     },
     "execution_count": 70,
     "metadata": {},
     "output_type": "execute_result"
    }
   ],
   "source": [
    "X = house_df.iloc[:, :-1]\n",
    "X"
   ]
  },
  {
   "cell_type": "code",
   "execution_count": 71,
   "id": "796865e2eeb1bb34",
   "metadata": {
    "ExecuteTime": {
     "end_time": "2023-11-30T20:27:00.041742Z",
     "start_time": "2023-11-30T20:27:00.017548Z"
    }
   },
   "outputs": [
    {
     "data": {
      "text/plain": [
       "0      24.0\n",
       "1      21.6\n",
       "2      34.7\n",
       "3      33.4\n",
       "4      36.2\n",
       "       ... \n",
       "501    22.4\n",
       "502    20.6\n",
       "503    23.9\n",
       "504    22.0\n",
       "505    11.9\n",
       "Name: home_price, Length: 506, dtype: float64"
      ]
     },
     "execution_count": 71,
     "metadata": {},
     "output_type": "execute_result"
    }
   ],
   "source": [
    "y = house_df.iloc[:, -1]\n",
    "y"
   ]
  },
  {
   "cell_type": "code",
   "execution_count": 72,
   "id": "7621c3f97d434c66",
   "metadata": {
    "ExecuteTime": {
     "end_time": "2023-11-30T20:27:00.042240Z",
     "start_time": "2023-11-30T20:27:00.020705Z"
    }
   },
   "outputs": [],
   "source": [
    "from sklearn.model_selection import train_test_split\n",
    "X_train, X_test, y_train, y_test = train_test_split(X, y, random_state=69, test_size=0.25)"
   ]
  },
  {
   "cell_type": "code",
   "execution_count": 73,
   "id": "ef2dae8abaf241c0",
   "metadata": {
    "ExecuteTime": {
     "end_time": "2023-11-30T20:27:00.044690Z",
     "start_time": "2023-11-30T20:27:00.026376Z"
    }
   },
   "outputs": [
    {
     "data": {
      "text/html": [
       "<div>\n",
       "<style scoped>\n",
       "    .dataframe tbody tr th:only-of-type {\n",
       "        vertical-align: middle;\n",
       "    }\n",
       "\n",
       "    .dataframe tbody tr th {\n",
       "        vertical-align: top;\n",
       "    }\n",
       "\n",
       "    .dataframe thead th {\n",
       "        text-align: right;\n",
       "    }\n",
       "</style>\n",
       "<table border=\"1\" class=\"dataframe\">\n",
       "  <thead>\n",
       "    <tr style=\"text-align: right;\">\n",
       "      <th></th>\n",
       "      <th>crime_rate</th>\n",
       "      <th>pprime_land</th>\n",
       "      <th>Luxury</th>\n",
       "      <th>Rooms</th>\n",
       "      <th>age</th>\n",
       "      <th>Central_location</th>\n",
       "      <th>Highways</th>\n",
       "      <th>Tax_rate</th>\n",
       "      <th>poor_percentage</th>\n",
       "    </tr>\n",
       "  </thead>\n",
       "  <tbody>\n",
       "    <tr>\n",
       "      <th>312</th>\n",
       "      <td>-0.387979</td>\n",
       "      <td>-0.180458</td>\n",
       "      <td>0</td>\n",
       "      <td>-0.372740</td>\n",
       "      <td>0.776113</td>\n",
       "      <td>-0.456850</td>\n",
       "      <td>4</td>\n",
       "      <td>-0.619094</td>\n",
       "      <td>-0.130791</td>\n",
       "    </tr>\n",
       "    <tr>\n",
       "      <th>46</th>\n",
       "      <td>-0.396517</td>\n",
       "      <td>-0.616727</td>\n",
       "      <td>0</td>\n",
       "      <td>-0.710384</td>\n",
       "      <td>-1.254396</td>\n",
       "      <td>0.620527</td>\n",
       "      <td>3</td>\n",
       "      <td>-1.040783</td>\n",
       "      <td>0.209831</td>\n",
       "    </tr>\n",
       "    <tr>\n",
       "      <th>286</th>\n",
       "      <td>-0.416161</td>\n",
       "      <td>-1.368160</td>\n",
       "      <td>0</td>\n",
       "      <td>-0.077835</td>\n",
       "      <td>-1.318405</td>\n",
       "      <td>2.516679</td>\n",
       "      <td>1</td>\n",
       "      <td>-0.993269</td>\n",
       "      <td>0.038819</td>\n",
       "    </tr>\n",
       "    <tr>\n",
       "      <th>306</th>\n",
       "      <td>-0.409713</td>\n",
       "      <td>-1.306878</td>\n",
       "      <td>0</td>\n",
       "      <td>1.617508</td>\n",
       "      <td>0.118242</td>\n",
       "      <td>-0.330782</td>\n",
       "      <td>7</td>\n",
       "      <td>-1.106115</td>\n",
       "      <td>-0.866703</td>\n",
       "    </tr>\n",
       "    <tr>\n",
       "      <th>67</th>\n",
       "      <td>-0.411709</td>\n",
       "      <td>-0.739290</td>\n",
       "      <td>0</td>\n",
       "      <td>-0.579315</td>\n",
       "      <td>-1.677566</td>\n",
       "      <td>1.284902</td>\n",
       "      <td>4</td>\n",
       "      <td>-0.375583</td>\n",
       "      <td>-0.638220</td>\n",
       "    </tr>\n",
       "    <tr>\n",
       "      <th>...</th>\n",
       "      <td>...</td>\n",
       "      <td>...</td>\n",
       "      <td>...</td>\n",
       "      <td>...</td>\n",
       "      <td>...</td>\n",
       "      <td>...</td>\n",
       "      <td>...</td>\n",
       "      <td>...</td>\n",
       "      <td>...</td>\n",
       "    </tr>\n",
       "    <tr>\n",
       "      <th>90</th>\n",
       "      <td>-0.412995</td>\n",
       "      <td>-1.127409</td>\n",
       "      <td>0</td>\n",
       "      <td>0.188576</td>\n",
       "      <td>-0.088009</td>\n",
       "      <td>-0.334062</td>\n",
       "      <td>2</td>\n",
       "      <td>-0.821030</td>\n",
       "      <td>-0.538697</td>\n",
       "    </tr>\n",
       "    <tr>\n",
       "      <th>107</th>\n",
       "      <td>-0.403176</td>\n",
       "      <td>-0.375976</td>\n",
       "      <td>0</td>\n",
       "      <td>-0.224575</td>\n",
       "      <td>0.591198</td>\n",
       "      <td>-0.795123</td>\n",
       "      <td>5</td>\n",
       "      <td>-0.143951</td>\n",
       "      <td>0.201421</td>\n",
       "    </tr>\n",
       "    <tr>\n",
       "      <th>457</th>\n",
       "      <td>0.536407</td>\n",
       "      <td>1.015999</td>\n",
       "      <td>0</td>\n",
       "      <td>-0.496685</td>\n",
       "      <td>0.416951</td>\n",
       "      <td>-0.482900</td>\n",
       "      <td>24</td>\n",
       "      <td>1.530926</td>\n",
       "      <td>0.600916</td>\n",
       "    </tr>\n",
       "    <tr>\n",
       "      <th>203</th>\n",
       "      <td>-0.414362</td>\n",
       "      <td>-1.233923</td>\n",
       "      <td>0</td>\n",
       "      <td>2.234386</td>\n",
       "      <td>-1.257952</td>\n",
       "      <td>0.628893</td>\n",
       "      <td>4</td>\n",
       "      <td>-1.094237</td>\n",
       "      <td>-1.239566</td>\n",
       "    </tr>\n",
       "    <tr>\n",
       "      <th>54</th>\n",
       "      <td>-0.416866</td>\n",
       "      <td>-1.041323</td>\n",
       "      <td>0</td>\n",
       "      <td>-0.565069</td>\n",
       "      <td>-0.745879</td>\n",
       "      <td>1.675513</td>\n",
       "      <td>3</td>\n",
       "      <td>0.360888</td>\n",
       "      <td>0.300944</td>\n",
       "    </tr>\n",
       "  </tbody>\n",
       "</table>\n",
       "<p>379 rows × 9 columns</p>\n",
       "</div>"
      ],
      "text/plain": [
       "     crime_rate  pprime_land  Luxury     Rooms       age  Central_location  \\\n",
       "312   -0.387979    -0.180458       0 -0.372740  0.776113         -0.456850   \n",
       "46    -0.396517    -0.616727       0 -0.710384 -1.254396          0.620527   \n",
       "286   -0.416161    -1.368160       0 -0.077835 -1.318405          2.516679   \n",
       "306   -0.409713    -1.306878       0  1.617508  0.118242         -0.330782   \n",
       "67    -0.411709    -0.739290       0 -0.579315 -1.677566          1.284902   \n",
       "..          ...          ...     ...       ...       ...               ...   \n",
       "90    -0.412995    -1.127409       0  0.188576 -0.088009         -0.334062   \n",
       "107   -0.403176    -0.375976       0 -0.224575  0.591198         -0.795123   \n",
       "457    0.536407     1.015999       0 -0.496685  0.416951         -0.482900   \n",
       "203   -0.414362    -1.233923       0  2.234386 -1.257952          0.628893   \n",
       "54    -0.416866    -1.041323       0 -0.565069 -0.745879          1.675513   \n",
       "\n",
       "     Highways  Tax_rate  poor_percentage  \n",
       "312         4 -0.619094        -0.130791  \n",
       "46          3 -1.040783         0.209831  \n",
       "286         1 -0.993269         0.038819  \n",
       "306         7 -1.106115        -0.866703  \n",
       "67          4 -0.375583        -0.638220  \n",
       "..        ...       ...              ...  \n",
       "90          2 -0.821030        -0.538697  \n",
       "107         5 -0.143951         0.201421  \n",
       "457        24  1.530926         0.600916  \n",
       "203         4 -1.094237        -1.239566  \n",
       "54          3  0.360888         0.300944  \n",
       "\n",
       "[379 rows x 9 columns]"
      ]
     },
     "execution_count": 73,
     "metadata": {},
     "output_type": "execute_result"
    }
   ],
   "source": [
    "X_train"
   ]
  },
  {
   "cell_type": "markdown",
   "id": "2417467fd08cd3c3",
   "metadata": {},
   "source": [
    "## Multiple Linear Regresion Model"
   ]
  },
  {
   "cell_type": "code",
   "execution_count": 74,
   "id": "85e2b632b8a1e725",
   "metadata": {
    "ExecuteTime": {
     "end_time": "2023-11-30T20:27:00.044893Z",
     "start_time": "2023-11-30T20:27:00.029039Z"
    }
   },
   "outputs": [],
   "source": [
    "from sklearn.linear_model import LinearRegression\n",
    "regressor = LinearRegression()"
   ]
  },
  {
   "cell_type": "code",
   "execution_count": 75,
   "id": "11d4e2035568936b",
   "metadata": {
    "ExecuteTime": {
     "end_time": "2023-11-30T20:27:00.045055Z",
     "start_time": "2023-11-30T20:27:00.031147Z"
    }
   },
   "outputs": [
    {
     "data": {
      "text/html": [
       "<style>#sk-container-id-3 {color: black;}#sk-container-id-3 pre{padding: 0;}#sk-container-id-3 div.sk-toggleable {background-color: white;}#sk-container-id-3 label.sk-toggleable__label {cursor: pointer;display: block;width: 100%;margin-bottom: 0;padding: 0.3em;box-sizing: border-box;text-align: center;}#sk-container-id-3 label.sk-toggleable__label-arrow:before {content: \"▸\";float: left;margin-right: 0.25em;color: #696969;}#sk-container-id-3 label.sk-toggleable__label-arrow:hover:before {color: black;}#sk-container-id-3 div.sk-estimator:hover label.sk-toggleable__label-arrow:before {color: black;}#sk-container-id-3 div.sk-toggleable__content {max-height: 0;max-width: 0;overflow: hidden;text-align: left;background-color: #f0f8ff;}#sk-container-id-3 div.sk-toggleable__content pre {margin: 0.2em;color: black;border-radius: 0.25em;background-color: #f0f8ff;}#sk-container-id-3 input.sk-toggleable__control:checked~div.sk-toggleable__content {max-height: 200px;max-width: 100%;overflow: auto;}#sk-container-id-3 input.sk-toggleable__control:checked~label.sk-toggleable__label-arrow:before {content: \"▾\";}#sk-container-id-3 div.sk-estimator input.sk-toggleable__control:checked~label.sk-toggleable__label {background-color: #d4ebff;}#sk-container-id-3 div.sk-label input.sk-toggleable__control:checked~label.sk-toggleable__label {background-color: #d4ebff;}#sk-container-id-3 input.sk-hidden--visually {border: 0;clip: rect(1px 1px 1px 1px);clip: rect(1px, 1px, 1px, 1px);height: 1px;margin: -1px;overflow: hidden;padding: 0;position: absolute;width: 1px;}#sk-container-id-3 div.sk-estimator {font-family: monospace;background-color: #f0f8ff;border: 1px dotted black;border-radius: 0.25em;box-sizing: border-box;margin-bottom: 0.5em;}#sk-container-id-3 div.sk-estimator:hover {background-color: #d4ebff;}#sk-container-id-3 div.sk-parallel-item::after {content: \"\";width: 100%;border-bottom: 1px solid gray;flex-grow: 1;}#sk-container-id-3 div.sk-label:hover label.sk-toggleable__label {background-color: #d4ebff;}#sk-container-id-3 div.sk-serial::before {content: \"\";position: absolute;border-left: 1px solid gray;box-sizing: border-box;top: 0;bottom: 0;left: 50%;z-index: 0;}#sk-container-id-3 div.sk-serial {display: flex;flex-direction: column;align-items: center;background-color: white;padding-right: 0.2em;padding-left: 0.2em;position: relative;}#sk-container-id-3 div.sk-item {position: relative;z-index: 1;}#sk-container-id-3 div.sk-parallel {display: flex;align-items: stretch;justify-content: center;background-color: white;position: relative;}#sk-container-id-3 div.sk-item::before, #sk-container-id-3 div.sk-parallel-item::before {content: \"\";position: absolute;border-left: 1px solid gray;box-sizing: border-box;top: 0;bottom: 0;left: 50%;z-index: -1;}#sk-container-id-3 div.sk-parallel-item {display: flex;flex-direction: column;z-index: 1;position: relative;background-color: white;}#sk-container-id-3 div.sk-parallel-item:first-child::after {align-self: flex-end;width: 50%;}#sk-container-id-3 div.sk-parallel-item:last-child::after {align-self: flex-start;width: 50%;}#sk-container-id-3 div.sk-parallel-item:only-child::after {width: 0;}#sk-container-id-3 div.sk-dashed-wrapped {border: 1px dashed gray;margin: 0 0.4em 0.5em 0.4em;box-sizing: border-box;padding-bottom: 0.4em;background-color: white;}#sk-container-id-3 div.sk-label label {font-family: monospace;font-weight: bold;display: inline-block;line-height: 1.2em;}#sk-container-id-3 div.sk-label-container {text-align: center;}#sk-container-id-3 div.sk-container {/* jupyter's `normalize.less` sets `[hidden] { display: none; }` but bootstrap.min.css set `[hidden] { display: none !important; }` so we also need the `!important` here to be able to override the default hidden behavior on the sphinx rendered scikit-learn.org. See: https://github.com/scikit-learn/scikit-learn/issues/21755 */display: inline-block !important;position: relative;}#sk-container-id-3 div.sk-text-repr-fallback {display: none;}</style><div id=\"sk-container-id-3\" class=\"sk-top-container\"><div class=\"sk-text-repr-fallback\"><pre>LinearRegression()</pre><b>In a Jupyter environment, please rerun this cell to show the HTML representation or trust the notebook. <br />On GitHub, the HTML representation is unable to render, please try loading this page with nbviewer.org.</b></div><div class=\"sk-container\" hidden><div class=\"sk-item\"><div class=\"sk-estimator sk-toggleable\"><input class=\"sk-toggleable__control sk-hidden--visually\" id=\"sk-estimator-id-3\" type=\"checkbox\" checked><label for=\"sk-estimator-id-3\" class=\"sk-toggleable__label sk-toggleable__label-arrow\">LinearRegression</label><div class=\"sk-toggleable__content\"><pre>LinearRegression()</pre></div></div></div></div></div>"
      ],
      "text/plain": [
       "LinearRegression()"
      ]
     },
     "execution_count": 75,
     "metadata": {},
     "output_type": "execute_result"
    }
   ],
   "source": [
    "regressor.fit(X_train, y_train)"
   ]
  },
  {
   "cell_type": "code",
   "execution_count": 76,
   "id": "d9a90e4ebf12541e",
   "metadata": {
    "ExecuteTime": {
     "end_time": "2023-11-30T20:27:00.045098Z",
     "start_time": "2023-11-30T20:27:00.034729Z"
    }
   },
   "outputs": [],
   "source": [
    "pred = regressor.predict(X_test)"
   ]
  },
  {
   "cell_type": "code",
   "execution_count": 77,
   "id": "eb78cdb62961e65",
   "metadata": {
    "ExecuteTime": {
     "end_time": "2023-11-30T20:27:00.045207Z",
     "start_time": "2023-11-30T20:27:00.038159Z"
    }
   },
   "outputs": [
    {
     "data": {
      "text/plain": [
       "array([29.79008251, 28.58951023, 18.79833133, 24.11327025, 29.60441561,\n",
       "       17.31627105, 16.30935287, 19.92615607, 15.7875817 , 25.9815913 ,\n",
       "       22.86657576, 25.80137299, 21.15514427, 19.15532328, 19.92787109,\n",
       "       25.72685155, 18.97087407, 38.38410875, 27.5976203 , 22.5702746 ,\n",
       "       20.98103863, 23.81897546, 26.60771976, 27.36669216, 18.93737909,\n",
       "       32.50726072, 17.96480677, 18.38334386, 17.96524753, 28.85838268,\n",
       "       -4.95529671, 31.39057383, 14.08419853, 27.47674374, 27.65294702,\n",
       "       32.26670848, 16.26972365, 15.08219502, 21.91718997, 24.52112095,\n",
       "       20.43761095, 20.82763678, 26.53506719, 18.40177085,  0.75915178,\n",
       "       29.51060622, 26.3663565 , 24.11872358, 23.11810131, 26.99100708,\n",
       "       17.00067607, 32.60627943, 24.71927679, 26.88199919, 15.07685193,\n",
       "       32.58900226, 30.30567193,  9.50732171, 27.81211954, 28.01257384,\n",
       "       33.60509682, 19.81950213, 12.65090021, 31.63991987, 25.38682494,\n",
       "       29.07843249, 23.11868386, 23.06215201, 18.30689202, 37.60627547,\n",
       "        3.48581332, 29.70756869, 19.30738948, 16.97926648, 27.11109418,\n",
       "       39.80232155, 18.63067801, 38.5851535 , 20.47452826, 21.30996695,\n",
       "        5.32675111, 27.7810184 ,  6.23696548, 17.91256471, 19.9470046 ,\n",
       "       29.28698218, 21.98454727, 30.05244765, 18.09842796, 12.05781801,\n",
       "       26.27155619, 27.83041981, 25.94757279, 20.39926932, 20.62462204,\n",
       "       18.24549208, 23.18456418, 21.26181036, 23.71963322, 19.4334434 ,\n",
       "       29.21618064, 24.59251799, 17.11174382, 34.50604869, 36.21809162,\n",
       "       18.28440539, 14.59007061, 14.43344299, 16.18373656, 20.15229932,\n",
       "       17.85578073, 10.55409927, 19.04899686, 33.9084625 , 32.90280222,\n",
       "       19.62495986, 19.36131403, 43.7314709 , 23.11780762, 29.5063299 ,\n",
       "       16.1208443 , 22.21623093, 26.19472444, 33.63711598,  6.17193892,\n",
       "       25.84912743, 10.93447071])"
      ]
     },
     "execution_count": 77,
     "metadata": {},
     "output_type": "execute_result"
    }
   ],
   "source": [
    "pred"
   ]
  },
  {
   "cell_type": "markdown",
   "id": "589d332362286a04",
   "metadata": {},
   "source": [
    "## Metrics"
   ]
  },
  {
   "cell_type": "code",
   "execution_count": 78,
   "id": "f39573652e640a33",
   "metadata": {
    "ExecuteTime": {
     "end_time": "2023-11-30T20:27:00.089131Z",
     "start_time": "2023-11-30T20:27:00.041142Z"
    }
   },
   "outputs": [
    {
     "data": {
      "text/plain": [
       "27.28078151654034"
      ]
     },
     "execution_count": 78,
     "metadata": {},
     "output_type": "execute_result"
    }
   ],
   "source": [
    "from sklearn.metrics import mean_squared_error as mse\n",
    "mse_lr = mse(y_test, pred)\n",
    "mse_lr"
   ]
  },
  {
   "cell_type": "markdown",
   "id": "d35f647c58d3041a",
   "metadata": {},
   "source": [
    "## Visualising the Trend"
   ]
  },
  {
   "cell_type": "code",
   "execution_count": 79,
   "id": "ab0185c65ff1fa00",
   "metadata": {
    "ExecuteTime": {
     "end_time": "2023-11-30T20:27:00.159279Z",
     "start_time": "2023-11-30T20:27:00.048472Z"
    }
   },
   "outputs": [
    {
     "data": {
      "image/png": "[encoded data removed]",
      "text/plain": [
       "<Figure size 640x480 with 1 Axes>"
      ]
     },
     "metadata": {},
     "output_type": "display_data"
    }
   ],
   "source": [
    "plt.plot(range(len(y_test)), sorted(y_test), label=\"True Value\")\n",
    "plt.plot(range(len(pred)), sorted(pred), label=\"Predicted Value\")\n",
    "plt.xlabel(\"Prices\")\n",
    "plt.title(\"Plotting True and Predicted (Sorted)\")\n",
    "plt.legend()\n",
    "plt.show()"
   ]
  },
  {
   "cell_type": "code",
   "execution_count": 80,
   "id": "eb748d90e07a2178",
   "metadata": {
    "ExecuteTime": {
     "end_time": "2023-11-30T20:27:00.216151Z",
     "start_time": "2023-11-30T20:27:00.121397Z"
    }
   },
   "outputs": [
    {
     "data": {
      "image/png": "[encoded data removed]",
      "text/plain": [
       "<Figure size 640x480 with 1 Axes>"
      ]
     },
     "metadata": {},
     "output_type": "display_data"
    }
   ],
   "source": [
    "plt.plot(range(len(y_test)), y_test, label=\"True Value\")\n",
    "plt.plot(range(len(pred)), pred, label=\"Predicted Value\")\n",
    "plt.xlabel(\"Prices\")\n",
    "plt.title(\"Plotting True and Predicted\")\n",
    "plt.legend()\n",
    "plt.show()"
   ]
  },
  {
   "cell_type": "code",
   "execution_count": 80,
   "id": "c7f06c4c7a931adb",
   "metadata": {
    "ExecuteTime": {
     "end_time": "2023-11-30T20:27:00.218171Z",
     "start_time": "2023-11-30T20:27:00.214019Z"
    }
   },
   "outputs": [],
   "source": []
  }
 ],
 "metadata": {
  "kernelspec": {
   "display_name": "Python 3 (ipykernel)",
   "language": "python",
   "name": "python3"
  },
  "language_info": {
   "codemirror_mode": {
    "name": "ipython",
    "version": 3
   },
   "file_extension": ".py",
   "mimetype": "text/x-python",
   "name": "python",
   "nbconvert_exporter": "python",
   "pygments_lexer": "ipython3",
   "version": "3.11.5"
  }
 },
 "nbformat": 4,
 "nbformat_minor": 5
}
