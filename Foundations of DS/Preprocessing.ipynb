{
 "cells": [
  {
   "cell_type": "code",
   "execution_count": 1,
   "metadata": {},
   "outputs": [],
   "source": [
    "import pandas as pd"
   ]
  },
  {
   "cell_type": "code",
   "execution_count": 13,
   "metadata": {},
   "outputs": [
    {
     "ename": "ValueError",
     "evalue": "Duplicate names are not allowed.",
     "output_type": "error",
     "traceback": [
      "\u001B[0;31m---------------------------------------------------------------------------\u001B[0m",
      "\u001B[0;31mValueError\u001B[0m                                Traceback (most recent call last)",
      "Cell \u001B[0;32mIn[13], line 1\u001B[0m\n\u001B[0;32m----> 1\u001B[0m df \u001B[39m=\u001B[39m pd\u001B[39m.\u001B[39mread_csv(\u001B[39m\"\u001B[39m\u001B[39m/Users/ramnaresh/Downloads/adult/adult.data\u001B[39m\u001B[39m\"\u001B[39m, names\u001B[39m=\u001B[39m\u001B[39m\"\u001B[39m\u001B[39m/Users/ramnaresh/Downloads/adult/adult.names\u001B[39m\u001B[39m\"\u001B[39m)\n\u001B[1;32m      2\u001B[0m df\n",
      "File \u001B[0;32m~/anaconda3/envs/MachineLearning/lib/python3.11/site-packages/pandas/io/parsers/readers.py:912\u001B[0m, in \u001B[0;36mread_csv\u001B[0;34m(filepath_or_buffer, sep, delimiter, header, names, index_col, usecols, dtype, engine, converters, true_values, false_values, skipinitialspace, skiprows, skipfooter, nrows, na_values, keep_default_na, na_filter, verbose, skip_blank_lines, parse_dates, infer_datetime_format, keep_date_col, date_parser, date_format, dayfirst, cache_dates, iterator, chunksize, compression, thousands, decimal, lineterminator, quotechar, quoting, doublequote, escapechar, comment, encoding, encoding_errors, dialect, on_bad_lines, delim_whitespace, low_memory, memory_map, float_precision, storage_options, dtype_backend)\u001B[0m\n\u001B[1;32m    899\u001B[0m kwds_defaults \u001B[39m=\u001B[39m _refine_defaults_read(\n\u001B[1;32m    900\u001B[0m     dialect,\n\u001B[1;32m    901\u001B[0m     delimiter,\n\u001B[0;32m   (...)\u001B[0m\n\u001B[1;32m    908\u001B[0m     dtype_backend\u001B[39m=\u001B[39mdtype_backend,\n\u001B[1;32m    909\u001B[0m )\n\u001B[1;32m    910\u001B[0m kwds\u001B[39m.\u001B[39mupdate(kwds_defaults)\n\u001B[0;32m--> 912\u001B[0m \u001B[39mreturn\u001B[39;00m _read(filepath_or_buffer, kwds)\n",
      "File \u001B[0;32m~/anaconda3/envs/MachineLearning/lib/python3.11/site-packages/pandas/io/parsers/readers.py:574\u001B[0m, in \u001B[0;36m_read\u001B[0;34m(filepath_or_buffer, kwds)\u001B[0m\n\u001B[1;32m    571\u001B[0m nrows \u001B[39m=\u001B[39m kwds\u001B[39m.\u001B[39mget(\u001B[39m\"\u001B[39m\u001B[39mnrows\u001B[39m\u001B[39m\"\u001B[39m, \u001B[39mNone\u001B[39;00m)\n\u001B[1;32m    573\u001B[0m \u001B[39m# Check for duplicates in names.\u001B[39;00m\n\u001B[0;32m--> 574\u001B[0m _validate_names(kwds\u001B[39m.\u001B[39mget(\u001B[39m\"\u001B[39m\u001B[39mnames\u001B[39m\u001B[39m\"\u001B[39m, \u001B[39mNone\u001B[39;00m))\n\u001B[1;32m    576\u001B[0m \u001B[39m# Create the parser.\u001B[39;00m\n\u001B[1;32m    577\u001B[0m parser \u001B[39m=\u001B[39m TextFileReader(filepath_or_buffer, \u001B[39m*\u001B[39m\u001B[39m*\u001B[39mkwds)\n",
      "File \u001B[0;32m~/anaconda3/envs/MachineLearning/lib/python3.11/site-packages/pandas/io/parsers/readers.py:533\u001B[0m, in \u001B[0;36m_validate_names\u001B[0;34m(names)\u001B[0m\n\u001B[1;32m    531\u001B[0m \u001B[39mif\u001B[39;00m names \u001B[39mis\u001B[39;00m \u001B[39mnot\u001B[39;00m \u001B[39mNone\u001B[39;00m:\n\u001B[1;32m    532\u001B[0m     \u001B[39mif\u001B[39;00m \u001B[39mlen\u001B[39m(names) \u001B[39m!=\u001B[39m \u001B[39mlen\u001B[39m(\u001B[39mset\u001B[39m(names)):\n\u001B[0;32m--> 533\u001B[0m         \u001B[39mraise\u001B[39;00m \u001B[39mValueError\u001B[39;00m(\u001B[39m\"\u001B[39m\u001B[39mDuplicate names are not allowed.\u001B[39m\u001B[39m\"\u001B[39m)\n\u001B[1;32m    534\u001B[0m     \u001B[39mif\u001B[39;00m \u001B[39mnot\u001B[39;00m (\n\u001B[1;32m    535\u001B[0m         is_list_like(names, allow_sets\u001B[39m=\u001B[39m\u001B[39mFalse\u001B[39;00m) \u001B[39mor\u001B[39;00m \u001B[39misinstance\u001B[39m(names, abc\u001B[39m.\u001B[39mKeysView)\n\u001B[1;32m    536\u001B[0m     ):\n\u001B[1;32m    537\u001B[0m         \u001B[39mraise\u001B[39;00m \u001B[39mValueError\u001B[39;00m(\u001B[39m\"\u001B[39m\u001B[39mNames should be an ordered collection.\u001B[39m\u001B[39m\"\u001B[39m)\n",
      "\u001B[0;31mValueError\u001B[0m: Duplicate names are not allowed."
     ]
    }
   ],
   "source": [
    "name = [\"\"]\n",
    "df = pd.read_csv(\"/Users/ramnaresh/Downloads/adult/adult.data\", names=\"/Users/ramnaresh/Downloads/adult/adult.names\")\n",
    "df"
   ]
  },
  {
   "cell_type": "code",
   "execution_count": 5,
   "metadata": {},
   "outputs": [
    {
     "name": "stdout",
     "output_type": "stream",
     "text": [
      "24\n"
     ]
    }
   ],
   "source": [
    "print(df.duplicated().sum())"
   ]
  },
  {
   "cell_type": "code",
   "execution_count": 8,
   "metadata": {},
   "outputs": [
    {
     "name": "stdout",
     "output_type": "stream",
     "text": [
      "39                0\n",
      " State-gov        0\n",
      " 77516            0\n",
      " Bachelors        0\n",
      " 13               0\n",
      " Never-married    0\n",
      " Adm-clerical     0\n",
      " Not-in-family    0\n",
      " White            0\n",
      " Male             0\n",
      " 2174             0\n",
      " 0                0\n",
      " 40               0\n",
      " United-States    0\n",
      " <=50K            0\n",
      "dtype: int64\n"
     ]
    }
   ],
   "source": [
    "print(df.isnull().sum())"
   ]
  },
  {
   "cell_type": "code",
   "execution_count": 9,
   "metadata": {},
   "outputs": [
    {
     "ename": "TypeError",
     "evalue": "string indices must be integers, not 'str'",
     "output_type": "error",
     "traceback": [
      "\u001B[0;31m---------------------------------------------------------------------------\u001B[0m",
      "\u001B[0;31mTypeError\u001B[0m                                 Traceback (most recent call last)",
      "Cell \u001B[0;32mIn[9], line 3\u001B[0m\n\u001B[1;32m      1\u001B[0m \u001B[39mfor\u001B[39;00m i \u001B[39min\u001B[39;00m df:\n\u001B[1;32m      2\u001B[0m     \u001B[39mfor\u001B[39;00m j \u001B[39min\u001B[39;00m df\u001B[39m.\u001B[39mcolumns:\n\u001B[0;32m----> 3\u001B[0m         \u001B[39mif\u001B[39;00m i[j] \u001B[39m==\u001B[39m \u001B[39m\"\u001B[39m\u001B[39m?\u001B[39m\u001B[39m\"\u001B[39m:\n\u001B[1;32m      4\u001B[0m             \u001B[39mprint\u001B[39m(\u001B[39m\"\u001B[39m\u001B[39mYes\u001B[39m\u001B[39m\"\u001B[39m)\n",
      "\u001B[0;31mTypeError\u001B[0m: string indices must be integers, not 'str'"
     ]
    }
   ],
   "source": [
    "for i in df:\n",
    "    for j in range (len(df.columns)):\n",
    "        if i[j] == \"?\":\n",
    "            print(\"Yes\")"
   ]
  },
  {
   "cell_type": "code",
   "execution_count": 12,
   "metadata": {},
   "outputs": [
    {
     "ename": "KeyError",
     "evalue": "'13'",
     "output_type": "error",
     "traceback": [
      "\u001B[0;31m---------------------------------------------------------------------------\u001B[0m",
      "\u001B[0;31mKeyError\u001B[0m                                  Traceback (most recent call last)",
      "File \u001B[0;32m~/anaconda3/envs/MachineLearning/lib/python3.11/site-packages/pandas/core/indexes/base.py:3653\u001B[0m, in \u001B[0;36mIndex.get_loc\u001B[0;34m(self, key)\u001B[0m\n\u001B[1;32m   3652\u001B[0m \u001B[39mtry\u001B[39;00m:\n\u001B[0;32m-> 3653\u001B[0m     \u001B[39mreturn\u001B[39;00m \u001B[39mself\u001B[39m\u001B[39m.\u001B[39m_engine\u001B[39m.\u001B[39mget_loc(casted_key)\n\u001B[1;32m   3654\u001B[0m \u001B[39mexcept\u001B[39;00m \u001B[39mKeyError\u001B[39;00m \u001B[39mas\u001B[39;00m err:\n",
      "File \u001B[0;32m~/anaconda3/envs/MachineLearning/lib/python3.11/site-packages/pandas/_libs/index.pyx:147\u001B[0m, in \u001B[0;36mpandas._libs.index.IndexEngine.get_loc\u001B[0;34m()\u001B[0m\n",
      "File \u001B[0;32m~/anaconda3/envs/MachineLearning/lib/python3.11/site-packages/pandas/_libs/index.pyx:176\u001B[0m, in \u001B[0;36mpandas._libs.index.IndexEngine.get_loc\u001B[0;34m()\u001B[0m\n",
      "File \u001B[0;32mpandas/_libs/hashtable_class_helper.pxi:7080\u001B[0m, in \u001B[0;36mpandas._libs.hashtable.PyObjectHashTable.get_item\u001B[0;34m()\u001B[0m\n",
      "File \u001B[0;32mpandas/_libs/hashtable_class_helper.pxi:7088\u001B[0m, in \u001B[0;36mpandas._libs.hashtable.PyObjectHashTable.get_item\u001B[0;34m()\u001B[0m\n",
      "\u001B[0;31mKeyError\u001B[0m: '13'",
      "\nThe above exception was the direct cause of the following exception:\n",
      "\u001B[0;31mKeyError\u001B[0m                                  Traceback (most recent call last)",
      "Cell \u001B[0;32mIn[12], line 1\u001B[0m\n\u001B[0;32m----> 1\u001B[0m \u001B[39mprint\u001B[39m(df[\u001B[39m\"\u001B[39m\u001B[39m13\u001B[39m\u001B[39m\"\u001B[39m])\n",
      "File \u001B[0;32m~/anaconda3/envs/MachineLearning/lib/python3.11/site-packages/pandas/core/frame.py:3761\u001B[0m, in \u001B[0;36mDataFrame.__getitem__\u001B[0;34m(self, key)\u001B[0m\n\u001B[1;32m   3759\u001B[0m \u001B[39mif\u001B[39;00m \u001B[39mself\u001B[39m\u001B[39m.\u001B[39mcolumns\u001B[39m.\u001B[39mnlevels \u001B[39m>\u001B[39m \u001B[39m1\u001B[39m:\n\u001B[1;32m   3760\u001B[0m     \u001B[39mreturn\u001B[39;00m \u001B[39mself\u001B[39m\u001B[39m.\u001B[39m_getitem_multilevel(key)\n\u001B[0;32m-> 3761\u001B[0m indexer \u001B[39m=\u001B[39m \u001B[39mself\u001B[39m\u001B[39m.\u001B[39mcolumns\u001B[39m.\u001B[39mget_loc(key)\n\u001B[1;32m   3762\u001B[0m \u001B[39mif\u001B[39;00m is_integer(indexer):\n\u001B[1;32m   3763\u001B[0m     indexer \u001B[39m=\u001B[39m [indexer]\n",
      "File \u001B[0;32m~/anaconda3/envs/MachineLearning/lib/python3.11/site-packages/pandas/core/indexes/base.py:3655\u001B[0m, in \u001B[0;36mIndex.get_loc\u001B[0;34m(self, key)\u001B[0m\n\u001B[1;32m   3653\u001B[0m     \u001B[39mreturn\u001B[39;00m \u001B[39mself\u001B[39m\u001B[39m.\u001B[39m_engine\u001B[39m.\u001B[39mget_loc(casted_key)\n\u001B[1;32m   3654\u001B[0m \u001B[39mexcept\u001B[39;00m \u001B[39mKeyError\u001B[39;00m \u001B[39mas\u001B[39;00m err:\n\u001B[0;32m-> 3655\u001B[0m     \u001B[39mraise\u001B[39;00m \u001B[39mKeyError\u001B[39;00m(key) \u001B[39mfrom\u001B[39;00m \u001B[39merr\u001B[39;00m\n\u001B[1;32m   3656\u001B[0m \u001B[39mexcept\u001B[39;00m \u001B[39mTypeError\u001B[39;00m:\n\u001B[1;32m   3657\u001B[0m     \u001B[39m# If we have a listlike key, _check_indexing_error will raise\u001B[39;00m\n\u001B[1;32m   3658\u001B[0m     \u001B[39m#  InvalidIndexError. Otherwise we fall through and re-raise\u001B[39;00m\n\u001B[1;32m   3659\u001B[0m     \u001B[39m#  the TypeError.\u001B[39;00m\n\u001B[1;32m   3660\u001B[0m     \u001B[39mself\u001B[39m\u001B[39m.\u001B[39m_check_indexing_error(key)\n",
      "\u001B[0;31mKeyError\u001B[0m: '13'"
     ]
    }
   ],
   "source": [
    "print(df[])"
   ]
  }
 ],
 "metadata": {
  "kernelspec": {
   "display_name": "MachineLearning",
   "language": "python",
   "name": "python3"
  },
  "language_info": {
   "codemirror_mode": {
    "name": "ipython",
    "version": 3
   },
   "file_extension": ".py",
   "mimetype": "text/x-python",
   "name": "python",
   "nbconvert_exporter": "python",
   "pygments_lexer": "ipython3",
   "version": "3.11.4"
  },
  "orig_nbformat": 4
 },
 "nbformat": 4,
 "nbformat_minor": 2
}
