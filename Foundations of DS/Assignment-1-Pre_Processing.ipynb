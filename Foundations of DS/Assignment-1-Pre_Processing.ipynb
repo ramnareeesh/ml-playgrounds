{
 "cells": [
  {
   "cell_type": "code",
   "execution_count": 3,
   "metadata": {
    "collapsed": true
   },
   "outputs": [],
   "source": [
    "import numpy as np\n",
    "import pandas as pd\n",
    "import matplotlib.pyplot as plt\n",
    "import seaborn as sns"
   ]
  },
  {
   "cell_type": "code",
   "execution_count": 4,
   "outputs": [
    {
     "data": {
      "text/plain": "     SEX  AGE  CENSUS2010POP  ESTIMATESBASE2010  POPESTIMATE2010  \\\n0      0    0        3944153            3944160          3951330   \n1      0    1        3978070            3978090          3957888   \n2      0    2        4096929            4096939          4090862   \n3      0    3        4119040            4119051          4111920   \n4      0    4        4063170            4063186          4077551   \n..   ...  ...            ...                ...              ...   \n301    2   97          53582              53605            54118   \n302    2   98          36641              36675            37532   \n303    2   99          26193              26214            26074   \n304    2  100          44202              44246            45058   \n305    2  999      156964212          156969328        157258820   \n\n     POPESTIMATE2011  POPESTIMATE2012  POPESTIMATE2013  POPESTIMATE2014  \\\n0            3963087          3926540          3931141          3949775   \n1            3966551          3977939          3942872          3949776   \n2            3971565          3980095          3992720          3959664   \n3            4102470          3983157          3992734          4007079   \n4            4122294          4112849          3994449          4005716   \n..               ...              ...              ...              ...   \n301            57159            59533            61255            62779   \n302            40116            42857            44359            46208   \n303            27030            29320            31112            32517   \n304            47556            50661            53902            58008   \n305        158427085        159581546        160720625        161952064   \n\n     POPESTIMATE2015  \n0            3978038  \n1            3968564  \n2            3966583  \n3            3974061  \n4            4020035  \n..               ...  \n301            69285  \n302            47272  \n303            34064  \n304            61886  \n305        163189523  \n\n[306 rows x 10 columns]",
      "text/html": "<div>\n<style scoped>\n    .dataframe tbody tr th:only-of-type {\n        vertical-align: middle;\n    }\n\n    .dataframe tbody tr th {\n        vertical-align: top;\n    }\n\n    .dataframe thead th {\n        text-align: right;\n    }\n</style>\n<table border=\"1\" class=\"dataframe\">\n  <thead>\n    <tr style=\"text-align: right;\">\n      <th></th>\n      <th>SEX</th>\n      <th>AGE</th>\n      <th>CENSUS2010POP</th>\n      <th>ESTIMATESBASE2010</th>\n      <th>POPESTIMATE2010</th>\n      <th>POPESTIMATE2011</th>\n      <th>POPESTIMATE2012</th>\n      <th>POPESTIMATE2013</th>\n      <th>POPESTIMATE2014</th>\n      <th>POPESTIMATE2015</th>\n    </tr>\n  </thead>\n  <tbody>\n    <tr>\n      <th>0</th>\n      <td>0</td>\n      <td>0</td>\n      <td>3944153</td>\n      <td>3944160</td>\n      <td>3951330</td>\n      <td>3963087</td>\n      <td>3926540</td>\n      <td>3931141</td>\n      <td>3949775</td>\n      <td>3978038</td>\n    </tr>\n    <tr>\n      <th>1</th>\n      <td>0</td>\n      <td>1</td>\n      <td>3978070</td>\n      <td>3978090</td>\n      <td>3957888</td>\n      <td>3966551</td>\n      <td>3977939</td>\n      <td>3942872</td>\n      <td>3949776</td>\n      <td>3968564</td>\n    </tr>\n    <tr>\n      <th>2</th>\n      <td>0</td>\n      <td>2</td>\n      <td>4096929</td>\n      <td>4096939</td>\n      <td>4090862</td>\n      <td>3971565</td>\n      <td>3980095</td>\n      <td>3992720</td>\n      <td>3959664</td>\n      <td>3966583</td>\n    </tr>\n    <tr>\n      <th>3</th>\n      <td>0</td>\n      <td>3</td>\n      <td>4119040</td>\n      <td>4119051</td>\n      <td>4111920</td>\n      <td>4102470</td>\n      <td>3983157</td>\n      <td>3992734</td>\n      <td>4007079</td>\n      <td>3974061</td>\n    </tr>\n    <tr>\n      <th>4</th>\n      <td>0</td>\n      <td>4</td>\n      <td>4063170</td>\n      <td>4063186</td>\n      <td>4077551</td>\n      <td>4122294</td>\n      <td>4112849</td>\n      <td>3994449</td>\n      <td>4005716</td>\n      <td>4020035</td>\n    </tr>\n    <tr>\n      <th>...</th>\n      <td>...</td>\n      <td>...</td>\n      <td>...</td>\n      <td>...</td>\n      <td>...</td>\n      <td>...</td>\n      <td>...</td>\n      <td>...</td>\n      <td>...</td>\n      <td>...</td>\n    </tr>\n    <tr>\n      <th>301</th>\n      <td>2</td>\n      <td>97</td>\n      <td>53582</td>\n      <td>53605</td>\n      <td>54118</td>\n      <td>57159</td>\n      <td>59533</td>\n      <td>61255</td>\n      <td>62779</td>\n      <td>69285</td>\n    </tr>\n    <tr>\n      <th>302</th>\n      <td>2</td>\n      <td>98</td>\n      <td>36641</td>\n      <td>36675</td>\n      <td>37532</td>\n      <td>40116</td>\n      <td>42857</td>\n      <td>44359</td>\n      <td>46208</td>\n      <td>47272</td>\n    </tr>\n    <tr>\n      <th>303</th>\n      <td>2</td>\n      <td>99</td>\n      <td>26193</td>\n      <td>26214</td>\n      <td>26074</td>\n      <td>27030</td>\n      <td>29320</td>\n      <td>31112</td>\n      <td>32517</td>\n      <td>34064</td>\n    </tr>\n    <tr>\n      <th>304</th>\n      <td>2</td>\n      <td>100</td>\n      <td>44202</td>\n      <td>44246</td>\n      <td>45058</td>\n      <td>47556</td>\n      <td>50661</td>\n      <td>53902</td>\n      <td>58008</td>\n      <td>61886</td>\n    </tr>\n    <tr>\n      <th>305</th>\n      <td>2</td>\n      <td>999</td>\n      <td>156964212</td>\n      <td>156969328</td>\n      <td>157258820</td>\n      <td>158427085</td>\n      <td>159581546</td>\n      <td>160720625</td>\n      <td>161952064</td>\n      <td>163189523</td>\n    </tr>\n  </tbody>\n</table>\n<p>306 rows × 10 columns</p>\n</div>"
     },
     "execution_count": 4,
     "metadata": {},
     "output_type": "execute_result"
    }
   ],
   "source": [
    "df = pd.read_csv(\"https://github.com/flaviovdf/evcomp2018/raw/master/data/nc-est2015-agesex-res.csv\", sep=\",\")\n",
    "df"
   ],
   "metadata": {
    "collapsed": false
   }
  },
  {
   "cell_type": "code",
   "execution_count": 5,
   "outputs": [
    {
     "name": "stdout",
     "output_type": "stream",
     "text": [
      "Rows:  306\n",
      "Columns:  10\n"
     ]
    }
   ],
   "source": [
    "print(\"Rows: \", len(df))\n",
    "print(\"Columns: \", len(df.loc[0, :]))"
   ],
   "metadata": {
    "collapsed": false
   }
  },
  {
   "cell_type": "code",
   "execution_count": 6,
   "outputs": [
    {
     "data": {
      "text/plain": "              SEX         AGE  CENSUS2010POP  ESTIMATESBASE2010  \\\ncount  306.000000  306.000000   3.060000e+02       3.060000e+02   \nmean     1.000000   59.303922   4.035889e+06       4.036054e+06   \nstd      0.817834   98.060950   2.140881e+07       2.140968e+07   \nmin      0.000000    0.000000   6.073000e+03       6.075000e+03   \n25%      0.000000   25.000000   9.987065e+05       9.987415e+05   \n50%      1.000000   50.500000   2.045286e+06       2.045342e+06   \n75%      2.000000   76.000000   2.304370e+06       2.304525e+06   \nmax      2.000000  999.000000   3.087455e+08       3.087581e+08   \n\n       POPESTIMATE2010  POPESTIMATE2011  POPESTIMATE2012  POPESTIMATE2013  \\\ncount     3.060000e+02     3.060000e+02     3.060000e+02     3.060000e+02   \nmean      4.043750e+06     4.074756e+06     4.105917e+06     4.136306e+06   \nstd       2.145038e+07     2.161430e+07     2.177900e+07     2.193965e+07   \nmin       6.104000e+03     6.606000e+03     7.459000e+03     8.159000e+03   \n25%       1.010409e+06     1.045244e+06     1.073482e+06     1.121864e+06   \n50%       2.047912e+06     2.051284e+06     2.054609e+06     2.050533e+06   \n75%       2.304142e+06     2.321829e+06     2.335085e+06     2.349450e+06   \nmax       3.093469e+08     3.117189e+08     3.141026e+08     3.164274e+08   \n\n       POPESTIMATE2014  POPESTIMATE2015  \ncount     3.060000e+02     3.060000e+02  \nmean      4.168724e+06     4.201553e+06  \nstd       2.211105e+07     2.228462e+07  \nmin       8.951000e+03     9.577000e+03  \n25%       1.156036e+06     1.162476e+06  \n50%       2.060284e+06     2.062285e+06  \n75%       2.387392e+06     2.415332e+06  \nmax       3.189074e+08     3.214188e+08  ",
      "text/html": "<div>\n<style scoped>\n    .dataframe tbody tr th:only-of-type {\n        vertical-align: middle;\n    }\n\n    .dataframe tbody tr th {\n        vertical-align: top;\n    }\n\n    .dataframe thead th {\n        text-align: right;\n    }\n</style>\n<table border=\"1\" class=\"dataframe\">\n  <thead>\n    <tr style=\"text-align: right;\">\n      <th></th>\n      <th>SEX</th>\n      <th>AGE</th>\n      <th>CENSUS2010POP</th>\n      <th>ESTIMATESBASE2010</th>\n      <th>POPESTIMATE2010</th>\n      <th>POPESTIMATE2011</th>\n      <th>POPESTIMATE2012</th>\n      <th>POPESTIMATE2013</th>\n      <th>POPESTIMATE2014</th>\n      <th>POPESTIMATE2015</th>\n    </tr>\n  </thead>\n  <tbody>\n    <tr>\n      <th>count</th>\n      <td>306.000000</td>\n      <td>306.000000</td>\n      <td>3.060000e+02</td>\n      <td>3.060000e+02</td>\n      <td>3.060000e+02</td>\n      <td>3.060000e+02</td>\n      <td>3.060000e+02</td>\n      <td>3.060000e+02</td>\n      <td>3.060000e+02</td>\n      <td>3.060000e+02</td>\n    </tr>\n    <tr>\n      <th>mean</th>\n      <td>1.000000</td>\n      <td>59.303922</td>\n      <td>4.035889e+06</td>\n      <td>4.036054e+06</td>\n      <td>4.043750e+06</td>\n      <td>4.074756e+06</td>\n      <td>4.105917e+06</td>\n      <td>4.136306e+06</td>\n      <td>4.168724e+06</td>\n      <td>4.201553e+06</td>\n    </tr>\n    <tr>\n      <th>std</th>\n      <td>0.817834</td>\n      <td>98.060950</td>\n      <td>2.140881e+07</td>\n      <td>2.140968e+07</td>\n      <td>2.145038e+07</td>\n      <td>2.161430e+07</td>\n      <td>2.177900e+07</td>\n      <td>2.193965e+07</td>\n      <td>2.211105e+07</td>\n      <td>2.228462e+07</td>\n    </tr>\n    <tr>\n      <th>min</th>\n      <td>0.000000</td>\n      <td>0.000000</td>\n      <td>6.073000e+03</td>\n      <td>6.075000e+03</td>\n      <td>6.104000e+03</td>\n      <td>6.606000e+03</td>\n      <td>7.459000e+03</td>\n      <td>8.159000e+03</td>\n      <td>8.951000e+03</td>\n      <td>9.577000e+03</td>\n    </tr>\n    <tr>\n      <th>25%</th>\n      <td>0.000000</td>\n      <td>25.000000</td>\n      <td>9.987065e+05</td>\n      <td>9.987415e+05</td>\n      <td>1.010409e+06</td>\n      <td>1.045244e+06</td>\n      <td>1.073482e+06</td>\n      <td>1.121864e+06</td>\n      <td>1.156036e+06</td>\n      <td>1.162476e+06</td>\n    </tr>\n    <tr>\n      <th>50%</th>\n      <td>1.000000</td>\n      <td>50.500000</td>\n      <td>2.045286e+06</td>\n      <td>2.045342e+06</td>\n      <td>2.047912e+06</td>\n      <td>2.051284e+06</td>\n      <td>2.054609e+06</td>\n      <td>2.050533e+06</td>\n      <td>2.060284e+06</td>\n      <td>2.062285e+06</td>\n    </tr>\n    <tr>\n      <th>75%</th>\n      <td>2.000000</td>\n      <td>76.000000</td>\n      <td>2.304370e+06</td>\n      <td>2.304525e+06</td>\n      <td>2.304142e+06</td>\n      <td>2.321829e+06</td>\n      <td>2.335085e+06</td>\n      <td>2.349450e+06</td>\n      <td>2.387392e+06</td>\n      <td>2.415332e+06</td>\n    </tr>\n    <tr>\n      <th>max</th>\n      <td>2.000000</td>\n      <td>999.000000</td>\n      <td>3.087455e+08</td>\n      <td>3.087581e+08</td>\n      <td>3.093469e+08</td>\n      <td>3.117189e+08</td>\n      <td>3.141026e+08</td>\n      <td>3.164274e+08</td>\n      <td>3.189074e+08</td>\n      <td>3.214188e+08</td>\n    </tr>\n  </tbody>\n</table>\n</div>"
     },
     "execution_count": 6,
     "metadata": {},
     "output_type": "execute_result"
    }
   ],
   "source": [
    "df.describe()"
   ],
   "metadata": {
    "collapsed": false
   }
  },
  {
   "cell_type": "code",
   "execution_count": 7,
   "outputs": [],
   "source": [
    "df.rename(columns={'POPESTIMATE2010' : '2010'}, inplace=True)\n",
    "df.rename(columns={'POPESTIMATE2014' : '2014'}, inplace=True)"
   ],
   "metadata": {
    "collapsed": false
   }
  },
  {
   "cell_type": "code",
   "execution_count": 8,
   "outputs": [
    {
     "data": {
      "text/plain": "     SEX  AGE  CENSUS2010POP  ESTIMATESBASE2010       2010  POPESTIMATE2011  \\\n0      0    0        3944153            3944160    3951330          3963087   \n1      0    1        3978070            3978090    3957888          3966551   \n2      0    2        4096929            4096939    4090862          3971565   \n3      0    3        4119040            4119051    4111920          4102470   \n4      0    4        4063170            4063186    4077551          4122294   \n..   ...  ...            ...                ...        ...              ...   \n301    2   97          53582              53605      54118            57159   \n302    2   98          36641              36675      37532            40116   \n303    2   99          26193              26214      26074            27030   \n304    2  100          44202              44246      45058            47556   \n305    2  999      156964212          156969328  157258820        158427085   \n\n     POPESTIMATE2012  POPESTIMATE2013       2014  POPESTIMATE2015  \n0            3926540          3931141    3949775          3978038  \n1            3977939          3942872    3949776          3968564  \n2            3980095          3992720    3959664          3966583  \n3            3983157          3992734    4007079          3974061  \n4            4112849          3994449    4005716          4020035  \n..               ...              ...        ...              ...  \n301            59533            61255      62779            69285  \n302            42857            44359      46208            47272  \n303            29320            31112      32517            34064  \n304            50661            53902      58008            61886  \n305        159581546        160720625  161952064        163189523  \n\n[306 rows x 10 columns]",
      "text/html": "<div>\n<style scoped>\n    .dataframe tbody tr th:only-of-type {\n        vertical-align: middle;\n    }\n\n    .dataframe tbody tr th {\n        vertical-align: top;\n    }\n\n    .dataframe thead th {\n        text-align: right;\n    }\n</style>\n<table border=\"1\" class=\"dataframe\">\n  <thead>\n    <tr style=\"text-align: right;\">\n      <th></th>\n      <th>SEX</th>\n      <th>AGE</th>\n      <th>CENSUS2010POP</th>\n      <th>ESTIMATESBASE2010</th>\n      <th>2010</th>\n      <th>POPESTIMATE2011</th>\n      <th>POPESTIMATE2012</th>\n      <th>POPESTIMATE2013</th>\n      <th>2014</th>\n      <th>POPESTIMATE2015</th>\n    </tr>\n  </thead>\n  <tbody>\n    <tr>\n      <th>0</th>\n      <td>0</td>\n      <td>0</td>\n      <td>3944153</td>\n      <td>3944160</td>\n      <td>3951330</td>\n      <td>3963087</td>\n      <td>3926540</td>\n      <td>3931141</td>\n      <td>3949775</td>\n      <td>3978038</td>\n    </tr>\n    <tr>\n      <th>1</th>\n      <td>0</td>\n      <td>1</td>\n      <td>3978070</td>\n      <td>3978090</td>\n      <td>3957888</td>\n      <td>3966551</td>\n      <td>3977939</td>\n      <td>3942872</td>\n      <td>3949776</td>\n      <td>3968564</td>\n    </tr>\n    <tr>\n      <th>2</th>\n      <td>0</td>\n      <td>2</td>\n      <td>4096929</td>\n      <td>4096939</td>\n      <td>4090862</td>\n      <td>3971565</td>\n      <td>3980095</td>\n      <td>3992720</td>\n      <td>3959664</td>\n      <td>3966583</td>\n    </tr>\n    <tr>\n      <th>3</th>\n      <td>0</td>\n      <td>3</td>\n      <td>4119040</td>\n      <td>4119051</td>\n      <td>4111920</td>\n      <td>4102470</td>\n      <td>3983157</td>\n      <td>3992734</td>\n      <td>4007079</td>\n      <td>3974061</td>\n    </tr>\n    <tr>\n      <th>4</th>\n      <td>0</td>\n      <td>4</td>\n      <td>4063170</td>\n      <td>4063186</td>\n      <td>4077551</td>\n      <td>4122294</td>\n      <td>4112849</td>\n      <td>3994449</td>\n      <td>4005716</td>\n      <td>4020035</td>\n    </tr>\n    <tr>\n      <th>...</th>\n      <td>...</td>\n      <td>...</td>\n      <td>...</td>\n      <td>...</td>\n      <td>...</td>\n      <td>...</td>\n      <td>...</td>\n      <td>...</td>\n      <td>...</td>\n      <td>...</td>\n    </tr>\n    <tr>\n      <th>301</th>\n      <td>2</td>\n      <td>97</td>\n      <td>53582</td>\n      <td>53605</td>\n      <td>54118</td>\n      <td>57159</td>\n      <td>59533</td>\n      <td>61255</td>\n      <td>62779</td>\n      <td>69285</td>\n    </tr>\n    <tr>\n      <th>302</th>\n      <td>2</td>\n      <td>98</td>\n      <td>36641</td>\n      <td>36675</td>\n      <td>37532</td>\n      <td>40116</td>\n      <td>42857</td>\n      <td>44359</td>\n      <td>46208</td>\n      <td>47272</td>\n    </tr>\n    <tr>\n      <th>303</th>\n      <td>2</td>\n      <td>99</td>\n      <td>26193</td>\n      <td>26214</td>\n      <td>26074</td>\n      <td>27030</td>\n      <td>29320</td>\n      <td>31112</td>\n      <td>32517</td>\n      <td>34064</td>\n    </tr>\n    <tr>\n      <th>304</th>\n      <td>2</td>\n      <td>100</td>\n      <td>44202</td>\n      <td>44246</td>\n      <td>45058</td>\n      <td>47556</td>\n      <td>50661</td>\n      <td>53902</td>\n      <td>58008</td>\n      <td>61886</td>\n    </tr>\n    <tr>\n      <th>305</th>\n      <td>2</td>\n      <td>999</td>\n      <td>156964212</td>\n      <td>156969328</td>\n      <td>157258820</td>\n      <td>158427085</td>\n      <td>159581546</td>\n      <td>160720625</td>\n      <td>161952064</td>\n      <td>163189523</td>\n    </tr>\n  </tbody>\n</table>\n<p>306 rows × 10 columns</p>\n</div>"
     },
     "execution_count": 8,
     "metadata": {},
     "output_type": "execute_result"
    }
   ],
   "source": [
    "df"
   ],
   "metadata": {
    "collapsed": false
   }
  },
  {
   "cell_type": "code",
   "execution_count": 9,
   "outputs": [
    {
     "data": {
      "text/plain": "   SEX  AGE  CENSUS2010POP  ESTIMATESBASE2010     2010  POPESTIMATE2011  \\\n0    0    0        3944153            3944160  3951330          3963087   \n1    0    1        3978070            3978090  3957888          3966551   \n2    0    2        4096929            4096939  4090862          3971565   \n3    0    3        4119040            4119051  4111920          4102470   \n4    0    4        4063170            4063186  4077551          4122294   \n5    0    5        4056858            4056872  4064653          4087709   \n6    0    6        4066381            4066412  4073013          4074993   \n7    0    7        4030579            4030594  4043046          4083225   \n8    0    8        4046486            4046497  4025604          4053203   \n9    0    9        4148353            4148369  4125415          4035710   \n\n   POPESTIMATE2012  POPESTIMATE2013     2014  POPESTIMATE2015  \n0          3926540          3931141  3949775          3978038  \n1          3977939          3942872  3949776          3968564  \n2          3980095          3992720  3959664          3966583  \n3          3983157          3992734  4007079          3974061  \n4          4112849          3994449  4005716          4020035  \n5          4132242          4123626  4006900          4018158  \n6          4097605          4142916  4135930          4019207  \n7          4084913          4108349  4155326          4148360  \n8          4093177          4095711  4120903          4167887  \n9          4063152          4104072  4108349          4133564  ",
      "text/html": "<div>\n<style scoped>\n    .dataframe tbody tr th:only-of-type {\n        vertical-align: middle;\n    }\n\n    .dataframe tbody tr th {\n        vertical-align: top;\n    }\n\n    .dataframe thead th {\n        text-align: right;\n    }\n</style>\n<table border=\"1\" class=\"dataframe\">\n  <thead>\n    <tr style=\"text-align: right;\">\n      <th></th>\n      <th>SEX</th>\n      <th>AGE</th>\n      <th>CENSUS2010POP</th>\n      <th>ESTIMATESBASE2010</th>\n      <th>2010</th>\n      <th>POPESTIMATE2011</th>\n      <th>POPESTIMATE2012</th>\n      <th>POPESTIMATE2013</th>\n      <th>2014</th>\n      <th>POPESTIMATE2015</th>\n    </tr>\n  </thead>\n  <tbody>\n    <tr>\n      <th>0</th>\n      <td>0</td>\n      <td>0</td>\n      <td>3944153</td>\n      <td>3944160</td>\n      <td>3951330</td>\n      <td>3963087</td>\n      <td>3926540</td>\n      <td>3931141</td>\n      <td>3949775</td>\n      <td>3978038</td>\n    </tr>\n    <tr>\n      <th>1</th>\n      <td>0</td>\n      <td>1</td>\n      <td>3978070</td>\n      <td>3978090</td>\n      <td>3957888</td>\n      <td>3966551</td>\n      <td>3977939</td>\n      <td>3942872</td>\n      <td>3949776</td>\n      <td>3968564</td>\n    </tr>\n    <tr>\n      <th>2</th>\n      <td>0</td>\n      <td>2</td>\n      <td>4096929</td>\n      <td>4096939</td>\n      <td>4090862</td>\n      <td>3971565</td>\n      <td>3980095</td>\n      <td>3992720</td>\n      <td>3959664</td>\n      <td>3966583</td>\n    </tr>\n    <tr>\n      <th>3</th>\n      <td>0</td>\n      <td>3</td>\n      <td>4119040</td>\n      <td>4119051</td>\n      <td>4111920</td>\n      <td>4102470</td>\n      <td>3983157</td>\n      <td>3992734</td>\n      <td>4007079</td>\n      <td>3974061</td>\n    </tr>\n    <tr>\n      <th>4</th>\n      <td>0</td>\n      <td>4</td>\n      <td>4063170</td>\n      <td>4063186</td>\n      <td>4077551</td>\n      <td>4122294</td>\n      <td>4112849</td>\n      <td>3994449</td>\n      <td>4005716</td>\n      <td>4020035</td>\n    </tr>\n    <tr>\n      <th>5</th>\n      <td>0</td>\n      <td>5</td>\n      <td>4056858</td>\n      <td>4056872</td>\n      <td>4064653</td>\n      <td>4087709</td>\n      <td>4132242</td>\n      <td>4123626</td>\n      <td>4006900</td>\n      <td>4018158</td>\n    </tr>\n    <tr>\n      <th>6</th>\n      <td>0</td>\n      <td>6</td>\n      <td>4066381</td>\n      <td>4066412</td>\n      <td>4073013</td>\n      <td>4074993</td>\n      <td>4097605</td>\n      <td>4142916</td>\n      <td>4135930</td>\n      <td>4019207</td>\n    </tr>\n    <tr>\n      <th>7</th>\n      <td>0</td>\n      <td>7</td>\n      <td>4030579</td>\n      <td>4030594</td>\n      <td>4043046</td>\n      <td>4083225</td>\n      <td>4084913</td>\n      <td>4108349</td>\n      <td>4155326</td>\n      <td>4148360</td>\n    </tr>\n    <tr>\n      <th>8</th>\n      <td>0</td>\n      <td>8</td>\n      <td>4046486</td>\n      <td>4046497</td>\n      <td>4025604</td>\n      <td>4053203</td>\n      <td>4093177</td>\n      <td>4095711</td>\n      <td>4120903</td>\n      <td>4167887</td>\n    </tr>\n    <tr>\n      <th>9</th>\n      <td>0</td>\n      <td>9</td>\n      <td>4148353</td>\n      <td>4148369</td>\n      <td>4125415</td>\n      <td>4035710</td>\n      <td>4063152</td>\n      <td>4104072</td>\n      <td>4108349</td>\n      <td>4133564</td>\n    </tr>\n  </tbody>\n</table>\n</div>"
     },
     "execution_count": 9,
     "metadata": {},
     "output_type": "execute_result"
    }
   ],
   "source": [
    "df.head(10)"
   ],
   "metadata": {
    "collapsed": false
   }
  },
  {
   "cell_type": "code",
   "execution_count": 10,
   "outputs": [
    {
     "name": "stdout",
     "output_type": "stream",
     "text": [
      "SEX                        0\n",
      "AGE                       15\n",
      "CENSUS2010POP        4242820\n",
      "ESTIMATESBASE2010    4242946\n",
      "2010                 4231002\n",
      "POPESTIMATE2011      4158941\n",
      "POPESTIMATE2012      4144019\n",
      "POPESTIMATE2013      4149121\n",
      "2014                 4164796\n",
      "POPESTIMATE2015      4249742\n",
      "Name: 15, dtype: int64\n",
      "SEX                        0\n",
      "AGE                       22\n",
      "CENSUS2010POP        4264642\n",
      "ESTIMATESBASE2010    4264946\n",
      "2010                 4287005\n",
      "POPESTIMATE2011      4415300\n",
      "POPESTIMATE2012      4628459\n",
      "POPESTIMATE2013      4665965\n",
      "2014                 4615729\n",
      "POPESTIMATE2015      4529472\n",
      "Name: 22, dtype: int64\n"
     ]
    }
   ],
   "source": [
    "print(df.loc[15, :])\n",
    "print(df.loc[22, :])"
   ],
   "metadata": {
    "collapsed": false
   }
  },
  {
   "cell_type": "code",
   "execution_count": 11,
   "outputs": [
    {
     "data": {
      "text/plain": "     SEX  AGE  CENSUS2010POP  ESTIMATESBASE2010       2010  POPESTIMATE2011  \\\n0      0    0        3944153            3944160    3951330          3963087   \n1      0    1        3978070            3978090    3957888          3966551   \n2      0    2        4096929            4096939    4090862          3971565   \n3      0    3        4119040            4119051    4111920          4102470   \n4      0    4        4063170            4063186    4077551          4122294   \n..   ...  ...            ...                ...        ...              ...   \n301    2   97          53582              53605      54118            57159   \n302    2   98          36641              36675      37532            40116   \n303    2   99          26193              26214      26074            27030   \n304    2  100          44202              44246      45058            47556   \n305    2  999      156964212          156969328  157258820        158427085   \n\n     POPESTIMATE2012  POPESTIMATE2013       2014  POPESTIMATE2015  Change  \\\n0            3926540          3931141    3949775          3978038       0   \n1            3977939          3942872    3949776          3968564       0   \n2            3980095          3992720    3959664          3966583       0   \n3            3983157          3992734    4007079          3974061       0   \n4            4112849          3994449    4005716          4020035       0   \n..               ...              ...        ...              ...     ...   \n301            59533            61255      62779            69285       0   \n302            42857            44359      46208            47272       0   \n303            29320            31112      32517            34064       0   \n304            50661            53902      58008            61886       0   \n305        159581546        160720625  161952064        163189523       0   \n\n     Percentage_Change  \n0                    0  \n1                    0  \n2                    0  \n3                    0  \n4                    0  \n..                 ...  \n301                  0  \n302                  0  \n303                  0  \n304                  0  \n305                  0  \n\n[306 rows x 12 columns]",
      "text/html": "<div>\n<style scoped>\n    .dataframe tbody tr th:only-of-type {\n        vertical-align: middle;\n    }\n\n    .dataframe tbody tr th {\n        vertical-align: top;\n    }\n\n    .dataframe thead th {\n        text-align: right;\n    }\n</style>\n<table border=\"1\" class=\"dataframe\">\n  <thead>\n    <tr style=\"text-align: right;\">\n      <th></th>\n      <th>SEX</th>\n      <th>AGE</th>\n      <th>CENSUS2010POP</th>\n      <th>ESTIMATESBASE2010</th>\n      <th>2010</th>\n      <th>POPESTIMATE2011</th>\n      <th>POPESTIMATE2012</th>\n      <th>POPESTIMATE2013</th>\n      <th>2014</th>\n      <th>POPESTIMATE2015</th>\n      <th>Change</th>\n      <th>Percentage_Change</th>\n    </tr>\n  </thead>\n  <tbody>\n    <tr>\n      <th>0</th>\n      <td>0</td>\n      <td>0</td>\n      <td>3944153</td>\n      <td>3944160</td>\n      <td>3951330</td>\n      <td>3963087</td>\n      <td>3926540</td>\n      <td>3931141</td>\n      <td>3949775</td>\n      <td>3978038</td>\n      <td>0</td>\n      <td>0</td>\n    </tr>\n    <tr>\n      <th>1</th>\n      <td>0</td>\n      <td>1</td>\n      <td>3978070</td>\n      <td>3978090</td>\n      <td>3957888</td>\n      <td>3966551</td>\n      <td>3977939</td>\n      <td>3942872</td>\n      <td>3949776</td>\n      <td>3968564</td>\n      <td>0</td>\n      <td>0</td>\n    </tr>\n    <tr>\n      <th>2</th>\n      <td>0</td>\n      <td>2</td>\n      <td>4096929</td>\n      <td>4096939</td>\n      <td>4090862</td>\n      <td>3971565</td>\n      <td>3980095</td>\n      <td>3992720</td>\n      <td>3959664</td>\n      <td>3966583</td>\n      <td>0</td>\n      <td>0</td>\n    </tr>\n    <tr>\n      <th>3</th>\n      <td>0</td>\n      <td>3</td>\n      <td>4119040</td>\n      <td>4119051</td>\n      <td>4111920</td>\n      <td>4102470</td>\n      <td>3983157</td>\n      <td>3992734</td>\n      <td>4007079</td>\n      <td>3974061</td>\n      <td>0</td>\n      <td>0</td>\n    </tr>\n    <tr>\n      <th>4</th>\n      <td>0</td>\n      <td>4</td>\n      <td>4063170</td>\n      <td>4063186</td>\n      <td>4077551</td>\n      <td>4122294</td>\n      <td>4112849</td>\n      <td>3994449</td>\n      <td>4005716</td>\n      <td>4020035</td>\n      <td>0</td>\n      <td>0</td>\n    </tr>\n    <tr>\n      <th>...</th>\n      <td>...</td>\n      <td>...</td>\n      <td>...</td>\n      <td>...</td>\n      <td>...</td>\n      <td>...</td>\n      <td>...</td>\n      <td>...</td>\n      <td>...</td>\n      <td>...</td>\n      <td>...</td>\n      <td>...</td>\n    </tr>\n    <tr>\n      <th>301</th>\n      <td>2</td>\n      <td>97</td>\n      <td>53582</td>\n      <td>53605</td>\n      <td>54118</td>\n      <td>57159</td>\n      <td>59533</td>\n      <td>61255</td>\n      <td>62779</td>\n      <td>69285</td>\n      <td>0</td>\n      <td>0</td>\n    </tr>\n    <tr>\n      <th>302</th>\n      <td>2</td>\n      <td>98</td>\n      <td>36641</td>\n      <td>36675</td>\n      <td>37532</td>\n      <td>40116</td>\n      <td>42857</td>\n      <td>44359</td>\n      <td>46208</td>\n      <td>47272</td>\n      <td>0</td>\n      <td>0</td>\n    </tr>\n    <tr>\n      <th>303</th>\n      <td>2</td>\n      <td>99</td>\n      <td>26193</td>\n      <td>26214</td>\n      <td>26074</td>\n      <td>27030</td>\n      <td>29320</td>\n      <td>31112</td>\n      <td>32517</td>\n      <td>34064</td>\n      <td>0</td>\n      <td>0</td>\n    </tr>\n    <tr>\n      <th>304</th>\n      <td>2</td>\n      <td>100</td>\n      <td>44202</td>\n      <td>44246</td>\n      <td>45058</td>\n      <td>47556</td>\n      <td>50661</td>\n      <td>53902</td>\n      <td>58008</td>\n      <td>61886</td>\n      <td>0</td>\n      <td>0</td>\n    </tr>\n    <tr>\n      <th>305</th>\n      <td>2</td>\n      <td>999</td>\n      <td>156964212</td>\n      <td>156969328</td>\n      <td>157258820</td>\n      <td>158427085</td>\n      <td>159581546</td>\n      <td>160720625</td>\n      <td>161952064</td>\n      <td>163189523</td>\n      <td>0</td>\n      <td>0</td>\n    </tr>\n  </tbody>\n</table>\n<p>306 rows × 12 columns</p>\n</div>"
     },
     "execution_count": 11,
     "metadata": {},
     "output_type": "execute_result"
    }
   ],
   "source": [
    "df['Change'] = [0] * len(df)\n",
    "df['Percentage_Change'] = [0] * len(df)\n",
    "df"
   ],
   "metadata": {
    "collapsed": false
   }
  },
  {
   "cell_type": "code",
   "execution_count": 12,
   "outputs": [
    {
     "name": "stdout",
     "output_type": "stream",
     "text": [
      "SEX\n",
      "0    102\n",
      "1    102\n",
      "2    102\n",
      "Name: count, dtype: int64\n"
     ]
    }
   ],
   "source": [
    "print(df['SEX'].value_counts())"
   ],
   "metadata": {
    "collapsed": false
   }
  },
  {
   "cell_type": "code",
   "execution_count": 13,
   "outputs": [
    {
     "data": {
      "text/plain": "     SEX  AGE  CENSUS2010POP  ESTIMATESBASE2010       2010  POPESTIMATE2011  \\\n0      0    0        3944153            3944160    3951330          3963087   \n1      0    1        3978070            3978090    3957888          3966551   \n2      0    2        4096929            4096939    4090862          3971565   \n3      0    3        4119040            4119051    4111920          4102470   \n4      0    4        4063170            4063186    4077551          4122294   \n..   ...  ...            ...                ...        ...              ...   \n301    2   97          53582              53605      54118            57159   \n302    2   98          36641              36675      37532            40116   \n303    2   99          26193              26214      26074            27030   \n304    2  100          44202              44246      45058            47556   \n305    2  999      156964212          156969328  157258820        158427085   \n\n     POPESTIMATE2012  POPESTIMATE2013       2014  POPESTIMATE2015  Change  \\\n0            3926540          3931141    3949775          3978038       0   \n1            3977939          3942872    3949776          3968564       0   \n2            3980095          3992720    3959664          3966583       0   \n3            3983157          3992734    4007079          3974061       0   \n4            4112849          3994449    4005716          4020035       0   \n..               ...              ...        ...              ...     ...   \n301            59533            61255      62779            69285       0   \n302            42857            44359      46208            47272       0   \n303            29320            31112      32517            34064       0   \n304            50661            53902      58008            61886       0   \n305        159581546        160720625  161952064        163189523       0   \n\n     Percentage_Change  \n0                    0  \n1                    0  \n2                    0  \n3                    0  \n4                    0  \n..                 ...  \n301                  0  \n302                  0  \n303                  0  \n304                  0  \n305                  0  \n\n[306 rows x 12 columns]",
      "text/html": "<div>\n<style scoped>\n    .dataframe tbody tr th:only-of-type {\n        vertical-align: middle;\n    }\n\n    .dataframe tbody tr th {\n        vertical-align: top;\n    }\n\n    .dataframe thead th {\n        text-align: right;\n    }\n</style>\n<table border=\"1\" class=\"dataframe\">\n  <thead>\n    <tr style=\"text-align: right;\">\n      <th></th>\n      <th>SEX</th>\n      <th>AGE</th>\n      <th>CENSUS2010POP</th>\n      <th>ESTIMATESBASE2010</th>\n      <th>2010</th>\n      <th>POPESTIMATE2011</th>\n      <th>POPESTIMATE2012</th>\n      <th>POPESTIMATE2013</th>\n      <th>2014</th>\n      <th>POPESTIMATE2015</th>\n      <th>Change</th>\n      <th>Percentage_Change</th>\n    </tr>\n  </thead>\n  <tbody>\n    <tr>\n      <th>0</th>\n      <td>0</td>\n      <td>0</td>\n      <td>3944153</td>\n      <td>3944160</td>\n      <td>3951330</td>\n      <td>3963087</td>\n      <td>3926540</td>\n      <td>3931141</td>\n      <td>3949775</td>\n      <td>3978038</td>\n      <td>0</td>\n      <td>0</td>\n    </tr>\n    <tr>\n      <th>1</th>\n      <td>0</td>\n      <td>1</td>\n      <td>3978070</td>\n      <td>3978090</td>\n      <td>3957888</td>\n      <td>3966551</td>\n      <td>3977939</td>\n      <td>3942872</td>\n      <td>3949776</td>\n      <td>3968564</td>\n      <td>0</td>\n      <td>0</td>\n    </tr>\n    <tr>\n      <th>2</th>\n      <td>0</td>\n      <td>2</td>\n      <td>4096929</td>\n      <td>4096939</td>\n      <td>4090862</td>\n      <td>3971565</td>\n      <td>3980095</td>\n      <td>3992720</td>\n      <td>3959664</td>\n      <td>3966583</td>\n      <td>0</td>\n      <td>0</td>\n    </tr>\n    <tr>\n      <th>3</th>\n      <td>0</td>\n      <td>3</td>\n      <td>4119040</td>\n      <td>4119051</td>\n      <td>4111920</td>\n      <td>4102470</td>\n      <td>3983157</td>\n      <td>3992734</td>\n      <td>4007079</td>\n      <td>3974061</td>\n      <td>0</td>\n      <td>0</td>\n    </tr>\n    <tr>\n      <th>4</th>\n      <td>0</td>\n      <td>4</td>\n      <td>4063170</td>\n      <td>4063186</td>\n      <td>4077551</td>\n      <td>4122294</td>\n      <td>4112849</td>\n      <td>3994449</td>\n      <td>4005716</td>\n      <td>4020035</td>\n      <td>0</td>\n      <td>0</td>\n    </tr>\n    <tr>\n      <th>...</th>\n      <td>...</td>\n      <td>...</td>\n      <td>...</td>\n      <td>...</td>\n      <td>...</td>\n      <td>...</td>\n      <td>...</td>\n      <td>...</td>\n      <td>...</td>\n      <td>...</td>\n      <td>...</td>\n      <td>...</td>\n    </tr>\n    <tr>\n      <th>301</th>\n      <td>2</td>\n      <td>97</td>\n      <td>53582</td>\n      <td>53605</td>\n      <td>54118</td>\n      <td>57159</td>\n      <td>59533</td>\n      <td>61255</td>\n      <td>62779</td>\n      <td>69285</td>\n      <td>0</td>\n      <td>0</td>\n    </tr>\n    <tr>\n      <th>302</th>\n      <td>2</td>\n      <td>98</td>\n      <td>36641</td>\n      <td>36675</td>\n      <td>37532</td>\n      <td>40116</td>\n      <td>42857</td>\n      <td>44359</td>\n      <td>46208</td>\n      <td>47272</td>\n      <td>0</td>\n      <td>0</td>\n    </tr>\n    <tr>\n      <th>303</th>\n      <td>2</td>\n      <td>99</td>\n      <td>26193</td>\n      <td>26214</td>\n      <td>26074</td>\n      <td>27030</td>\n      <td>29320</td>\n      <td>31112</td>\n      <td>32517</td>\n      <td>34064</td>\n      <td>0</td>\n      <td>0</td>\n    </tr>\n    <tr>\n      <th>304</th>\n      <td>2</td>\n      <td>100</td>\n      <td>44202</td>\n      <td>44246</td>\n      <td>45058</td>\n      <td>47556</td>\n      <td>50661</td>\n      <td>53902</td>\n      <td>58008</td>\n      <td>61886</td>\n      <td>0</td>\n      <td>0</td>\n    </tr>\n    <tr>\n      <th>305</th>\n      <td>2</td>\n      <td>999</td>\n      <td>156964212</td>\n      <td>156969328</td>\n      <td>157258820</td>\n      <td>158427085</td>\n      <td>159581546</td>\n      <td>160720625</td>\n      <td>161952064</td>\n      <td>163189523</td>\n      <td>0</td>\n      <td>0</td>\n    </tr>\n  </tbody>\n</table>\n<p>306 rows × 12 columns</p>\n</div>"
     },
     "execution_count": 13,
     "metadata": {},
     "output_type": "execute_result"
    }
   ],
   "source": [
    "df"
   ],
   "metadata": {
    "collapsed": false
   }
  },
  {
   "cell_type": "code",
   "execution_count": 32,
   "outputs": [],
   "source": [
    "boys_infant = df[(df['SEX'] == 0) & (df['AGE'] == 0)]\n",
    "girl_infant = df[(df['SEX'] == 1) & (df['AGE'] == 0)]"
   ],
   "metadata": {
    "collapsed": false
   }
  },
  {
   "cell_type": "code",
   "execution_count": 33,
   "outputs": [
    {
     "name": "stdout",
     "output_type": "stream",
     "text": [
      "[[3944153 3944160 3951330 3963087 3926540 3931141 3949775 3978038]]\n"
     ]
    }
   ],
   "source": [
    "boys_infant = boys_infant.iloc[:, 2:-2].values\n",
    "print(boys_infant)"
   ],
   "metadata": {
    "collapsed": false
   }
  },
  {
   "cell_type": "code",
   "execution_count": 34,
   "outputs": [
    {
     "name": "stdout",
     "output_type": "stream",
     "text": [
      "[[2014276 2014278 2018420 2028427 2007717 2009528 2020326 2035134]]\n"
     ]
    }
   ],
   "source": [
    "girl_infant = girl_infant.iloc[:, 2:-2].values\n",
    "print(girl_infant)"
   ],
   "metadata": {
    "collapsed": false
   }
  },
  {
   "cell_type": "code",
   "execution_count": 35,
   "outputs": [
    {
     "name": "stdout",
     "output_type": "stream",
     "text": [
      "[[0.51069926 0.51069886 0.51082041 0.51183005 0.51131964 0.51118187\n",
      "  0.51150407 0.5115924 ]]\n"
     ]
    }
   ],
   "source": [
    "ratio_df = girl_infant/boys_infant\n",
    "print(ratio_df)"
   ],
   "metadata": {
    "collapsed": false
   }
  },
  {
   "cell_type": "code",
   "execution_count": 42,
   "outputs": [],
   "source": [
    "df_ratio = pd.DataFrame(ratio_df, columns=df.columns[2:-2])"
   ],
   "metadata": {
    "collapsed": false
   }
  },
  {
   "cell_type": "code",
   "execution_count": 43,
   "outputs": [
    {
     "data": {
      "text/plain": "   CENSUS2010POP  ESTIMATESBASE2010     2010  POPESTIMATE2011  \\\n0       0.510699           0.510699  0.51082          0.51183   \n\n   POPESTIMATE2012  POPESTIMATE2013      2014  POPESTIMATE2015  \n0          0.51132         0.511182  0.511504         0.511592  ",
      "text/html": "<div>\n<style scoped>\n    .dataframe tbody tr th:only-of-type {\n        vertical-align: middle;\n    }\n\n    .dataframe tbody tr th {\n        vertical-align: top;\n    }\n\n    .dataframe thead th {\n        text-align: right;\n    }\n</style>\n<table border=\"1\" class=\"dataframe\">\n  <thead>\n    <tr style=\"text-align: right;\">\n      <th></th>\n      <th>CENSUS2010POP</th>\n      <th>ESTIMATESBASE2010</th>\n      <th>2010</th>\n      <th>POPESTIMATE2011</th>\n      <th>POPESTIMATE2012</th>\n      <th>POPESTIMATE2013</th>\n      <th>2014</th>\n      <th>POPESTIMATE2015</th>\n    </tr>\n  </thead>\n  <tbody>\n    <tr>\n      <th>0</th>\n      <td>0.510699</td>\n      <td>0.510699</td>\n      <td>0.51082</td>\n      <td>0.51183</td>\n      <td>0.51132</td>\n      <td>0.511182</td>\n      <td>0.511504</td>\n      <td>0.511592</td>\n    </tr>\n  </tbody>\n</table>\n</div>"
     },
     "execution_count": 43,
     "metadata": {},
     "output_type": "execute_result"
    }
   ],
   "source": [
    "df_ratio"
   ],
   "metadata": {
    "collapsed": false
   }
  },
  {
   "cell_type": "code",
   "execution_count": null,
   "outputs": [],
   "source": [],
   "metadata": {
    "collapsed": false
   }
  }
 ],
 "metadata": {
  "kernelspec": {
   "display_name": "Python 3",
   "language": "python",
   "name": "python3"
  },
  "language_info": {
   "codemirror_mode": {
    "name": "ipython",
    "version": 2
   },
   "file_extension": ".py",
   "mimetype": "text/x-python",
   "name": "python",
   "nbconvert_exporter": "python",
   "pygments_lexer": "ipython2",
   "version": "2.7.6"
  }
 },
 "nbformat": 4,
 "nbformat_minor": 0
}
