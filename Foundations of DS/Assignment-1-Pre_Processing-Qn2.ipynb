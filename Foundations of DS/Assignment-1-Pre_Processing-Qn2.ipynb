{
 "cells": [
  {
   "cell_type": "markdown",
   "source": [
    "# Question 2"
   ],
   "metadata": {
    "collapsed": false
   }
  },
  {
   "cell_type": "code",
   "execution_count": 15,
   "metadata": {
    "collapsed": true
   },
   "outputs": [],
   "source": [
    "import numpy as np\n",
    "import pandas as pd\n",
    "import matplotlib.pyplot as plt\n",
    "import seaborn as sns"
   ]
  },
  {
   "cell_type": "code",
   "execution_count": 16,
   "outputs": [
    {
     "data": {
      "text/plain": "              PLAYER POSITION                TEAM     SALARY\n0       Paul Millsap       PF       Atlanta Hawks  18.671659\n1         Al Horford        C       Atlanta Hawks  12.000000\n2     Tiago Splitter        C       Atlanta Hawks   9.756250\n3        Jeff Teague       PG       Atlanta Hawks   8.000000\n4        Kyle Korver       SG       Atlanta Hawks   5.746479\n..               ...      ...                 ...        ...\n412        Gary Neal       PG  Washington Wizards   2.139000\n413     DeJuan Blair        C  Washington Wizards   2.000000\n414  Kelly Oubre Jr.       SF  Washington Wizards   1.920240\n415   Garrett Temple       SG  Washington Wizards   1.100602\n416     Jarell Eddie       SG  Washington Wizards   0.561716\n\n[417 rows x 4 columns]",
      "text/html": "<div>\n<style scoped>\n    .dataframe tbody tr th:only-of-type {\n        vertical-align: middle;\n    }\n\n    .dataframe tbody tr th {\n        vertical-align: top;\n    }\n\n    .dataframe thead th {\n        text-align: right;\n    }\n</style>\n<table border=\"1\" class=\"dataframe\">\n  <thead>\n    <tr style=\"text-align: right;\">\n      <th></th>\n      <th>PLAYER</th>\n      <th>POSITION</th>\n      <th>TEAM</th>\n      <th>SALARY</th>\n    </tr>\n  </thead>\n  <tbody>\n    <tr>\n      <th>0</th>\n      <td>Paul Millsap</td>\n      <td>PF</td>\n      <td>Atlanta Hawks</td>\n      <td>18.671659</td>\n    </tr>\n    <tr>\n      <th>1</th>\n      <td>Al Horford</td>\n      <td>C</td>\n      <td>Atlanta Hawks</td>\n      <td>12.000000</td>\n    </tr>\n    <tr>\n      <th>2</th>\n      <td>Tiago Splitter</td>\n      <td>C</td>\n      <td>Atlanta Hawks</td>\n      <td>9.756250</td>\n    </tr>\n    <tr>\n      <th>3</th>\n      <td>Jeff Teague</td>\n      <td>PG</td>\n      <td>Atlanta Hawks</td>\n      <td>8.000000</td>\n    </tr>\n    <tr>\n      <th>4</th>\n      <td>Kyle Korver</td>\n      <td>SG</td>\n      <td>Atlanta Hawks</td>\n      <td>5.746479</td>\n    </tr>\n    <tr>\n      <th>...</th>\n      <td>...</td>\n      <td>...</td>\n      <td>...</td>\n      <td>...</td>\n    </tr>\n    <tr>\n      <th>412</th>\n      <td>Gary Neal</td>\n      <td>PG</td>\n      <td>Washington Wizards</td>\n      <td>2.139000</td>\n    </tr>\n    <tr>\n      <th>413</th>\n      <td>DeJuan Blair</td>\n      <td>C</td>\n      <td>Washington Wizards</td>\n      <td>2.000000</td>\n    </tr>\n    <tr>\n      <th>414</th>\n      <td>Kelly Oubre Jr.</td>\n      <td>SF</td>\n      <td>Washington Wizards</td>\n      <td>1.920240</td>\n    </tr>\n    <tr>\n      <th>415</th>\n      <td>Garrett Temple</td>\n      <td>SG</td>\n      <td>Washington Wizards</td>\n      <td>1.100602</td>\n    </tr>\n    <tr>\n      <th>416</th>\n      <td>Jarell Eddie</td>\n      <td>SG</td>\n      <td>Washington Wizards</td>\n      <td>0.561716</td>\n    </tr>\n  </tbody>\n</table>\n<p>417 rows × 4 columns</p>\n</div>"
     },
     "execution_count": 16,
     "metadata": {},
     "output_type": "execute_result"
    }
   ],
   "source": [
    "nba_df = pd.read_csv(\"data/nba_salaries.csv\", sep=\",\")\n",
    "nba_df"
   ],
   "metadata": {
    "collapsed": false
   }
  },
  {
   "cell_type": "code",
   "execution_count": 17,
   "outputs": [
    {
     "name": "stdout",
     "output_type": "stream",
     "text": [
      "Rows:  417\n",
      "Columns:  4\n"
     ]
    }
   ],
   "source": [
    "print(\"Rows: \", len(nba_df))\n",
    "print(\"Columns: \", len(nba_df.loc[0, :]))"
   ],
   "metadata": {
    "collapsed": false
   }
  },
  {
   "cell_type": "code",
   "execution_count": 21,
   "outputs": [
    {
     "data": {
      "text/plain": "              PLAYER POSITION                    TEAM     SALARY\n0       Aaron Brooks       PG           Chicago Bulls   2.250000\n1       Aaron Gordon       PF           Orlando Magic   4.171680\n2     Aaron Harrison       SG       Charlotte Hornets   0.525093\n3      Adreian Payne       PF  Minnesota Timberwolves   1.938840\n4         Al Horford        C           Atlanta Hawks  12.000000\n..               ...      ...                     ...        ...\n412  Wilson Chandler       SF          Denver Nuggets  10.449438\n413      Zach LaVine       PG  Minnesota Timberwolves   2.148360\n414    Zach Randolph       PF       Memphis Grizzlies   9.638555\n415    Zaza Pachulia        C        Dallas Mavericks   5.200000\n416     Zoran Dragic       SG          Boston Celtics   1.706225\n\n[417 rows x 4 columns]",
      "text/html": "<div>\n<style scoped>\n    .dataframe tbody tr th:only-of-type {\n        vertical-align: middle;\n    }\n\n    .dataframe tbody tr th {\n        vertical-align: top;\n    }\n\n    .dataframe thead th {\n        text-align: right;\n    }\n</style>\n<table border=\"1\" class=\"dataframe\">\n  <thead>\n    <tr style=\"text-align: right;\">\n      <th></th>\n      <th>PLAYER</th>\n      <th>POSITION</th>\n      <th>TEAM</th>\n      <th>SALARY</th>\n    </tr>\n  </thead>\n  <tbody>\n    <tr>\n      <th>0</th>\n      <td>Aaron Brooks</td>\n      <td>PG</td>\n      <td>Chicago Bulls</td>\n      <td>2.250000</td>\n    </tr>\n    <tr>\n      <th>1</th>\n      <td>Aaron Gordon</td>\n      <td>PF</td>\n      <td>Orlando Magic</td>\n      <td>4.171680</td>\n    </tr>\n    <tr>\n      <th>2</th>\n      <td>Aaron Harrison</td>\n      <td>SG</td>\n      <td>Charlotte Hornets</td>\n      <td>0.525093</td>\n    </tr>\n    <tr>\n      <th>3</th>\n      <td>Adreian Payne</td>\n      <td>PF</td>\n      <td>Minnesota Timberwolves</td>\n      <td>1.938840</td>\n    </tr>\n    <tr>\n      <th>4</th>\n      <td>Al Horford</td>\n      <td>C</td>\n      <td>Atlanta Hawks</td>\n      <td>12.000000</td>\n    </tr>\n    <tr>\n      <th>...</th>\n      <td>...</td>\n      <td>...</td>\n      <td>...</td>\n      <td>...</td>\n    </tr>\n    <tr>\n      <th>412</th>\n      <td>Wilson Chandler</td>\n      <td>SF</td>\n      <td>Denver Nuggets</td>\n      <td>10.449438</td>\n    </tr>\n    <tr>\n      <th>413</th>\n      <td>Zach LaVine</td>\n      <td>PG</td>\n      <td>Minnesota Timberwolves</td>\n      <td>2.148360</td>\n    </tr>\n    <tr>\n      <th>414</th>\n      <td>Zach Randolph</td>\n      <td>PF</td>\n      <td>Memphis Grizzlies</td>\n      <td>9.638555</td>\n    </tr>\n    <tr>\n      <th>415</th>\n      <td>Zaza Pachulia</td>\n      <td>C</td>\n      <td>Dallas Mavericks</td>\n      <td>5.200000</td>\n    </tr>\n    <tr>\n      <th>416</th>\n      <td>Zoran Dragic</td>\n      <td>SG</td>\n      <td>Boston Celtics</td>\n      <td>1.706225</td>\n    </tr>\n  </tbody>\n</table>\n<p>417 rows × 4 columns</p>\n</div>"
     },
     "execution_count": 21,
     "metadata": {},
     "output_type": "execute_result"
    }
   ],
   "source": [
    "nba_df.sort_values(by=\"PLAYER\", ignore_index=True)"
   ],
   "metadata": {
    "collapsed": false
   }
  },
  {
   "cell_type": "code",
   "execution_count": 23,
   "outputs": [
    {
     "data": {
      "text/plain": "                     PLAYER POSITION                 TEAM     SALARY\n267  Thanasis Antetokounmpo       SF      New York Knicks   0.030888\n327          Cory Jefferson       PF         Phoenix Suns   0.049709\n326            Jordan McRae       SG         Phoenix Suns   0.049709\n324         Orlando Johnson       SG         Phoenix Suns   0.055722\n325            Phil Pressey       PG         Phoenix Suns   0.055722\n..                      ...      ...                  ...        ...\n131           Dwight Howard        C      Houston Rockets  22.359364\n255         Carmelo Anthony       SF      New York Knicks  22.875000\n72             LeBron James       SF  Cleveland Cavaliers  22.970500\n29              Joe Johnson       SF        Brooklyn Nets  24.894863\n169             Kobe Bryant       SF   Los Angeles Lakers  25.000000\n\n[417 rows x 4 columns]",
      "text/html": "<div>\n<style scoped>\n    .dataframe tbody tr th:only-of-type {\n        vertical-align: middle;\n    }\n\n    .dataframe tbody tr th {\n        vertical-align: top;\n    }\n\n    .dataframe thead th {\n        text-align: right;\n    }\n</style>\n<table border=\"1\" class=\"dataframe\">\n  <thead>\n    <tr style=\"text-align: right;\">\n      <th></th>\n      <th>PLAYER</th>\n      <th>POSITION</th>\n      <th>TEAM</th>\n      <th>SALARY</th>\n    </tr>\n  </thead>\n  <tbody>\n    <tr>\n      <th>267</th>\n      <td>Thanasis Antetokounmpo</td>\n      <td>SF</td>\n      <td>New York Knicks</td>\n      <td>0.030888</td>\n    </tr>\n    <tr>\n      <th>327</th>\n      <td>Cory Jefferson</td>\n      <td>PF</td>\n      <td>Phoenix Suns</td>\n      <td>0.049709</td>\n    </tr>\n    <tr>\n      <th>326</th>\n      <td>Jordan McRae</td>\n      <td>SG</td>\n      <td>Phoenix Suns</td>\n      <td>0.049709</td>\n    </tr>\n    <tr>\n      <th>324</th>\n      <td>Orlando Johnson</td>\n      <td>SG</td>\n      <td>Phoenix Suns</td>\n      <td>0.055722</td>\n    </tr>\n    <tr>\n      <th>325</th>\n      <td>Phil Pressey</td>\n      <td>PG</td>\n      <td>Phoenix Suns</td>\n      <td>0.055722</td>\n    </tr>\n    <tr>\n      <th>...</th>\n      <td>...</td>\n      <td>...</td>\n      <td>...</td>\n      <td>...</td>\n    </tr>\n    <tr>\n      <th>131</th>\n      <td>Dwight Howard</td>\n      <td>C</td>\n      <td>Houston Rockets</td>\n      <td>22.359364</td>\n    </tr>\n    <tr>\n      <th>255</th>\n      <td>Carmelo Anthony</td>\n      <td>SF</td>\n      <td>New York Knicks</td>\n      <td>22.875000</td>\n    </tr>\n    <tr>\n      <th>72</th>\n      <td>LeBron James</td>\n      <td>SF</td>\n      <td>Cleveland Cavaliers</td>\n      <td>22.970500</td>\n    </tr>\n    <tr>\n      <th>29</th>\n      <td>Joe Johnson</td>\n      <td>SF</td>\n      <td>Brooklyn Nets</td>\n      <td>24.894863</td>\n    </tr>\n    <tr>\n      <th>169</th>\n      <td>Kobe Bryant</td>\n      <td>SF</td>\n      <td>Los Angeles Lakers</td>\n      <td>25.000000</td>\n    </tr>\n  </tbody>\n</table>\n<p>417 rows × 4 columns</p>\n</div>"
     },
     "execution_count": 23,
     "metadata": {},
     "output_type": "execute_result"
    }
   ],
   "source": [
    "nba_df.sort_values(by=\"SALARY\", ascending=True)"
   ],
   "metadata": {
    "collapsed": false
   }
  },
  {
   "cell_type": "code",
   "execution_count": 24,
   "outputs": [
    {
     "data": {
      "text/plain": "                     PLAYER POSITION                 TEAM     SALARY\n169             Kobe Bryant       SF   Los Angeles Lakers  25.000000\n29              Joe Johnson       SF        Brooklyn Nets  24.894863\n72             LeBron James       SF  Cleveland Cavaliers  22.970500\n255         Carmelo Anthony       SF      New York Knicks  22.875000\n131           Dwight Howard        C      Houston Rockets  22.359364\n..                      ...      ...                  ...        ...\n200         Elliot Williams       SG    Memphis Grizzlies   0.055722\n324         Orlando Johnson       SG         Phoenix Suns   0.055722\n327          Cory Jefferson       PF         Phoenix Suns   0.049709\n326            Jordan McRae       SG         Phoenix Suns   0.049709\n267  Thanasis Antetokounmpo       SF      New York Knicks   0.030888\n\n[417 rows x 4 columns]",
      "text/html": "<div>\n<style scoped>\n    .dataframe tbody tr th:only-of-type {\n        vertical-align: middle;\n    }\n\n    .dataframe tbody tr th {\n        vertical-align: top;\n    }\n\n    .dataframe thead th {\n        text-align: right;\n    }\n</style>\n<table border=\"1\" class=\"dataframe\">\n  <thead>\n    <tr style=\"text-align: right;\">\n      <th></th>\n      <th>PLAYER</th>\n      <th>POSITION</th>\n      <th>TEAM</th>\n      <th>SALARY</th>\n    </tr>\n  </thead>\n  <tbody>\n    <tr>\n      <th>169</th>\n      <td>Kobe Bryant</td>\n      <td>SF</td>\n      <td>Los Angeles Lakers</td>\n      <td>25.000000</td>\n    </tr>\n    <tr>\n      <th>29</th>\n      <td>Joe Johnson</td>\n      <td>SF</td>\n      <td>Brooklyn Nets</td>\n      <td>24.894863</td>\n    </tr>\n    <tr>\n      <th>72</th>\n      <td>LeBron James</td>\n      <td>SF</td>\n      <td>Cleveland Cavaliers</td>\n      <td>22.970500</td>\n    </tr>\n    <tr>\n      <th>255</th>\n      <td>Carmelo Anthony</td>\n      <td>SF</td>\n      <td>New York Knicks</td>\n      <td>22.875000</td>\n    </tr>\n    <tr>\n      <th>131</th>\n      <td>Dwight Howard</td>\n      <td>C</td>\n      <td>Houston Rockets</td>\n      <td>22.359364</td>\n    </tr>\n    <tr>\n      <th>...</th>\n      <td>...</td>\n      <td>...</td>\n      <td>...</td>\n      <td>...</td>\n    </tr>\n    <tr>\n      <th>200</th>\n      <td>Elliot Williams</td>\n      <td>SG</td>\n      <td>Memphis Grizzlies</td>\n      <td>0.055722</td>\n    </tr>\n    <tr>\n      <th>324</th>\n      <td>Orlando Johnson</td>\n      <td>SG</td>\n      <td>Phoenix Suns</td>\n      <td>0.055722</td>\n    </tr>\n    <tr>\n      <th>327</th>\n      <td>Cory Jefferson</td>\n      <td>PF</td>\n      <td>Phoenix Suns</td>\n      <td>0.049709</td>\n    </tr>\n    <tr>\n      <th>326</th>\n      <td>Jordan McRae</td>\n      <td>SG</td>\n      <td>Phoenix Suns</td>\n      <td>0.049709</td>\n    </tr>\n    <tr>\n      <th>267</th>\n      <td>Thanasis Antetokounmpo</td>\n      <td>SF</td>\n      <td>New York Knicks</td>\n      <td>0.030888</td>\n    </tr>\n  </tbody>\n</table>\n<p>417 rows × 4 columns</p>\n</div>"
     },
     "execution_count": 24,
     "metadata": {},
     "output_type": "execute_result"
    }
   ],
   "source": [
    "nba_df.sort_values(by=\"SALARY\", ascending=False)"
   ],
   "metadata": {
    "collapsed": false
   }
  },
  {
   "cell_type": "code",
   "execution_count": 25,
   "outputs": [
    {
     "data": {
      "text/plain": "           PLAYER POSITION           TEAM     SALARY\n0    Paul Millsap       PF  Atlanta Hawks  18.671659\n1      Al Horford        C  Atlanta Hawks  12.000000\n2  Tiago Splitter        C  Atlanta Hawks   9.756250\n3     Jeff Teague       PG  Atlanta Hawks   8.000000\n4     Kyle Korver       SG  Atlanta Hawks   5.746479",
      "text/html": "<div>\n<style scoped>\n    .dataframe tbody tr th:only-of-type {\n        vertical-align: middle;\n    }\n\n    .dataframe tbody tr th {\n        vertical-align: top;\n    }\n\n    .dataframe thead th {\n        text-align: right;\n    }\n</style>\n<table border=\"1\" class=\"dataframe\">\n  <thead>\n    <tr style=\"text-align: right;\">\n      <th></th>\n      <th>PLAYER</th>\n      <th>POSITION</th>\n      <th>TEAM</th>\n      <th>SALARY</th>\n    </tr>\n  </thead>\n  <tbody>\n    <tr>\n      <th>0</th>\n      <td>Paul Millsap</td>\n      <td>PF</td>\n      <td>Atlanta Hawks</td>\n      <td>18.671659</td>\n    </tr>\n    <tr>\n      <th>1</th>\n      <td>Al Horford</td>\n      <td>C</td>\n      <td>Atlanta Hawks</td>\n      <td>12.000000</td>\n    </tr>\n    <tr>\n      <th>2</th>\n      <td>Tiago Splitter</td>\n      <td>C</td>\n      <td>Atlanta Hawks</td>\n      <td>9.756250</td>\n    </tr>\n    <tr>\n      <th>3</th>\n      <td>Jeff Teague</td>\n      <td>PG</td>\n      <td>Atlanta Hawks</td>\n      <td>8.000000</td>\n    </tr>\n    <tr>\n      <th>4</th>\n      <td>Kyle Korver</td>\n      <td>SG</td>\n      <td>Atlanta Hawks</td>\n      <td>5.746479</td>\n    </tr>\n  </tbody>\n</table>\n</div>"
     },
     "execution_count": 25,
     "metadata": {},
     "output_type": "execute_result"
    }
   ],
   "source": [
    "nba_df.head()"
   ],
   "metadata": {
    "collapsed": false
   }
  },
  {
   "cell_type": "code",
   "execution_count": 26,
   "outputs": [
    {
     "data": {
      "text/plain": "            PLAYER POSITION            TEAM   SALARY\n3      Jeff Teague       PG   Atlanta Hawks  8.00000\n10  Walter Tavares        C   Atlanta Hawks  1.00000\n22    Kelly Olynyk        C  Boston Celtics  2.16516",
      "text/html": "<div>\n<style scoped>\n    .dataframe tbody tr th:only-of-type {\n        vertical-align: middle;\n    }\n\n    .dataframe tbody tr th {\n        vertical-align: top;\n    }\n\n    .dataframe thead th {\n        text-align: right;\n    }\n</style>\n<table border=\"1\" class=\"dataframe\">\n  <thead>\n    <tr style=\"text-align: right;\">\n      <th></th>\n      <th>PLAYER</th>\n      <th>POSITION</th>\n      <th>TEAM</th>\n      <th>SALARY</th>\n    </tr>\n  </thead>\n  <tbody>\n    <tr>\n      <th>3</th>\n      <td>Jeff Teague</td>\n      <td>PG</td>\n      <td>Atlanta Hawks</td>\n      <td>8.00000</td>\n    </tr>\n    <tr>\n      <th>10</th>\n      <td>Walter Tavares</td>\n      <td>C</td>\n      <td>Atlanta Hawks</td>\n      <td>1.00000</td>\n    </tr>\n    <tr>\n      <th>22</th>\n      <td>Kelly Olynyk</td>\n      <td>C</td>\n      <td>Boston Celtics</td>\n      <td>2.16516</td>\n    </tr>\n  </tbody>\n</table>\n</div>"
     },
     "execution_count": 26,
     "metadata": {},
     "output_type": "execute_result"
    }
   ],
   "source": [
    "nba_df.iloc[[3, 10, 22], :]"
   ],
   "metadata": {
    "collapsed": false
   }
  },
  {
   "cell_type": "code",
   "execution_count": 28,
   "outputs": [
    {
     "data": {
      "text/plain": "              PLAYER POSITION                 TEAM     SALARY\n169      Kobe Bryant       SF   Los Angeles Lakers  25.000000\n29       Joe Johnson       SF        Brooklyn Nets  24.894863\n72      LeBron James       SF  Cleveland Cavaliers  22.970500\n255  Carmelo Anthony       SF      New York Knicks  22.875000\n131    Dwight Howard        C      Houston Rockets  22.359364",
      "text/html": "<div>\n<style scoped>\n    .dataframe tbody tr th:only-of-type {\n        vertical-align: middle;\n    }\n\n    .dataframe tbody tr th {\n        vertical-align: top;\n    }\n\n    .dataframe thead th {\n        text-align: right;\n    }\n</style>\n<table border=\"1\" class=\"dataframe\">\n  <thead>\n    <tr style=\"text-align: right;\">\n      <th></th>\n      <th>PLAYER</th>\n      <th>POSITION</th>\n      <th>TEAM</th>\n      <th>SALARY</th>\n    </tr>\n  </thead>\n  <tbody>\n    <tr>\n      <th>169</th>\n      <td>Kobe Bryant</td>\n      <td>SF</td>\n      <td>Los Angeles Lakers</td>\n      <td>25.000000</td>\n    </tr>\n    <tr>\n      <th>29</th>\n      <td>Joe Johnson</td>\n      <td>SF</td>\n      <td>Brooklyn Nets</td>\n      <td>24.894863</td>\n    </tr>\n    <tr>\n      <th>72</th>\n      <td>LeBron James</td>\n      <td>SF</td>\n      <td>Cleveland Cavaliers</td>\n      <td>22.970500</td>\n    </tr>\n    <tr>\n      <th>255</th>\n      <td>Carmelo Anthony</td>\n      <td>SF</td>\n      <td>New York Knicks</td>\n      <td>22.875000</td>\n    </tr>\n    <tr>\n      <th>131</th>\n      <td>Dwight Howard</td>\n      <td>C</td>\n      <td>Houston Rockets</td>\n      <td>22.359364</td>\n    </tr>\n  </tbody>\n</table>\n</div>"
     },
     "execution_count": 28,
     "metadata": {},
     "output_type": "execute_result"
    }
   ],
   "source": [
    "nba_df.sort_values(by=\"SALARY\", ascending=False).head()"
   ],
   "metadata": {
    "collapsed": false
   }
  },
  {
   "cell_type": "code",
   "execution_count": 29,
   "outputs": [
    {
     "data": {
      "text/plain": "             PLAYER POSITION                TEAM     SALARY\n0      Paul Millsap       PF       Atlanta Hawks  18.671659\n1        Al Horford        C       Atlanta Hawks  12.000000\n29      Joe Johnson       SF       Brooklyn Nets  24.894863\n30   Thaddeus Young       PF       Brooklyn Nets  11.235955\n42     Al Jefferson        C   Charlotte Hornets  13.500000\n..              ...      ...                 ...        ...\n368   DeMar DeRozan       SG     Toronto Raptors  10.050000\n383  Gordon Hayward       SF           Utah Jazz  15.409570\n400       John Wall       PG  Washington Wizards  15.851950\n401    Nene Hilario        C  Washington Wizards  13.000000\n402   Marcin Gortat        C  Washington Wizards  11.217391\n\n[69 rows x 4 columns]",
      "text/html": "<div>\n<style scoped>\n    .dataframe tbody tr th:only-of-type {\n        vertical-align: middle;\n    }\n\n    .dataframe tbody tr th {\n        vertical-align: top;\n    }\n\n    .dataframe thead th {\n        text-align: right;\n    }\n</style>\n<table border=\"1\" class=\"dataframe\">\n  <thead>\n    <tr style=\"text-align: right;\">\n      <th></th>\n      <th>PLAYER</th>\n      <th>POSITION</th>\n      <th>TEAM</th>\n      <th>SALARY</th>\n    </tr>\n  </thead>\n  <tbody>\n    <tr>\n      <th>0</th>\n      <td>Paul Millsap</td>\n      <td>PF</td>\n      <td>Atlanta Hawks</td>\n      <td>18.671659</td>\n    </tr>\n    <tr>\n      <th>1</th>\n      <td>Al Horford</td>\n      <td>C</td>\n      <td>Atlanta Hawks</td>\n      <td>12.000000</td>\n    </tr>\n    <tr>\n      <th>29</th>\n      <td>Joe Johnson</td>\n      <td>SF</td>\n      <td>Brooklyn Nets</td>\n      <td>24.894863</td>\n    </tr>\n    <tr>\n      <th>30</th>\n      <td>Thaddeus Young</td>\n      <td>PF</td>\n      <td>Brooklyn Nets</td>\n      <td>11.235955</td>\n    </tr>\n    <tr>\n      <th>42</th>\n      <td>Al Jefferson</td>\n      <td>C</td>\n      <td>Charlotte Hornets</td>\n      <td>13.500000</td>\n    </tr>\n    <tr>\n      <th>...</th>\n      <td>...</td>\n      <td>...</td>\n      <td>...</td>\n      <td>...</td>\n    </tr>\n    <tr>\n      <th>368</th>\n      <td>DeMar DeRozan</td>\n      <td>SG</td>\n      <td>Toronto Raptors</td>\n      <td>10.050000</td>\n    </tr>\n    <tr>\n      <th>383</th>\n      <td>Gordon Hayward</td>\n      <td>SF</td>\n      <td>Utah Jazz</td>\n      <td>15.409570</td>\n    </tr>\n    <tr>\n      <th>400</th>\n      <td>John Wall</td>\n      <td>PG</td>\n      <td>Washington Wizards</td>\n      <td>15.851950</td>\n    </tr>\n    <tr>\n      <th>401</th>\n      <td>Nene Hilario</td>\n      <td>C</td>\n      <td>Washington Wizards</td>\n      <td>13.000000</td>\n    </tr>\n    <tr>\n      <th>402</th>\n      <td>Marcin Gortat</td>\n      <td>C</td>\n      <td>Washington Wizards</td>\n      <td>11.217391</td>\n    </tr>\n  </tbody>\n</table>\n<p>69 rows × 4 columns</p>\n</div>"
     },
     "execution_count": 29,
     "metadata": {},
     "output_type": "execute_result"
    }
   ],
   "source": [
    "nba_df[nba_df[\"SALARY\"] > 10]"
   ],
   "metadata": {
    "collapsed": false
   }
  },
  {
   "cell_type": "code",
   "execution_count": 31,
   "outputs": [
    {
     "data": {
      "text/plain": "121    11.370786\nName: SALARY, dtype: float64"
     },
     "execution_count": 31,
     "metadata": {},
     "output_type": "execute_result"
    }
   ],
   "source": [
    "nba_df[nba_df[\"PLAYER\"] == \"Stephen Curry\"][\"SALARY\"]"
   ],
   "metadata": {
    "collapsed": false
   }
  },
  {
   "cell_type": "code",
   "execution_count": 32,
   "outputs": [
    {
     "data": {
      "text/plain": "                PLAYER POSITION                   TEAM     SALARY\n60        Derrick Rose       PG          Chicago Bulls  20.093064\n74        Kyrie Irving       PG    Cleveland Cavaliers  16.407501\n156         Chris Paul       PG   Los Angeles Clippers  21.468695\n269  Russell Westbrook       PG  Oklahoma City Thunder  16.744218\n400          John Wall       PG     Washington Wizards  15.851950",
      "text/html": "<div>\n<style scoped>\n    .dataframe tbody tr th:only-of-type {\n        vertical-align: middle;\n    }\n\n    .dataframe tbody tr th {\n        vertical-align: top;\n    }\n\n    .dataframe thead th {\n        text-align: right;\n    }\n</style>\n<table border=\"1\" class=\"dataframe\">\n  <thead>\n    <tr style=\"text-align: right;\">\n      <th></th>\n      <th>PLAYER</th>\n      <th>POSITION</th>\n      <th>TEAM</th>\n      <th>SALARY</th>\n    </tr>\n  </thead>\n  <tbody>\n    <tr>\n      <th>60</th>\n      <td>Derrick Rose</td>\n      <td>PG</td>\n      <td>Chicago Bulls</td>\n      <td>20.093064</td>\n    </tr>\n    <tr>\n      <th>74</th>\n      <td>Kyrie Irving</td>\n      <td>PG</td>\n      <td>Cleveland Cavaliers</td>\n      <td>16.407501</td>\n    </tr>\n    <tr>\n      <th>156</th>\n      <td>Chris Paul</td>\n      <td>PG</td>\n      <td>Los Angeles Clippers</td>\n      <td>21.468695</td>\n    </tr>\n    <tr>\n      <th>269</th>\n      <td>Russell Westbrook</td>\n      <td>PG</td>\n      <td>Oklahoma City Thunder</td>\n      <td>16.744218</td>\n    </tr>\n    <tr>\n      <th>400</th>\n      <td>John Wall</td>\n      <td>PG</td>\n      <td>Washington Wizards</td>\n      <td>15.851950</td>\n    </tr>\n  </tbody>\n</table>\n</div>"
     },
     "execution_count": 32,
     "metadata": {},
     "output_type": "execute_result"
    }
   ],
   "source": [
    "nba_df[(nba_df[\"POSITION\"] == \"PG\") & (nba_df[\"SALARY\"] > 15)]"
   ],
   "metadata": {
    "collapsed": false
   }
  },
  {
   "cell_type": "code",
   "execution_count": 34,
   "outputs": [
    {
     "data": {
      "text/plain": "                PLAYER POSITION                   TEAM     SALARY\n117      Klay Thompson       SG  Golden State Warriors  15.501000\n118     Draymond Green       PF  Golden State Warriors  14.260870\n119       Andrew Bogut        C  Golden State Warriors  13.800000\n120     Andre Iguodala       SF  Golden State Warriors  11.710456\n121      Stephen Curry       PG  Golden State Warriors  11.370786\n122     Jason Thompson       PF  Golden State Warriors   7.008475\n123   Shaun Livingston       PG  Golden State Warriors   5.543725\n124    Harrison Barnes       SF  Golden State Warriors   3.873398\n125  Marreese Speights        C  Golden State Warriors   3.815000\n126    Leandro Barbosa       SG  Golden State Warriors   2.500000\n127       Festus Ezeli        C  Golden State Warriors   2.008748\n128       Brandon Rush       SF  Golden State Warriors   1.270964\n129       Kevon Looney       SF  Golden State Warriors   1.131960\n130   Anderson Varejao       PF  Golden State Warriors   0.289755",
      "text/html": "<div>\n<style scoped>\n    .dataframe tbody tr th:only-of-type {\n        vertical-align: middle;\n    }\n\n    .dataframe tbody tr th {\n        vertical-align: top;\n    }\n\n    .dataframe thead th {\n        text-align: right;\n    }\n</style>\n<table border=\"1\" class=\"dataframe\">\n  <thead>\n    <tr style=\"text-align: right;\">\n      <th></th>\n      <th>PLAYER</th>\n      <th>POSITION</th>\n      <th>TEAM</th>\n      <th>SALARY</th>\n    </tr>\n  </thead>\n  <tbody>\n    <tr>\n      <th>117</th>\n      <td>Klay Thompson</td>\n      <td>SG</td>\n      <td>Golden State Warriors</td>\n      <td>15.501000</td>\n    </tr>\n    <tr>\n      <th>118</th>\n      <td>Draymond Green</td>\n      <td>PF</td>\n      <td>Golden State Warriors</td>\n      <td>14.260870</td>\n    </tr>\n    <tr>\n      <th>119</th>\n      <td>Andrew Bogut</td>\n      <td>C</td>\n      <td>Golden State Warriors</td>\n      <td>13.800000</td>\n    </tr>\n    <tr>\n      <th>120</th>\n      <td>Andre Iguodala</td>\n      <td>SF</td>\n      <td>Golden State Warriors</td>\n      <td>11.710456</td>\n    </tr>\n    <tr>\n      <th>121</th>\n      <td>Stephen Curry</td>\n      <td>PG</td>\n      <td>Golden State Warriors</td>\n      <td>11.370786</td>\n    </tr>\n    <tr>\n      <th>122</th>\n      <td>Jason Thompson</td>\n      <td>PF</td>\n      <td>Golden State Warriors</td>\n      <td>7.008475</td>\n    </tr>\n    <tr>\n      <th>123</th>\n      <td>Shaun Livingston</td>\n      <td>PG</td>\n      <td>Golden State Warriors</td>\n      <td>5.543725</td>\n    </tr>\n    <tr>\n      <th>124</th>\n      <td>Harrison Barnes</td>\n      <td>SF</td>\n      <td>Golden State Warriors</td>\n      <td>3.873398</td>\n    </tr>\n    <tr>\n      <th>125</th>\n      <td>Marreese Speights</td>\n      <td>C</td>\n      <td>Golden State Warriors</td>\n      <td>3.815000</td>\n    </tr>\n    <tr>\n      <th>126</th>\n      <td>Leandro Barbosa</td>\n      <td>SG</td>\n      <td>Golden State Warriors</td>\n      <td>2.500000</td>\n    </tr>\n    <tr>\n      <th>127</th>\n      <td>Festus Ezeli</td>\n      <td>C</td>\n      <td>Golden State Warriors</td>\n      <td>2.008748</td>\n    </tr>\n    <tr>\n      <th>128</th>\n      <td>Brandon Rush</td>\n      <td>SF</td>\n      <td>Golden State Warriors</td>\n      <td>1.270964</td>\n    </tr>\n    <tr>\n      <th>129</th>\n      <td>Kevon Looney</td>\n      <td>SF</td>\n      <td>Golden State Warriors</td>\n      <td>1.131960</td>\n    </tr>\n    <tr>\n      <th>130</th>\n      <td>Anderson Varejao</td>\n      <td>PF</td>\n      <td>Golden State Warriors</td>\n      <td>0.289755</td>\n    </tr>\n  </tbody>\n</table>\n</div>"
     },
     "execution_count": 34,
     "metadata": {},
     "output_type": "execute_result"
    }
   ],
   "source": [
    "nba_df[nba_df[\"TEAM\"] == \"Golden State Warriors\"]"
   ],
   "metadata": {
    "collapsed": false
   }
  },
  {
   "cell_type": "code",
   "execution_count": null,
   "outputs": [],
   "source": [],
   "metadata": {
    "collapsed": false
   }
  }
 ],
 "metadata": {
  "kernelspec": {
   "display_name": "Python 3",
   "language": "python",
   "name": "python3"
  },
  "language_info": {
   "codemirror_mode": {
    "name": "ipython",
    "version": 2
   },
   "file_extension": ".py",
   "mimetype": "text/x-python",
   "name": "python",
   "nbconvert_exporter": "python",
   "pygments_lexer": "ipython2",
   "version": "2.7.6"
  }
 },
 "nbformat": 4,
 "nbformat_minor": 0
}
