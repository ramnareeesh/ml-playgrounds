{
 "cells": [
  {
   "cell_type": "markdown",
   "source": [
    "# Question 1"
   ],
   "metadata": {
    "collapsed": false
   }
  },
  {
   "cell_type": "code",
   "execution_count": 3,
   "metadata": {
    "collapsed": true
   },
   "outputs": [],
   "source": [
    "import numpy as np\n",
    "import pandas as pd\n",
    "import matplotlib.pyplot as plt\n",
    "import seaborn as sns"
   ]
  },
  {
   "cell_type": "code",
   "execution_count": 4,
   "outputs": [
    {
     "data": {
      "text/plain": "     SEX  AGE  CENSUS2010POP  ESTIMATESBASE2010  POPESTIMATE2010  \\\n0      0    0        3944153            3944160          3951330   \n1      0    1        3978070            3978090          3957888   \n2      0    2        4096929            4096939          4090862   \n3      0    3        4119040            4119051          4111920   \n4      0    4        4063170            4063186          4077551   \n..   ...  ...            ...                ...              ...   \n301    2   97          53582              53605            54118   \n302    2   98          36641              36675            37532   \n303    2   99          26193              26214            26074   \n304    2  100          44202              44246            45058   \n305    2  999      156964212          156969328        157258820   \n\n     POPESTIMATE2011  POPESTIMATE2012  POPESTIMATE2013  POPESTIMATE2014  \\\n0            3963087          3926540          3931141          3949775   \n1            3966551          3977939          3942872          3949776   \n2            3971565          3980095          3992720          3959664   \n3            4102470          3983157          3992734          4007079   \n4            4122294          4112849          3994449          4005716   \n..               ...              ...              ...              ...   \n301            57159            59533            61255            62779   \n302            40116            42857            44359            46208   \n303            27030            29320            31112            32517   \n304            47556            50661            53902            58008   \n305        158427085        159581546        160720625        161952064   \n\n     POPESTIMATE2015  \n0            3978038  \n1            3968564  \n2            3966583  \n3            3974061  \n4            4020035  \n..               ...  \n301            69285  \n302            47272  \n303            34064  \n304            61886  \n305        163189523  \n\n[306 rows x 10 columns]",
      "text/html": "<div>\n<style scoped>\n    .dataframe tbody tr th:only-of-type {\n        vertical-align: middle;\n    }\n\n    .dataframe tbody tr th {\n        vertical-align: top;\n    }\n\n    .dataframe thead th {\n        text-align: right;\n    }\n</style>\n<table border=\"1\" class=\"dataframe\">\n  <thead>\n    <tr style=\"text-align: right;\">\n      <th></th>\n      <th>SEX</th>\n      <th>AGE</th>\n      <th>CENSUS2010POP</th>\n      <th>ESTIMATESBASE2010</th>\n      <th>POPESTIMATE2010</th>\n      <th>POPESTIMATE2011</th>\n      <th>POPESTIMATE2012</th>\n      <th>POPESTIMATE2013</th>\n      <th>POPESTIMATE2014</th>\n      <th>POPESTIMATE2015</th>\n    </tr>\n  </thead>\n  <tbody>\n    <tr>\n      <th>0</th>\n      <td>0</td>\n      <td>0</td>\n      <td>3944153</td>\n      <td>3944160</td>\n      <td>3951330</td>\n      <td>3963087</td>\n      <td>3926540</td>\n      <td>3931141</td>\n      <td>3949775</td>\n      <td>3978038</td>\n    </tr>\n    <tr>\n      <th>1</th>\n      <td>0</td>\n      <td>1</td>\n      <td>3978070</td>\n      <td>3978090</td>\n      <td>3957888</td>\n      <td>3966551</td>\n      <td>3977939</td>\n      <td>3942872</td>\n      <td>3949776</td>\n      <td>3968564</td>\n    </tr>\n    <tr>\n      <th>2</th>\n      <td>0</td>\n      <td>2</td>\n      <td>4096929</td>\n      <td>4096939</td>\n      <td>4090862</td>\n      <td>3971565</td>\n      <td>3980095</td>\n      <td>3992720</td>\n      <td>3959664</td>\n      <td>3966583</td>\n    </tr>\n    <tr>\n      <th>3</th>\n      <td>0</td>\n      <td>3</td>\n      <td>4119040</td>\n      <td>4119051</td>\n      <td>4111920</td>\n      <td>4102470</td>\n      <td>3983157</td>\n      <td>3992734</td>\n      <td>4007079</td>\n      <td>3974061</td>\n    </tr>\n    <tr>\n      <th>4</th>\n      <td>0</td>\n      <td>4</td>\n      <td>4063170</td>\n      <td>4063186</td>\n      <td>4077551</td>\n      <td>4122294</td>\n      <td>4112849</td>\n      <td>3994449</td>\n      <td>4005716</td>\n      <td>4020035</td>\n    </tr>\n    <tr>\n      <th>...</th>\n      <td>...</td>\n      <td>...</td>\n      <td>...</td>\n      <td>...</td>\n      <td>...</td>\n      <td>...</td>\n      <td>...</td>\n      <td>...</td>\n      <td>...</td>\n      <td>...</td>\n    </tr>\n    <tr>\n      <th>301</th>\n      <td>2</td>\n      <td>97</td>\n      <td>53582</td>\n      <td>53605</td>\n      <td>54118</td>\n      <td>57159</td>\n      <td>59533</td>\n      <td>61255</td>\n      <td>62779</td>\n      <td>69285</td>\n    </tr>\n    <tr>\n      <th>302</th>\n      <td>2</td>\n      <td>98</td>\n      <td>36641</td>\n      <td>36675</td>\n      <td>37532</td>\n      <td>40116</td>\n      <td>42857</td>\n      <td>44359</td>\n      <td>46208</td>\n      <td>47272</td>\n    </tr>\n    <tr>\n      <th>303</th>\n      <td>2</td>\n      <td>99</td>\n      <td>26193</td>\n      <td>26214</td>\n      <td>26074</td>\n      <td>27030</td>\n      <td>29320</td>\n      <td>31112</td>\n      <td>32517</td>\n      <td>34064</td>\n    </tr>\n    <tr>\n      <th>304</th>\n      <td>2</td>\n      <td>100</td>\n      <td>44202</td>\n      <td>44246</td>\n      <td>45058</td>\n      <td>47556</td>\n      <td>50661</td>\n      <td>53902</td>\n      <td>58008</td>\n      <td>61886</td>\n    </tr>\n    <tr>\n      <th>305</th>\n      <td>2</td>\n      <td>999</td>\n      <td>156964212</td>\n      <td>156969328</td>\n      <td>157258820</td>\n      <td>158427085</td>\n      <td>159581546</td>\n      <td>160720625</td>\n      <td>161952064</td>\n      <td>163189523</td>\n    </tr>\n  </tbody>\n</table>\n<p>306 rows × 10 columns</p>\n</div>"
     },
     "execution_count": 4,
     "metadata": {},
     "output_type": "execute_result"
    }
   ],
   "source": [
    "df = pd.read_csv(\"nc-est2015-agesex-res.csv\", sep=\",\")\n",
    "df"
   ],
   "metadata": {
    "collapsed": false
   }
  },
  {
   "cell_type": "code",
   "execution_count": 5,
   "outputs": [
    {
     "data": {
      "text/plain": "<Axes: >"
     },
     "execution_count": 5,
     "metadata": {},
     "output_type": "execute_result"
    },
    {
     "data": {
      "text/plain": "<Figure size 640x480 with 1 Axes>",
      "image/png": "[encoded data removed]"
     },
     "metadata": {},
     "output_type": "display_data"
    }
   ],
   "source": [
    "sns.boxplot(df['AGE'])\n"
   ],
   "metadata": {
    "collapsed": false
   }
  },
  {
   "cell_type": "code",
   "execution_count": 6,
   "outputs": [
    {
     "data": {
      "text/plain": "     SEX  AGE  CENSUS2010POP  ESTIMATESBASE2010  POPESTIMATE2010  \\\n101    0  999      308745538          308758105        309346863   \n203    1  999      151781326          151788777        152088043   \n305    2  999      156964212          156969328        157258820   \n\n     POPESTIMATE2011  POPESTIMATE2012  POPESTIMATE2013  POPESTIMATE2014  \\\n101        311718857        314102623        316427395        318907401   \n203        153291772        154521077        155706770        156955337   \n305        158427085        159581546        160720625        161952064   \n\n     POPESTIMATE2015  \n101        321418820  \n203        158229297  \n305        163189523  ",
      "text/html": "<div>\n<style scoped>\n    .dataframe tbody tr th:only-of-type {\n        vertical-align: middle;\n    }\n\n    .dataframe tbody tr th {\n        vertical-align: top;\n    }\n\n    .dataframe thead th {\n        text-align: right;\n    }\n</style>\n<table border=\"1\" class=\"dataframe\">\n  <thead>\n    <tr style=\"text-align: right;\">\n      <th></th>\n      <th>SEX</th>\n      <th>AGE</th>\n      <th>CENSUS2010POP</th>\n      <th>ESTIMATESBASE2010</th>\n      <th>POPESTIMATE2010</th>\n      <th>POPESTIMATE2011</th>\n      <th>POPESTIMATE2012</th>\n      <th>POPESTIMATE2013</th>\n      <th>POPESTIMATE2014</th>\n      <th>POPESTIMATE2015</th>\n    </tr>\n  </thead>\n  <tbody>\n    <tr>\n      <th>101</th>\n      <td>0</td>\n      <td>999</td>\n      <td>308745538</td>\n      <td>308758105</td>\n      <td>309346863</td>\n      <td>311718857</td>\n      <td>314102623</td>\n      <td>316427395</td>\n      <td>318907401</td>\n      <td>321418820</td>\n    </tr>\n    <tr>\n      <th>203</th>\n      <td>1</td>\n      <td>999</td>\n      <td>151781326</td>\n      <td>151788777</td>\n      <td>152088043</td>\n      <td>153291772</td>\n      <td>154521077</td>\n      <td>155706770</td>\n      <td>156955337</td>\n      <td>158229297</td>\n    </tr>\n    <tr>\n      <th>305</th>\n      <td>2</td>\n      <td>999</td>\n      <td>156964212</td>\n      <td>156969328</td>\n      <td>157258820</td>\n      <td>158427085</td>\n      <td>159581546</td>\n      <td>160720625</td>\n      <td>161952064</td>\n      <td>163189523</td>\n    </tr>\n  </tbody>\n</table>\n</div>"
     },
     "execution_count": 6,
     "metadata": {},
     "output_type": "execute_result"
    }
   ],
   "source": [
    "df[df[\"AGE\"] == 999]"
   ],
   "metadata": {
    "collapsed": false
   }
  },
  {
   "cell_type": "code",
   "execution_count": 7,
   "outputs": [
    {
     "data": {
      "text/plain": "     SEX  AGE  CENSUS2010POP  ESTIMATESBASE2010  POPESTIMATE2010  \\\n0      0    0        3944153            3944160          3951330   \n1      0    1        3978070            3978090          3957888   \n2      0    2        4096929            4096939          4090862   \n3      0    3        4119040            4119051          4111920   \n4      0    4        4063170            4063186          4077551   \n..   ...  ...            ...                ...              ...   \n300    2   96          73799              73856            75139   \n301    2   97          53582              53605            54118   \n302    2   98          36641              36675            37532   \n303    2   99          26193              26214            26074   \n304    2  100          44202              44246            45058   \n\n     POPESTIMATE2011  POPESTIMATE2012  POPESTIMATE2013  POPESTIMATE2014  \\\n0            3963087          3926540          3931141          3949775   \n1            3966551          3977939          3942872          3949776   \n2            3971565          3980095          3992720          3959664   \n3            4102470          3983157          3992734          4007079   \n4            4122294          4112849          3994449          4005716   \n..               ...              ...              ...              ...   \n300            77460            79970            81490            89432   \n301            57159            59533            61255            62779   \n302            40116            42857            44359            46208   \n303            27030            29320            31112            32517   \n304            47556            50661            53902            58008   \n\n     POPESTIMATE2015  \n0            3978038  \n1            3968564  \n2            3966583  \n3            3974061  \n4            4020035  \n..               ...  \n300            90302  \n301            69285  \n302            47272  \n303            34064  \n304            61886  \n\n[303 rows x 10 columns]",
      "text/html": "<div>\n<style scoped>\n    .dataframe tbody tr th:only-of-type {\n        vertical-align: middle;\n    }\n\n    .dataframe tbody tr th {\n        vertical-align: top;\n    }\n\n    .dataframe thead th {\n        text-align: right;\n    }\n</style>\n<table border=\"1\" class=\"dataframe\">\n  <thead>\n    <tr style=\"text-align: right;\">\n      <th></th>\n      <th>SEX</th>\n      <th>AGE</th>\n      <th>CENSUS2010POP</th>\n      <th>ESTIMATESBASE2010</th>\n      <th>POPESTIMATE2010</th>\n      <th>POPESTIMATE2011</th>\n      <th>POPESTIMATE2012</th>\n      <th>POPESTIMATE2013</th>\n      <th>POPESTIMATE2014</th>\n      <th>POPESTIMATE2015</th>\n    </tr>\n  </thead>\n  <tbody>\n    <tr>\n      <th>0</th>\n      <td>0</td>\n      <td>0</td>\n      <td>3944153</td>\n      <td>3944160</td>\n      <td>3951330</td>\n      <td>3963087</td>\n      <td>3926540</td>\n      <td>3931141</td>\n      <td>3949775</td>\n      <td>3978038</td>\n    </tr>\n    <tr>\n      <th>1</th>\n      <td>0</td>\n      <td>1</td>\n      <td>3978070</td>\n      <td>3978090</td>\n      <td>3957888</td>\n      <td>3966551</td>\n      <td>3977939</td>\n      <td>3942872</td>\n      <td>3949776</td>\n      <td>3968564</td>\n    </tr>\n    <tr>\n      <th>2</th>\n      <td>0</td>\n      <td>2</td>\n      <td>4096929</td>\n      <td>4096939</td>\n      <td>4090862</td>\n      <td>3971565</td>\n      <td>3980095</td>\n      <td>3992720</td>\n      <td>3959664</td>\n      <td>3966583</td>\n    </tr>\n    <tr>\n      <th>3</th>\n      <td>0</td>\n      <td>3</td>\n      <td>4119040</td>\n      <td>4119051</td>\n      <td>4111920</td>\n      <td>4102470</td>\n      <td>3983157</td>\n      <td>3992734</td>\n      <td>4007079</td>\n      <td>3974061</td>\n    </tr>\n    <tr>\n      <th>4</th>\n      <td>0</td>\n      <td>4</td>\n      <td>4063170</td>\n      <td>4063186</td>\n      <td>4077551</td>\n      <td>4122294</td>\n      <td>4112849</td>\n      <td>3994449</td>\n      <td>4005716</td>\n      <td>4020035</td>\n    </tr>\n    <tr>\n      <th>...</th>\n      <td>...</td>\n      <td>...</td>\n      <td>...</td>\n      <td>...</td>\n      <td>...</td>\n      <td>...</td>\n      <td>...</td>\n      <td>...</td>\n      <td>...</td>\n      <td>...</td>\n    </tr>\n    <tr>\n      <th>300</th>\n      <td>2</td>\n      <td>96</td>\n      <td>73799</td>\n      <td>73856</td>\n      <td>75139</td>\n      <td>77460</td>\n      <td>79970</td>\n      <td>81490</td>\n      <td>89432</td>\n      <td>90302</td>\n    </tr>\n    <tr>\n      <th>301</th>\n      <td>2</td>\n      <td>97</td>\n      <td>53582</td>\n      <td>53605</td>\n      <td>54118</td>\n      <td>57159</td>\n      <td>59533</td>\n      <td>61255</td>\n      <td>62779</td>\n      <td>69285</td>\n    </tr>\n    <tr>\n      <th>302</th>\n      <td>2</td>\n      <td>98</td>\n      <td>36641</td>\n      <td>36675</td>\n      <td>37532</td>\n      <td>40116</td>\n      <td>42857</td>\n      <td>44359</td>\n      <td>46208</td>\n      <td>47272</td>\n    </tr>\n    <tr>\n      <th>303</th>\n      <td>2</td>\n      <td>99</td>\n      <td>26193</td>\n      <td>26214</td>\n      <td>26074</td>\n      <td>27030</td>\n      <td>29320</td>\n      <td>31112</td>\n      <td>32517</td>\n      <td>34064</td>\n    </tr>\n    <tr>\n      <th>304</th>\n      <td>2</td>\n      <td>100</td>\n      <td>44202</td>\n      <td>44246</td>\n      <td>45058</td>\n      <td>47556</td>\n      <td>50661</td>\n      <td>53902</td>\n      <td>58008</td>\n      <td>61886</td>\n    </tr>\n  </tbody>\n</table>\n<p>303 rows × 10 columns</p>\n</div>"
     },
     "execution_count": 7,
     "metadata": {},
     "output_type": "execute_result"
    }
   ],
   "source": [
    "df.drop([101, 203, 305])"
   ],
   "metadata": {
    "collapsed": false
   }
  },
  {
   "cell_type": "code",
   "execution_count": 8,
   "outputs": [
    {
     "name": "stdout",
     "output_type": "stream",
     "text": [
      "Rows:  306\n",
      "Columns:  10\n"
     ]
    }
   ],
   "source": [
    "print(\"Rows: \", len(df))\n",
    "print(\"Columns: \", len(df.loc[0, :]))"
   ],
   "metadata": {
    "collapsed": false
   }
  },
  {
   "cell_type": "code",
   "execution_count": 9,
   "outputs": [
    {
     "data": {
      "text/plain": "              SEX         AGE  CENSUS2010POP  ESTIMATESBASE2010  \\\ncount  306.000000  306.000000   3.060000e+02       3.060000e+02   \nmean     1.000000   59.303922   4.035889e+06       4.036054e+06   \nstd      0.817834   98.060950   2.140881e+07       2.140968e+07   \nmin      0.000000    0.000000   6.073000e+03       6.075000e+03   \n25%      0.000000   25.000000   9.987065e+05       9.987415e+05   \n50%      1.000000   50.500000   2.045286e+06       2.045342e+06   \n75%      2.000000   76.000000   2.304370e+06       2.304525e+06   \nmax      2.000000  999.000000   3.087455e+08       3.087581e+08   \n\n       POPESTIMATE2010  POPESTIMATE2011  POPESTIMATE2012  POPESTIMATE2013  \\\ncount     3.060000e+02     3.060000e+02     3.060000e+02     3.060000e+02   \nmean      4.043750e+06     4.074756e+06     4.105917e+06     4.136306e+06   \nstd       2.145038e+07     2.161430e+07     2.177900e+07     2.193965e+07   \nmin       6.104000e+03     6.606000e+03     7.459000e+03     8.159000e+03   \n25%       1.010409e+06     1.045244e+06     1.073482e+06     1.121864e+06   \n50%       2.047912e+06     2.051284e+06     2.054609e+06     2.050533e+06   \n75%       2.304142e+06     2.321829e+06     2.335085e+06     2.349450e+06   \nmax       3.093469e+08     3.117189e+08     3.141026e+08     3.164274e+08   \n\n       POPESTIMATE2014  POPESTIMATE2015  \ncount     3.060000e+02     3.060000e+02  \nmean      4.168724e+06     4.201553e+06  \nstd       2.211105e+07     2.228462e+07  \nmin       8.951000e+03     9.577000e+03  \n25%       1.156036e+06     1.162476e+06  \n50%       2.060284e+06     2.062285e+06  \n75%       2.387392e+06     2.415332e+06  \nmax       3.189074e+08     3.214188e+08  ",
      "text/html": "<div>\n<style scoped>\n    .dataframe tbody tr th:only-of-type {\n        vertical-align: middle;\n    }\n\n    .dataframe tbody tr th {\n        vertical-align: top;\n    }\n\n    .dataframe thead th {\n        text-align: right;\n    }\n</style>\n<table border=\"1\" class=\"dataframe\">\n  <thead>\n    <tr style=\"text-align: right;\">\n      <th></th>\n      <th>SEX</th>\n      <th>AGE</th>\n      <th>CENSUS2010POP</th>\n      <th>ESTIMATESBASE2010</th>\n      <th>POPESTIMATE2010</th>\n      <th>POPESTIMATE2011</th>\n      <th>POPESTIMATE2012</th>\n      <th>POPESTIMATE2013</th>\n      <th>POPESTIMATE2014</th>\n      <th>POPESTIMATE2015</th>\n    </tr>\n  </thead>\n  <tbody>\n    <tr>\n      <th>count</th>\n      <td>306.000000</td>\n      <td>306.000000</td>\n      <td>3.060000e+02</td>\n      <td>3.060000e+02</td>\n      <td>3.060000e+02</td>\n      <td>3.060000e+02</td>\n      <td>3.060000e+02</td>\n      <td>3.060000e+02</td>\n      <td>3.060000e+02</td>\n      <td>3.060000e+02</td>\n    </tr>\n    <tr>\n      <th>mean</th>\n      <td>1.000000</td>\n      <td>59.303922</td>\n      <td>4.035889e+06</td>\n      <td>4.036054e+06</td>\n      <td>4.043750e+06</td>\n      <td>4.074756e+06</td>\n      <td>4.105917e+06</td>\n      <td>4.136306e+06</td>\n      <td>4.168724e+06</td>\n      <td>4.201553e+06</td>\n    </tr>\n    <tr>\n      <th>std</th>\n      <td>0.817834</td>\n      <td>98.060950</td>\n      <td>2.140881e+07</td>\n      <td>2.140968e+07</td>\n      <td>2.145038e+07</td>\n      <td>2.161430e+07</td>\n      <td>2.177900e+07</td>\n      <td>2.193965e+07</td>\n      <td>2.211105e+07</td>\n      <td>2.228462e+07</td>\n    </tr>\n    <tr>\n      <th>min</th>\n      <td>0.000000</td>\n      <td>0.000000</td>\n      <td>6.073000e+03</td>\n      <td>6.075000e+03</td>\n      <td>6.104000e+03</td>\n      <td>6.606000e+03</td>\n      <td>7.459000e+03</td>\n      <td>8.159000e+03</td>\n      <td>8.951000e+03</td>\n      <td>9.577000e+03</td>\n    </tr>\n    <tr>\n      <th>25%</th>\n      <td>0.000000</td>\n      <td>25.000000</td>\n      <td>9.987065e+05</td>\n      <td>9.987415e+05</td>\n      <td>1.010409e+06</td>\n      <td>1.045244e+06</td>\n      <td>1.073482e+06</td>\n      <td>1.121864e+06</td>\n      <td>1.156036e+06</td>\n      <td>1.162476e+06</td>\n    </tr>\n    <tr>\n      <th>50%</th>\n      <td>1.000000</td>\n      <td>50.500000</td>\n      <td>2.045286e+06</td>\n      <td>2.045342e+06</td>\n      <td>2.047912e+06</td>\n      <td>2.051284e+06</td>\n      <td>2.054609e+06</td>\n      <td>2.050533e+06</td>\n      <td>2.060284e+06</td>\n      <td>2.062285e+06</td>\n    </tr>\n    <tr>\n      <th>75%</th>\n      <td>2.000000</td>\n      <td>76.000000</td>\n      <td>2.304370e+06</td>\n      <td>2.304525e+06</td>\n      <td>2.304142e+06</td>\n      <td>2.321829e+06</td>\n      <td>2.335085e+06</td>\n      <td>2.349450e+06</td>\n      <td>2.387392e+06</td>\n      <td>2.415332e+06</td>\n    </tr>\n    <tr>\n      <th>max</th>\n      <td>2.000000</td>\n      <td>999.000000</td>\n      <td>3.087455e+08</td>\n      <td>3.087581e+08</td>\n      <td>3.093469e+08</td>\n      <td>3.117189e+08</td>\n      <td>3.141026e+08</td>\n      <td>3.164274e+08</td>\n      <td>3.189074e+08</td>\n      <td>3.214188e+08</td>\n    </tr>\n  </tbody>\n</table>\n</div>"
     },
     "execution_count": 9,
     "metadata": {},
     "output_type": "execute_result"
    }
   ],
   "source": [
    "df.describe()"
   ],
   "metadata": {
    "collapsed": false
   }
  },
  {
   "cell_type": "code",
   "execution_count": 10,
   "outputs": [],
   "source": [
    "df.rename(columns={'POPESTIMATE2010' : '2010'}, inplace=True)\n",
    "df.rename(columns={'POPESTIMATE2014' : '2014'}, inplace=True)"
   ],
   "metadata": {
    "collapsed": false
   }
  },
  {
   "cell_type": "code",
   "execution_count": 11,
   "outputs": [
    {
     "data": {
      "text/plain": "     SEX  AGE  CENSUS2010POP  ESTIMATESBASE2010       2010  POPESTIMATE2011  \\\n0      0    0        3944153            3944160    3951330          3963087   \n1      0    1        3978070            3978090    3957888          3966551   \n2      0    2        4096929            4096939    4090862          3971565   \n3      0    3        4119040            4119051    4111920          4102470   \n4      0    4        4063170            4063186    4077551          4122294   \n..   ...  ...            ...                ...        ...              ...   \n301    2   97          53582              53605      54118            57159   \n302    2   98          36641              36675      37532            40116   \n303    2   99          26193              26214      26074            27030   \n304    2  100          44202              44246      45058            47556   \n305    2  999      156964212          156969328  157258820        158427085   \n\n     POPESTIMATE2012  POPESTIMATE2013       2014  POPESTIMATE2015  \n0            3926540          3931141    3949775          3978038  \n1            3977939          3942872    3949776          3968564  \n2            3980095          3992720    3959664          3966583  \n3            3983157          3992734    4007079          3974061  \n4            4112849          3994449    4005716          4020035  \n..               ...              ...        ...              ...  \n301            59533            61255      62779            69285  \n302            42857            44359      46208            47272  \n303            29320            31112      32517            34064  \n304            50661            53902      58008            61886  \n305        159581546        160720625  161952064        163189523  \n\n[306 rows x 10 columns]",
      "text/html": "<div>\n<style scoped>\n    .dataframe tbody tr th:only-of-type {\n        vertical-align: middle;\n    }\n\n    .dataframe tbody tr th {\n        vertical-align: top;\n    }\n\n    .dataframe thead th {\n        text-align: right;\n    }\n</style>\n<table border=\"1\" class=\"dataframe\">\n  <thead>\n    <tr style=\"text-align: right;\">\n      <th></th>\n      <th>SEX</th>\n      <th>AGE</th>\n      <th>CENSUS2010POP</th>\n      <th>ESTIMATESBASE2010</th>\n      <th>2010</th>\n      <th>POPESTIMATE2011</th>\n      <th>POPESTIMATE2012</th>\n      <th>POPESTIMATE2013</th>\n      <th>2014</th>\n      <th>POPESTIMATE2015</th>\n    </tr>\n  </thead>\n  <tbody>\n    <tr>\n      <th>0</th>\n      <td>0</td>\n      <td>0</td>\n      <td>3944153</td>\n      <td>3944160</td>\n      <td>3951330</td>\n      <td>3963087</td>\n      <td>3926540</td>\n      <td>3931141</td>\n      <td>3949775</td>\n      <td>3978038</td>\n    </tr>\n    <tr>\n      <th>1</th>\n      <td>0</td>\n      <td>1</td>\n      <td>3978070</td>\n      <td>3978090</td>\n      <td>3957888</td>\n      <td>3966551</td>\n      <td>3977939</td>\n      <td>3942872</td>\n      <td>3949776</td>\n      <td>3968564</td>\n    </tr>\n    <tr>\n      <th>2</th>\n      <td>0</td>\n      <td>2</td>\n      <td>4096929</td>\n      <td>4096939</td>\n      <td>4090862</td>\n      <td>3971565</td>\n      <td>3980095</td>\n      <td>3992720</td>\n      <td>3959664</td>\n      <td>3966583</td>\n    </tr>\n    <tr>\n      <th>3</th>\n      <td>0</td>\n      <td>3</td>\n      <td>4119040</td>\n      <td>4119051</td>\n      <td>4111920</td>\n      <td>4102470</td>\n      <td>3983157</td>\n      <td>3992734</td>\n      <td>4007079</td>\n      <td>3974061</td>\n    </tr>\n    <tr>\n      <th>4</th>\n      <td>0</td>\n      <td>4</td>\n      <td>4063170</td>\n      <td>4063186</td>\n      <td>4077551</td>\n      <td>4122294</td>\n      <td>4112849</td>\n      <td>3994449</td>\n      <td>4005716</td>\n      <td>4020035</td>\n    </tr>\n    <tr>\n      <th>...</th>\n      <td>...</td>\n      <td>...</td>\n      <td>...</td>\n      <td>...</td>\n      <td>...</td>\n      <td>...</td>\n      <td>...</td>\n      <td>...</td>\n      <td>...</td>\n      <td>...</td>\n    </tr>\n    <tr>\n      <th>301</th>\n      <td>2</td>\n      <td>97</td>\n      <td>53582</td>\n      <td>53605</td>\n      <td>54118</td>\n      <td>57159</td>\n      <td>59533</td>\n      <td>61255</td>\n      <td>62779</td>\n      <td>69285</td>\n    </tr>\n    <tr>\n      <th>302</th>\n      <td>2</td>\n      <td>98</td>\n      <td>36641</td>\n      <td>36675</td>\n      <td>37532</td>\n      <td>40116</td>\n      <td>42857</td>\n      <td>44359</td>\n      <td>46208</td>\n      <td>47272</td>\n    </tr>\n    <tr>\n      <th>303</th>\n      <td>2</td>\n      <td>99</td>\n      <td>26193</td>\n      <td>26214</td>\n      <td>26074</td>\n      <td>27030</td>\n      <td>29320</td>\n      <td>31112</td>\n      <td>32517</td>\n      <td>34064</td>\n    </tr>\n    <tr>\n      <th>304</th>\n      <td>2</td>\n      <td>100</td>\n      <td>44202</td>\n      <td>44246</td>\n      <td>45058</td>\n      <td>47556</td>\n      <td>50661</td>\n      <td>53902</td>\n      <td>58008</td>\n      <td>61886</td>\n    </tr>\n    <tr>\n      <th>305</th>\n      <td>2</td>\n      <td>999</td>\n      <td>156964212</td>\n      <td>156969328</td>\n      <td>157258820</td>\n      <td>158427085</td>\n      <td>159581546</td>\n      <td>160720625</td>\n      <td>161952064</td>\n      <td>163189523</td>\n    </tr>\n  </tbody>\n</table>\n<p>306 rows × 10 columns</p>\n</div>"
     },
     "execution_count": 11,
     "metadata": {},
     "output_type": "execute_result"
    }
   ],
   "source": [
    "df"
   ],
   "metadata": {
    "collapsed": false
   }
  },
  {
   "cell_type": "code",
   "execution_count": 12,
   "outputs": [
    {
     "data": {
      "text/plain": "   SEX  AGE  CENSUS2010POP  ESTIMATESBASE2010     2010  POPESTIMATE2011  \\\n0    0    0        3944153            3944160  3951330          3963087   \n1    0    1        3978070            3978090  3957888          3966551   \n2    0    2        4096929            4096939  4090862          3971565   \n3    0    3        4119040            4119051  4111920          4102470   \n4    0    4        4063170            4063186  4077551          4122294   \n5    0    5        4056858            4056872  4064653          4087709   \n6    0    6        4066381            4066412  4073013          4074993   \n7    0    7        4030579            4030594  4043046          4083225   \n8    0    8        4046486            4046497  4025604          4053203   \n9    0    9        4148353            4148369  4125415          4035710   \n\n   POPESTIMATE2012  POPESTIMATE2013     2014  POPESTIMATE2015  \n0          3926540          3931141  3949775          3978038  \n1          3977939          3942872  3949776          3968564  \n2          3980095          3992720  3959664          3966583  \n3          3983157          3992734  4007079          3974061  \n4          4112849          3994449  4005716          4020035  \n5          4132242          4123626  4006900          4018158  \n6          4097605          4142916  4135930          4019207  \n7          4084913          4108349  4155326          4148360  \n8          4093177          4095711  4120903          4167887  \n9          4063152          4104072  4108349          4133564  ",
      "text/html": "<div>\n<style scoped>\n    .dataframe tbody tr th:only-of-type {\n        vertical-align: middle;\n    }\n\n    .dataframe tbody tr th {\n        vertical-align: top;\n    }\n\n    .dataframe thead th {\n        text-align: right;\n    }\n</style>\n<table border=\"1\" class=\"dataframe\">\n  <thead>\n    <tr style=\"text-align: right;\">\n      <th></th>\n      <th>SEX</th>\n      <th>AGE</th>\n      <th>CENSUS2010POP</th>\n      <th>ESTIMATESBASE2010</th>\n      <th>2010</th>\n      <th>POPESTIMATE2011</th>\n      <th>POPESTIMATE2012</th>\n      <th>POPESTIMATE2013</th>\n      <th>2014</th>\n      <th>POPESTIMATE2015</th>\n    </tr>\n  </thead>\n  <tbody>\n    <tr>\n      <th>0</th>\n      <td>0</td>\n      <td>0</td>\n      <td>3944153</td>\n      <td>3944160</td>\n      <td>3951330</td>\n      <td>3963087</td>\n      <td>3926540</td>\n      <td>3931141</td>\n      <td>3949775</td>\n      <td>3978038</td>\n    </tr>\n    <tr>\n      <th>1</th>\n      <td>0</td>\n      <td>1</td>\n      <td>3978070</td>\n      <td>3978090</td>\n      <td>3957888</td>\n      <td>3966551</td>\n      <td>3977939</td>\n      <td>3942872</td>\n      <td>3949776</td>\n      <td>3968564</td>\n    </tr>\n    <tr>\n      <th>2</th>\n      <td>0</td>\n      <td>2</td>\n      <td>4096929</td>\n      <td>4096939</td>\n      <td>4090862</td>\n      <td>3971565</td>\n      <td>3980095</td>\n      <td>3992720</td>\n      <td>3959664</td>\n      <td>3966583</td>\n    </tr>\n    <tr>\n      <th>3</th>\n      <td>0</td>\n      <td>3</td>\n      <td>4119040</td>\n      <td>4119051</td>\n      <td>4111920</td>\n      <td>4102470</td>\n      <td>3983157</td>\n      <td>3992734</td>\n      <td>4007079</td>\n      <td>3974061</td>\n    </tr>\n    <tr>\n      <th>4</th>\n      <td>0</td>\n      <td>4</td>\n      <td>4063170</td>\n      <td>4063186</td>\n      <td>4077551</td>\n      <td>4122294</td>\n      <td>4112849</td>\n      <td>3994449</td>\n      <td>4005716</td>\n      <td>4020035</td>\n    </tr>\n    <tr>\n      <th>5</th>\n      <td>0</td>\n      <td>5</td>\n      <td>4056858</td>\n      <td>4056872</td>\n      <td>4064653</td>\n      <td>4087709</td>\n      <td>4132242</td>\n      <td>4123626</td>\n      <td>4006900</td>\n      <td>4018158</td>\n    </tr>\n    <tr>\n      <th>6</th>\n      <td>0</td>\n      <td>6</td>\n      <td>4066381</td>\n      <td>4066412</td>\n      <td>4073013</td>\n      <td>4074993</td>\n      <td>4097605</td>\n      <td>4142916</td>\n      <td>4135930</td>\n      <td>4019207</td>\n    </tr>\n    <tr>\n      <th>7</th>\n      <td>0</td>\n      <td>7</td>\n      <td>4030579</td>\n      <td>4030594</td>\n      <td>4043046</td>\n      <td>4083225</td>\n      <td>4084913</td>\n      <td>4108349</td>\n      <td>4155326</td>\n      <td>4148360</td>\n    </tr>\n    <tr>\n      <th>8</th>\n      <td>0</td>\n      <td>8</td>\n      <td>4046486</td>\n      <td>4046497</td>\n      <td>4025604</td>\n      <td>4053203</td>\n      <td>4093177</td>\n      <td>4095711</td>\n      <td>4120903</td>\n      <td>4167887</td>\n    </tr>\n    <tr>\n      <th>9</th>\n      <td>0</td>\n      <td>9</td>\n      <td>4148353</td>\n      <td>4148369</td>\n      <td>4125415</td>\n      <td>4035710</td>\n      <td>4063152</td>\n      <td>4104072</td>\n      <td>4108349</td>\n      <td>4133564</td>\n    </tr>\n  </tbody>\n</table>\n</div>"
     },
     "execution_count": 12,
     "metadata": {},
     "output_type": "execute_result"
    }
   ],
   "source": [
    "df.head(10)"
   ],
   "metadata": {
    "collapsed": false
   }
  },
  {
   "cell_type": "code",
   "execution_count": 13,
   "outputs": [
    {
     "name": "stdout",
     "output_type": "stream",
     "text": [
      "SEX                        0\n",
      "AGE                       15\n",
      "CENSUS2010POP        4242820\n",
      "ESTIMATESBASE2010    4242946\n",
      "2010                 4231002\n",
      "POPESTIMATE2011      4158941\n",
      "POPESTIMATE2012      4144019\n",
      "POPESTIMATE2013      4149121\n",
      "2014                 4164796\n",
      "POPESTIMATE2015      4249742\n",
      "Name: 15, dtype: int64\n",
      "SEX                        0\n",
      "AGE                       22\n",
      "CENSUS2010POP        4264642\n",
      "ESTIMATESBASE2010    4264946\n",
      "2010                 4287005\n",
      "POPESTIMATE2011      4415300\n",
      "POPESTIMATE2012      4628459\n",
      "POPESTIMATE2013      4665965\n",
      "2014                 4615729\n",
      "POPESTIMATE2015      4529472\n",
      "Name: 22, dtype: int64\n"
     ]
    }
   ],
   "source": [
    "print(df.loc[15, :])\n",
    "print(df.loc[22, :])"
   ],
   "metadata": {
    "collapsed": false
   }
  },
  {
   "cell_type": "code",
   "execution_count": 14,
   "outputs": [
    {
     "data": {
      "text/plain": "     SEX  AGE  CENSUS2010POP  ESTIMATESBASE2010       2010  POPESTIMATE2011  \\\n0      0    0        3944153            3944160    3951330          3963087   \n1      0    1        3978070            3978090    3957888          3966551   \n2      0    2        4096929            4096939    4090862          3971565   \n3      0    3        4119040            4119051    4111920          4102470   \n4      0    4        4063170            4063186    4077551          4122294   \n..   ...  ...            ...                ...        ...              ...   \n301    2   97          53582              53605      54118            57159   \n302    2   98          36641              36675      37532            40116   \n303    2   99          26193              26214      26074            27030   \n304    2  100          44202              44246      45058            47556   \n305    2  999      156964212          156969328  157258820        158427085   \n\n     POPESTIMATE2012  POPESTIMATE2013       2014  POPESTIMATE2015  Change  \\\n0            3926540          3931141    3949775          3978038       0   \n1            3977939          3942872    3949776          3968564       0   \n2            3980095          3992720    3959664          3966583       0   \n3            3983157          3992734    4007079          3974061       0   \n4            4112849          3994449    4005716          4020035       0   \n..               ...              ...        ...              ...     ...   \n301            59533            61255      62779            69285       0   \n302            42857            44359      46208            47272       0   \n303            29320            31112      32517            34064       0   \n304            50661            53902      58008            61886       0   \n305        159581546        160720625  161952064        163189523       0   \n\n     Percentage_Change  \n0                    0  \n1                    0  \n2                    0  \n3                    0  \n4                    0  \n..                 ...  \n301                  0  \n302                  0  \n303                  0  \n304                  0  \n305                  0  \n\n[306 rows x 12 columns]",
      "text/html": "<div>\n<style scoped>\n    .dataframe tbody tr th:only-of-type {\n        vertical-align: middle;\n    }\n\n    .dataframe tbody tr th {\n        vertical-align: top;\n    }\n\n    .dataframe thead th {\n        text-align: right;\n    }\n</style>\n<table border=\"1\" class=\"dataframe\">\n  <thead>\n    <tr style=\"text-align: right;\">\n      <th></th>\n      <th>SEX</th>\n      <th>AGE</th>\n      <th>CENSUS2010POP</th>\n      <th>ESTIMATESBASE2010</th>\n      <th>2010</th>\n      <th>POPESTIMATE2011</th>\n      <th>POPESTIMATE2012</th>\n      <th>POPESTIMATE2013</th>\n      <th>2014</th>\n      <th>POPESTIMATE2015</th>\n      <th>Change</th>\n      <th>Percentage_Change</th>\n    </tr>\n  </thead>\n  <tbody>\n    <tr>\n      <th>0</th>\n      <td>0</td>\n      <td>0</td>\n      <td>3944153</td>\n      <td>3944160</td>\n      <td>3951330</td>\n      <td>3963087</td>\n      <td>3926540</td>\n      <td>3931141</td>\n      <td>3949775</td>\n      <td>3978038</td>\n      <td>0</td>\n      <td>0</td>\n    </tr>\n    <tr>\n      <th>1</th>\n      <td>0</td>\n      <td>1</td>\n      <td>3978070</td>\n      <td>3978090</td>\n      <td>3957888</td>\n      <td>3966551</td>\n      <td>3977939</td>\n      <td>3942872</td>\n      <td>3949776</td>\n      <td>3968564</td>\n      <td>0</td>\n      <td>0</td>\n    </tr>\n    <tr>\n      <th>2</th>\n      <td>0</td>\n      <td>2</td>\n      <td>4096929</td>\n      <td>4096939</td>\n      <td>4090862</td>\n      <td>3971565</td>\n      <td>3980095</td>\n      <td>3992720</td>\n      <td>3959664</td>\n      <td>3966583</td>\n      <td>0</td>\n      <td>0</td>\n    </tr>\n    <tr>\n      <th>3</th>\n      <td>0</td>\n      <td>3</td>\n      <td>4119040</td>\n      <td>4119051</td>\n      <td>4111920</td>\n      <td>4102470</td>\n      <td>3983157</td>\n      <td>3992734</td>\n      <td>4007079</td>\n      <td>3974061</td>\n      <td>0</td>\n      <td>0</td>\n    </tr>\n    <tr>\n      <th>4</th>\n      <td>0</td>\n      <td>4</td>\n      <td>4063170</td>\n      <td>4063186</td>\n      <td>4077551</td>\n      <td>4122294</td>\n      <td>4112849</td>\n      <td>3994449</td>\n      <td>4005716</td>\n      <td>4020035</td>\n      <td>0</td>\n      <td>0</td>\n    </tr>\n    <tr>\n      <th>...</th>\n      <td>...</td>\n      <td>...</td>\n      <td>...</td>\n      <td>...</td>\n      <td>...</td>\n      <td>...</td>\n      <td>...</td>\n      <td>...</td>\n      <td>...</td>\n      <td>...</td>\n      <td>...</td>\n      <td>...</td>\n    </tr>\n    <tr>\n      <th>301</th>\n      <td>2</td>\n      <td>97</td>\n      <td>53582</td>\n      <td>53605</td>\n      <td>54118</td>\n      <td>57159</td>\n      <td>59533</td>\n      <td>61255</td>\n      <td>62779</td>\n      <td>69285</td>\n      <td>0</td>\n      <td>0</td>\n    </tr>\n    <tr>\n      <th>302</th>\n      <td>2</td>\n      <td>98</td>\n      <td>36641</td>\n      <td>36675</td>\n      <td>37532</td>\n      <td>40116</td>\n      <td>42857</td>\n      <td>44359</td>\n      <td>46208</td>\n      <td>47272</td>\n      <td>0</td>\n      <td>0</td>\n    </tr>\n    <tr>\n      <th>303</th>\n      <td>2</td>\n      <td>99</td>\n      <td>26193</td>\n      <td>26214</td>\n      <td>26074</td>\n      <td>27030</td>\n      <td>29320</td>\n      <td>31112</td>\n      <td>32517</td>\n      <td>34064</td>\n      <td>0</td>\n      <td>0</td>\n    </tr>\n    <tr>\n      <th>304</th>\n      <td>2</td>\n      <td>100</td>\n      <td>44202</td>\n      <td>44246</td>\n      <td>45058</td>\n      <td>47556</td>\n      <td>50661</td>\n      <td>53902</td>\n      <td>58008</td>\n      <td>61886</td>\n      <td>0</td>\n      <td>0</td>\n    </tr>\n    <tr>\n      <th>305</th>\n      <td>2</td>\n      <td>999</td>\n      <td>156964212</td>\n      <td>156969328</td>\n      <td>157258820</td>\n      <td>158427085</td>\n      <td>159581546</td>\n      <td>160720625</td>\n      <td>161952064</td>\n      <td>163189523</td>\n      <td>0</td>\n      <td>0</td>\n    </tr>\n  </tbody>\n</table>\n<p>306 rows × 12 columns</p>\n</div>"
     },
     "execution_count": 14,
     "metadata": {},
     "output_type": "execute_result"
    }
   ],
   "source": [
    "df['Change'] = [0] * len(df)\n",
    "df['Percentage_Change'] = [0] * len(df)\n",
    "df"
   ],
   "metadata": {
    "collapsed": false
   }
  },
  {
   "cell_type": "code",
   "execution_count": 15,
   "outputs": [
    {
     "name": "stdout",
     "output_type": "stream",
     "text": [
      "SEX\n",
      "0    102\n",
      "1    102\n",
      "2    102\n",
      "Name: count, dtype: int64\n"
     ]
    }
   ],
   "source": [
    "print(df['SEX'].value_counts())"
   ],
   "metadata": {
    "collapsed": false
   }
  },
  {
   "cell_type": "code",
   "execution_count": 16,
   "outputs": [
    {
     "data": {
      "text/plain": "     SEX  AGE  CENSUS2010POP  ESTIMATESBASE2010       2010  POPESTIMATE2011  \\\n0      0    0        3944153            3944160    3951330          3963087   \n1      0    1        3978070            3978090    3957888          3966551   \n2      0    2        4096929            4096939    4090862          3971565   \n3      0    3        4119040            4119051    4111920          4102470   \n4      0    4        4063170            4063186    4077551          4122294   \n..   ...  ...            ...                ...        ...              ...   \n301    2   97          53582              53605      54118            57159   \n302    2   98          36641              36675      37532            40116   \n303    2   99          26193              26214      26074            27030   \n304    2  100          44202              44246      45058            47556   \n305    2  999      156964212          156969328  157258820        158427085   \n\n     POPESTIMATE2012  POPESTIMATE2013       2014  POPESTIMATE2015  Change  \\\n0            3926540          3931141    3949775          3978038       0   \n1            3977939          3942872    3949776          3968564       0   \n2            3980095          3992720    3959664          3966583       0   \n3            3983157          3992734    4007079          3974061       0   \n4            4112849          3994449    4005716          4020035       0   \n..               ...              ...        ...              ...     ...   \n301            59533            61255      62779            69285       0   \n302            42857            44359      46208            47272       0   \n303            29320            31112      32517            34064       0   \n304            50661            53902      58008            61886       0   \n305        159581546        160720625  161952064        163189523       0   \n\n     Percentage_Change  \n0                    0  \n1                    0  \n2                    0  \n3                    0  \n4                    0  \n..                 ...  \n301                  0  \n302                  0  \n303                  0  \n304                  0  \n305                  0  \n\n[306 rows x 12 columns]",
      "text/html": "<div>\n<style scoped>\n    .dataframe tbody tr th:only-of-type {\n        vertical-align: middle;\n    }\n\n    .dataframe tbody tr th {\n        vertical-align: top;\n    }\n\n    .dataframe thead th {\n        text-align: right;\n    }\n</style>\n<table border=\"1\" class=\"dataframe\">\n  <thead>\n    <tr style=\"text-align: right;\">\n      <th></th>\n      <th>SEX</th>\n      <th>AGE</th>\n      <th>CENSUS2010POP</th>\n      <th>ESTIMATESBASE2010</th>\n      <th>2010</th>\n      <th>POPESTIMATE2011</th>\n      <th>POPESTIMATE2012</th>\n      <th>POPESTIMATE2013</th>\n      <th>2014</th>\n      <th>POPESTIMATE2015</th>\n      <th>Change</th>\n      <th>Percentage_Change</th>\n    </tr>\n  </thead>\n  <tbody>\n    <tr>\n      <th>0</th>\n      <td>0</td>\n      <td>0</td>\n      <td>3944153</td>\n      <td>3944160</td>\n      <td>3951330</td>\n      <td>3963087</td>\n      <td>3926540</td>\n      <td>3931141</td>\n      <td>3949775</td>\n      <td>3978038</td>\n      <td>0</td>\n      <td>0</td>\n    </tr>\n    <tr>\n      <th>1</th>\n      <td>0</td>\n      <td>1</td>\n      <td>3978070</td>\n      <td>3978090</td>\n      <td>3957888</td>\n      <td>3966551</td>\n      <td>3977939</td>\n      <td>3942872</td>\n      <td>3949776</td>\n      <td>3968564</td>\n      <td>0</td>\n      <td>0</td>\n    </tr>\n    <tr>\n      <th>2</th>\n      <td>0</td>\n      <td>2</td>\n      <td>4096929</td>\n      <td>4096939</td>\n      <td>4090862</td>\n      <td>3971565</td>\n      <td>3980095</td>\n      <td>3992720</td>\n      <td>3959664</td>\n      <td>3966583</td>\n      <td>0</td>\n      <td>0</td>\n    </tr>\n    <tr>\n      <th>3</th>\n      <td>0</td>\n      <td>3</td>\n      <td>4119040</td>\n      <td>4119051</td>\n      <td>4111920</td>\n      <td>4102470</td>\n      <td>3983157</td>\n      <td>3992734</td>\n      <td>4007079</td>\n      <td>3974061</td>\n      <td>0</td>\n      <td>0</td>\n    </tr>\n    <tr>\n      <th>4</th>\n      <td>0</td>\n      <td>4</td>\n      <td>4063170</td>\n      <td>4063186</td>\n      <td>4077551</td>\n      <td>4122294</td>\n      <td>4112849</td>\n      <td>3994449</td>\n      <td>4005716</td>\n      <td>4020035</td>\n      <td>0</td>\n      <td>0</td>\n    </tr>\n    <tr>\n      <th>...</th>\n      <td>...</td>\n      <td>...</td>\n      <td>...</td>\n      <td>...</td>\n      <td>...</td>\n      <td>...</td>\n      <td>...</td>\n      <td>...</td>\n      <td>...</td>\n      <td>...</td>\n      <td>...</td>\n      <td>...</td>\n    </tr>\n    <tr>\n      <th>301</th>\n      <td>2</td>\n      <td>97</td>\n      <td>53582</td>\n      <td>53605</td>\n      <td>54118</td>\n      <td>57159</td>\n      <td>59533</td>\n      <td>61255</td>\n      <td>62779</td>\n      <td>69285</td>\n      <td>0</td>\n      <td>0</td>\n    </tr>\n    <tr>\n      <th>302</th>\n      <td>2</td>\n      <td>98</td>\n      <td>36641</td>\n      <td>36675</td>\n      <td>37532</td>\n      <td>40116</td>\n      <td>42857</td>\n      <td>44359</td>\n      <td>46208</td>\n      <td>47272</td>\n      <td>0</td>\n      <td>0</td>\n    </tr>\n    <tr>\n      <th>303</th>\n      <td>2</td>\n      <td>99</td>\n      <td>26193</td>\n      <td>26214</td>\n      <td>26074</td>\n      <td>27030</td>\n      <td>29320</td>\n      <td>31112</td>\n      <td>32517</td>\n      <td>34064</td>\n      <td>0</td>\n      <td>0</td>\n    </tr>\n    <tr>\n      <th>304</th>\n      <td>2</td>\n      <td>100</td>\n      <td>44202</td>\n      <td>44246</td>\n      <td>45058</td>\n      <td>47556</td>\n      <td>50661</td>\n      <td>53902</td>\n      <td>58008</td>\n      <td>61886</td>\n      <td>0</td>\n      <td>0</td>\n    </tr>\n    <tr>\n      <th>305</th>\n      <td>2</td>\n      <td>999</td>\n      <td>156964212</td>\n      <td>156969328</td>\n      <td>157258820</td>\n      <td>158427085</td>\n      <td>159581546</td>\n      <td>160720625</td>\n      <td>161952064</td>\n      <td>163189523</td>\n      <td>0</td>\n      <td>0</td>\n    </tr>\n  </tbody>\n</table>\n<p>306 rows × 12 columns</p>\n</div>"
     },
     "execution_count": 16,
     "metadata": {},
     "output_type": "execute_result"
    }
   ],
   "source": [
    "df"
   ],
   "metadata": {
    "collapsed": false
   }
  },
  {
   "cell_type": "code",
   "execution_count": 17,
   "outputs": [],
   "source": [
    "boys_infant = df[(df['SEX'] == 0) & (df['AGE'] == 0)]\n",
    "girl_infant = df[(df['SEX'] == 1) & (df['AGE'] == 0)]"
   ],
   "metadata": {
    "collapsed": false
   }
  },
  {
   "cell_type": "code",
   "execution_count": 18,
   "outputs": [
    {
     "name": "stdout",
     "output_type": "stream",
     "text": [
      "[[3944153 3944160 3951330 3963087 3926540 3931141 3949775 3978038]]\n"
     ]
    }
   ],
   "source": [
    "boys_infant = boys_infant.iloc[:, 2:-2].values\n",
    "print(boys_infant)"
   ],
   "metadata": {
    "collapsed": false
   }
  },
  {
   "cell_type": "code",
   "execution_count": 19,
   "outputs": [
    {
     "name": "stdout",
     "output_type": "stream",
     "text": [
      "[[2014276 2014278 2018420 2028427 2007717 2009528 2020326 2035134]]\n"
     ]
    }
   ],
   "source": [
    "girl_infant = girl_infant.iloc[:, 2:-2].values\n",
    "print(girl_infant)"
   ],
   "metadata": {
    "collapsed": false
   }
  },
  {
   "cell_type": "code",
   "execution_count": 20,
   "outputs": [
    {
     "name": "stdout",
     "output_type": "stream",
     "text": [
      "[[0.51069926 0.51069886 0.51082041 0.51183005 0.51131964 0.51118187\n",
      "  0.51150407 0.5115924 ]]\n"
     ]
    }
   ],
   "source": [
    "ratio_df = girl_infant/boys_infant\n",
    "print(ratio_df)"
   ],
   "metadata": {
    "collapsed": false
   }
  },
  {
   "cell_type": "code",
   "execution_count": 21,
   "outputs": [],
   "source": [
    "df_ratio = pd.DataFrame(ratio_df, columns=df.columns[2:-2])"
   ],
   "metadata": {
    "collapsed": false
   }
  },
  {
   "cell_type": "code",
   "execution_count": 22,
   "outputs": [
    {
     "data": {
      "text/plain": "   CENSUS2010POP  ESTIMATESBASE2010     2010  POPESTIMATE2011  \\\n0       0.510699           0.510699  0.51082          0.51183   \n\n   POPESTIMATE2012  POPESTIMATE2013      2014  POPESTIMATE2015  \n0          0.51132         0.511182  0.511504         0.511592  ",
      "text/html": "<div>\n<style scoped>\n    .dataframe tbody tr th:only-of-type {\n        vertical-align: middle;\n    }\n\n    .dataframe tbody tr th {\n        vertical-align: top;\n    }\n\n    .dataframe thead th {\n        text-align: right;\n    }\n</style>\n<table border=\"1\" class=\"dataframe\">\n  <thead>\n    <tr style=\"text-align: right;\">\n      <th></th>\n      <th>CENSUS2010POP</th>\n      <th>ESTIMATESBASE2010</th>\n      <th>2010</th>\n      <th>POPESTIMATE2011</th>\n      <th>POPESTIMATE2012</th>\n      <th>POPESTIMATE2013</th>\n      <th>2014</th>\n      <th>POPESTIMATE2015</th>\n    </tr>\n  </thead>\n  <tbody>\n    <tr>\n      <th>0</th>\n      <td>0.510699</td>\n      <td>0.510699</td>\n      <td>0.51082</td>\n      <td>0.51183</td>\n      <td>0.51132</td>\n      <td>0.511182</td>\n      <td>0.511504</td>\n      <td>0.511592</td>\n    </tr>\n  </tbody>\n</table>\n</div>"
     },
     "execution_count": 22,
     "metadata": {},
     "output_type": "execute_result"
    }
   ],
   "source": [
    "df_ratio"
   ],
   "metadata": {
    "collapsed": false
   }
  },
  {
   "cell_type": "code",
   "execution_count": 23,
   "outputs": [],
   "source": [
    "female_df = df[df[\"SEX\"] == 2]\n",
    "male_df = df[df[\"SEX\"] == 0]"
   ],
   "metadata": {
    "collapsed": false
   }
  },
  {
   "cell_type": "code",
   "execution_count": 24,
   "outputs": [
    {
     "data": {
      "text/plain": "     CENSUS2010POP  ESTIMATESBASE2010       2010  POPESTIMATE2011  \\\n204        1929877            1929882    1932910          1934660   \n205        1947217            1947229    1937556          1941029   \n206        2004731            2004737    2002177          1944592   \n207        2014490            2014496    2010648          2008174   \n208        1985620            1985630    1993239          2015971   \n..             ...                ...        ...              ...   \n301          53582              53605      54118            57159   \n302          36641              36675      37532            40116   \n303          26193              26214      26074            27030   \n304          44202              44246      45058            47556   \n305      156964212          156969328  157258820        158427085   \n\n     POPESTIMATE2012  POPESTIMATE2013       2014  POPESTIMATE2015  \n204          1918823          1921613    1929449          1942904  \n205          1942479          1927402    1931375          1939269  \n206          1948000          1950071    1935991          1939979  \n207          1950628          1954558    1957483          1943417  \n208          2013540          1956426    1961199          1964111  \n..               ...              ...        ...              ...  \n301            59533            61255      62779            69285  \n302            42857            44359      46208            47272  \n303            29320            31112      32517            34064  \n304            50661            53902      58008            61886  \n305        159581546        160720625  161952064        163189523  \n\n[102 rows x 8 columns]",
      "text/html": "<div>\n<style scoped>\n    .dataframe tbody tr th:only-of-type {\n        vertical-align: middle;\n    }\n\n    .dataframe tbody tr th {\n        vertical-align: top;\n    }\n\n    .dataframe thead th {\n        text-align: right;\n    }\n</style>\n<table border=\"1\" class=\"dataframe\">\n  <thead>\n    <tr style=\"text-align: right;\">\n      <th></th>\n      <th>CENSUS2010POP</th>\n      <th>ESTIMATESBASE2010</th>\n      <th>2010</th>\n      <th>POPESTIMATE2011</th>\n      <th>POPESTIMATE2012</th>\n      <th>POPESTIMATE2013</th>\n      <th>2014</th>\n      <th>POPESTIMATE2015</th>\n    </tr>\n  </thead>\n  <tbody>\n    <tr>\n      <th>204</th>\n      <td>1929877</td>\n      <td>1929882</td>\n      <td>1932910</td>\n      <td>1934660</td>\n      <td>1918823</td>\n      <td>1921613</td>\n      <td>1929449</td>\n      <td>1942904</td>\n    </tr>\n    <tr>\n      <th>205</th>\n      <td>1947217</td>\n      <td>1947229</td>\n      <td>1937556</td>\n      <td>1941029</td>\n      <td>1942479</td>\n      <td>1927402</td>\n      <td>1931375</td>\n      <td>1939269</td>\n    </tr>\n    <tr>\n      <th>206</th>\n      <td>2004731</td>\n      <td>2004737</td>\n      <td>2002177</td>\n      <td>1944592</td>\n      <td>1948000</td>\n      <td>1950071</td>\n      <td>1935991</td>\n      <td>1939979</td>\n    </tr>\n    <tr>\n      <th>207</th>\n      <td>2014490</td>\n      <td>2014496</td>\n      <td>2010648</td>\n      <td>2008174</td>\n      <td>1950628</td>\n      <td>1954558</td>\n      <td>1957483</td>\n      <td>1943417</td>\n    </tr>\n    <tr>\n      <th>208</th>\n      <td>1985620</td>\n      <td>1985630</td>\n      <td>1993239</td>\n      <td>2015971</td>\n      <td>2013540</td>\n      <td>1956426</td>\n      <td>1961199</td>\n      <td>1964111</td>\n    </tr>\n    <tr>\n      <th>...</th>\n      <td>...</td>\n      <td>...</td>\n      <td>...</td>\n      <td>...</td>\n      <td>...</td>\n      <td>...</td>\n      <td>...</td>\n      <td>...</td>\n    </tr>\n    <tr>\n      <th>301</th>\n      <td>53582</td>\n      <td>53605</td>\n      <td>54118</td>\n      <td>57159</td>\n      <td>59533</td>\n      <td>61255</td>\n      <td>62779</td>\n      <td>69285</td>\n    </tr>\n    <tr>\n      <th>302</th>\n      <td>36641</td>\n      <td>36675</td>\n      <td>37532</td>\n      <td>40116</td>\n      <td>42857</td>\n      <td>44359</td>\n      <td>46208</td>\n      <td>47272</td>\n    </tr>\n    <tr>\n      <th>303</th>\n      <td>26193</td>\n      <td>26214</td>\n      <td>26074</td>\n      <td>27030</td>\n      <td>29320</td>\n      <td>31112</td>\n      <td>32517</td>\n      <td>34064</td>\n    </tr>\n    <tr>\n      <th>304</th>\n      <td>44202</td>\n      <td>44246</td>\n      <td>45058</td>\n      <td>47556</td>\n      <td>50661</td>\n      <td>53902</td>\n      <td>58008</td>\n      <td>61886</td>\n    </tr>\n    <tr>\n      <th>305</th>\n      <td>156964212</td>\n      <td>156969328</td>\n      <td>157258820</td>\n      <td>158427085</td>\n      <td>159581546</td>\n      <td>160720625</td>\n      <td>161952064</td>\n      <td>163189523</td>\n    </tr>\n  </tbody>\n</table>\n<p>102 rows × 8 columns</p>\n</div>"
     },
     "execution_count": 24,
     "metadata": {},
     "output_type": "execute_result"
    }
   ],
   "source": [
    "female_df = female_df.iloc[:, 2:-2]\n",
    "female_df"
   ],
   "metadata": {
    "collapsed": false
   }
  },
  {
   "cell_type": "code",
   "execution_count": 25,
   "outputs": [
    {
     "data": {
      "text/plain": "     CENSUS2010POP  ESTIMATESBASE2010       2010  POPESTIMATE2011  \\\n0          3944153            3944160    3951330          3963087   \n1          3978070            3978090    3957888          3966551   \n2          4096929            4096939    4090862          3971565   \n3          4119040            4119051    4111920          4102470   \n4          4063170            4063186    4077551          4122294   \n..             ...                ...        ...              ...   \n97           68138              68168      68893            73274   \n98           45900              45938      47037            50670   \n99           32266              32289      32178            33636   \n100          53364              53412      54410            57702   \n101      308745538          308758105  309346863        311718857   \n\n     POPESTIMATE2012  POPESTIMATE2013       2014  POPESTIMATE2015  \n0            3926540          3931141    3949775          3978038  \n1            3977939          3942872    3949776          3968564  \n2            3980095          3992720    3959664          3966583  \n3            3983157          3992734    4007079          3974061  \n4            4112849          3994449    4005716          4020035  \n..               ...              ...        ...              ...  \n97             77156            79953      83089            92377  \n98             54509            57015      59726            61991  \n99             36779            39271      41468            43641  \n100            61821            66189      71626            76974  \n101        314102623        316427395  318907401        321418820  \n\n[102 rows x 8 columns]",
      "text/html": "<div>\n<style scoped>\n    .dataframe tbody tr th:only-of-type {\n        vertical-align: middle;\n    }\n\n    .dataframe tbody tr th {\n        vertical-align: top;\n    }\n\n    .dataframe thead th {\n        text-align: right;\n    }\n</style>\n<table border=\"1\" class=\"dataframe\">\n  <thead>\n    <tr style=\"text-align: right;\">\n      <th></th>\n      <th>CENSUS2010POP</th>\n      <th>ESTIMATESBASE2010</th>\n      <th>2010</th>\n      <th>POPESTIMATE2011</th>\n      <th>POPESTIMATE2012</th>\n      <th>POPESTIMATE2013</th>\n      <th>2014</th>\n      <th>POPESTIMATE2015</th>\n    </tr>\n  </thead>\n  <tbody>\n    <tr>\n      <th>0</th>\n      <td>3944153</td>\n      <td>3944160</td>\n      <td>3951330</td>\n      <td>3963087</td>\n      <td>3926540</td>\n      <td>3931141</td>\n      <td>3949775</td>\n      <td>3978038</td>\n    </tr>\n    <tr>\n      <th>1</th>\n      <td>3978070</td>\n      <td>3978090</td>\n      <td>3957888</td>\n      <td>3966551</td>\n      <td>3977939</td>\n      <td>3942872</td>\n      <td>3949776</td>\n      <td>3968564</td>\n    </tr>\n    <tr>\n      <th>2</th>\n      <td>4096929</td>\n      <td>4096939</td>\n      <td>4090862</td>\n      <td>3971565</td>\n      <td>3980095</td>\n      <td>3992720</td>\n      <td>3959664</td>\n      <td>3966583</td>\n    </tr>\n    <tr>\n      <th>3</th>\n      <td>4119040</td>\n      <td>4119051</td>\n      <td>4111920</td>\n      <td>4102470</td>\n      <td>3983157</td>\n      <td>3992734</td>\n      <td>4007079</td>\n      <td>3974061</td>\n    </tr>\n    <tr>\n      <th>4</th>\n      <td>4063170</td>\n      <td>4063186</td>\n      <td>4077551</td>\n      <td>4122294</td>\n      <td>4112849</td>\n      <td>3994449</td>\n      <td>4005716</td>\n      <td>4020035</td>\n    </tr>\n    <tr>\n      <th>...</th>\n      <td>...</td>\n      <td>...</td>\n      <td>...</td>\n      <td>...</td>\n      <td>...</td>\n      <td>...</td>\n      <td>...</td>\n      <td>...</td>\n    </tr>\n    <tr>\n      <th>97</th>\n      <td>68138</td>\n      <td>68168</td>\n      <td>68893</td>\n      <td>73274</td>\n      <td>77156</td>\n      <td>79953</td>\n      <td>83089</td>\n      <td>92377</td>\n    </tr>\n    <tr>\n      <th>98</th>\n      <td>45900</td>\n      <td>45938</td>\n      <td>47037</td>\n      <td>50670</td>\n      <td>54509</td>\n      <td>57015</td>\n      <td>59726</td>\n      <td>61991</td>\n    </tr>\n    <tr>\n      <th>99</th>\n      <td>32266</td>\n      <td>32289</td>\n      <td>32178</td>\n      <td>33636</td>\n      <td>36779</td>\n      <td>39271</td>\n      <td>41468</td>\n      <td>43641</td>\n    </tr>\n    <tr>\n      <th>100</th>\n      <td>53364</td>\n      <td>53412</td>\n      <td>54410</td>\n      <td>57702</td>\n      <td>61821</td>\n      <td>66189</td>\n      <td>71626</td>\n      <td>76974</td>\n    </tr>\n    <tr>\n      <th>101</th>\n      <td>308745538</td>\n      <td>308758105</td>\n      <td>309346863</td>\n      <td>311718857</td>\n      <td>314102623</td>\n      <td>316427395</td>\n      <td>318907401</td>\n      <td>321418820</td>\n    </tr>\n  </tbody>\n</table>\n<p>102 rows × 8 columns</p>\n</div>"
     },
     "execution_count": 25,
     "metadata": {},
     "output_type": "execute_result"
    }
   ],
   "source": [
    "male_df = male_df.iloc[:, 2:-2]\n",
    "male_df"
   ],
   "metadata": {
    "collapsed": false
   }
  },
  {
   "cell_type": "code",
   "execution_count": 26,
   "outputs": [
    {
     "data": {
      "text/plain": "     CENSUS2010POP  ESTIMATESBASE2010      2010  POPESTIMATE2011  \\\n0         2.043733           2.043731  2.044239         2.048467   \n1         2.042952           2.042949  2.042722         2.043530   \n2         2.043630           2.043629  2.043207         2.042364   \n3         2.044706           2.044705  2.045072         2.042886   \n4         2.046298           2.046296  2.045691         2.044818   \n..             ...                ...       ...              ...   \n97        1.271658           1.271672  1.273015         1.281933   \n98        1.252695           1.252570  1.253251         1.263087   \n99        1.231856           1.231746  1.234103         1.244395   \n100       1.207276           1.207160  1.207555         1.213348   \n101       1.966980           1.966996  1.967119         1.967586   \n\n     POPESTIMATE2012  POPESTIMATE2013      2014  POPESTIMATE2015  \n0           2.046327         2.045751  2.047100         2.047470  \n1           2.047867         2.045693  2.045059         2.046423  \n2           2.043170         2.047474  2.045290         2.044653  \n3           2.041987         2.042781  2.047057         2.044883  \n4           2.042596         2.041707  2.042483         2.046745  \n..               ...              ...       ...              ...  \n97          1.296021         1.305249  1.323516         1.333290  \n98          1.271881         1.285309  1.292547         1.311368  \n99          1.254400         1.262246  1.275271         1.281147  \n100         1.220288         1.227951  1.234761         1.243803  \n101         1.968289         1.968804  1.969147         1.969605  \n\n[102 rows x 8 columns]",
      "text/html": "<div>\n<style scoped>\n    .dataframe tbody tr th:only-of-type {\n        vertical-align: middle;\n    }\n\n    .dataframe tbody tr th {\n        vertical-align: top;\n    }\n\n    .dataframe thead th {\n        text-align: right;\n    }\n</style>\n<table border=\"1\" class=\"dataframe\">\n  <thead>\n    <tr style=\"text-align: right;\">\n      <th></th>\n      <th>CENSUS2010POP</th>\n      <th>ESTIMATESBASE2010</th>\n      <th>2010</th>\n      <th>POPESTIMATE2011</th>\n      <th>POPESTIMATE2012</th>\n      <th>POPESTIMATE2013</th>\n      <th>2014</th>\n      <th>POPESTIMATE2015</th>\n    </tr>\n  </thead>\n  <tbody>\n    <tr>\n      <th>0</th>\n      <td>2.043733</td>\n      <td>2.043731</td>\n      <td>2.044239</td>\n      <td>2.048467</td>\n      <td>2.046327</td>\n      <td>2.045751</td>\n      <td>2.047100</td>\n      <td>2.047470</td>\n    </tr>\n    <tr>\n      <th>1</th>\n      <td>2.042952</td>\n      <td>2.042949</td>\n      <td>2.042722</td>\n      <td>2.043530</td>\n      <td>2.047867</td>\n      <td>2.045693</td>\n      <td>2.045059</td>\n      <td>2.046423</td>\n    </tr>\n    <tr>\n      <th>2</th>\n      <td>2.043630</td>\n      <td>2.043629</td>\n      <td>2.043207</td>\n      <td>2.042364</td>\n      <td>2.043170</td>\n      <td>2.047474</td>\n      <td>2.045290</td>\n      <td>2.044653</td>\n    </tr>\n    <tr>\n      <th>3</th>\n      <td>2.044706</td>\n      <td>2.044705</td>\n      <td>2.045072</td>\n      <td>2.042886</td>\n      <td>2.041987</td>\n      <td>2.042781</td>\n      <td>2.047057</td>\n      <td>2.044883</td>\n    </tr>\n    <tr>\n      <th>4</th>\n      <td>2.046298</td>\n      <td>2.046296</td>\n      <td>2.045691</td>\n      <td>2.044818</td>\n      <td>2.042596</td>\n      <td>2.041707</td>\n      <td>2.042483</td>\n      <td>2.046745</td>\n    </tr>\n    <tr>\n      <th>...</th>\n      <td>...</td>\n      <td>...</td>\n      <td>...</td>\n      <td>...</td>\n      <td>...</td>\n      <td>...</td>\n      <td>...</td>\n      <td>...</td>\n    </tr>\n    <tr>\n      <th>97</th>\n      <td>1.271658</td>\n      <td>1.271672</td>\n      <td>1.273015</td>\n      <td>1.281933</td>\n      <td>1.296021</td>\n      <td>1.305249</td>\n      <td>1.323516</td>\n      <td>1.333290</td>\n    </tr>\n    <tr>\n      <th>98</th>\n      <td>1.252695</td>\n      <td>1.252570</td>\n      <td>1.253251</td>\n      <td>1.263087</td>\n      <td>1.271881</td>\n      <td>1.285309</td>\n      <td>1.292547</td>\n      <td>1.311368</td>\n    </tr>\n    <tr>\n      <th>99</th>\n      <td>1.231856</td>\n      <td>1.231746</td>\n      <td>1.234103</td>\n      <td>1.244395</td>\n      <td>1.254400</td>\n      <td>1.262246</td>\n      <td>1.275271</td>\n      <td>1.281147</td>\n    </tr>\n    <tr>\n      <th>100</th>\n      <td>1.207276</td>\n      <td>1.207160</td>\n      <td>1.207555</td>\n      <td>1.213348</td>\n      <td>1.220288</td>\n      <td>1.227951</td>\n      <td>1.234761</td>\n      <td>1.243803</td>\n    </tr>\n    <tr>\n      <th>101</th>\n      <td>1.966980</td>\n      <td>1.966996</td>\n      <td>1.967119</td>\n      <td>1.967586</td>\n      <td>1.968289</td>\n      <td>1.968804</td>\n      <td>1.969147</td>\n      <td>1.969605</td>\n    </tr>\n  </tbody>\n</table>\n<p>102 rows × 8 columns</p>\n</div>"
     },
     "execution_count": 26,
     "metadata": {},
     "output_type": "execute_result"
    }
   ],
   "source": [
    "ratio_mf = pd.DataFrame(male_df.values/female_df.values, columns=df.columns[2:-2])\n",
    "ratio_mf"
   ],
   "metadata": {
    "collapsed": false
   }
  },
  {
   "cell_type": "code",
   "execution_count": 27,
   "outputs": [
    {
     "data": {
      "text/plain": "       CENSUS2010POP  ESTIMATESBASE2010        2010  POPESTIMATE2011  \\\ncount     102.000000         102.000000  102.000000       102.000000   \nmean        1.864556           1.864563    1.865264         1.868248   \nstd         0.231911           0.231943    0.231091         0.227145   \nmin         1.207276           1.207160    1.207555         1.213348   \n25%         1.805324           1.805319    1.805182         1.812744   \n50%         1.967140           1.967166    1.967686         1.968821   \n75%         2.026606           2.026658    2.028346         2.032567   \nmax         2.061446           2.061492    2.060893         2.061235   \n\n       POPESTIMATE2012  POPESTIMATE2013        2014  POPESTIMATE2015  \ncount       102.000000       102.000000  102.000000       102.000000  \nmean          1.871461         1.874347    1.877032         1.879766  \nstd           0.223288         0.219527    0.215900         0.212389  \nmin           1.220288         1.227951    1.234761         1.243803  \n25%           1.817634         1.823373    1.827826         1.823476  \n50%           1.968155         1.968437    1.969474         1.972616  \n75%           2.035701         2.036008    2.036404         2.036285  \nmax           2.061529         2.061525    2.061236         2.060934  ",
      "text/html": "<div>\n<style scoped>\n    .dataframe tbody tr th:only-of-type {\n        vertical-align: middle;\n    }\n\n    .dataframe tbody tr th {\n        vertical-align: top;\n    }\n\n    .dataframe thead th {\n        text-align: right;\n    }\n</style>\n<table border=\"1\" class=\"dataframe\">\n  <thead>\n    <tr style=\"text-align: right;\">\n      <th></th>\n      <th>CENSUS2010POP</th>\n      <th>ESTIMATESBASE2010</th>\n      <th>2010</th>\n      <th>POPESTIMATE2011</th>\n      <th>POPESTIMATE2012</th>\n      <th>POPESTIMATE2013</th>\n      <th>2014</th>\n      <th>POPESTIMATE2015</th>\n    </tr>\n  </thead>\n  <tbody>\n    <tr>\n      <th>count</th>\n      <td>102.000000</td>\n      <td>102.000000</td>\n      <td>102.000000</td>\n      <td>102.000000</td>\n      <td>102.000000</td>\n      <td>102.000000</td>\n      <td>102.000000</td>\n      <td>102.000000</td>\n    </tr>\n    <tr>\n      <th>mean</th>\n      <td>1.864556</td>\n      <td>1.864563</td>\n      <td>1.865264</td>\n      <td>1.868248</td>\n      <td>1.871461</td>\n      <td>1.874347</td>\n      <td>1.877032</td>\n      <td>1.879766</td>\n    </tr>\n    <tr>\n      <th>std</th>\n      <td>0.231911</td>\n      <td>0.231943</td>\n      <td>0.231091</td>\n      <td>0.227145</td>\n      <td>0.223288</td>\n      <td>0.219527</td>\n      <td>0.215900</td>\n      <td>0.212389</td>\n    </tr>\n    <tr>\n      <th>min</th>\n      <td>1.207276</td>\n      <td>1.207160</td>\n      <td>1.207555</td>\n      <td>1.213348</td>\n      <td>1.220288</td>\n      <td>1.227951</td>\n      <td>1.234761</td>\n      <td>1.243803</td>\n    </tr>\n    <tr>\n      <th>25%</th>\n      <td>1.805324</td>\n      <td>1.805319</td>\n      <td>1.805182</td>\n      <td>1.812744</td>\n      <td>1.817634</td>\n      <td>1.823373</td>\n      <td>1.827826</td>\n      <td>1.823476</td>\n    </tr>\n    <tr>\n      <th>50%</th>\n      <td>1.967140</td>\n      <td>1.967166</td>\n      <td>1.967686</td>\n      <td>1.968821</td>\n      <td>1.968155</td>\n      <td>1.968437</td>\n      <td>1.969474</td>\n      <td>1.972616</td>\n    </tr>\n    <tr>\n      <th>75%</th>\n      <td>2.026606</td>\n      <td>2.026658</td>\n      <td>2.028346</td>\n      <td>2.032567</td>\n      <td>2.035701</td>\n      <td>2.036008</td>\n      <td>2.036404</td>\n      <td>2.036285</td>\n    </tr>\n    <tr>\n      <th>max</th>\n      <td>2.061446</td>\n      <td>2.061492</td>\n      <td>2.060893</td>\n      <td>2.061235</td>\n      <td>2.061529</td>\n      <td>2.061525</td>\n      <td>2.061236</td>\n      <td>2.060934</td>\n    </tr>\n  </tbody>\n</table>\n</div>"
     },
     "execution_count": 27,
     "metadata": {},
     "output_type": "execute_result"
    }
   ],
   "source": [
    "ratio_mf.describe()"
   ],
   "metadata": {
    "collapsed": false
   }
  },
  {
   "cell_type": "code",
   "execution_count": 28,
   "outputs": [
    {
     "data": {
      "text/plain": "array([2.044239  , 2.04272186, 2.04320697, 2.04507204, 2.04569096,\n       2.04451179, 2.04304117, 2.04203834, 2.04226991, 2.04392587,\n       2.04756821, 2.04679084, 2.04678423, 2.04478644, 2.04954365,\n       2.05332628, 2.05567195, 2.06089345, 2.05512403, 2.04399767,\n       2.04255117, 2.04388243, 2.04259231, 2.04109459, 2.03798382,\n       2.0306936 , 2.02130509, 2.01585747, 2.01061319, 2.00683517,\n       2.01439152, 2.00513968, 2.00236796, 1.9968065 , 1.9975296 ,\n       2.00047474, 1.99199965, 1.98588748, 1.98824467, 1.98757805,\n       1.99615644, 1.99249896, 1.99066375, 1.98454574, 1.9860433 ,\n       1.98446385, 1.97722858, 1.97406218, 1.97213537, 1.9682527 ,\n       1.97261278, 1.96530919, 1.96222251, 1.95699455, 1.95212734,\n       1.95028233, 1.94108553, 1.93787248, 1.93630252, 1.92934205,\n       1.92943135, 1.92491584, 1.92459302, 1.92395104, 1.91345842,\n       1.90528574, 1.89739935, 1.89223019, 1.88165538, 1.86713211,\n       1.86068521, 1.85995988, 1.84454773, 1.83151713, 1.81844116,\n       1.80076251, 1.78918985, 1.77094265, 1.75402548, 1.73478254,\n       1.71279635, 1.69231982, 1.66538853, 1.64242506, 1.61452911,\n       1.58484425, 1.56142605, 1.54241779, 1.51427443, 1.49342415,\n       1.46069561, 1.4342726 , 1.4063804 , 1.37878425, 1.34523584,\n       1.31946528, 1.29308349, 1.27301452, 1.25325056, 1.23410294,\n       1.20755471, 1.96711932])"
     },
     "execution_count": 28,
     "metadata": {},
     "output_type": "execute_result"
    }
   ],
   "source": [
    "y = ratio_mf['2010'].values\n",
    "y = y.flatten()\n",
    "y"
   ],
   "metadata": {
    "collapsed": false
   }
  },
  {
   "cell_type": "code",
   "execution_count": 31,
   "outputs": [
    {
     "data": {
      "text/plain": "<Figure size 640x480 with 1 Axes>",
      "image/png": "[encoded data removed]"
     },
     "metadata": {},
     "output_type": "display_data"
    }
   ],
   "source": [
    "plt.plot(y.flatten())\n",
    "plt.title(\"Gender Ratio Vs Age on 2010\")\n",
    "plt.xlabel(\"AGE\")\n",
    "plt.ylabel(\"Male : Female\")\n",
    "plt.show()"
   ],
   "metadata": {
    "collapsed": false
   }
  }
 ],
 "metadata": {
  "kernelspec": {
   "display_name": "Python 3",
   "language": "python",
   "name": "python3"
  },
  "language_info": {
   "codemirror_mode": {
    "name": "ipython",
    "version": 2
   },
   "file_extension": ".py",
   "mimetype": "text/x-python",
   "name": "python",
   "nbconvert_exporter": "python",
   "pygments_lexer": "ipython2",
   "version": "2.7.6"
  }
 },
 "nbformat": 4,
 "nbformat_minor": 0
}
