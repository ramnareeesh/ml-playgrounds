{
 "cells": [
  {
   "cell_type": "markdown",
   "metadata": {},
   "source": [
    "### Jury Selection\n",
    "In 2010, the ACLU presented a report on jury selection in Alameda County, California. Thereport concluded that certain ethnic groups are underrepresented among jury panelists inAlameda County, and suggested some reforms of the process by which eligible jurors areassigned to panels. In this section, we will perform our own analysis of the data and examinesome questions that arise as a result"
   ]
  },
  {
   "cell_type": "markdown",
   "metadata": {},
   "source": [
    "#### ANSWER"
   ]
  },
  {
   "cell_type": "markdown",
   "metadata": {},
   "source": [
    "##### Null Hypothesis:-panels were selected at random from the population of eligible jurors. "
   ]
  },
  {
   "cell_type": "markdown",
   "metadata": {},
   "source": [
    "##### Alternate Hypothesis:-panels were not selected at random"
   ]
  },
  {
   "cell_type": "code",
   "execution_count": 1,
   "metadata": {
    "ExecuteTime": {
     "end_time": "2023-11-03T04:11:52.724390Z",
     "start_time": "2023-11-03T04:11:52.061296Z"
    }
   },
   "outputs": [],
   "source": [
    "import pandas as pd\n",
    "import matplotlib.pyplot as plt\n",
    "%matplotlib inline\n",
    "import numpy as np"
   ]
  },
  {
   "cell_type": "code",
   "execution_count": 2,
   "metadata": {
    "ExecuteTime": {
     "end_time": "2023-11-03T04:11:52.730713Z",
     "start_time": "2023-11-03T04:11:52.724863Z"
    }
   },
   "outputs": [
    {
     "data": {
      "text/plain": "{'Ethnicity': ['Asian', 'Black', 'Latino', 'White', 'Other'],\n 'Eligible': [0.15, 0.18, 0.12, 0.54, 0.01],\n 'Panels': [0.26, 0.08, 0.08, 0.54, 0.04]}"
     },
     "execution_count": 2,
     "metadata": {},
     "output_type": "execute_result"
    }
   ],
   "source": [
    "jury = {\"Ethnicity\":[\"Asian\",\"Black\",\"Latino\",\"White\",\"Other\"],\"Eligible\":[0.15,0.18,0.12,0.54,0.01],\"Panels\":[0.26,0.08,0.08,0.54,0.04]}\n",
    "jury"
   ]
  },
  {
   "cell_type": "code",
   "execution_count": 3,
   "metadata": {
    "ExecuteTime": {
     "end_time": "2023-11-03T04:11:52.737688Z",
     "start_time": "2023-11-03T04:11:52.729828Z"
    }
   },
   "outputs": [
    {
     "data": {
      "text/plain": "  Ethnicity  Eligible  Panels\n0     Asian      0.15    0.26\n1     Black      0.18    0.08\n2    Latino      0.12    0.08\n3     White      0.54    0.54\n4     Other      0.01    0.04",
      "text/html": "<div>\n<style scoped>\n    .dataframe tbody tr th:only-of-type {\n        vertical-align: middle;\n    }\n\n    .dataframe tbody tr th {\n        vertical-align: top;\n    }\n\n    .dataframe thead th {\n        text-align: right;\n    }\n</style>\n<table border=\"1\" class=\"dataframe\">\n  <thead>\n    <tr style=\"text-align: right;\">\n      <th></th>\n      <th>Ethnicity</th>\n      <th>Eligible</th>\n      <th>Panels</th>\n    </tr>\n  </thead>\n  <tbody>\n    <tr>\n      <th>0</th>\n      <td>Asian</td>\n      <td>0.15</td>\n      <td>0.26</td>\n    </tr>\n    <tr>\n      <th>1</th>\n      <td>Black</td>\n      <td>0.18</td>\n      <td>0.08</td>\n    </tr>\n    <tr>\n      <th>2</th>\n      <td>Latino</td>\n      <td>0.12</td>\n      <td>0.08</td>\n    </tr>\n    <tr>\n      <th>3</th>\n      <td>White</td>\n      <td>0.54</td>\n      <td>0.54</td>\n    </tr>\n    <tr>\n      <th>4</th>\n      <td>Other</td>\n      <td>0.01</td>\n      <td>0.04</td>\n    </tr>\n  </tbody>\n</table>\n</div>"
     },
     "execution_count": 3,
     "metadata": {},
     "output_type": "execute_result"
    }
   ],
   "source": [
    "Alameda_df = pd.DataFrame(jury)\n",
    "Alameda_df"
   ]
  },
  {
   "cell_type": "code",
   "execution_count": 4,
   "metadata": {
    "ExecuteTime": {
     "end_time": "2023-11-03T04:11:52.739885Z",
     "start_time": "2023-11-03T04:11:52.737214Z"
    }
   },
   "outputs": [
    {
     "data": {
      "text/plain": "           Eligible  Panels\nEthnicity                  \nAsian          0.15    0.26\nBlack          0.18    0.08\nLatino         0.12    0.08\nWhite          0.54    0.54\nOther          0.01    0.04",
      "text/html": "<div>\n<style scoped>\n    .dataframe tbody tr th:only-of-type {\n        vertical-align: middle;\n    }\n\n    .dataframe tbody tr th {\n        vertical-align: top;\n    }\n\n    .dataframe thead th {\n        text-align: right;\n    }\n</style>\n<table border=\"1\" class=\"dataframe\">\n  <thead>\n    <tr style=\"text-align: right;\">\n      <th></th>\n      <th>Eligible</th>\n      <th>Panels</th>\n    </tr>\n    <tr>\n      <th>Ethnicity</th>\n      <th></th>\n      <th></th>\n    </tr>\n  </thead>\n  <tbody>\n    <tr>\n      <th>Asian</th>\n      <td>0.15</td>\n      <td>0.26</td>\n    </tr>\n    <tr>\n      <th>Black</th>\n      <td>0.18</td>\n      <td>0.08</td>\n    </tr>\n    <tr>\n      <th>Latino</th>\n      <td>0.12</td>\n      <td>0.08</td>\n    </tr>\n    <tr>\n      <th>White</th>\n      <td>0.54</td>\n      <td>0.54</td>\n    </tr>\n    <tr>\n      <th>Other</th>\n      <td>0.01</td>\n      <td>0.04</td>\n    </tr>\n  </tbody>\n</table>\n</div>"
     },
     "execution_count": 4,
     "metadata": {},
     "output_type": "execute_result"
    }
   ],
   "source": [
    "Alameda_df_1 = Alameda_df.set_index('Ethnicity')\n",
    "Alameda_df_1"
   ]
  },
  {
   "cell_type": "code",
   "execution_count": 5,
   "metadata": {
    "ExecuteTime": {
     "end_time": "2023-11-03T04:11:52.863787Z",
     "start_time": "2023-11-03T04:11:52.740894Z"
    }
   },
   "outputs": [
    {
     "data": {
      "text/plain": "<Figure size 640x480 with 1 Axes>",
      "image/png": "[encoded data removed]"
     },
     "metadata": {},
     "output_type": "display_data"
    }
   ],
   "source": [
    "#Bar chart for visualising the difference\n",
    "Alameda_df_1 .plot.barh()\n",
    "plt.ylabel('Ethnicity')\n",
    "plt.gca().invert_yaxis()"
   ]
  },
  {
   "cell_type": "markdown",
   "metadata": {},
   "source": [
    "#### Distance between Two Distributions"
   ]
  },
  {
   "cell_type": "code",
   "execution_count": 6,
   "metadata": {
    "ExecuteTime": {
     "end_time": "2023-11-03T04:11:52.864608Z",
     "start_time": "2023-11-03T04:11:52.822229Z"
    }
   },
   "outputs": [
    {
     "data": {
      "text/plain": "           Eligible  Panels  jury_with_diffs\nEthnicity                                   \nAsian          0.15    0.26             0.11\nBlack          0.18    0.08            -0.10\nLatino         0.12    0.08            -0.04\nWhite          0.54    0.54             0.00\nOther          0.01    0.04             0.03",
      "text/html": "<div>\n<style scoped>\n    .dataframe tbody tr th:only-of-type {\n        vertical-align: middle;\n    }\n\n    .dataframe tbody tr th {\n        vertical-align: top;\n    }\n\n    .dataframe thead th {\n        text-align: right;\n    }\n</style>\n<table border=\"1\" class=\"dataframe\">\n  <thead>\n    <tr style=\"text-align: right;\">\n      <th></th>\n      <th>Eligible</th>\n      <th>Panels</th>\n      <th>jury_with_diffs</th>\n    </tr>\n    <tr>\n      <th>Ethnicity</th>\n      <th></th>\n      <th></th>\n      <th></th>\n    </tr>\n  </thead>\n  <tbody>\n    <tr>\n      <th>Asian</th>\n      <td>0.15</td>\n      <td>0.26</td>\n      <td>0.11</td>\n    </tr>\n    <tr>\n      <th>Black</th>\n      <td>0.18</td>\n      <td>0.08</td>\n      <td>-0.10</td>\n    </tr>\n    <tr>\n      <th>Latino</th>\n      <td>0.12</td>\n      <td>0.08</td>\n      <td>-0.04</td>\n    </tr>\n    <tr>\n      <th>White</th>\n      <td>0.54</td>\n      <td>0.54</td>\n      <td>0.00</td>\n    </tr>\n    <tr>\n      <th>Other</th>\n      <td>0.01</td>\n      <td>0.04</td>\n      <td>0.03</td>\n    </tr>\n  </tbody>\n</table>\n</div>"
     },
     "execution_count": 6,
     "metadata": {},
     "output_type": "execute_result"
    }
   ],
   "source": [
    "#add a column for difference in eligible and panel \n",
    "Alameda_df_1['jury_with_diffs'] = Alameda_df_1['Panels']-Alameda_df_1['Eligible']\n",
    "Alameda_df_1"
   ]
  },
  {
   "cell_type": "markdown",
   "metadata": {},
   "source": [
    "Take a look at the column Difference and notice that the sum of its entries is 0: the positive entries add up to 0.14, exactly canceling the total of the negative entries which is -0.14.\n",
    "\n",
    "This is numerical evidence of the fact that in the bar chart, the gold bars exceed the blue bars by exactly as much as the blue bars exceed the gold. The proportions in each of the two columns Panels and Eligible add up to 1, and so the give-and-take between their entries must add up to 0.\n",
    "\n",
    "To avoid the cancellation, we drop the negative signs and then add all the entries. But this gives us two times the total of the positive entries (equivalently, two times the total of the negative entries, with the sign removed). So we divide the sum by 2."
   ]
  },
  {
   "cell_type": "code",
   "execution_count": 7,
   "metadata": {
    "ExecuteTime": {
     "end_time": "2023-11-03T04:11:52.865303Z",
     "start_time": "2023-11-03T04:11:52.827773Z"
    }
   },
   "outputs": [
    {
     "data": {
      "text/plain": "           Eligible  Panels  jury_with_diffs  Abs.Difference\nEthnicity                                                   \nAsian          0.15    0.26             0.11            0.11\nBlack          0.18    0.08            -0.10            0.10\nLatino         0.12    0.08            -0.04            0.04\nWhite          0.54    0.54             0.00            0.00\nOther          0.01    0.04             0.03            0.03",
      "text/html": "<div>\n<style scoped>\n    .dataframe tbody tr th:only-of-type {\n        vertical-align: middle;\n    }\n\n    .dataframe tbody tr th {\n        vertical-align: top;\n    }\n\n    .dataframe thead th {\n        text-align: right;\n    }\n</style>\n<table border=\"1\" class=\"dataframe\">\n  <thead>\n    <tr style=\"text-align: right;\">\n      <th></th>\n      <th>Eligible</th>\n      <th>Panels</th>\n      <th>jury_with_diffs</th>\n      <th>Abs.Difference</th>\n    </tr>\n    <tr>\n      <th>Ethnicity</th>\n      <th></th>\n      <th></th>\n      <th></th>\n      <th></th>\n    </tr>\n  </thead>\n  <tbody>\n    <tr>\n      <th>Asian</th>\n      <td>0.15</td>\n      <td>0.26</td>\n      <td>0.11</td>\n      <td>0.11</td>\n    </tr>\n    <tr>\n      <th>Black</th>\n      <td>0.18</td>\n      <td>0.08</td>\n      <td>-0.10</td>\n      <td>0.10</td>\n    </tr>\n    <tr>\n      <th>Latino</th>\n      <td>0.12</td>\n      <td>0.08</td>\n      <td>-0.04</td>\n      <td>0.04</td>\n    </tr>\n    <tr>\n      <th>White</th>\n      <td>0.54</td>\n      <td>0.54</td>\n      <td>0.00</td>\n      <td>0.00</td>\n    </tr>\n    <tr>\n      <th>Other</th>\n      <td>0.01</td>\n      <td>0.04</td>\n      <td>0.03</td>\n      <td>0.03</td>\n    </tr>\n  </tbody>\n</table>\n</div>"
     },
     "execution_count": 7,
     "metadata": {},
     "output_type": "execute_result"
    }
   ],
   "source": [
    "#finding ab\n",
    "Alameda_df_1['Abs.Difference']=abs(Alameda_df_1['jury_with_diffs'])\n",
    "Alameda_df_1"
   ]
  },
  {
   "cell_type": "code",
   "execution_count": 8,
   "metadata": {
    "ExecuteTime": {
     "end_time": "2023-11-03T04:11:52.865749Z",
     "start_time": "2023-11-03T04:11:52.833677Z"
    }
   },
   "outputs": [
    {
     "data": {
      "text/plain": "0.14"
     },
     "execution_count": 8,
     "metadata": {},
     "output_type": "execute_result"
    }
   ],
   "source": [
    "test_statistic = Alameda_df_1['Abs.Difference'].sum()/2\n",
    "test_statistic"
   ]
  },
  {
   "cell_type": "markdown",
   "metadata": {},
   "source": [
    "This quantity 0.14 is the total variation distance (TVD) between the distribution of ethnicities in the eligible juror population and the distribution in the panels.\n",
    "\n",
    "We could have obtained the same result by just adding the positive differences. But our method of including all the absolute differences eliminates the need to keep track of which differences are positive and which are not."
   ]
  },
  {
   "cell_type": "code",
   "execution_count": 9,
   "metadata": {
    "ExecuteTime": {
     "end_time": "2023-11-03T04:11:52.865878Z",
     "start_time": "2023-11-03T04:11:52.837273Z"
    }
   },
   "outputs": [],
   "source": [
    "#function for calculating total variation distance\n",
    "def total_variation_distance(distribution_1, distribution_2):\n",
    "    return np.abs(distribution_1 - distribution_2).sum()/2"
   ]
  },
  {
   "cell_type": "code",
   "execution_count": 10,
   "metadata": {
    "ExecuteTime": {
     "end_time": "2023-11-03T04:11:52.866359Z",
     "start_time": "2023-11-03T04:11:52.840331Z"
    }
   },
   "outputs": [
    {
     "name": "stdout",
     "output_type": "stream",
     "text": [
      "0.14\n"
     ]
    }
   ],
   "source": [
    "def table_tvd(table, label, other):\n",
    "    return total_variation_distance(table[label], table[other])\n",
    "\n",
    "observed_stat =table_tvd(Alameda_df, 'Eligible', 'Panels')\n",
    "print(observed_stat)"
   ]
  },
  {
   "cell_type": "markdown",
   "metadata": {},
   "source": [
    "#### Are the panels representative of the population?\n",
    "\n",
    "#### sampling at Random from the Eligible Population\n"
   ]
  },
  {
   "cell_type": "code",
   "execution_count": 11,
   "metadata": {
    "ExecuteTime": {
     "end_time": "2023-11-03T04:11:52.866471Z",
     "start_time": "2023-11-03T04:11:52.843163Z"
    }
   },
   "outputs": [],
   "source": [
    "panel_size = 1453"
   ]
  },
  {
   "cell_type": "code",
   "execution_count": 12,
   "metadata": {
    "ExecuteTime": {
     "end_time": "2023-11-03T04:11:52.867241Z",
     "start_time": "2023-11-03T04:11:52.845200Z"
    }
   },
   "outputs": [
    {
     "data": {
      "text/plain": "array([247, 259, 171, 770,   6])"
     },
     "execution_count": 12,
     "metadata": {},
     "output_type": "execute_result"
    }
   ],
   "source": [
    "import numpy.random as npr\n",
    "np.random.multinomial(1453,[0.15,0.18,0.12,0.54,0.01])"
   ]
  },
  {
   "cell_type": "code",
   "execution_count": 13,
   "metadata": {
    "ExecuteTime": {
     "end_time": "2023-11-03T04:11:52.867438Z",
     "start_time": "2023-11-03T04:11:52.852145Z"
    }
   },
   "outputs": [],
   "source": [
    "Alameda_df_2 = pd.DataFrame(Alameda_df_1,columns = ['Eligible','Panels'])"
   ]
  },
  {
   "cell_type": "code",
   "execution_count": 14,
   "metadata": {
    "ExecuteTime": {
     "end_time": "2023-11-03T04:11:52.867994Z",
     "start_time": "2023-11-03T04:11:52.858022Z"
    }
   },
   "outputs": [
    {
     "data": {
      "text/plain": "           Eligible  Panels  Random Sample\nEthnicity                                 \nAsian          0.15    0.26       0.155540\nBlack          0.18    0.08       0.192017\nLatino         0.12    0.08       0.121817\nWhite          0.54    0.54       0.521679\nOther          0.01    0.04       0.008947",
      "text/html": "<div>\n<style scoped>\n    .dataframe tbody tr th:only-of-type {\n        vertical-align: middle;\n    }\n\n    .dataframe tbody tr th {\n        vertical-align: top;\n    }\n\n    .dataframe thead th {\n        text-align: right;\n    }\n</style>\n<table border=\"1\" class=\"dataframe\">\n  <thead>\n    <tr style=\"text-align: right;\">\n      <th></th>\n      <th>Eligible</th>\n      <th>Panels</th>\n      <th>Random Sample</th>\n    </tr>\n    <tr>\n      <th>Ethnicity</th>\n      <th></th>\n      <th></th>\n      <th></th>\n    </tr>\n  </thead>\n  <tbody>\n    <tr>\n      <th>Asian</th>\n      <td>0.15</td>\n      <td>0.26</td>\n      <td>0.155540</td>\n    </tr>\n    <tr>\n      <th>Black</th>\n      <td>0.18</td>\n      <td>0.08</td>\n      <td>0.192017</td>\n    </tr>\n    <tr>\n      <th>Latino</th>\n      <td>0.12</td>\n      <td>0.08</td>\n      <td>0.121817</td>\n    </tr>\n    <tr>\n      <th>White</th>\n      <td>0.54</td>\n      <td>0.54</td>\n      <td>0.521679</td>\n    </tr>\n    <tr>\n      <th>Other</th>\n      <td>0.01</td>\n      <td>0.04</td>\n      <td>0.008947</td>\n    </tr>\n  </tbody>\n</table>\n</div>"
     },
     "execution_count": 14,
     "metadata": {},
     "output_type": "execute_result"
    }
   ],
   "source": [
    "Alameda_df_2['Random Sample'] = np.random.multinomial(1453,[0.15,0.18,0.12,0.54,0.01])/1453\n",
    "Alameda_df_2"
   ]
  },
  {
   "cell_type": "markdown",
   "metadata": {},
   "source": [
    "the distribution of the random sample is close to the distribution of the eligible population and is different from the distribution of the panels."
   ]
  },
  {
   "cell_type": "code",
   "execution_count": 15,
   "metadata": {
    "ExecuteTime": {
     "end_time": "2023-11-03T04:11:53.018300Z",
     "start_time": "2023-11-03T04:11:52.866260Z"
    }
   },
   "outputs": [
    {
     "data": {
      "text/plain": "<Figure size 640x480 with 1 Axes>",
      "image/png": "[encoded data removed]"
     },
     "metadata": {},
     "output_type": "display_data"
    }
   ],
   "source": [
    "Alameda_df_2.plot.barh()\n",
    "plt.ylabel('Ethnicity')\n",
    "plt.gca().invert_yaxis()"
   ]
  },
  {
   "cell_type": "markdown",
   "metadata": {},
   "source": [
    "The green bar are  closer in size to the blue bars than the orange bars are. The randomsample resembles the eligible population, but the panels don't."
   ]
  },
  {
   "cell_type": "code",
   "execution_count": 16,
   "metadata": {
    "ExecuteTime": {
     "end_time": "2023-11-03T04:11:53.021141Z",
     "start_time": "2023-11-03T04:11:52.936183Z"
    }
   },
   "outputs": [
    {
     "data": {
      "text/plain": "0.019373709566414335"
     },
     "execution_count": 16,
     "metadata": {},
     "output_type": "execute_result"
    }
   ],
   "source": [
    "#Difference between eligible and Random sample\n",
    "TVD = (abs(Alameda_df_2['Eligible']-Alameda_df_2['Random Sample'])).sum()/2\n",
    "TVD"
   ]
  },
  {
   "cell_type": "markdown",
   "metadata": {},
   "source": [
    "The Total variation distance(TVD) between the eligible population and the panels was 0.14, but the TVD between the eligible population and the random sample is much smaller."
   ]
  },
  {
   "cell_type": "markdown",
   "metadata": {},
   "source": [
    "#### Emperical distribution of TVDs"
   ]
  },
  {
   "cell_type": "code",
   "execution_count": 17,
   "metadata": {
    "ExecuteTime": {
     "end_time": "2023-11-03T04:11:53.431952Z",
     "start_time": "2023-11-03T04:11:52.939712Z"
    }
   },
   "outputs": [
    {
     "data": {
      "text/plain": "[0.015471438403303478,\n 0.017095664143152063,\n 0.015209910529938094,\n 0.012319339298004085,\n 0.012422573984858928,\n 0.011713695801789391,\n 0.008733654507914685,\n 0.016868547832071572,\n 0.024019270474879548,\n 0.013110805230557462,\n 0.01725395732966274,\n 0.01108740536820376,\n 0.0164074328974535,\n 0.03499655884377145,\n 0.015244322092223013,\n 0.01314521679284239,\n 0.011665519614590496,\n 0.010337233310392276,\n 0.017962835512732273,\n 0.005519614590502402,\n 0.012973158981417744,\n 0.020385409497591232,\n 0.005244322092223014,\n 0.015498967653131475,\n 0.008362009635237441,\n 0.017790777701307593,\n 0.022037164487267703,\n 0.012966276668960764,\n 0.013145216792842425,\n 0.01217481073640746,\n 0.023792154163799043,\n 0.017274604267033762,\n 0.018568479008947012,\n 0.0051548520302821515,\n 0.007900894700619401,\n 0.020908465244322095,\n 0.013179628355127355,\n 0.01022023399862352,\n 0.016221610461114942,\n 0.016145905024088088,\n 0.019346180316586366,\n 0.010640055058499683,\n 0.00783207157604952,\n 0.017907777013076356,\n 0.026951135581555406,\n 0.0034273916035788,\n 0.017274604267033727,\n 0.02282174810736408,\n 0.012353750860289028,\n 0.007274604267033718,\n 0.021225051617343418,\n 0.021321403991741265,\n 0.024480385409497592,\n 0.020027529249827973,\n 0.013778389538885027,\n 0.021348933241569164,\n 0.004741913282863002,\n 0.016586373021335178,\n 0.01520991052993805,\n 0.02235375086028906,\n 0.02086028905712316,\n 0.01746730901582929,\n 0.014562973158981422,\n 0.01159669649002063,\n 0.006951135581555451,\n 0.013695801789401206,\n 0.010337233310392248,\n 0.018513420509291122,\n 0.01778389538885065,\n 0.02236063317274601,\n 0.02134893324156916,\n 0.011803165863730248,\n 0.018933241569167262,\n 0.01043358568479009,\n 0.016531314521679278,\n 0.007646249139710992,\n 0.01984858912594628,\n 0.007095664143152053,\n 0.02197522367515487,\n 0.01925671025464558,\n 0.015388850653819654,\n 0.0222849277357192,\n 0.012401927047487951,\n 0.016992429456297344,\n 0.010681348933241594,\n 0.040027529249827935,\n 0.011810048176187206,\n 0.006985547143840364,\n 0.00973847212663459,\n 0.028953888506538208,\n 0.008272539573296604,\n 0.01355127322780458,\n 0.023647625602202307,\n 0.021913282863041974,\n 0.012456985547143857,\n 0.02006882312456986,\n 0.02662766689607709,\n 0.028327598072952532,\n 0.023069511355815576,\n 0.021548520302821735,\n 0.032821748107364074,\n 0.012401927047487913,\n 0.01994494150034412,\n 0.01826565726083962,\n 0.027632484514797002,\n 0.019284239504473496,\n 0.013812801101169971,\n 0.029607708189951815,\n 0.01686854783207161,\n 0.013110805230557458,\n 0.006806607019958699,\n 0.03176875430144528,\n 0.011059876118375745,\n 0.03329662766689604,\n 0.019380591878871346,\n 0.022236751548520298,\n 0.014060564349621434,\n 0.019910529938059217,\n 0.014342739160357854,\n 0.013778389538885057,\n 0.008609772883688954,\n 0.01810736407432894,\n 0.013028217481073662,\n 0.008520302821748083,\n 0.020715760495526515,\n 0.026366139022711642,\n 0.028479008947006168,\n 0.030860289057123184,\n 0.011328286304198232,\n 0.01415691672401926,\n 0.009339298004129411,\n 0.015877494838265647,\n 0.023103922918100494,\n 0.011225051617343416,\n 0.014783207157604925,\n 0.01644872677219543,\n 0.013110805230557483,\n 0.009050240880936002,\n 0.027419132828630396,\n 0.01879559532002749,\n 0.004865794907088739,\n 0.028953888506538187,\n 0.019621472814865846,\n 0.018368891947694452,\n 0.013778389538885024,\n 0.023351686166551984,\n 0.025891259463179682,\n 0.019697178251892655,\n 0.010337233310392244,\n 0.03723331039229184,\n 0.014156916724019294,\n 0.013041982105987587,\n 0.017790777701307603,\n 0.012725395732966237,\n 0.017543014452856123,\n 0.016620784583620114,\n 0.013840330350997927,\n 0.019380591878871298,\n 0.020543702684101856,\n 0.013427391603578828,\n 0.005471438403303497,\n 0.0202202339986235,\n 0.021913282863041984,\n 0.014060564349621451,\n 0.004556090846524432,\n 0.020578114246386787,\n 0.02328974535443909,\n 0.02272539573296629,\n 0.0088437715072264,\n 0.009848589125946279,\n 0.010660701995870568,\n 0.02682725395732969,\n 0.010371644872677215,\n 0.021286992429456326,\n 0.02860977288368897,\n 0.00792154163799035,\n 0.008616655196145923,\n 0.005581555402615273,\n 0.0072401927047488195,\n 0.0058568479008947035,\n 0.013179628355127362,\n 0.03017205781142464,\n 0.01410185822436335,\n 0.02236063317274601,\n 0.01270474879559536,\n 0.005877494838265641,\n 0.02260839642119749,\n 0.012374397797660038,\n 0.008045423262216148,\n 0.01869236063317276,\n 0.014803854094975907,\n 0.017556779077770115,\n 0.009242945629731544,\n 0.03268410185822437,\n 0.01788024776324846,\n 0.02993117687543012,\n 0.022697866483138377,\n 0.009160357880247744,\n 0.009284239504473461,\n 0.021665519614590473,\n 0.03407432897453546,\n 0.021596696490020627,\n 0.015437026841018567,\n 0.008981417756366161,\n 0.011403991741225049,\n 0.021266345492085323,\n 0.012339986235375099,\n 0.012126634549208575,\n 0.012057811424638687,\n 0.0234136269786648,\n 0.008609772883688957,\n 0.028554714384033016,\n 0.02763248451479702,\n 0.012374397797660043,\n 0.01826565726083961,\n 0.024790089470061914,\n 0.0075017205781142335,\n 0.01884377150722641,\n 0.02112181693048868,\n 0.011686166551961495,\n 0.011624225739848556,\n 0.023984858912594616,\n 0.008878183069511308,\n 0.016180316586373023,\n 0.01168616655196148,\n 0.016221610461114967,\n 0.015244322092223003,\n 0.022608396421197524,\n 0.017928423950447372,\n 0.03462491397109425,\n 0.010247763248451464,\n 0.005753613214039881,\n 0.013427391603578804,\n 0.023661390227116323,\n 0.019339298004129396,\n 0.017818306951135544,\n 0.016159669649002076,\n 0.025072264280798322,\n 0.009986235375086059,\n 0.021231933929800377,\n 0.017467309015829286,\n 0.008045423262216127,\n 0.011225051617343412,\n 0.022450103234686873,\n 0.012966276668960752,\n 0.017219545767377827,\n 0.013124569855471401,\n 0.018472126634549193,\n 0.02452856159669651,\n 0.022284927735719193,\n 0.004501032346868536,\n 0.011665519614590461,\n 0.022339986235375107,\n 0.022037164487267703,\n 0.014094975911906376,\n 0.02920165175498968,\n 0.01614590502408813,\n 0.02090846524432209,\n 0.00960082587749482,\n 0.012126634549208565,\n 0.027880247763248496,\n 0.014115622849277374,\n 0.03176187198898832,\n 0.009931176875430138,\n 0.01916035788024772,\n 0.011596696490020606,\n 0.016448726772195423,\n 0.012319339298004089,\n 0.008733654507914685,\n 0.015843083275980687,\n 0.027233310392291824,\n 0.008843771507226405,\n 0.01130763936682724,\n 0.020220233998623507,\n 0.01925671025464559,\n 0.019607708189951785,\n 0.019057123193393005,\n 0.02430144528561593,\n 0.019587061252580876,\n 0.010660701995870568,\n 0.015877494838265626,\n 0.01618031658637305,\n 0.01237439779766001,\n 0.015533379215416386,\n 0.013413626978664814,\n 0.024039917412250533,\n 0.015209910529938048,\n 0.015760495526496863,\n 0.015209910529938104,\n 0.01847212663454916,\n 0.011768754301445274,\n 0.023103922918100483,\n 0.009277357192016474,\n 0.013503097040605684,\n 0.02029593943565034,\n 0.010392291810048197,\n 0.036407432897453525,\n 0.02176187198898835,\n 0.01686854783207158,\n 0.012491397109428776,\n 0.0074604267033723266,\n 0.0036545079146592862,\n 0.01503097040605639,\n 0.023613214039917375,\n 0.020984170681348925,\n 0.04346180316586373,\n 0.02401927047487952,\n 0.014342739160357856,\n 0.020254645560908464,\n 0.01607708189951821,\n 0.01381280110116996,\n 0.020750172057811447,\n 0.01828630419821064,\n 0.01604267033723327,\n 0.0175017205781142,\n 0.020543702684101856,\n 0.01264969029593942,\n 0.017680660701995875,\n 0.008362009635237446,\n 0.006407432897453538,\n 0.018513420509291088,\n 0.02538885065381964,\n 0.044838265657260845,\n 0.009986235375086047,\n 0.008362009635237446,\n 0.013977976600137606,\n 0.020536820371644882,\n 0.013007570543702655,\n 0.003867859600825904,\n 0.02949070887818301,\n 0.020172057811424615,\n 0.014893324156916707,\n 0.02662766689607709,\n 0.014101858224363377,\n 0.03268410185822435,\n 0.011225051617343416,\n 0.02741913282863039,\n 0.026366139022711624,\n 0.007783895388850609,\n 0.016889194769442506,\n 0.018245010323468716,\n 0.023413626978664802,\n 0.006269786648313867,\n 0.024439091534755673,\n 0.012463867859600842,\n 0.03227804542326222,\n 0.008836889194769429,\n 0.009993117687543065,\n 0.028644184445973837,\n 0.010674466620784615,\n 0.026083964211975223,\n 0.020715760495526522,\n 0.024101858224363386,\n 0.012422573984858902,\n 0.01033723331039228,\n 0.016586373021335216,\n 0.021693048864418474,\n 0.01163110805230554,\n 0.01659325533379217,\n 0.016414315209910525,\n 0.01543702684101858,\n 0.02535443909153477,\n 0.004604267033723352,\n 0.022009635237439776,\n 0.017632484514797014,\n 0.01140399174122507,\n 0.011651754989676539,\n 0.012601514108740504,\n 0.014060564349621458,\n 0.016180316586373023,\n 0.025106675843083286,\n 0.01887818306951133,\n 0.0103097040605644,\n 0.013840330350997958,\n 0.03136269786648315,\n 0.009683413626978658,\n 0.019380591878871353,\n 0.020750172057811475,\n 0.015244322092223036,\n 0.013730213351686142,\n 0.01140399174122508,\n 0.03921541637990366,\n 0.013654507914659303,\n 0.008368891947694454,\n 0.007143840330350994,\n 0.01759807295251208,\n 0.021631108052305573,\n 0.021087405368203728,\n 0.01503097040605644,\n 0.010110116999311808,\n 0.029545767377838983,\n 0.011913282863041972,\n 0.007673778389538891,\n 0.011121816930488677,\n 0.032924982794218835,\n 0.017907777013076377,\n 0.014748795595319997,\n 0.010254645560908444,\n 0.016125258086717085,\n 0.014824501032346858,\n 0.02788024776324848,\n 0.00902271163110805,\n 0.014404679972470753,\n 0.017962835512732315,\n 0.013434273916035815,\n 0.04128011011699934,\n 0.010536820371644835,\n 0.027515485203028246,\n 0.028836889194769445,\n 0.011307639366827202,\n 0.016868547832071576,\n 0.013874741913282883,\n 0.011631108052305536,\n 0.00953200275292495,\n 0.022284927735719204,\n 0.011059876118375753,\n 0.01934618031658638,\n 0.02616655196145906,\n 0.02236063317274601,\n 0.022374397797660022,\n 0.010942876806607006,\n 0.011631108052305524,\n 0.029580178940123922,\n 0.024666207845836185,\n 0.037274604267033766,\n 0.021438403303510035,\n 0.023661390227116306,\n 0.01662078458362011,\n 0.00666896077081899,\n 0.015932553337921554,\n 0.010715760495526519,\n 0.014439091534755678,\n 0.010674466620784612,\n 0.013867859600825908,\n 0.011995870612525805,\n 0.017274604267033714,\n 0.021348933241569168,\n 0.012174810736407433,\n 0.02090846524432208,\n 0.02723331039229184,\n 0.021761871988988355,\n 0.010674466620784619,\n 0.01721954576737781,\n 0.004769442532691014,\n 0.010997935306262896,\n 0.01452167928423955,\n 0.015781142463867866,\n 0.023984858912594626,\n 0.011438403303509984,\n 0.01273916035788024,\n 0.01176875430144534,\n 0.01997247075017204,\n 0.0161252580867171,\n 0.014239504473503115,\n 0.01093599449415003,\n 0.020309704060564388,\n 0.01028905712319336,\n 0.01865794907088785,\n 0.0134136269786648,\n 0.016620784583620134,\n 0.014439091534755682,\n 0.017281486579490718,\n 0.020536820371644886,\n 0.009986235375086062,\n 0.01832071576049555,\n 0.031610461114934645,\n 0.024707501720578093,\n 0.009421885753613236,\n 0.020254645560908453,\n 0.02613902271163114,\n 0.0312319339298004,\n 0.01933929800412939,\n 0.02132140399174126,\n 0.014769442532690986,\n 0.016125258086717095,\n 0.02195457673778388,\n 0.020908465244322088,\n 0.012828630419821078,\n 0.037178251892635884,\n 0.011369580178940122,\n 0.0027873365450791837,\n 0.023984858912594602,\n 0.013661390227116295,\n 0.013551273227804545,\n 0.010750172057811463,\n 0.006180316586373044,\n 0.022319339298004125,\n 0.021231933929800405,\n 0.020660701995870622,\n 0.0233860977288369,\n 0.02413626978664828,\n 0.013413626978664776,\n 0.027481073640743283,\n 0.01043358568479012,\n 0.010750172057811466,\n 0.02415691672401928,\n 0.026730901582931857,\n 0.024198210598761184,\n 0.018795595320027506,\n 0.022037164487267686,\n 0.019256710254645593,\n 0.015478320715760467,\n 0.015932553337921554,\n 0.018795595320027496,\n 0.015492085340674503,\n 0.009931176875430107,\n 0.019483826565726045,\n 0.010220233998623492,\n 0.025416379903647618,\n 0.01503097040605642,\n 0.013867859600825923,\n 0.02726772195457674,\n 0.018224363386097692,\n 0.017192016517549938,\n 0.01340674466620783,\n 0.027921541637990384,\n 0.017157604955265006,\n 0.0040949759119063844,\n 0.024039917412250512,\n 0.0196214728148658,\n 0.029483826565726037,\n 0.014700619408121098,\n 0.013695801789401203,\n 0.028004129387474243,\n 0.00942188575361321,\n 0.021225051617343435,\n 0.025815554026152824,\n 0.01641431520991049,\n 0.0163041982105988,\n 0.017171369580178928,\n 0.005609084652443221,\n 0.011589814177563666,\n 0.008245010323468714,\n 0.009421885753613218,\n 0.021672401927047454,\n 0.011307639366827247,\n 0.014404679972470764,\n 0.015471438403303483,\n 0.008362009635237474,\n 0.013028217481073627,\n 0.01782518926359255,\n 0.014115622849277363,\n 0.015437026841018574,\n 0.023083275980729512,\n 0.024191328286304215,\n 0.020543702684101852,\n 0.01549896765313146,\n 0.013716448726772208,\n 0.006772195457673743,\n 0.011403991741225054,\n 0.013392980041293863,\n 0.022284927735719207,\n 0.02245010323468688,\n 0.009242945629731558,\n 0.01397797660013761,\n 0.014094975911906402,\n 0.020172057811424615,\n 0.018685478320715803,\n 0.011713695801789365,\n 0.013392980041293917,\n 0.009621472814865827,\n 0.02864418444597385,\n 0.02452856159669649,\n 0.02479008947006195,\n 0.017309015829318673,\n 0.006985547143840364,\n 0.030598761183757765,\n 0.01956641431520987,\n 0.015533379215416383,\n 0.025478320715760495,\n 0.015781142463867852,\n 0.02140399174122508,\n 0.020295939435650372,\n 0.009057123193393008,\n 0.01268410185822436,\n 0.012284927735719159,\n 0.018919476944253277,\n 0.02911906400550585,\n 0.020172057811424608,\n 0.021665519614590473,\n 0.018919476944253263,\n 0.005615966964900229,\n 0.018368891947694425,\n 0.01746730901582928,\n 0.024886441844459754,\n 0.01641431520991049,\n 0.020633172746042695,\n 0.008933241569167236,\n 0.013468685478320709,\n 0.017962835512732284,\n 0.019745354439091523,\n 0.012635925671025429,\n 0.01071576049552652,\n 0.0358568479008947,\n 0.012140399174122494,\n 0.037866483138334454,\n 0.02086028905712317,\n 0.015905024088093626,\n 0.017783895388850626,\n 0.007274604267033772,\n 0.01551273227804542,\n 0.01272539573296625,\n 0.02443909153475572,\n 0.013145216792842421,\n 0.015127322780454271,\n 0.019910529938059217,\n 0.010337233310392251,\n 0.027866483138334463,\n 0.025781142463867857,\n 0.02401927047487957,\n 0.016187198898830024,\n 0.015209910529938092,\n 0.011810048176187206,\n 0.030295939435650374,\n 0.01214039917412251,\n 0.019008947006194134,\n 0.020633172746042698,\n 0.024790089470061945,\n 0.006551961459050256,\n 0.019972470750172038,\n 0.013468685478320733,\n 0.00833448038540952,\n 0.011810048176187233,\n 0.025478320715760467,\n 0.02308327598072952,\n 0.019566414315209883,\n 0.015037852718513413,\n 0.020963523743977964,\n 0.016586373021335175,\n 0.018953888506538195,\n 0.015760495526496894,\n 0.027178251892635903,\n 0.015939435650378534,\n 0.020894700619408124,\n 0.02891947694425323,\n 0.014666207845836193,\n 0.021231933929800377,\n 0.01369580178940124,\n 0.019697178251892655,\n 0.039848589125946285,\n 0.012601514108740502,\n 0.004081211286992451,\n 0.020254645560908467,\n 0.022601514108740527,\n 0.01622161046111496,\n 0.024514796971782576,\n 0.0291672401927047,\n 0.007322780454232617,\n 0.023103922918100525,\n 0.026166551961459006,\n 0.03608396421197523,\n 0.012030282174810702,\n 0.015533379215416386,\n 0.010997935306262911,\n 0.015581555402615261,\n 0.01520991052993808,\n 0.03503097040605643,\n 0.019532002752924982,\n 0.019167240192704722,\n 0.011713695801789357,\n 0.020750172057811447,\n 0.019222298692360647,\n 0.009050240880936006,\n 0.012050929112181717,\n 0.010660701995870568,\n 0.029008947006194087,\n 0.01869236063317276,\n 0.011734342739160368,\n 0.03205092911218171,\n 0.022450103234686877,\n 0.015512732278045387,\n 0.02397797660013765,\n 0.015457673778389563,\n 0.015471438403303475,\n 0.01410185822436335,\n 0.028513420509291097,\n 0.01865106675843086,\n 0.019346180316586362,\n 0.014466620784583618,\n 0.006992429456297313,\n 0.01105987611837573,\n 0.02644872677219543,\n 0.006813489332415648,\n 0.018878183069511324,\n 0.015781142463867852,\n 0.01620096352374397,\n 0.018974535443909195,\n 0.014012388162422576,\n 0.011025464556090797,\n 0.01928423950447349,\n 0.010426703372333118,\n 0.025905024088093635,\n 0.018616655196145925,\n 0.01365450791465933,\n 0.010681348933241564,\n 0.03304886441844457,\n 0.03245698554714388,\n 0.008981417756366187,\n 0.011121816930488658,\n 0.01956641431520991,\n 0.026139022711631134,\n 0.01434273916035783,\n 0.02891947694425328,\n 0.01108052305574677,\n 0.00884377150722638,\n 0.012498279421885753,\n 0.020536820371644848,\n 0.018368891947694435,\n 0.01641431520991052,\n 0.015898141775636622,\n 0.020034411562284922,\n 0.02371644872677221,\n 0.027790777701307594,\n 0.03806607019958701,\n 0.016221610461114942,\n 0.025533379215416405,\n 0.022126634549208542,\n 0.004081211286992459,\n 0.01662766689607707,\n 0.030385409497591182,\n 0.01818995182381277,\n 0.03411562284927736,\n 0.01409497591190637,\n 0.006806607019958695,\n 0.02103922918100485,\n 0.028107364074328976,\n 0.01815554026152787,\n 0.01317962835512735,\n 0.02134893324156916,\n 0.008293186510667634,\n 0.02779077770130759,\n 0.01859600825877495,\n 0.016483138334480375,\n 0.01618719889883001,\n 0.018912594631796252,\n 0.014404679972470774,\n 0.023413626978664826,\n 0.019194769442532695,\n 0.02300757054370266,\n 0.0204335856847901,\n 0.018651066758430878,\n 0.025127322780454226,\n 0.026916724019270522,\n 0.013551273227804531,\n 0.023007570543702692,\n 0.024824501032346864,\n 0.015726083964211966,\n 0.01865106675843087,\n 0.014115622849277379,\n 0.022814865794907106,\n 0.027866483138334473,\n 0.016586373021335175,\n 0.023296627666896053,\n 0.011273227804542306,\n 0.029525120440467963,\n 0.008210598761183761,\n 0.017102546455609054,\n 0.004604267033723352,\n 0.02212663454920855,\n 0.022725395732966266,\n 0.006180316586373044,\n 0.02717825189263591,\n 0.017219545767377827,\n 0.011080523055746772,\n 0.015615966964900196,\n 0.023468685478320723,\n 0.029662766689607704,\n 0.02350997935306263,\n 0.016992429456297347,\n 0.014136269786648302,\n 0.005147969717825175,\n 0.020715760495526498,\n 0.024163799036476273,\n 0.011273227804542324,\n 0.020757054370268403,\n 0.008224363386097694,\n 0.008245010323468714,\n 0.020571231933929783,\n 0.008210598761183786,\n 0.007494838265657223,\n 0.015471438403303483,\n 0.020172057811424608,\n 0.01715760495526496,\n 0.02451479697178257,\n 0.02140399174122507,\n 0.0068960770818995,\n 0.009883000688231239,\n 0.0160426703372333,\n 0.023351686166551984,\n 0.01134205092911215,\n 0.018245010323468692,\n 0.021321403991741268,\n 0.02057811424638676,\n 0.006868547832071572,\n 0.013654507914659312,\n 0.01317962835512734,\n 0.02066070199587057,\n 0.019483826565726087,\n 0.010997935306262937,\n 0.015471438403303488,\n 0.015251204404679988,\n 0.016944253269098437,\n 0.015760495526496894,\n 0.018368891947694442,\n 0.014439091534755678,\n 0.026104611149346167,\n 0.01937370956641433,\n 0.021073640743289775,\n 0.006992429456297342,\n 0.004803854094975911,\n 0.022959394356503793,\n 0.01371644872677221,\n 0.037515485203028255,\n 0.011651754989676553,\n 0.01960770818995181,\n 0.008506538196834126,\n 0.00996558843771504,\n 0.018513420509291105,\n 0.010110116999311792,\n 0.01612525808671711,\n 0.028286304198210602,\n 0.015437026841018574,\n 0.00971094287680659,\n 0.022608396421197496,\n 0.016909841706813485,\n 0.03033035099793528,\n 0.037838953888506575,\n 0.015533379215416414,\n 0.015209910529938048,\n 0.010426703372333115,\n 0.00721266345492084,\n 0.012037164487267705,\n 0.019167240192704715,\n 0.017962835512732284,\n 0.017790777701307638,\n 0.019256710254645575,\n 0.02030970406056435,\n 0.023296627666896035,\n 0.025203028217481098,\n 0.018320715760495536,\n 0.012973158981417744,\n 0.026262904335856894,\n 0.013090158293186497,\n 0.02924294562973158,\n 0.010619408121128663,\n 0.009277357192016505,\n 0.01994494150034412,\n 0.015354439091534734,\n 0.01853406744666213,\n 0.01245698554714383,\n 0.019944941500344125,\n 0.014101858224363356,\n 0.016847900894700615,\n 0.014562973158981432,\n 0.020860289057123185,\n 0.023296627666896073,\n 0.031073640743289773,\n 0.02966276668960774,\n 0.01960770818995179,\n 0.01549208534067449,\n 0.02649002064693736,\n 0.02375086028905717,\n 0.01836889194769446,\n 0.017522367515485204,\n 0.016765313145216794,\n 0.02567790777701305,\n 0.020027529249827945,\n 0.024301445285615945,\n 0.020254645560908443,\n 0.017419132828630383,\n 0.02626290433585689,\n 0.01057123193392978,\n 0.009704060564349665,\n 0.010213351686166498,\n 0.00971094287680662,\n 0.017907777013076383,\n 0.01863041982105985,\n 0.01578114246386789,\n 0.016889194769442492,\n 0.007680660701995905,\n 0.028114246386785936,\n 0.02057811424638678,\n 0.01847212663454918,\n 0.017997247075017254,\n 0.0201720578114246,\n 0.03324845147969718,\n 0.0192567102546456,\n 0.016909841706813485,\n 0.013372333103922914,\n 0.01452167928423952,\n 0.024384033035099797,\n 0.00790089470061937,\n 0.02556779077770132,\n 0.009387474191328325,\n 0.01964211975223675,\n 0.006269786648313839,\n 0.025127322780454254,\n 0.012704748795595307,\n 0.007212663454920843,\n 0.020536820371644844,\n 0.015863730213351683,\n 0.009298004129387503,\n 0.007501720578114233,\n 0.012050929112181684,\n 0.02567790777701309,\n 0.020536820371644834,\n 0.0064556090846524024,\n 0.01441844459738469,\n 0.007639366827253994,\n 0.023826565726083992,\n 0.020598761183757742,\n 0.011403991741225082,\n 0.031362697866483116,\n 0.01856847900894704,\n 0.0233860977288369,\n 0.012030282174810732,\n 0.017825189263592535,\n 0.023737095664143094,\n 0.010254645560908443,\n 0.01090158293186511,\n 0.01576049552649686,\n 0.02235375086028906,\n 0.0069580178940124,\n 0.009566414315209902,\n 0.019621472814865787,\n 0.010935994494150031,\n 0.014060564349621428,\n 0.004886441844459742,\n 0.008554714384033029,\n 0.010371644872677216,\n 0.029525120440467963,\n 0.009986235375086059,\n 0.020977288368891903,\n 0.020275292498279435,\n 0.01925671025464557,\n 0.022236751548520298,\n 0.018616655196145932,\n 0.027426015141087383,\n 0.034115622849277376,\n 0.017219545767377806,\n 0.009883000688231237,\n 0.009298004129387517,\n 0.018155540261527877,\n 0.00560908465244325,\n 0.013833448038540967,\n 0.02260151410874054,\n 0.015760495526496894,\n 0.010536820371644854,\n 0.015106675843083256,\n 0.00942188575361325,\n 0.019339298004129386,\n 0.026366139022711624,\n 0.020275292498279418,\n 0.016200963523743943,\n 0.016620784583620103,\n 0.017157604955264957,\n 0.026042670337233325,\n 0.025450791465932564,\n 0.014239504473503129,\n 0.02154852030282174,\n 0.007921541637990422,\n 0.01593943565037855,\n 0.020571231933929807,\n 0.02002752924982796,\n 0.015065381968341365,\n 0.024349621472814838,\n 0.010337233310392244,\n 0.0054301445285615865,\n 0.010027529249827971,\n 0.016145905024088126,\n 0.02043358568479008,\n 0.019607708189951813,\n 0.028554714384033,\n 0.019160357880247763,\n 0.02346868547832074,\n 0.008589125946317928,\n 0.025540261527873392,\n 0.021920165175498933,\n 0.010942876806607015,\n 0.011383344803854082,\n 0.018472126634549165,\n 0.010275292498279465,\n 0.019483826565726087,\n 0.007832071576049513,\n 0.020295939435650355,\n 0.022236751548520263,\n 0.01788024776324848,\n 0.023737095664143122,\n 0.015106675843083247,\n 0.025127322780454268,\n 0.015437026841018572,\n 0.020942876806606992,\n 0.01768066070199587,\n 0.02525120440468,\n 0.013145216792842392,\n 0.01556779077770131,\n 0.010371644872677204,\n 0.020715760495526526,\n 0.01409497591190639,\n 0.018107364074328926,\n ...]"
     },
     "execution_count": 17,
     "metadata": {},
     "output_type": "execute_result"
    }
   ],
   "source": [
    "simulations = 5000\n",
    "tvd_list=[]\n",
    "for i in np.arange(simulations):\n",
    "    Alameda_df_2[\"Random Sample\"]=(npr.multinomial(1453,[0.15, 0.18, 0.12, 0.54, 0.01]))/panel_size\n",
    "    tvd_list.append(table_tvd(Alameda_df_2, 'Eligible', 'Random Sample'))\n",
    "    \n",
    "tvd_list"
   ]
  },
  {
   "cell_type": "code",
   "execution_count": 18,
   "metadata": {
    "ExecuteTime": {
     "end_time": "2023-11-03T04:11:53.437495Z",
     "start_time": "2023-11-03T04:11:53.433920Z"
    }
   },
   "outputs": [
    {
     "data": {
      "text/plain": "        TVD\n0  0.015471\n1  0.017096\n2  0.015210\n3  0.012319\n4  0.012423",
      "text/html": "<div>\n<style scoped>\n    .dataframe tbody tr th:only-of-type {\n        vertical-align: middle;\n    }\n\n    .dataframe tbody tr th {\n        vertical-align: top;\n    }\n\n    .dataframe thead th {\n        text-align: right;\n    }\n</style>\n<table border=\"1\" class=\"dataframe\">\n  <thead>\n    <tr style=\"text-align: right;\">\n      <th></th>\n      <th>TVD</th>\n    </tr>\n  </thead>\n  <tbody>\n    <tr>\n      <th>0</th>\n      <td>0.015471</td>\n    </tr>\n    <tr>\n      <th>1</th>\n      <td>0.017096</td>\n    </tr>\n    <tr>\n      <th>2</th>\n      <td>0.015210</td>\n    </tr>\n    <tr>\n      <th>3</th>\n      <td>0.012319</td>\n    </tr>\n    <tr>\n      <th>4</th>\n      <td>0.012423</td>\n    </tr>\n  </tbody>\n</table>\n</div>"
     },
     "execution_count": 18,
     "metadata": {},
     "output_type": "execute_result"
    }
   ],
   "source": [
    "tvd_final_df=pd.DataFrame(tvd_list)\n",
    "tvd_final_df.rename(columns={0:\"TVD\"},inplace=True) # renaming column\n",
    "tvd_final_df.head()"
   ]
  },
  {
   "cell_type": "markdown",
   "metadata": {},
   "source": [
    "Each row of the column above contains the total variation distance between a random sample of size 1453 (the size of the panels) and the population of eligible jurors."
   ]
  },
  {
   "cell_type": "code",
   "execution_count": 19,
   "metadata": {
    "ExecuteTime": {
     "end_time": "2023-11-03T04:11:53.568610Z",
     "start_time": "2023-11-03T04:11:53.443287Z"
    }
   },
   "outputs": [
    {
     "data": {
      "text/plain": "<matplotlib.collections.PathCollection at 0x11e9d4f90>"
     },
     "execution_count": 19,
     "metadata": {},
     "output_type": "execute_result"
    },
    {
     "data": {
      "text/plain": "<Figure size 640x480 with 1 Axes>",
      "image/png": "[encoded data removed]"
     },
     "metadata": {},
     "output_type": "display_data"
    }
   ],
   "source": [
    "tvd_final_df.hist(bins=np.arange(0,0.2,0.005))\n",
    "plt.ylabel('Percent per unit')\n",
    "plt.xlabel('TVD')\n",
    "plt.scatter(observed_stat, 0, color='red', s=30)"
   ]
  },
  {
   "cell_type": "markdown",
   "metadata": {},
   "source": [
    " distance between the panels and the population was 0.14,so it is farawaay from the distribution. panels were not representative of the distribution provided for the eligible jurors.\n",
    " \n",
    " hence  Null hypothesis is rejected"
   ]
  },
  {
   "cell_type": "code",
   "execution_count": 19,
   "metadata": {
    "ExecuteTime": {
     "end_time": "2023-11-03T04:11:53.569016Z",
     "start_time": "2023-11-03T04:11:53.533534Z"
    }
   },
   "outputs": [],
   "source": []
  }
 ],
 "metadata": {
  "kernelspec": {
   "display_name": "Python 3",
   "language": "python",
   "name": "python3"
  },
  "language_info": {
   "codemirror_mode": {
    "name": "ipython",
    "version": 3
   },
   "file_extension": ".py",
   "mimetype": "text/x-python",
   "name": "python",
   "nbconvert_exporter": "python",
   "pygments_lexer": "ipython3",
   "version": "3.7.6"
  }
 },
 "nbformat": 4,
 "nbformat_minor": 4
}
