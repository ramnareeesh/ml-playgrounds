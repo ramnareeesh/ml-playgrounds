{
 "cells": [
  {
   "cell_type": "markdown",
   "source": [
    "# Lab-2 : Data Visualization"
   ],
   "metadata": {
    "collapsed": false
   }
  },
  {
   "cell_type": "code",
   "execution_count": 13,
   "outputs": [],
   "source": [
    "import pandas as pd\n",
    "import matplotlib.pylab as plt"
   ],
   "metadata": {
    "collapsed": false
   }
  },
  {
   "cell_type": "code",
   "execution_count": 17,
   "outputs": [
    {
     "data": {
      "text/plain": "       num_critic_for_reviews     duration  director_facebook_likes  \\\ncount             4993.000000  5028.000000              4939.000000   \nmean               140.194272   107.201074               686.509212   \nstd                121.601675    25.197441              2813.328607   \nmin                  1.000000     7.000000                 0.000000   \n25%                 50.000000    93.000000                 7.000000   \n50%                110.000000   103.000000                49.000000   \n75%                195.000000   118.000000               194.500000   \nmax                813.000000   511.000000             23000.000000   \n\n       actor_3_facebook_likes  actor_1_facebook_likes         gross  \\\ncount             5020.000000             5036.000000  4.159000e+03   \nmean               645.009761             6560.047061  4.846841e+07   \nstd               1665.041728            15020.759120  6.845299e+07   \nmin                  0.000000                0.000000  1.620000e+02   \n25%                133.000000              614.000000  5.340988e+06   \n50%                371.500000              988.000000  2.551750e+07   \n75%                636.000000            11000.000000  6.230944e+07   \nmax              23000.000000           640000.000000  7.605058e+08   \n\n       num_voted_users  cast_total_facebook_likes  facenumber_in_poster  \\\ncount     5.043000e+03                5043.000000           5030.000000   \nmean      8.366816e+04                9699.063851              1.371173   \nstd       1.384853e+05               18163.799124              2.013576   \nmin       5.000000e+00                   0.000000              0.000000   \n25%       8.593500e+03                1411.000000              0.000000   \n50%       3.435900e+04                3090.000000              1.000000   \n75%       9.630900e+04               13756.500000              2.000000   \nmax       1.689764e+06              656730.000000             43.000000   \n\n       num_user_for_reviews        budget   title_year  \\\ncount           5022.000000  4.551000e+03  4935.000000   \nmean             272.770808  3.975262e+07  2002.470517   \nstd              377.982886  2.061149e+08    12.474599   \nmin                1.000000  2.180000e+02  1916.000000   \n25%               65.000000  6.000000e+06  1999.000000   \n50%              156.000000  2.000000e+07  2005.000000   \n75%              326.000000  4.500000e+07  2011.000000   \nmax             5060.000000  1.221550e+10  2016.000000   \n\n       actor_2_facebook_likes   imdb_score  aspect_ratio  movie_facebook_likes  \ncount             5030.000000  5043.000000   4714.000000           5043.000000  \nmean              1651.754473     6.442138      2.220403           7525.964505  \nstd               4042.438863     1.125116      1.385113          19320.445110  \nmin                  0.000000     1.600000      1.180000              0.000000  \n25%                281.000000     5.800000      1.850000              0.000000  \n50%                595.000000     6.600000      2.350000            166.000000  \n75%                918.000000     7.200000      2.350000           3000.000000  \nmax             137000.000000     9.500000     16.000000         349000.000000  ",
      "text/html": "<div>\n<style scoped>\n    .dataframe tbody tr th:only-of-type {\n        vertical-align: middle;\n    }\n\n    .dataframe tbody tr th {\n        vertical-align: top;\n    }\n\n    .dataframe thead th {\n        text-align: right;\n    }\n</style>\n<table border=\"1\" class=\"dataframe\">\n  <thead>\n    <tr style=\"text-align: right;\">\n      <th></th>\n      <th>num_critic_for_reviews</th>\n      <th>duration</th>\n      <th>director_facebook_likes</th>\n      <th>actor_3_facebook_likes</th>\n      <th>actor_1_facebook_likes</th>\n      <th>gross</th>\n      <th>num_voted_users</th>\n      <th>cast_total_facebook_likes</th>\n      <th>facenumber_in_poster</th>\n      <th>num_user_for_reviews</th>\n      <th>budget</th>\n      <th>title_year</th>\n      <th>actor_2_facebook_likes</th>\n      <th>imdb_score</th>\n      <th>aspect_ratio</th>\n      <th>movie_facebook_likes</th>\n    </tr>\n  </thead>\n  <tbody>\n    <tr>\n      <th>count</th>\n      <td>4993.000000</td>\n      <td>5028.000000</td>\n      <td>4939.000000</td>\n      <td>5020.000000</td>\n      <td>5036.000000</td>\n      <td>4.159000e+03</td>\n      <td>5.043000e+03</td>\n      <td>5043.000000</td>\n      <td>5030.000000</td>\n      <td>5022.000000</td>\n      <td>4.551000e+03</td>\n      <td>4935.000000</td>\n      <td>5030.000000</td>\n      <td>5043.000000</td>\n      <td>4714.000000</td>\n      <td>5043.000000</td>\n    </tr>\n    <tr>\n      <th>mean</th>\n      <td>140.194272</td>\n      <td>107.201074</td>\n      <td>686.509212</td>\n      <td>645.009761</td>\n      <td>6560.047061</td>\n      <td>4.846841e+07</td>\n      <td>8.366816e+04</td>\n      <td>9699.063851</td>\n      <td>1.371173</td>\n      <td>272.770808</td>\n      <td>3.975262e+07</td>\n      <td>2002.470517</td>\n      <td>1651.754473</td>\n      <td>6.442138</td>\n      <td>2.220403</td>\n      <td>7525.964505</td>\n    </tr>\n    <tr>\n      <th>std</th>\n      <td>121.601675</td>\n      <td>25.197441</td>\n      <td>2813.328607</td>\n      <td>1665.041728</td>\n      <td>15020.759120</td>\n      <td>6.845299e+07</td>\n      <td>1.384853e+05</td>\n      <td>18163.799124</td>\n      <td>2.013576</td>\n      <td>377.982886</td>\n      <td>2.061149e+08</td>\n      <td>12.474599</td>\n      <td>4042.438863</td>\n      <td>1.125116</td>\n      <td>1.385113</td>\n      <td>19320.445110</td>\n    </tr>\n    <tr>\n      <th>min</th>\n      <td>1.000000</td>\n      <td>7.000000</td>\n      <td>0.000000</td>\n      <td>0.000000</td>\n      <td>0.000000</td>\n      <td>1.620000e+02</td>\n      <td>5.000000e+00</td>\n      <td>0.000000</td>\n      <td>0.000000</td>\n      <td>1.000000</td>\n      <td>2.180000e+02</td>\n      <td>1916.000000</td>\n      <td>0.000000</td>\n      <td>1.600000</td>\n      <td>1.180000</td>\n      <td>0.000000</td>\n    </tr>\n    <tr>\n      <th>25%</th>\n      <td>50.000000</td>\n      <td>93.000000</td>\n      <td>7.000000</td>\n      <td>133.000000</td>\n      <td>614.000000</td>\n      <td>5.340988e+06</td>\n      <td>8.593500e+03</td>\n      <td>1411.000000</td>\n      <td>0.000000</td>\n      <td>65.000000</td>\n      <td>6.000000e+06</td>\n      <td>1999.000000</td>\n      <td>281.000000</td>\n      <td>5.800000</td>\n      <td>1.850000</td>\n      <td>0.000000</td>\n    </tr>\n    <tr>\n      <th>50%</th>\n      <td>110.000000</td>\n      <td>103.000000</td>\n      <td>49.000000</td>\n      <td>371.500000</td>\n      <td>988.000000</td>\n      <td>2.551750e+07</td>\n      <td>3.435900e+04</td>\n      <td>3090.000000</td>\n      <td>1.000000</td>\n      <td>156.000000</td>\n      <td>2.000000e+07</td>\n      <td>2005.000000</td>\n      <td>595.000000</td>\n      <td>6.600000</td>\n      <td>2.350000</td>\n      <td>166.000000</td>\n    </tr>\n    <tr>\n      <th>75%</th>\n      <td>195.000000</td>\n      <td>118.000000</td>\n      <td>194.500000</td>\n      <td>636.000000</td>\n      <td>11000.000000</td>\n      <td>6.230944e+07</td>\n      <td>9.630900e+04</td>\n      <td>13756.500000</td>\n      <td>2.000000</td>\n      <td>326.000000</td>\n      <td>4.500000e+07</td>\n      <td>2011.000000</td>\n      <td>918.000000</td>\n      <td>7.200000</td>\n      <td>2.350000</td>\n      <td>3000.000000</td>\n    </tr>\n    <tr>\n      <th>max</th>\n      <td>813.000000</td>\n      <td>511.000000</td>\n      <td>23000.000000</td>\n      <td>23000.000000</td>\n      <td>640000.000000</td>\n      <td>7.605058e+08</td>\n      <td>1.689764e+06</td>\n      <td>656730.000000</td>\n      <td>43.000000</td>\n      <td>5060.000000</td>\n      <td>1.221550e+10</td>\n      <td>2016.000000</td>\n      <td>137000.000000</td>\n      <td>9.500000</td>\n      <td>16.000000</td>\n      <td>349000.000000</td>\n    </tr>\n  </tbody>\n</table>\n</div>"
     },
     "execution_count": 17,
     "metadata": {},
     "output_type": "execute_result"
    }
   ],
   "source": [
    "data = pd.read_csv(\"movie_metadata.csv\")\n",
    "data.describe()"
   ],
   "metadata": {
    "collapsed": false
   }
  },
  {
   "cell_type": "code",
   "execution_count": 15,
   "outputs": [
    {
     "data": {
      "text/plain": "      color      director_name  num_critic_for_reviews  duration  \\\n0     Color      James Cameron                   723.0     178.0   \n1     Color     Gore Verbinski                   302.0     169.0   \n2     Color         Sam Mendes                   602.0     148.0   \n3     Color  Christopher Nolan                   813.0     164.0   \n4       NaN        Doug Walker                     NaN       NaN   \n...     ...                ...                     ...       ...   \n5038  Color        Scott Smith                     1.0      87.0   \n5039  Color                NaN                    43.0      43.0   \n5040  Color   Benjamin Roberds                    13.0      76.0   \n5041  Color        Daniel Hsia                    14.0     100.0   \n5042  Color           Jon Gunn                    43.0      90.0   \n\n      director_facebook_likes  actor_3_facebook_likes      actor_2_name  \\\n0                         0.0                   855.0  Joel David Moore   \n1                       563.0                  1000.0     Orlando Bloom   \n2                         0.0                   161.0      Rory Kinnear   \n3                     22000.0                 23000.0    Christian Bale   \n4                       131.0                     NaN        Rob Walker   \n...                       ...                     ...               ...   \n5038                      2.0                   318.0     Daphne Zuniga   \n5039                      NaN                   319.0     Valorie Curry   \n5040                      0.0                     0.0     Maxwell Moody   \n5041                      0.0                   489.0     Daniel Henney   \n5042                     16.0                    16.0  Brian Herzlinger   \n\n      actor_1_facebook_likes        gross                           genres  \\\n0                     1000.0  760505847.0  Action|Adventure|Fantasy|Sci-Fi   \n1                    40000.0  309404152.0         Action|Adventure|Fantasy   \n2                    11000.0  200074175.0        Action|Adventure|Thriller   \n3                    27000.0  448130642.0                  Action|Thriller   \n4                      131.0          NaN                      Documentary   \n...                      ...          ...                              ...   \n5038                   637.0          NaN                     Comedy|Drama   \n5039                   841.0          NaN     Crime|Drama|Mystery|Thriller   \n5040                     0.0          NaN            Drama|Horror|Thriller   \n5041                   946.0      10443.0             Comedy|Drama|Romance   \n5042                    86.0      85222.0                      Documentary   \n\n      ... num_user_for_reviews language  country  content_rating       budget  \\\n0     ...               3054.0  English      USA           PG-13  237000000.0   \n1     ...               1238.0  English      USA           PG-13  300000000.0   \n2     ...                994.0  English       UK           PG-13  245000000.0   \n3     ...               2701.0  English      USA           PG-13  250000000.0   \n4     ...                  NaN      NaN      NaN             NaN          NaN   \n...   ...                  ...      ...      ...             ...          ...   \n5038  ...                  6.0  English   Canada             NaN          NaN   \n5039  ...                359.0  English      USA           TV-14          NaN   \n5040  ...                  3.0  English      USA             NaN       1400.0   \n5041  ...                  9.0  English      USA           PG-13          NaN   \n5042  ...                 84.0  English      USA              PG       1100.0   \n\n      title_year actor_2_facebook_likes imdb_score  aspect_ratio  \\\n0         2009.0                  936.0        7.9          1.78   \n1         2007.0                 5000.0        7.1          2.35   \n2         2015.0                  393.0        6.8          2.35   \n3         2012.0                23000.0        8.5          2.35   \n4            NaN                   12.0        7.1           NaN   \n...          ...                    ...        ...           ...   \n5038      2013.0                  470.0        7.7           NaN   \n5039         NaN                  593.0        7.5         16.00   \n5040      2013.0                    0.0        6.3           NaN   \n5041      2012.0                  719.0        6.3          2.35   \n5042      2004.0                   23.0        6.6          1.85   \n\n     movie_facebook_likes  \n0                   33000  \n1                       0  \n2                   85000  \n3                  164000  \n4                       0  \n...                   ...  \n5038                   84  \n5039                32000  \n5040                   16  \n5041                  660  \n5042                  456  \n\n[5043 rows x 28 columns]",
      "text/html": "<div>\n<style scoped>\n    .dataframe tbody tr th:only-of-type {\n        vertical-align: middle;\n    }\n\n    .dataframe tbody tr th {\n        vertical-align: top;\n    }\n\n    .dataframe thead th {\n        text-align: right;\n    }\n</style>\n<table border=\"1\" class=\"dataframe\">\n  <thead>\n    <tr style=\"text-align: right;\">\n      <th></th>\n      <th>color</th>\n      <th>director_name</th>\n      <th>num_critic_for_reviews</th>\n      <th>duration</th>\n      <th>director_facebook_likes</th>\n      <th>actor_3_facebook_likes</th>\n      <th>actor_2_name</th>\n      <th>actor_1_facebook_likes</th>\n      <th>gross</th>\n      <th>genres</th>\n      <th>...</th>\n      <th>num_user_for_reviews</th>\n      <th>language</th>\n      <th>country</th>\n      <th>content_rating</th>\n      <th>budget</th>\n      <th>title_year</th>\n      <th>actor_2_facebook_likes</th>\n      <th>imdb_score</th>\n      <th>aspect_ratio</th>\n      <th>movie_facebook_likes</th>\n    </tr>\n  </thead>\n  <tbody>\n    <tr>\n      <th>0</th>\n      <td>Color</td>\n      <td>James Cameron</td>\n      <td>723.0</td>\n      <td>178.0</td>\n      <td>0.0</td>\n      <td>855.0</td>\n      <td>Joel David Moore</td>\n      <td>1000.0</td>\n      <td>760505847.0</td>\n      <td>Action|Adventure|Fantasy|Sci-Fi</td>\n      <td>...</td>\n      <td>3054.0</td>\n      <td>English</td>\n      <td>USA</td>\n      <td>PG-13</td>\n      <td>237000000.0</td>\n      <td>2009.0</td>\n      <td>936.0</td>\n      <td>7.9</td>\n      <td>1.78</td>\n      <td>33000</td>\n    </tr>\n    <tr>\n      <th>1</th>\n      <td>Color</td>\n      <td>Gore Verbinski</td>\n      <td>302.0</td>\n      <td>169.0</td>\n      <td>563.0</td>\n      <td>1000.0</td>\n      <td>Orlando Bloom</td>\n      <td>40000.0</td>\n      <td>309404152.0</td>\n      <td>Action|Adventure|Fantasy</td>\n      <td>...</td>\n      <td>1238.0</td>\n      <td>English</td>\n      <td>USA</td>\n      <td>PG-13</td>\n      <td>300000000.0</td>\n      <td>2007.0</td>\n      <td>5000.0</td>\n      <td>7.1</td>\n      <td>2.35</td>\n      <td>0</td>\n    </tr>\n    <tr>\n      <th>2</th>\n      <td>Color</td>\n      <td>Sam Mendes</td>\n      <td>602.0</td>\n      <td>148.0</td>\n      <td>0.0</td>\n      <td>161.0</td>\n      <td>Rory Kinnear</td>\n      <td>11000.0</td>\n      <td>200074175.0</td>\n      <td>Action|Adventure|Thriller</td>\n      <td>...</td>\n      <td>994.0</td>\n      <td>English</td>\n      <td>UK</td>\n      <td>PG-13</td>\n      <td>245000000.0</td>\n      <td>2015.0</td>\n      <td>393.0</td>\n      <td>6.8</td>\n      <td>2.35</td>\n      <td>85000</td>\n    </tr>\n    <tr>\n      <th>3</th>\n      <td>Color</td>\n      <td>Christopher Nolan</td>\n      <td>813.0</td>\n      <td>164.0</td>\n      <td>22000.0</td>\n      <td>23000.0</td>\n      <td>Christian Bale</td>\n      <td>27000.0</td>\n      <td>448130642.0</td>\n      <td>Action|Thriller</td>\n      <td>...</td>\n      <td>2701.0</td>\n      <td>English</td>\n      <td>USA</td>\n      <td>PG-13</td>\n      <td>250000000.0</td>\n      <td>2012.0</td>\n      <td>23000.0</td>\n      <td>8.5</td>\n      <td>2.35</td>\n      <td>164000</td>\n    </tr>\n    <tr>\n      <th>4</th>\n      <td>NaN</td>\n      <td>Doug Walker</td>\n      <td>NaN</td>\n      <td>NaN</td>\n      <td>131.0</td>\n      <td>NaN</td>\n      <td>Rob Walker</td>\n      <td>131.0</td>\n      <td>NaN</td>\n      <td>Documentary</td>\n      <td>...</td>\n      <td>NaN</td>\n      <td>NaN</td>\n      <td>NaN</td>\n      <td>NaN</td>\n      <td>NaN</td>\n      <td>NaN</td>\n      <td>12.0</td>\n      <td>7.1</td>\n      <td>NaN</td>\n      <td>0</td>\n    </tr>\n    <tr>\n      <th>...</th>\n      <td>...</td>\n      <td>...</td>\n      <td>...</td>\n      <td>...</td>\n      <td>...</td>\n      <td>...</td>\n      <td>...</td>\n      <td>...</td>\n      <td>...</td>\n      <td>...</td>\n      <td>...</td>\n      <td>...</td>\n      <td>...</td>\n      <td>...</td>\n      <td>...</td>\n      <td>...</td>\n      <td>...</td>\n      <td>...</td>\n      <td>...</td>\n      <td>...</td>\n      <td>...</td>\n    </tr>\n    <tr>\n      <th>5038</th>\n      <td>Color</td>\n      <td>Scott Smith</td>\n      <td>1.0</td>\n      <td>87.0</td>\n      <td>2.0</td>\n      <td>318.0</td>\n      <td>Daphne Zuniga</td>\n      <td>637.0</td>\n      <td>NaN</td>\n      <td>Comedy|Drama</td>\n      <td>...</td>\n      <td>6.0</td>\n      <td>English</td>\n      <td>Canada</td>\n      <td>NaN</td>\n      <td>NaN</td>\n      <td>2013.0</td>\n      <td>470.0</td>\n      <td>7.7</td>\n      <td>NaN</td>\n      <td>84</td>\n    </tr>\n    <tr>\n      <th>5039</th>\n      <td>Color</td>\n      <td>NaN</td>\n      <td>43.0</td>\n      <td>43.0</td>\n      <td>NaN</td>\n      <td>319.0</td>\n      <td>Valorie Curry</td>\n      <td>841.0</td>\n      <td>NaN</td>\n      <td>Crime|Drama|Mystery|Thriller</td>\n      <td>...</td>\n      <td>359.0</td>\n      <td>English</td>\n      <td>USA</td>\n      <td>TV-14</td>\n      <td>NaN</td>\n      <td>NaN</td>\n      <td>593.0</td>\n      <td>7.5</td>\n      <td>16.00</td>\n      <td>32000</td>\n    </tr>\n    <tr>\n      <th>5040</th>\n      <td>Color</td>\n      <td>Benjamin Roberds</td>\n      <td>13.0</td>\n      <td>76.0</td>\n      <td>0.0</td>\n      <td>0.0</td>\n      <td>Maxwell Moody</td>\n      <td>0.0</td>\n      <td>NaN</td>\n      <td>Drama|Horror|Thriller</td>\n      <td>...</td>\n      <td>3.0</td>\n      <td>English</td>\n      <td>USA</td>\n      <td>NaN</td>\n      <td>1400.0</td>\n      <td>2013.0</td>\n      <td>0.0</td>\n      <td>6.3</td>\n      <td>NaN</td>\n      <td>16</td>\n    </tr>\n    <tr>\n      <th>5041</th>\n      <td>Color</td>\n      <td>Daniel Hsia</td>\n      <td>14.0</td>\n      <td>100.0</td>\n      <td>0.0</td>\n      <td>489.0</td>\n      <td>Daniel Henney</td>\n      <td>946.0</td>\n      <td>10443.0</td>\n      <td>Comedy|Drama|Romance</td>\n      <td>...</td>\n      <td>9.0</td>\n      <td>English</td>\n      <td>USA</td>\n      <td>PG-13</td>\n      <td>NaN</td>\n      <td>2012.0</td>\n      <td>719.0</td>\n      <td>6.3</td>\n      <td>2.35</td>\n      <td>660</td>\n    </tr>\n    <tr>\n      <th>5042</th>\n      <td>Color</td>\n      <td>Jon Gunn</td>\n      <td>43.0</td>\n      <td>90.0</td>\n      <td>16.0</td>\n      <td>16.0</td>\n      <td>Brian Herzlinger</td>\n      <td>86.0</td>\n      <td>85222.0</td>\n      <td>Documentary</td>\n      <td>...</td>\n      <td>84.0</td>\n      <td>English</td>\n      <td>USA</td>\n      <td>PG</td>\n      <td>1100.0</td>\n      <td>2004.0</td>\n      <td>23.0</td>\n      <td>6.6</td>\n      <td>1.85</td>\n      <td>456</td>\n    </tr>\n  </tbody>\n</table>\n<p>5043 rows × 28 columns</p>\n</div>"
     },
     "execution_count": 15,
     "metadata": {},
     "output_type": "execute_result"
    }
   ],
   "source": [
    "data"
   ],
   "metadata": {
    "collapsed": false
   }
  },
  {
   "cell_type": "code",
   "execution_count": 16,
   "outputs": [
    {
     "name": "stdout",
     "output_type": "stream",
     "text": [
      "Color               4815\n",
      " Black and White     209\n",
      "Name: color, dtype: int64\n"
     ]
    }
   ],
   "source": [
    "print(data[\"color\"].value_counts())"
   ],
   "metadata": {
    "collapsed": false
   }
  },
  {
   "cell_type": "code",
   "execution_count": null,
   "outputs": [],
   "source": [],
   "metadata": {
    "collapsed": false
   }
  }
 ],
 "metadata": {
  "kernelspec": {
   "display_name": "Python 3",
   "language": "python",
   "name": "python3"
  },
  "language_info": {
   "codemirror_mode": {
    "name": "ipython",
    "version": 2
   },
   "file_extension": ".py",
   "mimetype": "text/x-python",
   "name": "python",
   "nbconvert_exporter": "python",
   "pygments_lexer": "ipython2",
   "version": "2.7.6"
  }
 },
 "nbformat": 4,
 "nbformat_minor": 0
}
