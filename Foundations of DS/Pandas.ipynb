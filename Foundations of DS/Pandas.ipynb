{
 "cells": [
  {
   "cell_type": "markdown",
   "metadata": {},
   "source": [
    "# Pandas"
   ]
  },
  {
   "cell_type": "code",
   "execution_count": 1,
   "metadata": {},
   "outputs": [],
   "source": [
    "import pandas as pd\n",
    "import numpy as np"
   ]
  },
  {
   "cell_type": "code",
   "execution_count": 2,
   "metadata": {},
   "outputs": [
    {
     "data": {
      "text/plain": [
       "'2.0.3'"
      ]
     },
     "execution_count": 2,
     "metadata": {},
     "output_type": "execute_result"
    }
   ],
   "source": [
    "pd.__version__"
   ]
  },
  {
   "cell_type": "code",
   "execution_count": 3,
   "metadata": {},
   "outputs": [
    {
     "name": "stdout",
     "output_type": "stream",
     "text": [
      "   Fruits  Unit_Price  Quantity\n",
      "0   apple         220         2\n",
      "1  orange         110         3\n",
      "2  banana          50         1 <class 'pandas.core.frame.DataFrame'>\n"
     ]
    }
   ],
   "source": [
    "df_data = {\n",
    "    \"Fruits\" : [\"apple\", \"orange\", \"banana\"],\n",
    "    \"Unit_Price\" : [220, 110, 50],\n",
    "    \"Quantity\" : [2, 3, 1]\n",
    "    }\n",
    "fruit_df = pd.DataFrame(df_data)\n",
    "print(fruit_df, type(fruit_df))"
   ]
  },
  {
   "cell_type": "code",
   "execution_count": 4,
   "metadata": {},
   "outputs": [
    {
     "name": "stdout",
     "output_type": "stream",
     "text": [
      "   Fruits  Unit_Price  Quantity\n",
      "0   apple         220         2\n",
      "1  orange         110         3\n",
      "2  banana          50         1\n",
      "3   guava         100         2\n"
     ]
    }
   ],
   "source": [
    "add_row = pd.DataFrame({\"Fruits\": [\"guava\"], \"Unit_Price\" : [100], \"Quantity\" : [2]})\n",
    "fruit_df2 = pd.concat([fruit_df, add_row], axis=0, ignore_index=True)\n",
    "print(fruit_df2)"
   ]
  },
  {
   "cell_type": "code",
   "execution_count": 5,
   "metadata": {},
   "outputs": [
    {
     "name": "stdout",
     "output_type": "stream",
     "text": [
      "Fruits~<class 'str'>\n",
      "Unit_Price~<class 'str'>\n",
      "Quantity~<class 'str'>\n"
     ]
    }
   ],
   "source": [
    "for i in fruit_df2:\n",
    "    print(i, end=\"~\")\n",
    "    print(type(i))"
   ]
  },
  {
   "cell_type": "markdown",
   "metadata": {},
   "source": [
    "## Data Structures in Pandas\n",
    "1. Series\n",
    "\n",
    "2. DataFrame"
   ]
  },
  {
   "cell_type": "code",
   "execution_count": 14,
   "metadata": {},
   "outputs": [
    {
     "name": "stdout",
     "output_type": "stream",
     "text": [
      "a    1\n",
      "b    2\n",
      "c    3\n",
      "dtype: int64\n",
      "Index(['a', 'b', 'c'], dtype='object')\n"
     ]
    }
   ],
   "source": [
    "# Series from a dict\n",
    "\n",
    "series = pd.Series(data={\n",
    "    \"a\" : 1,\n",
    "    \"b\" : 2,\n",
    "    \"c\" : 3\n",
    "})\n",
    "print(series)\n",
    "print(series.index)"
   ]
  },
  {
   "cell_type": "code",
   "execution_count": 20,
   "metadata": {},
   "outputs": [
    {
     "name": "stdout",
     "output_type": "stream",
     "text": [
      "0    0.00\n",
      "1    1.25\n",
      "2    2.50\n",
      "3    3.75\n",
      "4    5.00\n",
      "dtype: float64\n"
     ]
    }
   ],
   "source": [
    "# Series from a ndarray\n",
    "\n",
    "narr = np.linspace(0, 5, 5)\n",
    "series = pd.Series(data=narr)\n",
    "print(series)"
   ]
  },
  {
   "cell_type": "code",
   "execution_count": null,
   "metadata": {},
   "outputs": [],
   "source": []
  }
 ],
 "metadata": {
  "kernelspec": {
   "display_name": "MachineLearning",
   "language": "python",
   "name": "python3"
  },
  "language_info": {
   "codemirror_mode": {
    "name": "ipython",
    "version": 3
   },
   "file_extension": ".py",
   "mimetype": "text/x-python",
   "name": "python",
   "nbconvert_exporter": "python",
   "pygments_lexer": "ipython3",
   "version": "3.11.4"
  },
  "orig_nbformat": 4
 },
 "nbformat": 4,
 "nbformat_minor": 2
}
