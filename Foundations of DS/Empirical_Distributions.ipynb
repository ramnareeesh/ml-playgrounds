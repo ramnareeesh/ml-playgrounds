{
 "cells": [
  {
   "cell_type": "code",
   "execution_count": 43,
   "id": "initial_id",
   "metadata": {
    "collapsed": true,
    "ExecuteTime": {
     "end_time": "2023-10-13T09:16:36.859480Z",
     "start_time": "2023-10-13T09:16:36.857811Z"
    }
   },
   "outputs": [],
   "source": [
    "import pandas as pd\n",
    "import numpy as np"
   ]
  },
  {
   "cell_type": "code",
   "execution_count": 33,
   "outputs": [
    {
     "data": {
      "text/plain": "      CRS_DEP_TIME CARRIER  DEP_TIME DEST  DISTANCE     FL_DATE  FL_NUM  \\\n0             1455      OH      1455  JFK       184  01/01/2004    5935   \n1             1640      DH      1640  JFK       213  01/01/2004    6155   \n2             1245      DH      1245  LGA       229  01/01/2004    7208   \n3             1715      DH      1709  LGA       229  01/01/2004    7215   \n4             1039      DH      1035  LGA       229  01/01/2004    7792   \n...            ...     ...       ...  ...       ...         ...     ...   \n2196           645      RU       644  EWR       199   1/31/2004    2761   \n2197          1700      RU      1653  EWR       213   1/31/2004    2497   \n2198          1600      RU      1558  EWR       199   1/31/2004    2361   \n2199          1359      RU      1403  EWR       199   1/31/2004    2216   \n2200          1730      RU      1736  EWR       199   1/31/2004    2097   \n\n     ORIGIN  Weather  DAY_WEEK  DAY_OF_MONTH TAIL_NUM Flight Status  \n0       BWI        0         4             1   N940CA        ontime  \n1       DCA        0         4             1   N405FJ        ontime  \n2       IAD        0         4             1   N695BR        ontime  \n3       IAD        0         4             1   N662BR        ontime  \n4       IAD        0         4             1   N698BR        ontime  \n...     ...      ...       ...           ...      ...           ...  \n2196    DCA        0         6            31   N15555        ontime  \n2197    IAD        0         6            31   N16976        ontime  \n2198    DCA        0         6            31   N14902        ontime  \n2199    DCA        0         6            31   N16961        ontime  \n2200    DCA        0         6            31   N13994        ontime  \n\n[2201 rows x 13 columns]",
      "text/html": "<div>\n<style scoped>\n    .dataframe tbody tr th:only-of-type {\n        vertical-align: middle;\n    }\n\n    .dataframe tbody tr th {\n        vertical-align: top;\n    }\n\n    .dataframe thead th {\n        text-align: right;\n    }\n</style>\n<table border=\"1\" class=\"dataframe\">\n  <thead>\n    <tr style=\"text-align: right;\">\n      <th></th>\n      <th>CRS_DEP_TIME</th>\n      <th>CARRIER</th>\n      <th>DEP_TIME</th>\n      <th>DEST</th>\n      <th>DISTANCE</th>\n      <th>FL_DATE</th>\n      <th>FL_NUM</th>\n      <th>ORIGIN</th>\n      <th>Weather</th>\n      <th>DAY_WEEK</th>\n      <th>DAY_OF_MONTH</th>\n      <th>TAIL_NUM</th>\n      <th>Flight Status</th>\n    </tr>\n  </thead>\n  <tbody>\n    <tr>\n      <th>0</th>\n      <td>1455</td>\n      <td>OH</td>\n      <td>1455</td>\n      <td>JFK</td>\n      <td>184</td>\n      <td>01/01/2004</td>\n      <td>5935</td>\n      <td>BWI</td>\n      <td>0</td>\n      <td>4</td>\n      <td>1</td>\n      <td>N940CA</td>\n      <td>ontime</td>\n    </tr>\n    <tr>\n      <th>1</th>\n      <td>1640</td>\n      <td>DH</td>\n      <td>1640</td>\n      <td>JFK</td>\n      <td>213</td>\n      <td>01/01/2004</td>\n      <td>6155</td>\n      <td>DCA</td>\n      <td>0</td>\n      <td>4</td>\n      <td>1</td>\n      <td>N405FJ</td>\n      <td>ontime</td>\n    </tr>\n    <tr>\n      <th>2</th>\n      <td>1245</td>\n      <td>DH</td>\n      <td>1245</td>\n      <td>LGA</td>\n      <td>229</td>\n      <td>01/01/2004</td>\n      <td>7208</td>\n      <td>IAD</td>\n      <td>0</td>\n      <td>4</td>\n      <td>1</td>\n      <td>N695BR</td>\n      <td>ontime</td>\n    </tr>\n    <tr>\n      <th>3</th>\n      <td>1715</td>\n      <td>DH</td>\n      <td>1709</td>\n      <td>LGA</td>\n      <td>229</td>\n      <td>01/01/2004</td>\n      <td>7215</td>\n      <td>IAD</td>\n      <td>0</td>\n      <td>4</td>\n      <td>1</td>\n      <td>N662BR</td>\n      <td>ontime</td>\n    </tr>\n    <tr>\n      <th>4</th>\n      <td>1039</td>\n      <td>DH</td>\n      <td>1035</td>\n      <td>LGA</td>\n      <td>229</td>\n      <td>01/01/2004</td>\n      <td>7792</td>\n      <td>IAD</td>\n      <td>0</td>\n      <td>4</td>\n      <td>1</td>\n      <td>N698BR</td>\n      <td>ontime</td>\n    </tr>\n    <tr>\n      <th>...</th>\n      <td>...</td>\n      <td>...</td>\n      <td>...</td>\n      <td>...</td>\n      <td>...</td>\n      <td>...</td>\n      <td>...</td>\n      <td>...</td>\n      <td>...</td>\n      <td>...</td>\n      <td>...</td>\n      <td>...</td>\n      <td>...</td>\n    </tr>\n    <tr>\n      <th>2196</th>\n      <td>645</td>\n      <td>RU</td>\n      <td>644</td>\n      <td>EWR</td>\n      <td>199</td>\n      <td>1/31/2004</td>\n      <td>2761</td>\n      <td>DCA</td>\n      <td>0</td>\n      <td>6</td>\n      <td>31</td>\n      <td>N15555</td>\n      <td>ontime</td>\n    </tr>\n    <tr>\n      <th>2197</th>\n      <td>1700</td>\n      <td>RU</td>\n      <td>1653</td>\n      <td>EWR</td>\n      <td>213</td>\n      <td>1/31/2004</td>\n      <td>2497</td>\n      <td>IAD</td>\n      <td>0</td>\n      <td>6</td>\n      <td>31</td>\n      <td>N16976</td>\n      <td>ontime</td>\n    </tr>\n    <tr>\n      <th>2198</th>\n      <td>1600</td>\n      <td>RU</td>\n      <td>1558</td>\n      <td>EWR</td>\n      <td>199</td>\n      <td>1/31/2004</td>\n      <td>2361</td>\n      <td>DCA</td>\n      <td>0</td>\n      <td>6</td>\n      <td>31</td>\n      <td>N14902</td>\n      <td>ontime</td>\n    </tr>\n    <tr>\n      <th>2199</th>\n      <td>1359</td>\n      <td>RU</td>\n      <td>1403</td>\n      <td>EWR</td>\n      <td>199</td>\n      <td>1/31/2004</td>\n      <td>2216</td>\n      <td>DCA</td>\n      <td>0</td>\n      <td>6</td>\n      <td>31</td>\n      <td>N16961</td>\n      <td>ontime</td>\n    </tr>\n    <tr>\n      <th>2200</th>\n      <td>1730</td>\n      <td>RU</td>\n      <td>1736</td>\n      <td>EWR</td>\n      <td>199</td>\n      <td>1/31/2004</td>\n      <td>2097</td>\n      <td>DCA</td>\n      <td>0</td>\n      <td>6</td>\n      <td>31</td>\n      <td>N13994</td>\n      <td>ontime</td>\n    </tr>\n  </tbody>\n</table>\n<p>2201 rows × 13 columns</p>\n</div>"
     },
     "execution_count": 33,
     "metadata": {},
     "output_type": "execute_result"
    }
   ],
   "source": [
    "df = pd.read_csv(\"data/FlightDelays.csv\")\n",
    "df"
   ],
   "metadata": {
    "collapsed": false,
    "ExecuteTime": {
     "end_time": "2023-10-13T08:56:28.283072Z",
     "start_time": "2023-10-13T08:56:28.268564Z"
    }
   },
   "id": "af46081ee3261bf9"
  },
  {
   "cell_type": "code",
   "execution_count": 34,
   "outputs": [
    {
     "data": {
      "text/plain": "      CRS_DEP_TIME CARRIER            DEP_TIME DEST  DISTANCE     FL_DATE  \\\n0             1455      OH 1900-01-01 14:55:00  JFK       184  01/01/2004   \n1             1640      DH 1900-01-01 16:40:00  JFK       213  01/01/2004   \n2             1245      DH 1900-01-01 12:45:00  LGA       229  01/01/2004   \n3             1715      DH 1900-01-01 17:09:00  LGA       229  01/01/2004   \n4             1039      DH 1900-01-01 10:35:00  LGA       229  01/01/2004   \n...            ...     ...                 ...  ...       ...         ...   \n2196           645      RU 1900-01-01 06:44:00  EWR       199   1/31/2004   \n2197          1700      RU 1900-01-01 16:53:00  EWR       213   1/31/2004   \n2198          1600      RU 1900-01-01 15:58:00  EWR       199   1/31/2004   \n2199          1359      RU 1900-01-01 14:03:00  EWR       199   1/31/2004   \n2200          1730      RU 1900-01-01 17:36:00  EWR       199   1/31/2004   \n\n      FL_NUM ORIGIN  Weather  DAY_WEEK  DAY_OF_MONTH TAIL_NUM Flight Status  \n0       5935    BWI        0         4             1   N940CA        ontime  \n1       6155    DCA        0         4             1   N405FJ        ontime  \n2       7208    IAD        0         4             1   N695BR        ontime  \n3       7215    IAD        0         4             1   N662BR        ontime  \n4       7792    IAD        0         4             1   N698BR        ontime  \n...      ...    ...      ...       ...           ...      ...           ...  \n2196    2761    DCA        0         6            31   N15555        ontime  \n2197    2497    IAD        0         6            31   N16976        ontime  \n2198    2361    DCA        0         6            31   N14902        ontime  \n2199    2216    DCA        0         6            31   N16961        ontime  \n2200    2097    DCA        0         6            31   N13994        ontime  \n\n[2201 rows x 13 columns]",
      "text/html": "<div>\n<style scoped>\n    .dataframe tbody tr th:only-of-type {\n        vertical-align: middle;\n    }\n\n    .dataframe tbody tr th {\n        vertical-align: top;\n    }\n\n    .dataframe thead th {\n        text-align: right;\n    }\n</style>\n<table border=\"1\" class=\"dataframe\">\n  <thead>\n    <tr style=\"text-align: right;\">\n      <th></th>\n      <th>CRS_DEP_TIME</th>\n      <th>CARRIER</th>\n      <th>DEP_TIME</th>\n      <th>DEST</th>\n      <th>DISTANCE</th>\n      <th>FL_DATE</th>\n      <th>FL_NUM</th>\n      <th>ORIGIN</th>\n      <th>Weather</th>\n      <th>DAY_WEEK</th>\n      <th>DAY_OF_MONTH</th>\n      <th>TAIL_NUM</th>\n      <th>Flight Status</th>\n    </tr>\n  </thead>\n  <tbody>\n    <tr>\n      <th>0</th>\n      <td>1455</td>\n      <td>OH</td>\n      <td>1900-01-01 14:55:00</td>\n      <td>JFK</td>\n      <td>184</td>\n      <td>01/01/2004</td>\n      <td>5935</td>\n      <td>BWI</td>\n      <td>0</td>\n      <td>4</td>\n      <td>1</td>\n      <td>N940CA</td>\n      <td>ontime</td>\n    </tr>\n    <tr>\n      <th>1</th>\n      <td>1640</td>\n      <td>DH</td>\n      <td>1900-01-01 16:40:00</td>\n      <td>JFK</td>\n      <td>213</td>\n      <td>01/01/2004</td>\n      <td>6155</td>\n      <td>DCA</td>\n      <td>0</td>\n      <td>4</td>\n      <td>1</td>\n      <td>N405FJ</td>\n      <td>ontime</td>\n    </tr>\n    <tr>\n      <th>2</th>\n      <td>1245</td>\n      <td>DH</td>\n      <td>1900-01-01 12:45:00</td>\n      <td>LGA</td>\n      <td>229</td>\n      <td>01/01/2004</td>\n      <td>7208</td>\n      <td>IAD</td>\n      <td>0</td>\n      <td>4</td>\n      <td>1</td>\n      <td>N695BR</td>\n      <td>ontime</td>\n    </tr>\n    <tr>\n      <th>3</th>\n      <td>1715</td>\n      <td>DH</td>\n      <td>1900-01-01 17:09:00</td>\n      <td>LGA</td>\n      <td>229</td>\n      <td>01/01/2004</td>\n      <td>7215</td>\n      <td>IAD</td>\n      <td>0</td>\n      <td>4</td>\n      <td>1</td>\n      <td>N662BR</td>\n      <td>ontime</td>\n    </tr>\n    <tr>\n      <th>4</th>\n      <td>1039</td>\n      <td>DH</td>\n      <td>1900-01-01 10:35:00</td>\n      <td>LGA</td>\n      <td>229</td>\n      <td>01/01/2004</td>\n      <td>7792</td>\n      <td>IAD</td>\n      <td>0</td>\n      <td>4</td>\n      <td>1</td>\n      <td>N698BR</td>\n      <td>ontime</td>\n    </tr>\n    <tr>\n      <th>...</th>\n      <td>...</td>\n      <td>...</td>\n      <td>...</td>\n      <td>...</td>\n      <td>...</td>\n      <td>...</td>\n      <td>...</td>\n      <td>...</td>\n      <td>...</td>\n      <td>...</td>\n      <td>...</td>\n      <td>...</td>\n      <td>...</td>\n    </tr>\n    <tr>\n      <th>2196</th>\n      <td>645</td>\n      <td>RU</td>\n      <td>1900-01-01 06:44:00</td>\n      <td>EWR</td>\n      <td>199</td>\n      <td>1/31/2004</td>\n      <td>2761</td>\n      <td>DCA</td>\n      <td>0</td>\n      <td>6</td>\n      <td>31</td>\n      <td>N15555</td>\n      <td>ontime</td>\n    </tr>\n    <tr>\n      <th>2197</th>\n      <td>1700</td>\n      <td>RU</td>\n      <td>1900-01-01 16:53:00</td>\n      <td>EWR</td>\n      <td>213</td>\n      <td>1/31/2004</td>\n      <td>2497</td>\n      <td>IAD</td>\n      <td>0</td>\n      <td>6</td>\n      <td>31</td>\n      <td>N16976</td>\n      <td>ontime</td>\n    </tr>\n    <tr>\n      <th>2198</th>\n      <td>1600</td>\n      <td>RU</td>\n      <td>1900-01-01 15:58:00</td>\n      <td>EWR</td>\n      <td>199</td>\n      <td>1/31/2004</td>\n      <td>2361</td>\n      <td>DCA</td>\n      <td>0</td>\n      <td>6</td>\n      <td>31</td>\n      <td>N14902</td>\n      <td>ontime</td>\n    </tr>\n    <tr>\n      <th>2199</th>\n      <td>1359</td>\n      <td>RU</td>\n      <td>1900-01-01 14:03:00</td>\n      <td>EWR</td>\n      <td>199</td>\n      <td>1/31/2004</td>\n      <td>2216</td>\n      <td>DCA</td>\n      <td>0</td>\n      <td>6</td>\n      <td>31</td>\n      <td>N16961</td>\n      <td>ontime</td>\n    </tr>\n    <tr>\n      <th>2200</th>\n      <td>1730</td>\n      <td>RU</td>\n      <td>1900-01-01 17:36:00</td>\n      <td>EWR</td>\n      <td>199</td>\n      <td>1/31/2004</td>\n      <td>2097</td>\n      <td>DCA</td>\n      <td>0</td>\n      <td>6</td>\n      <td>31</td>\n      <td>N13994</td>\n      <td>ontime</td>\n    </tr>\n  </tbody>\n</table>\n<p>2201 rows × 13 columns</p>\n</div>"
     },
     "execution_count": 34,
     "metadata": {},
     "output_type": "execute_result"
    }
   ],
   "source": [
    "df[\"DEP_TIME\"] = pd.to_datetime(df[\"DEP_TIME\"], format=\"%H%M\")\n",
    "df"
   ],
   "metadata": {
    "collapsed": false,
    "ExecuteTime": {
     "end_time": "2023-10-13T08:56:33.260060Z",
     "start_time": "2023-10-13T08:56:33.252912Z"
    }
   },
   "id": "d150641656156371"
  },
  {
   "cell_type": "code",
   "execution_count": 35,
   "outputs": [
    {
     "data": {
      "text/plain": "            CRS_DEP_TIME CARRIER            DEP_TIME DEST  DISTANCE  \\\n0    1900-01-01 14:55:00      OH 1900-01-01 14:55:00  JFK       184   \n1    1900-01-01 16:40:00      DH 1900-01-01 16:40:00  JFK       213   \n2    1900-01-01 12:45:00      DH 1900-01-01 12:45:00  LGA       229   \n3    1900-01-01 17:15:00      DH 1900-01-01 17:09:00  LGA       229   \n4    1900-01-01 10:39:00      DH 1900-01-01 10:35:00  LGA       229   \n...                  ...     ...                 ...  ...       ...   \n2196 1900-01-01 06:45:00      RU 1900-01-01 06:44:00  EWR       199   \n2197 1900-01-01 17:00:00      RU 1900-01-01 16:53:00  EWR       213   \n2198 1900-01-01 16:00:00      RU 1900-01-01 15:58:00  EWR       199   \n2199 1900-01-01 13:59:00      RU 1900-01-01 14:03:00  EWR       199   \n2200 1900-01-01 17:30:00      RU 1900-01-01 17:36:00  EWR       199   \n\n         FL_DATE  FL_NUM ORIGIN  Weather  DAY_WEEK  DAY_OF_MONTH TAIL_NUM  \\\n0     01/01/2004    5935    BWI        0         4             1   N940CA   \n1     01/01/2004    6155    DCA        0         4             1   N405FJ   \n2     01/01/2004    7208    IAD        0         4             1   N695BR   \n3     01/01/2004    7215    IAD        0         4             1   N662BR   \n4     01/01/2004    7792    IAD        0         4             1   N698BR   \n...          ...     ...    ...      ...       ...           ...      ...   \n2196   1/31/2004    2761    DCA        0         6            31   N15555   \n2197   1/31/2004    2497    IAD        0         6            31   N16976   \n2198   1/31/2004    2361    DCA        0         6            31   N14902   \n2199   1/31/2004    2216    DCA        0         6            31   N16961   \n2200   1/31/2004    2097    DCA        0         6            31   N13994   \n\n     Flight Status  \n0           ontime  \n1           ontime  \n2           ontime  \n3           ontime  \n4           ontime  \n...            ...  \n2196        ontime  \n2197        ontime  \n2198        ontime  \n2199        ontime  \n2200        ontime  \n\n[2201 rows x 13 columns]",
      "text/html": "<div>\n<style scoped>\n    .dataframe tbody tr th:only-of-type {\n        vertical-align: middle;\n    }\n\n    .dataframe tbody tr th {\n        vertical-align: top;\n    }\n\n    .dataframe thead th {\n        text-align: right;\n    }\n</style>\n<table border=\"1\" class=\"dataframe\">\n  <thead>\n    <tr style=\"text-align: right;\">\n      <th></th>\n      <th>CRS_DEP_TIME</th>\n      <th>CARRIER</th>\n      <th>DEP_TIME</th>\n      <th>DEST</th>\n      <th>DISTANCE</th>\n      <th>FL_DATE</th>\n      <th>FL_NUM</th>\n      <th>ORIGIN</th>\n      <th>Weather</th>\n      <th>DAY_WEEK</th>\n      <th>DAY_OF_MONTH</th>\n      <th>TAIL_NUM</th>\n      <th>Flight Status</th>\n    </tr>\n  </thead>\n  <tbody>\n    <tr>\n      <th>0</th>\n      <td>1900-01-01 14:55:00</td>\n      <td>OH</td>\n      <td>1900-01-01 14:55:00</td>\n      <td>JFK</td>\n      <td>184</td>\n      <td>01/01/2004</td>\n      <td>5935</td>\n      <td>BWI</td>\n      <td>0</td>\n      <td>4</td>\n      <td>1</td>\n      <td>N940CA</td>\n      <td>ontime</td>\n    </tr>\n    <tr>\n      <th>1</th>\n      <td>1900-01-01 16:40:00</td>\n      <td>DH</td>\n      <td>1900-01-01 16:40:00</td>\n      <td>JFK</td>\n      <td>213</td>\n      <td>01/01/2004</td>\n      <td>6155</td>\n      <td>DCA</td>\n      <td>0</td>\n      <td>4</td>\n      <td>1</td>\n      <td>N405FJ</td>\n      <td>ontime</td>\n    </tr>\n    <tr>\n      <th>2</th>\n      <td>1900-01-01 12:45:00</td>\n      <td>DH</td>\n      <td>1900-01-01 12:45:00</td>\n      <td>LGA</td>\n      <td>229</td>\n      <td>01/01/2004</td>\n      <td>7208</td>\n      <td>IAD</td>\n      <td>0</td>\n      <td>4</td>\n      <td>1</td>\n      <td>N695BR</td>\n      <td>ontime</td>\n    </tr>\n    <tr>\n      <th>3</th>\n      <td>1900-01-01 17:15:00</td>\n      <td>DH</td>\n      <td>1900-01-01 17:09:00</td>\n      <td>LGA</td>\n      <td>229</td>\n      <td>01/01/2004</td>\n      <td>7215</td>\n      <td>IAD</td>\n      <td>0</td>\n      <td>4</td>\n      <td>1</td>\n      <td>N662BR</td>\n      <td>ontime</td>\n    </tr>\n    <tr>\n      <th>4</th>\n      <td>1900-01-01 10:39:00</td>\n      <td>DH</td>\n      <td>1900-01-01 10:35:00</td>\n      <td>LGA</td>\n      <td>229</td>\n      <td>01/01/2004</td>\n      <td>7792</td>\n      <td>IAD</td>\n      <td>0</td>\n      <td>4</td>\n      <td>1</td>\n      <td>N698BR</td>\n      <td>ontime</td>\n    </tr>\n    <tr>\n      <th>...</th>\n      <td>...</td>\n      <td>...</td>\n      <td>...</td>\n      <td>...</td>\n      <td>...</td>\n      <td>...</td>\n      <td>...</td>\n      <td>...</td>\n      <td>...</td>\n      <td>...</td>\n      <td>...</td>\n      <td>...</td>\n      <td>...</td>\n    </tr>\n    <tr>\n      <th>2196</th>\n      <td>1900-01-01 06:45:00</td>\n      <td>RU</td>\n      <td>1900-01-01 06:44:00</td>\n      <td>EWR</td>\n      <td>199</td>\n      <td>1/31/2004</td>\n      <td>2761</td>\n      <td>DCA</td>\n      <td>0</td>\n      <td>6</td>\n      <td>31</td>\n      <td>N15555</td>\n      <td>ontime</td>\n    </tr>\n    <tr>\n      <th>2197</th>\n      <td>1900-01-01 17:00:00</td>\n      <td>RU</td>\n      <td>1900-01-01 16:53:00</td>\n      <td>EWR</td>\n      <td>213</td>\n      <td>1/31/2004</td>\n      <td>2497</td>\n      <td>IAD</td>\n      <td>0</td>\n      <td>6</td>\n      <td>31</td>\n      <td>N16976</td>\n      <td>ontime</td>\n    </tr>\n    <tr>\n      <th>2198</th>\n      <td>1900-01-01 16:00:00</td>\n      <td>RU</td>\n      <td>1900-01-01 15:58:00</td>\n      <td>EWR</td>\n      <td>199</td>\n      <td>1/31/2004</td>\n      <td>2361</td>\n      <td>DCA</td>\n      <td>0</td>\n      <td>6</td>\n      <td>31</td>\n      <td>N14902</td>\n      <td>ontime</td>\n    </tr>\n    <tr>\n      <th>2199</th>\n      <td>1900-01-01 13:59:00</td>\n      <td>RU</td>\n      <td>1900-01-01 14:03:00</td>\n      <td>EWR</td>\n      <td>199</td>\n      <td>1/31/2004</td>\n      <td>2216</td>\n      <td>DCA</td>\n      <td>0</td>\n      <td>6</td>\n      <td>31</td>\n      <td>N16961</td>\n      <td>ontime</td>\n    </tr>\n    <tr>\n      <th>2200</th>\n      <td>1900-01-01 17:30:00</td>\n      <td>RU</td>\n      <td>1900-01-01 17:36:00</td>\n      <td>EWR</td>\n      <td>199</td>\n      <td>1/31/2004</td>\n      <td>2097</td>\n      <td>DCA</td>\n      <td>0</td>\n      <td>6</td>\n      <td>31</td>\n      <td>N13994</td>\n      <td>ontime</td>\n    </tr>\n  </tbody>\n</table>\n<p>2201 rows × 13 columns</p>\n</div>"
     },
     "execution_count": 35,
     "metadata": {},
     "output_type": "execute_result"
    }
   ],
   "source": [
    "df[\"CRS_DEP_TIME\"] = pd.to_datetime(df[\"CRS_DEP_TIME\"], format=\"%H%M\")\n",
    "df"
   ],
   "metadata": {
    "collapsed": false,
    "ExecuteTime": {
     "end_time": "2023-10-13T08:57:21.525275Z",
     "start_time": "2023-10-13T08:57:21.515010Z"
    }
   },
   "id": "8be77389bd03cf6e"
  },
  {
   "cell_type": "code",
   "execution_count": 40,
   "outputs": [
    {
     "data": {
      "text/plain": "         CRS_DEP_TIME CARRIER            DEP_TIME DEST  DISTANCE     FL_DATE  \\\n0 1900-01-01 14:55:00      OH 1900-01-01 14:55:00  JFK       184  01/01/2004   \n1 1900-01-01 16:40:00      DH 1900-01-01 16:40:00  JFK       213  01/01/2004   \n2 1900-01-01 12:45:00      DH 1900-01-01 12:45:00  LGA       229  01/01/2004   \n3 1900-01-01 17:15:00      DH 1900-01-01 17:09:00  LGA       229  01/01/2004   \n4 1900-01-01 10:39:00      DH 1900-01-01 10:35:00  LGA       229  01/01/2004   \n\n   FL_NUM ORIGIN  Weather  DAY_WEEK  DAY_OF_MONTH TAIL_NUM Flight Status  \\\n0    5935    BWI        0         4             1   N940CA        ontime   \n1    6155    DCA        0         4             1   N405FJ        ontime   \n2    7208    IAD        0         4             1   N695BR        ontime   \n3    7215    IAD        0         4             1   N662BR        ontime   \n4    7792    IAD        0         4             1   N698BR        ontime   \n\n              Delay  \n0   0 days 00:00:00  \n1   0 days 00:00:00  \n2   0 days 00:00:00  \n3 -1 days +23:54:00  \n4 -1 days +23:56:00  ",
      "text/html": "<div>\n<style scoped>\n    .dataframe tbody tr th:only-of-type {\n        vertical-align: middle;\n    }\n\n    .dataframe tbody tr th {\n        vertical-align: top;\n    }\n\n    .dataframe thead th {\n        text-align: right;\n    }\n</style>\n<table border=\"1\" class=\"dataframe\">\n  <thead>\n    <tr style=\"text-align: right;\">\n      <th></th>\n      <th>CRS_DEP_TIME</th>\n      <th>CARRIER</th>\n      <th>DEP_TIME</th>\n      <th>DEST</th>\n      <th>DISTANCE</th>\n      <th>FL_DATE</th>\n      <th>FL_NUM</th>\n      <th>ORIGIN</th>\n      <th>Weather</th>\n      <th>DAY_WEEK</th>\n      <th>DAY_OF_MONTH</th>\n      <th>TAIL_NUM</th>\n      <th>Flight Status</th>\n      <th>Delay</th>\n    </tr>\n  </thead>\n  <tbody>\n    <tr>\n      <th>0</th>\n      <td>1900-01-01 14:55:00</td>\n      <td>OH</td>\n      <td>1900-01-01 14:55:00</td>\n      <td>JFK</td>\n      <td>184</td>\n      <td>01/01/2004</td>\n      <td>5935</td>\n      <td>BWI</td>\n      <td>0</td>\n      <td>4</td>\n      <td>1</td>\n      <td>N940CA</td>\n      <td>ontime</td>\n      <td>0 days 00:00:00</td>\n    </tr>\n    <tr>\n      <th>1</th>\n      <td>1900-01-01 16:40:00</td>\n      <td>DH</td>\n      <td>1900-01-01 16:40:00</td>\n      <td>JFK</td>\n      <td>213</td>\n      <td>01/01/2004</td>\n      <td>6155</td>\n      <td>DCA</td>\n      <td>0</td>\n      <td>4</td>\n      <td>1</td>\n      <td>N405FJ</td>\n      <td>ontime</td>\n      <td>0 days 00:00:00</td>\n    </tr>\n    <tr>\n      <th>2</th>\n      <td>1900-01-01 12:45:00</td>\n      <td>DH</td>\n      <td>1900-01-01 12:45:00</td>\n      <td>LGA</td>\n      <td>229</td>\n      <td>01/01/2004</td>\n      <td>7208</td>\n      <td>IAD</td>\n      <td>0</td>\n      <td>4</td>\n      <td>1</td>\n      <td>N695BR</td>\n      <td>ontime</td>\n      <td>0 days 00:00:00</td>\n    </tr>\n    <tr>\n      <th>3</th>\n      <td>1900-01-01 17:15:00</td>\n      <td>DH</td>\n      <td>1900-01-01 17:09:00</td>\n      <td>LGA</td>\n      <td>229</td>\n      <td>01/01/2004</td>\n      <td>7215</td>\n      <td>IAD</td>\n      <td>0</td>\n      <td>4</td>\n      <td>1</td>\n      <td>N662BR</td>\n      <td>ontime</td>\n      <td>-1 days +23:54:00</td>\n    </tr>\n    <tr>\n      <th>4</th>\n      <td>1900-01-01 10:39:00</td>\n      <td>DH</td>\n      <td>1900-01-01 10:35:00</td>\n      <td>LGA</td>\n      <td>229</td>\n      <td>01/01/2004</td>\n      <td>7792</td>\n      <td>IAD</td>\n      <td>0</td>\n      <td>4</td>\n      <td>1</td>\n      <td>N698BR</td>\n      <td>ontime</td>\n      <td>-1 days +23:56:00</td>\n    </tr>\n  </tbody>\n</table>\n</div>"
     },
     "execution_count": 40,
     "metadata": {},
     "output_type": "execute_result"
    }
   ],
   "source": [
    "df[\"Delay\"] = df[\"DEP_TIME\"] - df[\"CRS_DEP_TIME\"]\n",
    "df.head()"
   ],
   "metadata": {
    "collapsed": false,
    "ExecuteTime": {
     "end_time": "2023-10-13T09:11:49.225370Z",
     "start_time": "2023-10-13T09:11:49.217869Z"
    }
   },
   "id": "5b1189ad7049757b"
  },
  {
   "cell_type": "code",
   "execution_count": 41,
   "outputs": [
    {
     "data": {
      "text/plain": "count                         2201\nmean     0 days 00:05:33.121308496\nstd      0 days 00:39:38.485715420\nmin              -1 days +03:40:00\n25%              -1 days +23:56:00\n50%              -1 days +23:58:00\n75%                0 days 00:02:00\nmax                0 days 04:25:00\nName: Delay, dtype: object"
     },
     "execution_count": 41,
     "metadata": {},
     "output_type": "execute_result"
    }
   ],
   "source": [
    "df[\"Delay\"].describe()"
   ],
   "metadata": {
    "collapsed": false,
    "ExecuteTime": {
     "end_time": "2023-10-13T09:15:57.030759Z",
     "start_time": "2023-10-13T09:15:57.016833Z"
    }
   },
   "id": "6ca5436dff8d0bac"
  },
  {
   "cell_type": "code",
   "execution_count": 44,
   "outputs": [
    {
     "data": {
      "text/plain": "(array([0]),)"
     },
     "execution_count": 44,
     "metadata": {},
     "output_type": "execute_result"
    }
   ],
   "source": [
    "np.where(max(df[\"Delay\"]))"
   ],
   "metadata": {
    "collapsed": false,
    "ExecuteTime": {
     "end_time": "2023-10-13T09:16:40.309773Z",
     "start_time": "2023-10-13T09:16:40.307408Z"
    }
   },
   "id": "408c4a94f01fff37"
  },
  {
   "cell_type": "code",
   "execution_count": null,
   "outputs": [],
   "source": [],
   "metadata": {
    "collapsed": false
   },
   "id": "2a4af305646bbc99"
  }
 ],
 "metadata": {
  "kernelspec": {
   "display_name": "Python 3",
   "language": "python",
   "name": "python3"
  },
  "language_info": {
   "codemirror_mode": {
    "name": "ipython",
    "version": 2
   },
   "file_extension": ".py",
   "mimetype": "text/x-python",
   "name": "python",
   "nbconvert_exporter": "python",
   "pygments_lexer": "ipython2",
   "version": "2.7.6"
  }
 },
 "nbformat": 4,
 "nbformat_minor": 5
}
