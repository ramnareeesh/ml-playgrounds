{
 "cells": [
  {
   "cell_type": "markdown",
   "source": [
    "# Question 3"
   ],
   "metadata": {
    "collapsed": false
   }
  },
  {
   "cell_type": "code",
   "execution_count": 1,
   "metadata": {
    "collapsed": true
   },
   "outputs": [],
   "source": [
    "import numpy as np\n",
    "import pandas as pd\n",
    "import matplotlib.pyplot as plt\n",
    "import seaborn as sns"
   ]
  },
  {
   "cell_type": "code",
   "execution_count": 2,
   "outputs": [
    {
     "data": {
      "text/plain": "             Year        Age  Gender          Educational Attainment  \\\n0     1/1/08 0:00   00 to 17    Male  College, less than 4-yr degree   \n1     1/1/08 0:00   00 to 17  Female  College, less than 4-yr degree   \n2     1/1/08 0:00  65 to 80+    Male  College, less than 4-yr degree   \n3     1/1/08 0:00  65 to 80+  Female          No high school diploma   \n4     1/1/08 0:00   00 to 17  Female          No high school diploma   \n...           ...        ...     ...                             ...   \n1021  1/1/14 0:00   18 to 64  Female       High school or equivalent   \n1022  1/1/14 0:00   18 to 64    Male     Bachelor's degree or higher   \n1023  1/1/14 0:00   18 to 64  Female          No high school diploma   \n1024  1/1/14 0:00   18 to 64  Female     Bachelor's degree or higher   \n1025  1/1/14 0:00   18 to 64    Male     Bachelor's degree or higher   \n\n          Personal Income  Population Count  \n0     C: 10,000 to 14,999              1304  \n1       B: 5,000 to 9,999              1565  \n2           A: 0 to 4,999              1923  \n3      H: 75,000 and over              1981  \n4     D: 15,000 to 24,999              2009  \n...                   ...               ...  \n1021        A: 0 to 4,999            670294  \n1022  G: 50,000 to 74,999            682425  \n1023        A: 0 to 4,999            723208  \n1024   H: 75,000 and over            953282  \n1025   H: 75,000 and over           1628605  \n\n[1026 rows x 6 columns]",
      "text/html": "<div>\n<style scoped>\n    .dataframe tbody tr th:only-of-type {\n        vertical-align: middle;\n    }\n\n    .dataframe tbody tr th {\n        vertical-align: top;\n    }\n\n    .dataframe thead th {\n        text-align: right;\n    }\n</style>\n<table border=\"1\" class=\"dataframe\">\n  <thead>\n    <tr style=\"text-align: right;\">\n      <th></th>\n      <th>Year</th>\n      <th>Age</th>\n      <th>Gender</th>\n      <th>Educational Attainment</th>\n      <th>Personal Income</th>\n      <th>Population Count</th>\n    </tr>\n  </thead>\n  <tbody>\n    <tr>\n      <th>0</th>\n      <td>1/1/08 0:00</td>\n      <td>00 to 17</td>\n      <td>Male</td>\n      <td>College, less than 4-yr degree</td>\n      <td>C: 10,000 to 14,999</td>\n      <td>1304</td>\n    </tr>\n    <tr>\n      <th>1</th>\n      <td>1/1/08 0:00</td>\n      <td>00 to 17</td>\n      <td>Female</td>\n      <td>College, less than 4-yr degree</td>\n      <td>B: 5,000 to 9,999</td>\n      <td>1565</td>\n    </tr>\n    <tr>\n      <th>2</th>\n      <td>1/1/08 0:00</td>\n      <td>65 to 80+</td>\n      <td>Male</td>\n      <td>College, less than 4-yr degree</td>\n      <td>A: 0 to 4,999</td>\n      <td>1923</td>\n    </tr>\n    <tr>\n      <th>3</th>\n      <td>1/1/08 0:00</td>\n      <td>65 to 80+</td>\n      <td>Female</td>\n      <td>No high school diploma</td>\n      <td>H: 75,000 and over</td>\n      <td>1981</td>\n    </tr>\n    <tr>\n      <th>4</th>\n      <td>1/1/08 0:00</td>\n      <td>00 to 17</td>\n      <td>Female</td>\n      <td>No high school diploma</td>\n      <td>D: 15,000 to 24,999</td>\n      <td>2009</td>\n    </tr>\n    <tr>\n      <th>...</th>\n      <td>...</td>\n      <td>...</td>\n      <td>...</td>\n      <td>...</td>\n      <td>...</td>\n      <td>...</td>\n    </tr>\n    <tr>\n      <th>1021</th>\n      <td>1/1/14 0:00</td>\n      <td>18 to 64</td>\n      <td>Female</td>\n      <td>High school or equivalent</td>\n      <td>A: 0 to 4,999</td>\n      <td>670294</td>\n    </tr>\n    <tr>\n      <th>1022</th>\n      <td>1/1/14 0:00</td>\n      <td>18 to 64</td>\n      <td>Male</td>\n      <td>Bachelor's degree or higher</td>\n      <td>G: 50,000 to 74,999</td>\n      <td>682425</td>\n    </tr>\n    <tr>\n      <th>1023</th>\n      <td>1/1/14 0:00</td>\n      <td>18 to 64</td>\n      <td>Female</td>\n      <td>No high school diploma</td>\n      <td>A: 0 to 4,999</td>\n      <td>723208</td>\n    </tr>\n    <tr>\n      <th>1024</th>\n      <td>1/1/14 0:00</td>\n      <td>18 to 64</td>\n      <td>Female</td>\n      <td>Bachelor's degree or higher</td>\n      <td>H: 75,000 and over</td>\n      <td>953282</td>\n    </tr>\n    <tr>\n      <th>1025</th>\n      <td>1/1/14 0:00</td>\n      <td>18 to 64</td>\n      <td>Male</td>\n      <td>Bachelor's degree or higher</td>\n      <td>H: 75,000 and over</td>\n      <td>1628605</td>\n    </tr>\n  </tbody>\n</table>\n<p>1026 rows × 6 columns</p>\n</div>"
     },
     "execution_count": 2,
     "metadata": {},
     "output_type": "execute_result"
    }
   ],
   "source": [
    "ed_df = pd.read_csv(\"data/educ_inc.csv\", sep=\",\")\n",
    "ed_df"
   ],
   "metadata": {
    "collapsed": false
   }
  },
  {
   "cell_type": "code",
   "execution_count": 3,
   "outputs": [
    {
     "data": {
      "text/plain": "Year                      object\nAge                       object\nGender                    object\nEducational Attainment    object\nPersonal Income           object\nPopulation Count           int64\ndtype: object"
     },
     "execution_count": 3,
     "metadata": {},
     "output_type": "execute_result"
    }
   ],
   "source": [
    "ed_df.dtypes"
   ],
   "metadata": {
    "collapsed": false
   }
  },
  {
   "cell_type": "code",
   "execution_count": 4,
   "outputs": [],
   "source": [
    "from sklearn.preprocessing import LabelEncoder\n",
    "encoder = LabelEncoder()\n",
    "ed_df[\"Age\"] = encoder.fit_transform(ed_df[\"Age\"])"
   ],
   "metadata": {
    "collapsed": false
   }
  },
  {
   "cell_type": "markdown",
   "source": [
    "### Encoding age ranges:\n",
    "### 0 -> 00 to 17\n",
    "### 1 -> 18 to 64\n",
    "### 2 -> 65 to 80+"
   ],
   "metadata": {
    "collapsed": false
   }
  },
  {
   "cell_type": "code",
   "execution_count": 5,
   "outputs": [
    {
     "data": {
      "text/plain": "             Year  Age  Gender          Educational Attainment  \\\n0     1/1/08 0:00    0    Male  College, less than 4-yr degree   \n1     1/1/08 0:00    0  Female  College, less than 4-yr degree   \n2     1/1/08 0:00    2    Male  College, less than 4-yr degree   \n3     1/1/08 0:00    2  Female          No high school diploma   \n4     1/1/08 0:00    0  Female          No high school diploma   \n...           ...  ...     ...                             ...   \n1021  1/1/14 0:00    1  Female       High school or equivalent   \n1022  1/1/14 0:00    1    Male     Bachelor's degree or higher   \n1023  1/1/14 0:00    1  Female          No high school diploma   \n1024  1/1/14 0:00    1  Female     Bachelor's degree or higher   \n1025  1/1/14 0:00    1    Male     Bachelor's degree or higher   \n\n          Personal Income  Population Count  \n0     C: 10,000 to 14,999              1304  \n1       B: 5,000 to 9,999              1565  \n2           A: 0 to 4,999              1923  \n3      H: 75,000 and over              1981  \n4     D: 15,000 to 24,999              2009  \n...                   ...               ...  \n1021        A: 0 to 4,999            670294  \n1022  G: 50,000 to 74,999            682425  \n1023        A: 0 to 4,999            723208  \n1024   H: 75,000 and over            953282  \n1025   H: 75,000 and over           1628605  \n\n[1026 rows x 6 columns]",
      "text/html": "<div>\n<style scoped>\n    .dataframe tbody tr th:only-of-type {\n        vertical-align: middle;\n    }\n\n    .dataframe tbody tr th {\n        vertical-align: top;\n    }\n\n    .dataframe thead th {\n        text-align: right;\n    }\n</style>\n<table border=\"1\" class=\"dataframe\">\n  <thead>\n    <tr style=\"text-align: right;\">\n      <th></th>\n      <th>Year</th>\n      <th>Age</th>\n      <th>Gender</th>\n      <th>Educational Attainment</th>\n      <th>Personal Income</th>\n      <th>Population Count</th>\n    </tr>\n  </thead>\n  <tbody>\n    <tr>\n      <th>0</th>\n      <td>1/1/08 0:00</td>\n      <td>0</td>\n      <td>Male</td>\n      <td>College, less than 4-yr degree</td>\n      <td>C: 10,000 to 14,999</td>\n      <td>1304</td>\n    </tr>\n    <tr>\n      <th>1</th>\n      <td>1/1/08 0:00</td>\n      <td>0</td>\n      <td>Female</td>\n      <td>College, less than 4-yr degree</td>\n      <td>B: 5,000 to 9,999</td>\n      <td>1565</td>\n    </tr>\n    <tr>\n      <th>2</th>\n      <td>1/1/08 0:00</td>\n      <td>2</td>\n      <td>Male</td>\n      <td>College, less than 4-yr degree</td>\n      <td>A: 0 to 4,999</td>\n      <td>1923</td>\n    </tr>\n    <tr>\n      <th>3</th>\n      <td>1/1/08 0:00</td>\n      <td>2</td>\n      <td>Female</td>\n      <td>No high school diploma</td>\n      <td>H: 75,000 and over</td>\n      <td>1981</td>\n    </tr>\n    <tr>\n      <th>4</th>\n      <td>1/1/08 0:00</td>\n      <td>0</td>\n      <td>Female</td>\n      <td>No high school diploma</td>\n      <td>D: 15,000 to 24,999</td>\n      <td>2009</td>\n    </tr>\n    <tr>\n      <th>...</th>\n      <td>...</td>\n      <td>...</td>\n      <td>...</td>\n      <td>...</td>\n      <td>...</td>\n      <td>...</td>\n    </tr>\n    <tr>\n      <th>1021</th>\n      <td>1/1/14 0:00</td>\n      <td>1</td>\n      <td>Female</td>\n      <td>High school or equivalent</td>\n      <td>A: 0 to 4,999</td>\n      <td>670294</td>\n    </tr>\n    <tr>\n      <th>1022</th>\n      <td>1/1/14 0:00</td>\n      <td>1</td>\n      <td>Male</td>\n      <td>Bachelor's degree or higher</td>\n      <td>G: 50,000 to 74,999</td>\n      <td>682425</td>\n    </tr>\n    <tr>\n      <th>1023</th>\n      <td>1/1/14 0:00</td>\n      <td>1</td>\n      <td>Female</td>\n      <td>No high school diploma</td>\n      <td>A: 0 to 4,999</td>\n      <td>723208</td>\n    </tr>\n    <tr>\n      <th>1024</th>\n      <td>1/1/14 0:00</td>\n      <td>1</td>\n      <td>Female</td>\n      <td>Bachelor's degree or higher</td>\n      <td>H: 75,000 and over</td>\n      <td>953282</td>\n    </tr>\n    <tr>\n      <th>1025</th>\n      <td>1/1/14 0:00</td>\n      <td>1</td>\n      <td>Male</td>\n      <td>Bachelor's degree or higher</td>\n      <td>H: 75,000 and over</td>\n      <td>1628605</td>\n    </tr>\n  </tbody>\n</table>\n<p>1026 rows × 6 columns</p>\n</div>"
     },
     "execution_count": 5,
     "metadata": {},
     "output_type": "execute_result"
    }
   ],
   "source": [
    "ed_df"
   ],
   "metadata": {
    "collapsed": false
   }
  },
  {
   "cell_type": "markdown",
   "source": [
    "### 1.\tGroup the table by Educational Attainment and sum the Population Count in each category."
   ],
   "metadata": {
    "collapsed": false
   }
  },
  {
   "cell_type": "code",
   "execution_count": 6,
   "outputs": [
    {
     "data": {
      "text/plain": "Educational Attainment\nBachelor's degree or higher       54617676\nCollege, less than 4-yr degree    52137494\nHigh school or equivalent         42942926\nNo high school diploma            40668871\nName: Population Count, dtype: int64"
     },
     "execution_count": 6,
     "metadata": {},
     "output_type": "execute_result"
    }
   ],
   "source": [
    "ed_df.groupby(by=\"Educational Attainment\")[\"Population Count\"].sum()"
   ],
   "metadata": {
    "collapsed": false
   }
  },
  {
   "cell_type": "markdown",
   "source": [
    "### 2.\tAnalyse the percentage distribution of educational attainment among adult Californians."
   ],
   "metadata": {
    "collapsed": false
   }
  },
  {
   "cell_type": "code",
   "execution_count": 7,
   "outputs": [
    {
     "data": {
      "text/plain": "                                Population Count\nEducational Attainment                          \nBachelor's degree or higher             54603003\nCollege, less than 4-yr degree          52045952\nHigh school or equivalent               42828045\nNo high school diploma                  31102348",
      "text/html": "<div>\n<style scoped>\n    .dataframe tbody tr th:only-of-type {\n        vertical-align: middle;\n    }\n\n    .dataframe tbody tr th {\n        vertical-align: top;\n    }\n\n    .dataframe thead th {\n        text-align: right;\n    }\n</style>\n<table border=\"1\" class=\"dataframe\">\n  <thead>\n    <tr style=\"text-align: right;\">\n      <th></th>\n      <th>Population Count</th>\n    </tr>\n    <tr>\n      <th>Educational Attainment</th>\n      <th></th>\n    </tr>\n  </thead>\n  <tbody>\n    <tr>\n      <th>Bachelor's degree or higher</th>\n      <td>54603003</td>\n    </tr>\n    <tr>\n      <th>College, less than 4-yr degree</th>\n      <td>52045952</td>\n    </tr>\n    <tr>\n      <th>High school or equivalent</th>\n      <td>42828045</td>\n    </tr>\n    <tr>\n      <th>No high school diploma</th>\n      <td>31102348</td>\n    </tr>\n  </tbody>\n</table>\n</div>"
     },
     "execution_count": 7,
     "metadata": {},
     "output_type": "execute_result"
    }
   ],
   "source": [
    "group_result = pd.DataFrame(ed_df[ed_df[\"Age\"] >= 1].groupby(by=\"Educational Attainment\")[\"Population Count\"].sum())\n",
    "group_result"
   ],
   "metadata": {
    "collapsed": false
   }
  },
  {
   "cell_type": "code",
   "execution_count": 8,
   "outputs": [
    {
     "data": {
      "text/plain": "180579348"
     },
     "execution_count": 8,
     "metadata": {},
     "output_type": "execute_result"
    }
   ],
   "source": [
    "sum_ = group_result[\"Population Count\"].sum()\n",
    "sum_"
   ],
   "metadata": {
    "collapsed": false
   }
  },
  {
   "cell_type": "code",
   "execution_count": 9,
   "outputs": [
    {
     "data": {
      "text/plain": "                                Population Count  Percentage\nEducational Attainment                                      \nBachelor's degree or higher             54603003   30.237679\nCollege, less than 4-yr degree          52045952   28.821652\nHigh school or equivalent               42828045   23.717023\nNo high school diploma                  31102348   17.223646",
      "text/html": "<div>\n<style scoped>\n    .dataframe tbody tr th:only-of-type {\n        vertical-align: middle;\n    }\n\n    .dataframe tbody tr th {\n        vertical-align: top;\n    }\n\n    .dataframe thead th {\n        text-align: right;\n    }\n</style>\n<table border=\"1\" class=\"dataframe\">\n  <thead>\n    <tr style=\"text-align: right;\">\n      <th></th>\n      <th>Population Count</th>\n      <th>Percentage</th>\n    </tr>\n    <tr>\n      <th>Educational Attainment</th>\n      <th></th>\n      <th></th>\n    </tr>\n  </thead>\n  <tbody>\n    <tr>\n      <th>Bachelor's degree or higher</th>\n      <td>54603003</td>\n      <td>30.237679</td>\n    </tr>\n    <tr>\n      <th>College, less than 4-yr degree</th>\n      <td>52045952</td>\n      <td>28.821652</td>\n    </tr>\n    <tr>\n      <th>High school or equivalent</th>\n      <td>42828045</td>\n      <td>23.717023</td>\n    </tr>\n    <tr>\n      <th>No high school diploma</th>\n      <td>31102348</td>\n      <td>17.223646</td>\n    </tr>\n  </tbody>\n</table>\n</div>"
     },
     "execution_count": 9,
     "metadata": {},
     "output_type": "execute_result"
    }
   ],
   "source": [
    "group_result[\"Percentage\"] = (group_result[\"Population Count\"]/sum_) * 100\n",
    "group_result"
   ],
   "metadata": {
    "collapsed": false
   }
  },
  {
   "cell_type": "code",
   "execution_count": 10,
   "outputs": [
    {
     "data": {
      "text/plain": "Personal Income\nA: 0 to 4,999          143\nB: 5,000 to 9,999      141\nC: 10,000 to 14,999    138\nD: 15,000 to 24,999    137\nE: 25,000 to 34,999    122\nF: 35,000 to 49,999    118\nG: 50,000 to 74,999    115\nH: 75,000 and over     112\nName: count, dtype: int64"
     },
     "execution_count": 10,
     "metadata": {},
     "output_type": "execute_result"
    }
   ],
   "source": [
    "ed_df[\"Personal Income\"].value_counts()"
   ],
   "metadata": {
    "collapsed": false
   }
  },
  {
   "cell_type": "code",
   "execution_count": 21,
   "outputs": [
    {
     "data": {
      "text/plain": "Personal Income\nA: 0 to 4,999          16959363\nB: 5,000 to 9,999       5106194\nC: 10,000 to 14,999     5516889\nD: 15,000 to 24,999     6777351\nE: 25,000 to 34,999     3055748\nF: 35,000 to 49,999     1939568\nG: 50,000 to 74,999      930115\nH: 75,000 and over       383643\nName: Population Count, dtype: int64"
     },
     "execution_count": 21,
     "metadata": {},
     "output_type": "execute_result"
    }
   ],
   "source": [
    "no_diploma = ed_df[ed_df[\"Educational Attainment\"] == \"No high school diploma\"]\n",
    "no_diploma = no_diploma.groupby(by=\"Personal Income\")[\"Population Count\"].sum()\n",
    "no_diploma"
   ],
   "metadata": {
    "collapsed": false
   }
  },
  {
   "cell_type": "code",
   "execution_count": 22,
   "outputs": [
    {
     "data": {
      "text/plain": "Personal Income\nA: 0 to 4,999           3159007\nB: 5,000 to 9,999       2252588\nC: 10,000 to 14,999     2683138\nD: 15,000 to 24,999     5156919\nE: 25,000 to 34,999     4945861\nF: 35,000 to 49,999     7328963\nG: 50,000 to 74,999    10795902\nH: 75,000 and over     18295298\nName: Population Count, dtype: int64"
     },
     "execution_count": 22,
     "metadata": {},
     "output_type": "execute_result"
    }
   ],
   "source": [
    "bach_higher = ed_df[ed_df[\"Educational Attainment\"] == \"Bachelor's degree or higher\"]\n",
    "bach_higher = bach_higher.groupby(by=\"Personal Income\")[\"Population Count\"].sum()\n",
    "bach_higher"
   ],
   "metadata": {
    "collapsed": false
   }
  },
  {
   "cell_type": "code",
   "execution_count": 15,
   "outputs": [],
   "source": [
    "x_plot_value = no_diploma.index.to_numpy()"
   ],
   "metadata": {
    "collapsed": false
   }
  },
  {
   "cell_type": "code",
   "execution_count": 42,
   "outputs": [],
   "source": [
    "x_plot_value2 = bach_higher.index.to_numpy()"
   ],
   "metadata": {
    "collapsed": false
   }
  },
  {
   "cell_type": "code",
   "execution_count": 25,
   "outputs": [
    {
     "data": {
      "text/plain": "array([16959363,  5106194,  5516889,  6777351,  3055748,  1939568,\n         930115,   383643])"
     },
     "execution_count": 25,
     "metadata": {},
     "output_type": "execute_result"
    }
   ],
   "source": [
    "y_plot_value = no_diploma.values\n",
    "y_plot_value"
   ],
   "metadata": {
    "collapsed": false
   }
  },
  {
   "cell_type": "code",
   "execution_count": 26,
   "outputs": [
    {
     "data": {
      "text/plain": "array([ 3159007,  2252588,  2683138,  5156919,  4945861,  7328963,\n       10795902, 18295298])"
     },
     "execution_count": 26,
     "metadata": {},
     "output_type": "execute_result"
    }
   ],
   "source": [
    "y_plot_value2 = bach_higher.values\n",
    "y_plot_value2"
   ],
   "metadata": {
    "collapsed": false
   }
  },
  {
   "cell_type": "code",
   "execution_count": 38,
   "outputs": [
    {
     "data": {
      "text/plain": "<Figure size 640x480 with 1 Axes>",
      "image/png": "[encoded data removed]"
     },
     "metadata": {},
     "output_type": "display_data"
    }
   ],
   "source": [
    "x_axis = np.arange(len(x_plot_value))\n",
    "plt.bar(x_axis, y_plot_value, width=0.3, color='yellow', label=\"No Diploma\")\n",
    "plt.bar(x_axis + 0.3, y_plot_value2, width=0.3, label=\"Bachelor's or Higher\")\n",
    "plt.xticks(x_axis, x_plot_value, rotation=90)\n",
    "plt.ylabel(\"Frequency\")\n",
    "plt.xlabel(\"Presonal Income\")\n",
    "plt.legend()\n",
    "plt.show()"
   ],
   "metadata": {
    "collapsed": false
   }
  },
  {
   "cell_type": "code",
   "execution_count": null,
   "outputs": [],
   "source": [],
   "metadata": {
    "collapsed": false
   }
  }
 ],
 "metadata": {
  "kernelspec": {
   "display_name": "Python 3",
   "language": "python",
   "name": "python3"
  },
  "language_info": {
   "codemirror_mode": {
    "name": "ipython",
    "version": 2
   },
   "file_extension": ".py",
   "mimetype": "text/x-python",
   "name": "python",
   "nbconvert_exporter": "python",
   "pygments_lexer": "ipython2",
   "version": "2.7.6"
  }
 },
 "nbformat": 4,
 "nbformat_minor": 0
}
