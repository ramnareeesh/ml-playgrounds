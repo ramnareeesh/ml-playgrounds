{
 "cells": [
  {
   "cell_type": "code",
   "execution_count": 4,
   "id": "initial_id",
   "metadata": {
    "collapsed": true,
    "ExecuteTime": {
     "end_time": "2023-10-11T16:29:48.110533Z",
     "start_time": "2023-10-11T16:29:48.106987Z"
    }
   },
   "outputs": [],
   "source": [
    "def entropy(a, b):\n",
    "    from math import log2\n",
    "    pa = a/(a+b)\n",
    "    pb = b/(a+b)\n",
    "    return \"{:.3f}\".format((-pa * log2(pa)) + (-pb * log2(pb)))"
   ]
  },
  {
   "cell_type": "code",
   "execution_count": 11,
   "outputs": [
    {
     "data": {
      "text/plain": "'0.918'"
     },
     "execution_count": 11,
     "metadata": {},
     "output_type": "execute_result"
    }
   ],
   "source": [
    "entropy(4, 2)"
   ],
   "metadata": {
    "collapsed": false,
    "ExecuteTime": {
     "end_time": "2023-10-11T16:32:32.435362Z",
     "start_time": "2023-10-11T16:32:32.429945Z"
    }
   },
   "id": "c88f640a63ae1b62"
  },
  {
   "cell_type": "code",
   "execution_count": null,
   "outputs": [],
   "source": [
    "def gini()"
   ],
   "metadata": {
    "collapsed": false
   },
   "id": "666964512feb1524"
  }
 ],
 "metadata": {
  "kernelspec": {
   "display_name": "Python 3",
   "language": "python",
   "name": "python3"
  },
  "language_info": {
   "codemirror_mode": {
    "name": "ipython",
    "version": 2
   },
   "file_extension": ".py",
   "mimetype": "text/x-python",
   "name": "python",
   "nbconvert_exporter": "python",
   "pygments_lexer": "ipython2",
   "version": "2.7.6"
  }
 },
 "nbformat": 4,
 "nbformat_minor": 5
}
