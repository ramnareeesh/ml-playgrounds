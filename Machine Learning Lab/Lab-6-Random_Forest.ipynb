{
 "cells": [
  {
   "cell_type": "code",
   "execution_count": 1,
   "id": "initial_id",
   "metadata": {
    "collapsed": true,
    "ExecuteTime": {
     "end_time": "2023-10-18T03:37:58.048531Z",
     "start_time": "2023-10-18T03:37:55.087579Z"
    }
   },
   "outputs": [],
   "source": [
    "import numpy as np\n",
    "import pandas as pd\n",
    "import matplotlib.pyplot as plt\n",
    "%matplotlib inline"
   ]
  },
  {
   "cell_type": "code",
   "execution_count": 2,
   "outputs": [
    {
     "data": {
      "text/plain": "   age  sex   BP  cholestrol  heart disease\n0   70    1  130         322              1\n1   67    0  115         564              0\n2   57    1  124         261              1\n3   64    1  128         263              0\n4   74    0  120         269              0",
      "text/html": "<div>\n<style scoped>\n    .dataframe tbody tr th:only-of-type {\n        vertical-align: middle;\n    }\n\n    .dataframe tbody tr th {\n        vertical-align: top;\n    }\n\n    .dataframe thead th {\n        text-align: right;\n    }\n</style>\n<table border=\"1\" class=\"dataframe\">\n  <thead>\n    <tr style=\"text-align: right;\">\n      <th></th>\n      <th>age</th>\n      <th>sex</th>\n      <th>BP</th>\n      <th>cholestrol</th>\n      <th>heart disease</th>\n    </tr>\n  </thead>\n  <tbody>\n    <tr>\n      <th>0</th>\n      <td>70</td>\n      <td>1</td>\n      <td>130</td>\n      <td>322</td>\n      <td>1</td>\n    </tr>\n    <tr>\n      <th>1</th>\n      <td>67</td>\n      <td>0</td>\n      <td>115</td>\n      <td>564</td>\n      <td>0</td>\n    </tr>\n    <tr>\n      <th>2</th>\n      <td>57</td>\n      <td>1</td>\n      <td>124</td>\n      <td>261</td>\n      <td>1</td>\n    </tr>\n    <tr>\n      <th>3</th>\n      <td>64</td>\n      <td>1</td>\n      <td>128</td>\n      <td>263</td>\n      <td>0</td>\n    </tr>\n    <tr>\n      <th>4</th>\n      <td>74</td>\n      <td>0</td>\n      <td>120</td>\n      <td>269</td>\n      <td>0</td>\n    </tr>\n  </tbody>\n</table>\n</div>"
     },
     "execution_count": 2,
     "metadata": {},
     "output_type": "execute_result"
    }
   ],
   "source": [
    "df = pd.read_csv(\"Data/heart_v2.csv\")\n",
    "df.head()"
   ],
   "metadata": {
    "collapsed": false,
    "ExecuteTime": {
     "end_time": "2023-10-18T04:22:54.947329Z",
     "start_time": "2023-10-18T04:22:54.914112Z"
    }
   },
   "id": "c122c1f60ac2044f"
  },
  {
   "cell_type": "code",
   "execution_count": null,
   "outputs": [],
   "source": [],
   "metadata": {
    "collapsed": false
   },
   "id": "e116993eb0bb6df5"
  }
 ],
 "metadata": {
  "kernelspec": {
   "display_name": "Python 3",
   "language": "python",
   "name": "python3"
  },
  "language_info": {
   "codemirror_mode": {
    "name": "ipython",
    "version": 2
   },
   "file_extension": ".py",
   "mimetype": "text/x-python",
   "name": "python",
   "nbconvert_exporter": "python",
   "pygments_lexer": "ipython2",
   "version": "2.7.6"
  }
 },
 "nbformat": 4,
 "nbformat_minor": 5
}
