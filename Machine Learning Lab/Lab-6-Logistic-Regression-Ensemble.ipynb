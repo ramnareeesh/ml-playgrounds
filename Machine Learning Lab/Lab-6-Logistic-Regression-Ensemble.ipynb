{
 "cells": [
  {
   "cell_type": "code",
   "execution_count": 2,
   "id": "initial_id",
   "metadata": {
    "collapsed": true,
    "ExecuteTime": {
     "end_time": "2023-10-18T04:27:00.404216Z",
     "start_time": "2023-10-18T04:27:00.399806Z"
    }
   },
   "outputs": [],
   "source": [
    "import numpy as np\n",
    "import pandas as pd\n",
    "import matplotlib.pyplot as plt"
   ]
  },
  {
   "cell_type": "markdown",
   "source": [
    "## Loading Dataset"
   ],
   "metadata": {
    "collapsed": false
   },
   "id": "1ed0ee6943333f41"
  },
  {
   "cell_type": "code",
   "execution_count": 29,
   "outputs": [],
   "source": [
    "heart_df = pd.read_csv(\"Data/heart_v2.csv\")"
   ],
   "metadata": {
    "collapsed": false,
    "ExecuteTime": {
     "end_time": "2023-10-18T04:59:37.542677Z",
     "start_time": "2023-10-18T04:59:37.535434Z"
    }
   },
   "id": "d80b4a1631bf4ce1"
  },
  {
   "cell_type": "markdown",
   "source": [
    "## Feature-Target Split"
   ],
   "metadata": {
    "collapsed": false
   },
   "id": "eeb1b7917690ea9"
  },
  {
   "cell_type": "code",
   "execution_count": 34,
   "outputs": [
    {
     "data": {
      "text/plain": "age              0\nsex              0\nBP               0\ncholestrol       0\nheart disease    0\ndtype: int64"
     },
     "execution_count": 34,
     "metadata": {},
     "output_type": "execute_result"
    }
   ],
   "source": [
    "heart_df.isnull().sum()"
   ],
   "metadata": {
    "collapsed": false,
    "ExecuteTime": {
     "end_time": "2023-10-18T05:00:37.894692Z",
     "start_time": "2023-10-18T05:00:37.890314Z"
    }
   },
   "id": "7de034d032d02da6"
  },
  {
   "cell_type": "code",
   "execution_count": 35,
   "outputs": [
    {
     "data": {
      "text/plain": "age              int64\nsex              int64\nBP               int64\ncholestrol       int64\nheart disease    int64\ndtype: object"
     },
     "execution_count": 35,
     "metadata": {},
     "output_type": "execute_result"
    }
   ],
   "source": [
    "heart_df.dtypes"
   ],
   "metadata": {
    "collapsed": false,
    "ExecuteTime": {
     "end_time": "2023-10-18T05:00:59.309995Z",
     "start_time": "2023-10-18T05:00:59.302286Z"
    }
   },
   "id": "51504cbd9b0bb2a4"
  },
  {
   "cell_type": "code",
   "execution_count": 31,
   "outputs": [
    {
     "data": {
      "text/plain": "   age  sex   BP  cholestrol\n0   70    1  130         322\n1   67    0  115         564\n2   57    1  124         261\n3   64    1  128         263\n4   74    0  120         269",
      "text/html": "<div>\n<style scoped>\n    .dataframe tbody tr th:only-of-type {\n        vertical-align: middle;\n    }\n\n    .dataframe tbody tr th {\n        vertical-align: top;\n    }\n\n    .dataframe thead th {\n        text-align: right;\n    }\n</style>\n<table border=\"1\" class=\"dataframe\">\n  <thead>\n    <tr style=\"text-align: right;\">\n      <th></th>\n      <th>age</th>\n      <th>sex</th>\n      <th>BP</th>\n      <th>cholestrol</th>\n    </tr>\n  </thead>\n  <tbody>\n    <tr>\n      <th>0</th>\n      <td>70</td>\n      <td>1</td>\n      <td>130</td>\n      <td>322</td>\n    </tr>\n    <tr>\n      <th>1</th>\n      <td>67</td>\n      <td>0</td>\n      <td>115</td>\n      <td>564</td>\n    </tr>\n    <tr>\n      <th>2</th>\n      <td>57</td>\n      <td>1</td>\n      <td>124</td>\n      <td>261</td>\n    </tr>\n    <tr>\n      <th>3</th>\n      <td>64</td>\n      <td>1</td>\n      <td>128</td>\n      <td>263</td>\n    </tr>\n    <tr>\n      <th>4</th>\n      <td>74</td>\n      <td>0</td>\n      <td>120</td>\n      <td>269</td>\n    </tr>\n  </tbody>\n</table>\n</div>"
     },
     "execution_count": 31,
     "metadata": {},
     "output_type": "execute_result"
    }
   ],
   "source": [
    "X = heart_df.iloc[:, :-1]\n",
    "X.head()"
   ],
   "metadata": {
    "collapsed": false,
    "ExecuteTime": {
     "end_time": "2023-10-18T04:59:59.019164Z",
     "start_time": "2023-10-18T04:59:59.015085Z"
    }
   },
   "id": "2b264d296150ed82"
  },
  {
   "cell_type": "code",
   "execution_count": 32,
   "outputs": [
    {
     "data": {
      "text/plain": "0      1\n1      0\n2      1\n3      0\n4      0\n      ..\n265    0\n266    0\n267    0\n268    0\n269    1\nName: heart disease, Length: 270, dtype: int64"
     },
     "execution_count": 32,
     "metadata": {},
     "output_type": "execute_result"
    }
   ],
   "source": [
    "y = heart_df.iloc[:, -1]\n",
    "y"
   ],
   "metadata": {
    "collapsed": false,
    "ExecuteTime": {
     "end_time": "2023-10-18T05:00:21.178017Z",
     "start_time": "2023-10-18T05:00:21.172399Z"
    }
   },
   "id": "dd351190aa1bc359"
  },
  {
   "cell_type": "markdown",
   "source": [
    "## Train Test Split"
   ],
   "metadata": {
    "collapsed": false
   },
   "id": "b367c62446a177e1"
  },
  {
   "cell_type": "code",
   "execution_count": 36,
   "outputs": [],
   "source": [
    "from sklearn.model_selection import train_test_split\n",
    "X_train, X_test, y_train, y_test = train_test_split(X, y, test_size=0.2, random_state=30)"
   ],
   "metadata": {
    "collapsed": false,
    "ExecuteTime": {
     "end_time": "2023-10-18T05:03:28.268507Z",
     "start_time": "2023-10-18T05:03:28.264492Z"
    }
   },
   "id": "ac50a7327583e765"
  },
  {
   "cell_type": "code",
   "execution_count": 44,
   "outputs": [
    {
     "data": {
      "text/plain": "(216, 4)"
     },
     "execution_count": 44,
     "metadata": {},
     "output_type": "execute_result"
    }
   ],
   "source": [
    "X_train.shape"
   ],
   "metadata": {
    "collapsed": false,
    "ExecuteTime": {
     "end_time": "2023-10-18T05:20:36.065651Z",
     "start_time": "2023-10-18T05:20:36.059715Z"
    }
   },
   "id": "75936de5aea94488"
  },
  {
   "cell_type": "markdown",
   "source": [
    "## Bootstrapping"
   ],
   "metadata": {
    "collapsed": false
   },
   "id": "70e8a998e014f53f"
  },
  {
   "cell_type": "code",
   "execution_count": 42,
   "outputs": [
    {
     "ename": "KeyError",
     "evalue": "\"None of [Index([ 36, 125, 159, 207,  17,  60, 145, 167,  61, 152,\\n       ...\\n        69, 167,   3, 167,  47,  90, 188, 129,  99,  39],\\n      dtype='int64', length=200)] are in the [columns]\"",
     "output_type": "error",
     "traceback": [
      "\u001B[0;31m---------------------------------------------------------------------------\u001B[0m",
      "\u001B[0;31mKeyError\u001B[0m                                  Traceback (most recent call last)",
      "Cell \u001B[0;32mIn[42], line 5\u001B[0m\n\u001B[1;32m      3\u001B[0m \u001B[38;5;28;01mfor\u001B[39;00m i \u001B[38;5;129;01min\u001B[39;00m \u001B[38;5;28mrange\u001B[39m(\u001B[38;5;241m3\u001B[39m):\n\u001B[1;32m      4\u001B[0m     data_indices \u001B[38;5;241m=\u001B[39m np\u001B[38;5;241m.\u001B[39mrandom\u001B[38;5;241m.\u001B[39mchoice(X_train\u001B[38;5;241m.\u001B[39mshape[\u001B[38;5;241m0\u001B[39m], size\u001B[38;5;241m=\u001B[39m\u001B[38;5;241m200\u001B[39m, replace\u001B[38;5;241m=\u001B[39m\u001B[38;5;28;01mTrue\u001B[39;00m)\n\u001B[0;32m----> 5\u001B[0m     X_ \u001B[38;5;241m=\u001B[39m X_train[data_indices]\n\u001B[1;32m      6\u001B[0m     y_ \u001B[38;5;241m=\u001B[39m y_train[data_indices]\n\u001B[1;32m      7\u001B[0m     sample_X\u001B[38;5;241m.\u001B[39mappend(X_)\n",
      "File \u001B[0;32m~/anaconda3/envs/MachineLearning/lib/python3.11/site-packages/pandas/core/frame.py:3767\u001B[0m, in \u001B[0;36mDataFrame.__getitem__\u001B[0;34m(self, key)\u001B[0m\n\u001B[1;32m   3765\u001B[0m     \u001B[38;5;28;01mif\u001B[39;00m is_iterator(key):\n\u001B[1;32m   3766\u001B[0m         key \u001B[38;5;241m=\u001B[39m \u001B[38;5;28mlist\u001B[39m(key)\n\u001B[0;32m-> 3767\u001B[0m     indexer \u001B[38;5;241m=\u001B[39m \u001B[38;5;28mself\u001B[39m\u001B[38;5;241m.\u001B[39mcolumns\u001B[38;5;241m.\u001B[39m_get_indexer_strict(key, \u001B[38;5;124m\"\u001B[39m\u001B[38;5;124mcolumns\u001B[39m\u001B[38;5;124m\"\u001B[39m)[\u001B[38;5;241m1\u001B[39m]\n\u001B[1;32m   3769\u001B[0m \u001B[38;5;66;03m# take() does not accept boolean indexers\u001B[39;00m\n\u001B[1;32m   3770\u001B[0m \u001B[38;5;28;01mif\u001B[39;00m \u001B[38;5;28mgetattr\u001B[39m(indexer, \u001B[38;5;124m\"\u001B[39m\u001B[38;5;124mdtype\u001B[39m\u001B[38;5;124m\"\u001B[39m, \u001B[38;5;28;01mNone\u001B[39;00m) \u001B[38;5;241m==\u001B[39m \u001B[38;5;28mbool\u001B[39m:\n",
      "File \u001B[0;32m~/anaconda3/envs/MachineLearning/lib/python3.11/site-packages/pandas/core/indexes/base.py:5877\u001B[0m, in \u001B[0;36mIndex._get_indexer_strict\u001B[0;34m(self, key, axis_name)\u001B[0m\n\u001B[1;32m   5874\u001B[0m \u001B[38;5;28;01melse\u001B[39;00m:\n\u001B[1;32m   5875\u001B[0m     keyarr, indexer, new_indexer \u001B[38;5;241m=\u001B[39m \u001B[38;5;28mself\u001B[39m\u001B[38;5;241m.\u001B[39m_reindex_non_unique(keyarr)\n\u001B[0;32m-> 5877\u001B[0m \u001B[38;5;28mself\u001B[39m\u001B[38;5;241m.\u001B[39m_raise_if_missing(keyarr, indexer, axis_name)\n\u001B[1;32m   5879\u001B[0m keyarr \u001B[38;5;241m=\u001B[39m \u001B[38;5;28mself\u001B[39m\u001B[38;5;241m.\u001B[39mtake(indexer)\n\u001B[1;32m   5880\u001B[0m \u001B[38;5;28;01mif\u001B[39;00m \u001B[38;5;28misinstance\u001B[39m(key, Index):\n\u001B[1;32m   5881\u001B[0m     \u001B[38;5;66;03m# GH 42790 - Preserve name from an Index\u001B[39;00m\n",
      "File \u001B[0;32m~/anaconda3/envs/MachineLearning/lib/python3.11/site-packages/pandas/core/indexes/base.py:5938\u001B[0m, in \u001B[0;36mIndex._raise_if_missing\u001B[0;34m(self, key, indexer, axis_name)\u001B[0m\n\u001B[1;32m   5936\u001B[0m     \u001B[38;5;28;01mif\u001B[39;00m use_interval_msg:\n\u001B[1;32m   5937\u001B[0m         key \u001B[38;5;241m=\u001B[39m \u001B[38;5;28mlist\u001B[39m(key)\n\u001B[0;32m-> 5938\u001B[0m     \u001B[38;5;28;01mraise\u001B[39;00m \u001B[38;5;167;01mKeyError\u001B[39;00m(\u001B[38;5;124mf\u001B[39m\u001B[38;5;124m\"\u001B[39m\u001B[38;5;124mNone of [\u001B[39m\u001B[38;5;132;01m{\u001B[39;00mkey\u001B[38;5;132;01m}\u001B[39;00m\u001B[38;5;124m] are in the [\u001B[39m\u001B[38;5;132;01m{\u001B[39;00maxis_name\u001B[38;5;132;01m}\u001B[39;00m\u001B[38;5;124m]\u001B[39m\u001B[38;5;124m\"\u001B[39m)\n\u001B[1;32m   5940\u001B[0m not_found \u001B[38;5;241m=\u001B[39m \u001B[38;5;28mlist\u001B[39m(ensure_index(key)[missing_mask\u001B[38;5;241m.\u001B[39mnonzero()[\u001B[38;5;241m0\u001B[39m]]\u001B[38;5;241m.\u001B[39munique())\n\u001B[1;32m   5941\u001B[0m \u001B[38;5;28;01mraise\u001B[39;00m \u001B[38;5;167;01mKeyError\u001B[39;00m(\u001B[38;5;124mf\u001B[39m\u001B[38;5;124m\"\u001B[39m\u001B[38;5;132;01m{\u001B[39;00mnot_found\u001B[38;5;132;01m}\u001B[39;00m\u001B[38;5;124m not in index\u001B[39m\u001B[38;5;124m\"\u001B[39m)\n",
      "\u001B[0;31mKeyError\u001B[0m: \"None of [Index([ 36, 125, 159, 207,  17,  60, 145, 167,  61, 152,\\n       ...\\n        69, 167,   3, 167,  47,  90, 188, 129,  99,  39],\\n      dtype='int64', length=200)] are in the [columns]\""
     ]
    }
   ],
   "source": [
    "sample_X = []\n",
    "sample_y = []\n",
    "for i in range(3):\n",
    "    X_ = []\n",
    "    data_indices = np.random.choice(X_train.shape[0], size=200, replace=True)\n",
    "    X_.append(X_train[i for i in data_indices])\n",
    "    y_ = y_train[data_indices]\n",
    "    sample_X.append(X_)\n",
    "    sample_y.append(y_)\n",
    "\n",
    "sample_X"
   ],
   "metadata": {
    "collapsed": false,
    "ExecuteTime": {
     "end_time": "2023-10-18T05:15:51.589631Z",
     "start_time": "2023-10-18T05:15:51.564043Z"
    }
   },
   "id": "98e2ad3ae295dc9f"
  },
  {
   "cell_type": "code",
   "execution_count": null,
   "outputs": [],
   "source": [],
   "metadata": {
    "collapsed": false
   },
   "id": "bf04f400129a07a5"
  }
 ],
 "metadata": {
  "kernelspec": {
   "display_name": "Python 3",
   "language": "python",
   "name": "python3"
  },
  "language_info": {
   "codemirror_mode": {
    "name": "ipython",
    "version": 2
   },
   "file_extension": ".py",
   "mimetype": "text/x-python",
   "name": "python",
   "nbconvert_exporter": "python",
   "pygments_lexer": "ipython2",
   "version": "2.7.6"
  }
 },
 "nbformat": 4,
 "nbformat_minor": 5
}
