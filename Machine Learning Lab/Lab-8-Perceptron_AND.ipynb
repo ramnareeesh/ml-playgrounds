{
 "cells": [
  {
   "cell_type": "code",
   "execution_count": 53,
   "id": "initial_id",
   "metadata": {
    "collapsed": true,
    "ExecuteTime": {
     "end_time": "2023-11-01T04:13:31.717020Z",
     "start_time": "2023-11-01T04:13:31.709778Z"
    }
   },
   "outputs": [],
   "source": [
    "import numpy as np"
   ]
  },
  {
   "cell_type": "code",
   "execution_count": 54,
   "outputs": [],
   "source": [
    "features =[\n",
    "    [0, 0],\n",
    "    [0, 1],\n",
    "    [1, 0],\n",
    "    [1,1]\n",
    "]"
   ],
   "metadata": {
    "collapsed": false,
    "ExecuteTime": {
     "end_time": "2023-11-01T04:13:31.717197Z",
     "start_time": "2023-11-01T04:13:31.713659Z"
    }
   },
   "id": "f81c45a17a2f3f24"
  },
  {
   "cell_type": "code",
   "execution_count": 55,
   "outputs": [],
   "source": [
    "target_AND = [0, 0, 0, 1]"
   ],
   "metadata": {
    "collapsed": false,
    "ExecuteTime": {
     "end_time": "2023-11-01T04:13:31.721294Z",
     "start_time": "2023-11-01T04:13:31.716790Z"
    }
   },
   "id": "141d5d310ce9f155"
  },
  {
   "cell_type": "code",
   "execution_count": 56,
   "outputs": [
    {
     "name": "stdout",
     "output_type": "stream",
     "text": [
      "[0.36795055 0.51388866]\n",
      "0.36795054534835225\n"
     ]
    }
   ],
   "source": [
    "epochs = 100\n",
    "learning_rate = 0.02\n",
    "weights = np.random.rand(2)\n",
    "bias = np.random.rand()\n",
    "print(weights)\n",
    "print(weights[0])"
   ],
   "metadata": {
    "collapsed": false,
    "ExecuteTime": {
     "end_time": "2023-11-01T04:13:31.724158Z",
     "start_time": "2023-11-01T04:13:31.720307Z"
    }
   },
   "id": "4af84767ca1f4156"
  },
  {
   "cell_type": "code",
   "execution_count": 57,
   "outputs": [],
   "source": [
    "def activation_fn(x):\n",
    "    if x >= 0:\n",
    "        return 1\n",
    "    else:\n",
    "        return 0"
   ],
   "metadata": {
    "collapsed": false,
    "ExecuteTime": {
     "end_time": "2023-11-01T04:13:31.728492Z",
     "start_time": "2023-11-01T04:13:31.724260Z"
    }
   },
   "id": "ecddebd4c400206f"
  },
  {
   "cell_type": "code",
   "execution_count": 58,
   "outputs": [
    {
     "name": "stdout",
     "output_type": "stream",
     "text": [
      "Epoch:  0\n",
      "Actual Value =  0  Predicted Value =  1\n",
      "Actual Value =  0  Predicted Value =  1\n",
      "Actual Value =  0  Predicted Value =  1\n",
      "Actual Value =  1  Predicted Value =  1\n",
      "-3\n",
      "Epoch:  1\n",
      "Actual Value =  0  Predicted Value =  1\n",
      "Actual Value =  0  Predicted Value =  1\n",
      "Actual Value =  0  Predicted Value =  1\n",
      "Actual Value =  1  Predicted Value =  1\n",
      "-3\n",
      "Epoch:  2\n",
      "Actual Value =  0  Predicted Value =  1\n",
      "Actual Value =  0  Predicted Value =  1\n",
      "Actual Value =  0  Predicted Value =  1\n",
      "Actual Value =  1  Predicted Value =  1\n",
      "-3\n",
      "Epoch:  3\n",
      "Actual Value =  0  Predicted Value =  0\n",
      "Actual Value =  0  Predicted Value =  1\n",
      "Actual Value =  0  Predicted Value =  1\n",
      "Actual Value =  1  Predicted Value =  1\n",
      "-2\n",
      "Epoch:  4\n",
      "Actual Value =  0  Predicted Value =  0\n",
      "Actual Value =  0  Predicted Value =  1\n",
      "Actual Value =  0  Predicted Value =  1\n",
      "Actual Value =  1  Predicted Value =  1\n",
      "-2\n",
      "Epoch:  5\n",
      "Actual Value =  0  Predicted Value =  0\n",
      "Actual Value =  0  Predicted Value =  1\n",
      "Actual Value =  0  Predicted Value =  1\n",
      "Actual Value =  1  Predicted Value =  1\n",
      "-2\n",
      "Epoch:  6\n",
      "Actual Value =  0  Predicted Value =  0\n",
      "Actual Value =  0  Predicted Value =  1\n",
      "Actual Value =  0  Predicted Value =  1\n",
      "Actual Value =  1  Predicted Value =  1\n",
      "-2\n",
      "Epoch:  7\n",
      "Actual Value =  0  Predicted Value =  0\n",
      "Actual Value =  0  Predicted Value =  1\n",
      "Actual Value =  0  Predicted Value =  1\n",
      "Actual Value =  1  Predicted Value =  1\n",
      "-2\n",
      "Epoch:  8\n",
      "Actual Value =  0  Predicted Value =  0\n",
      "Actual Value =  0  Predicted Value =  1\n",
      "Actual Value =  0  Predicted Value =  0\n",
      "Actual Value =  1  Predicted Value =  1\n",
      "-1\n",
      "Epoch:  9\n",
      "Actual Value =  0  Predicted Value =  0\n",
      "Actual Value =  0  Predicted Value =  1\n",
      "Actual Value =  0  Predicted Value =  0\n",
      "Actual Value =  1  Predicted Value =  1\n",
      "-1\n",
      "Epoch:  10\n",
      "Actual Value =  0  Predicted Value =  0\n",
      "Actual Value =  0  Predicted Value =  1\n",
      "Actual Value =  0  Predicted Value =  0\n",
      "Actual Value =  1  Predicted Value =  1\n",
      "-1\n",
      "Epoch:  11\n",
      "Actual Value =  0  Predicted Value =  0\n",
      "Actual Value =  0  Predicted Value =  1\n",
      "Actual Value =  0  Predicted Value =  0\n",
      "Actual Value =  1  Predicted Value =  1\n",
      "-1\n",
      "Epoch:  12\n",
      "Actual Value =  0  Predicted Value =  0\n",
      "Actual Value =  0  Predicted Value =  0\n",
      "Actual Value =  0  Predicted Value =  0\n",
      "Actual Value =  1  Predicted Value =  1\n",
      "0\n"
     ]
    }
   ],
   "source": [
    "for k in range(epochs):\n",
    "    print(\"Epoch: \", k)\n",
    "    global_delta = 0\n",
    "    for i in range(len(features)):\n",
    "        weighted_sum = features[i][0]*weights[0] + features[i][1]*weights[1] + bias\n",
    "        predicted = activation_fn(weighted_sum)\n",
    "        \n",
    "        delta = target_AND[i] - predicted\n",
    "        global_delta += delta\n",
    "        for j in range(len(weights)):\n",
    "            weights[j] += learning_rate*delta*features[i][j]\n",
    "        bias += learning_rate*delta\n",
    "        \n",
    "        print(\"Actual Value = \", target_AND[i], \" Predicted Value = \", predicted)\n",
    "    print(global_delta)\n",
    "    if global_delta == 0:\n",
    "        break"
   ],
   "metadata": {
    "collapsed": false,
    "ExecuteTime": {
     "end_time": "2023-11-01T04:13:31.732298Z",
     "start_time": "2023-11-01T04:13:31.727974Z"
    }
   },
   "id": "2ca0a7dd5f20153f"
  },
  {
   "cell_type": "code",
   "execution_count": 58,
   "outputs": [],
   "source": [],
   "metadata": {
    "collapsed": false,
    "ExecuteTime": {
     "end_time": "2023-11-01T04:13:31.732387Z",
     "start_time": "2023-11-01T04:13:31.730393Z"
    }
   },
   "id": "3d9fc57dcb906f7f"
  }
 ],
 "metadata": {
  "kernelspec": {
   "display_name": "Python 3",
   "language": "python",
   "name": "python3"
  },
  "language_info": {
   "codemirror_mode": {
    "name": "ipython",
    "version": 2
   },
   "file_extension": ".py",
   "mimetype": "text/x-python",
   "name": "python",
   "nbconvert_exporter": "python",
   "pygments_lexer": "ipython2",
   "version": "2.7.6"
  }
 },
 "nbformat": 4,
 "nbformat_minor": 5
}
